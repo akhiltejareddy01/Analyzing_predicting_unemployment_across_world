{
 "cells": [
  {
   "attachments": {},
   "cell_type": "markdown",
   "metadata": {},
   "source": [
    "# **Importing Libraries**"
   ]
  },
  {
   "cell_type": "code",
   "execution_count": 2,
   "metadata": {},
   "outputs": [],
   "source": [
    "#importing processing packages\n",
    "import numpy as np\n",
    "import pandas as pd\n",
    "import scipy as sc\n",
    "\n",
    "#importing visualization packages\n",
    "import matplotlib.pyplot as plt\n",
    "import plotly.express as px\n",
    "import plotly.graph_objects as go\n",
    "import seaborn as sns\n",
    "import bokeh as bk\n",
    "\n",
    "#importing warnings\n",
    "import warnings\n",
    "warnings.filterwarnings(\"ignore\")\n"
   ]
  },
  {
   "attachments": {},
   "cell_type": "markdown",
   "metadata": {},
   "source": [
    "# **Importing Dataset**"
   ]
  },
  {
   "cell_type": "code",
   "execution_count": 3,
   "metadata": {},
   "outputs": [
    {
     "data": {
      "text/html": [
       "<div>\n",
       "<style scoped>\n",
       "    .dataframe tbody tr th:only-of-type {\n",
       "        vertical-align: middle;\n",
       "    }\n",
       "\n",
       "    .dataframe tbody tr th {\n",
       "        vertical-align: top;\n",
       "    }\n",
       "\n",
       "    .dataframe thead th {\n",
       "        text-align: right;\n",
       "    }\n",
       "</style>\n",
       "<table border=\"1\" class=\"dataframe\">\n",
       "  <thead>\n",
       "    <tr style=\"text-align: right;\">\n",
       "      <th></th>\n",
       "      <th>Unnamed: 0</th>\n",
       "      <th>Country Name</th>\n",
       "      <th>Country Code</th>\n",
       "      <th>1991</th>\n",
       "      <th>1992</th>\n",
       "      <th>1993</th>\n",
       "      <th>1994</th>\n",
       "      <th>1995</th>\n",
       "      <th>1996</th>\n",
       "      <th>1997</th>\n",
       "      <th>...</th>\n",
       "      <th>2019</th>\n",
       "      <th>2020</th>\n",
       "      <th>2021</th>\n",
       "      <th>code_3</th>\n",
       "      <th>continent</th>\n",
       "      <th>sub_region</th>\n",
       "      <th>average</th>\n",
       "      <th>91-20</th>\n",
       "      <th>20-21</th>\n",
       "      <th>21-22</th>\n",
       "    </tr>\n",
       "  </thead>\n",
       "  <tbody>\n",
       "    <tr>\n",
       "      <th>0</th>\n",
       "      <td>0</td>\n",
       "      <td>Afghanistan</td>\n",
       "      <td>AFG</td>\n",
       "      <td>10.65</td>\n",
       "      <td>10.82</td>\n",
       "      <td>10.72</td>\n",
       "      <td>10.73</td>\n",
       "      <td>11.18</td>\n",
       "      <td>10.96</td>\n",
       "      <td>10.78</td>\n",
       "      <td>...</td>\n",
       "      <td>11.22</td>\n",
       "      <td>11.71</td>\n",
       "      <td>13.28</td>\n",
       "      <td>AFG</td>\n",
       "      <td>Asia</td>\n",
       "      <td>Southern Asia</td>\n",
       "      <td>11.141290</td>\n",
       "      <td>-0.16</td>\n",
       "      <td>-0.54</td>\n",
       "      <td>-0.36</td>\n",
       "    </tr>\n",
       "    <tr>\n",
       "      <th>1</th>\n",
       "      <td>1</td>\n",
       "      <td>Albania</td>\n",
       "      <td>ALB</td>\n",
       "      <td>10.31</td>\n",
       "      <td>30.01</td>\n",
       "      <td>25.26</td>\n",
       "      <td>20.84</td>\n",
       "      <td>14.61</td>\n",
       "      <td>13.93</td>\n",
       "      <td>16.88</td>\n",
       "      <td>...</td>\n",
       "      <td>11.47</td>\n",
       "      <td>13.33</td>\n",
       "      <td>11.82</td>\n",
       "      <td>ALB</td>\n",
       "      <td>Europe</td>\n",
       "      <td>Southern Europe</td>\n",
       "      <td>16.318065</td>\n",
       "      <td>-8.72</td>\n",
       "      <td>4.94</td>\n",
       "      <td>0.76</td>\n",
       "    </tr>\n",
       "    <tr>\n",
       "      <th>2</th>\n",
       "      <td>2</td>\n",
       "      <td>Algeria</td>\n",
       "      <td>DZA</td>\n",
       "      <td>20.60</td>\n",
       "      <td>24.38</td>\n",
       "      <td>26.23</td>\n",
       "      <td>27.74</td>\n",
       "      <td>31.84</td>\n",
       "      <td>28.53</td>\n",
       "      <td>25.43</td>\n",
       "      <td>...</td>\n",
       "      <td>10.51</td>\n",
       "      <td>12.55</td>\n",
       "      <td>12.70</td>\n",
       "      <td>DZA</td>\n",
       "      <td>Africa</td>\n",
       "      <td>Northern Africa</td>\n",
       "      <td>17.926129</td>\n",
       "      <td>-9.17</td>\n",
       "      <td>19.81</td>\n",
       "      <td>-2.59</td>\n",
       "    </tr>\n",
       "    <tr>\n",
       "      <th>3</th>\n",
       "      <td>3</td>\n",
       "      <td>Angola</td>\n",
       "      <td>AGO</td>\n",
       "      <td>4.21</td>\n",
       "      <td>4.21</td>\n",
       "      <td>4.23</td>\n",
       "      <td>4.16</td>\n",
       "      <td>4.11</td>\n",
       "      <td>4.10</td>\n",
       "      <td>4.09</td>\n",
       "      <td>...</td>\n",
       "      <td>7.42</td>\n",
       "      <td>8.33</td>\n",
       "      <td>8.53</td>\n",
       "      <td>AGO</td>\n",
       "      <td>Africa</td>\n",
       "      <td>Middle Africa</td>\n",
       "      <td>5.452258</td>\n",
       "      <td>0.18</td>\n",
       "      <td>-5.40</td>\n",
       "      <td>1.10</td>\n",
       "    </tr>\n",
       "    <tr>\n",
       "      <th>4</th>\n",
       "      <td>4</td>\n",
       "      <td>Argentina</td>\n",
       "      <td>ARG</td>\n",
       "      <td>5.44</td>\n",
       "      <td>6.36</td>\n",
       "      <td>10.10</td>\n",
       "      <td>11.76</td>\n",
       "      <td>18.80</td>\n",
       "      <td>17.11</td>\n",
       "      <td>14.82</td>\n",
       "      <td>...</td>\n",
       "      <td>9.84</td>\n",
       "      <td>11.46</td>\n",
       "      <td>10.90</td>\n",
       "      <td>ARG</td>\n",
       "      <td>Americas</td>\n",
       "      <td>South America</td>\n",
       "      <td>10.977742</td>\n",
       "      <td>-9.56</td>\n",
       "      <td>7.29</td>\n",
       "      <td>-3.75</td>\n",
       "    </tr>\n",
       "  </tbody>\n",
       "</table>\n",
       "<p>5 rows × 41 columns</p>\n",
       "</div>"
      ],
      "text/plain": [
       "   Unnamed: 0 Country Name Country Code   1991   1992   1993   1994   1995  \\\n",
       "0           0  Afghanistan          AFG  10.65  10.82  10.72  10.73  11.18   \n",
       "1           1      Albania          ALB  10.31  30.01  25.26  20.84  14.61   \n",
       "2           2      Algeria          DZA  20.60  24.38  26.23  27.74  31.84   \n",
       "3           3       Angola          AGO   4.21   4.21   4.23   4.16   4.11   \n",
       "4           4    Argentina          ARG   5.44   6.36  10.10  11.76  18.80   \n",
       "\n",
       "    1996   1997  ...   2019   2020   2021  code_3  continent       sub_region  \\\n",
       "0  10.96  10.78  ...  11.22  11.71  13.28     AFG       Asia    Southern Asia   \n",
       "1  13.93  16.88  ...  11.47  13.33  11.82     ALB     Europe  Southern Europe   \n",
       "2  28.53  25.43  ...  10.51  12.55  12.70     DZA     Africa  Northern Africa   \n",
       "3   4.10   4.09  ...   7.42   8.33   8.53     AGO     Africa    Middle Africa   \n",
       "4  17.11  14.82  ...   9.84  11.46  10.90     ARG   Americas    South America   \n",
       "\n",
       "     average  91-20  20-21  21-22  \n",
       "0  11.141290  -0.16  -0.54  -0.36  \n",
       "1  16.318065  -8.72   4.94   0.76  \n",
       "2  17.926129  -9.17  19.81  -2.59  \n",
       "3   5.452258   0.18  -5.40   1.10  \n",
       "4  10.977742  -9.56   7.29  -3.75  \n",
       "\n",
       "[5 rows x 41 columns]"
      ]
     },
     "execution_count": 3,
     "metadata": {},
     "output_type": "execute_result"
    }
   ],
   "source": [
    "#pre-processed csv file from part 1 has been considered\n",
    "\n",
    "data=pd.read_csv(\"E:/Analyzing_Unemployment_rate_across_the_world/Business Case Studies/2ndpart.csv\",na_values='NaN')\n",
    "data.head()"
   ]
  },
  {
   "cell_type": "code",
   "execution_count": 4,
   "metadata": {},
   "outputs": [
    {
     "data": {
      "text/plain": [
       "Unnamed: 0      0\n",
       "Country Name    0\n",
       "Country Code    0\n",
       "1991            0\n",
       "1992            0\n",
       "1993            0\n",
       "1994            0\n",
       "1995            0\n",
       "1996            0\n",
       "1997            0\n",
       "1998            0\n",
       "1999            0\n",
       "2000            0\n",
       "2001            0\n",
       "2002            0\n",
       "2003            0\n",
       "2004            0\n",
       "2005            0\n",
       "2006            0\n",
       "2007            0\n",
       "2008            0\n",
       "2009            0\n",
       "2010            0\n",
       "2011            0\n",
       "2012            0\n",
       "2013            0\n",
       "2014            0\n",
       "2015            0\n",
       "2016            0\n",
       "2017            0\n",
       "2018            0\n",
       "2019            0\n",
       "2020            0\n",
       "2021            0\n",
       "code_3          0\n",
       "continent       0\n",
       "sub_region      0\n",
       "average         0\n",
       "91-20           0\n",
       "20-21           0\n",
       "21-22           0\n",
       "dtype: int64"
      ]
     },
     "execution_count": 4,
     "metadata": {},
     "output_type": "execute_result"
    }
   ],
   "source": [
    "#returning column names along with their null values\n",
    "data.isnull().sum()"
   ]
  },
  {
   "attachments": {},
   "cell_type": "markdown",
   "metadata": {},
   "source": [
    "**G20countries are said to be in a better position in terms of controlling\n",
    "unemployment rate over the years.**"
   ]
  },
  {
   "cell_type": "code",
   "execution_count": 5,
   "metadata": {},
   "outputs": [
    {
     "data": {
      "text/plain": [
       "array(['Afghanistan', 'Albania', 'Algeria', 'Angola', 'Argentina',\n",
       "       'Armenia', 'Australia', 'Austria', 'Azerbaijan', 'Bahamas, The',\n",
       "       'Bahrain', 'Bangladesh', 'Barbados', 'Belarus', 'Belgium',\n",
       "       'Belize', 'Benin', 'Bhutan', 'Bolivia', 'Bosnia and Herzegovina',\n",
       "       'Botswana', 'Brazil', 'Brunei Darussalam', 'Bulgaria',\n",
       "       'Burkina Faso', 'Burundi', 'Cabo Verde', 'Cambodia', 'Cameroon',\n",
       "       'Canada', 'Central African Republic', 'Chad', 'Chile', 'China',\n",
       "       'Colombia', 'Comoros', 'Congo, Dem. Rep.', 'Congo, Rep.',\n",
       "       'Costa Rica', \"Cote d'Ivoire\", 'Croatia', 'Cuba', 'Cyprus',\n",
       "       'Czech Republic', 'Denmark', 'Djibouti', 'Dominican Republic',\n",
       "       'Ecuador', 'Egypt, Arab Rep.', 'El Salvador', 'Equatorial Guinea',\n",
       "       'Eritrea', 'Estonia', 'Eswatini', 'Ethiopia', 'Fiji', 'Finland',\n",
       "       'France', 'French Polynesia', 'Gabon', 'Gambia, The', 'Georgia',\n",
       "       'Germany', 'Ghana', 'Greece', 'Guam', 'Guatemala', 'Guinea',\n",
       "       'Guinea-Bissau', 'Guyana', 'Haiti', 'Honduras',\n",
       "       'Hong Kong SAR, China', 'Hungary', 'Iceland', 'India', 'Indonesia',\n",
       "       'Iran, Islamic Rep.', 'Iraq', 'Ireland', 'Israel', 'Italy',\n",
       "       'Jamaica', 'Japan', 'Jordan', 'Kazakhstan', 'Kenya',\n",
       "       \"Korea, Dem. People's Rep.\", 'Korea, Rep.', 'Kuwait',\n",
       "       'Kyrgyz Republic', 'Lao PDR', 'Latvia', 'Lebanon', 'Lesotho',\n",
       "       'Liberia', 'Libya', 'Lithuania', 'Luxembourg', 'Macao SAR, China',\n",
       "       'Madagascar', 'Malawi', 'Malaysia', 'Maldives', 'Mali', 'Malta',\n",
       "       'Mauritania', 'Mauritius', 'Mexico', 'Moldova', 'Mongolia',\n",
       "       'Montenegro', 'Morocco', 'Mozambique', 'Myanmar', 'Namibia',\n",
       "       'Nepal', 'Netherlands', 'New Caledonia', 'New Zealand',\n",
       "       'Nicaragua', 'Niger', 'Nigeria', 'North Macedonia', 'Norway',\n",
       "       'Oman', 'Pakistan', 'Panama', 'Papua New Guinea', 'Paraguay',\n",
       "       'Peru', 'Philippines', 'Poland', 'Portugal', 'Puerto Rico',\n",
       "       'Qatar', 'Romania', 'Russian Federation', 'Rwanda', 'Samoa',\n",
       "       'Sao Tome and Principe', 'Saudi Arabia', 'Senegal', 'Serbia',\n",
       "       'Sierra Leone', 'Singapore', 'Slovak Republic', 'Slovenia',\n",
       "       'Solomon Islands', 'Somalia', 'South Africa', 'South Sudan',\n",
       "       'Spain', 'Sri Lanka', 'St. Lucia',\n",
       "       'St. Vincent and the Grenadines', 'Sudan', 'Suriname', 'Sweden',\n",
       "       'Switzerland', 'Syrian Arab Republic', 'Tajikistan', 'Tanzania',\n",
       "       'Thailand', 'Timor-Leste', 'Togo', 'Tonga', 'Trinidad and Tobago',\n",
       "       'Tunisia', 'Turkiye', 'Turkmenistan', 'Uganda', 'Ukraine',\n",
       "       'United Arab Emirates', 'United Kingdom', 'United States',\n",
       "       'Uruguay', 'Uzbekistan', 'Vanuatu', 'Venezuela, RB', 'Vietnam',\n",
       "       'Virgin Islands (U.S.)', 'West Bank and Gaza', 'Yemen, Rep.',\n",
       "       'Zambia', 'Zimbabwe'], dtype=object)"
      ]
     },
     "execution_count": 5,
     "metadata": {},
     "output_type": "execute_result"
    }
   ],
   "source": [
    "data['Country Name'].unique()"
   ]
  },
  {
   "cell_type": "code",
   "execution_count": 6,
   "metadata": {},
   "outputs": [
    {
     "data": {
      "text/html": [
       "<div>\n",
       "<style scoped>\n",
       "    .dataframe tbody tr th:only-of-type {\n",
       "        vertical-align: middle;\n",
       "    }\n",
       "\n",
       "    .dataframe tbody tr th {\n",
       "        vertical-align: top;\n",
       "    }\n",
       "\n",
       "    .dataframe thead th {\n",
       "        text-align: right;\n",
       "    }\n",
       "</style>\n",
       "<table border=\"1\" class=\"dataframe\">\n",
       "  <thead>\n",
       "    <tr style=\"text-align: right;\">\n",
       "      <th></th>\n",
       "      <th>Unnamed: 0</th>\n",
       "      <th>Country Name</th>\n",
       "      <th>Country Code</th>\n",
       "      <th>1991</th>\n",
       "      <th>1992</th>\n",
       "      <th>1993</th>\n",
       "      <th>1994</th>\n",
       "      <th>1995</th>\n",
       "      <th>1996</th>\n",
       "      <th>1997</th>\n",
       "      <th>...</th>\n",
       "      <th>2019</th>\n",
       "      <th>2020</th>\n",
       "      <th>2021</th>\n",
       "      <th>code_3</th>\n",
       "      <th>continent</th>\n",
       "      <th>sub_region</th>\n",
       "      <th>average</th>\n",
       "      <th>91-20</th>\n",
       "      <th>20-21</th>\n",
       "      <th>21-22</th>\n",
       "    </tr>\n",
       "  </thead>\n",
       "  <tbody>\n",
       "    <tr>\n",
       "      <th>4</th>\n",
       "      <td>4</td>\n",
       "      <td>Argentina</td>\n",
       "      <td>ARG</td>\n",
       "      <td>5.44</td>\n",
       "      <td>6.36</td>\n",
       "      <td>10.10</td>\n",
       "      <td>11.76</td>\n",
       "      <td>18.80</td>\n",
       "      <td>17.11</td>\n",
       "      <td>14.82</td>\n",
       "      <td>...</td>\n",
       "      <td>9.84</td>\n",
       "      <td>11.46</td>\n",
       "      <td>10.90</td>\n",
       "      <td>ARG</td>\n",
       "      <td>Americas</td>\n",
       "      <td>South America</td>\n",
       "      <td>10.977742</td>\n",
       "      <td>-9.56</td>\n",
       "      <td>7.29</td>\n",
       "      <td>-3.75</td>\n",
       "    </tr>\n",
       "    <tr>\n",
       "      <th>6</th>\n",
       "      <td>6</td>\n",
       "      <td>Australia</td>\n",
       "      <td>AUS</td>\n",
       "      <td>9.58</td>\n",
       "      <td>10.73</td>\n",
       "      <td>10.87</td>\n",
       "      <td>9.72</td>\n",
       "      <td>8.47</td>\n",
       "      <td>8.51</td>\n",
       "      <td>8.36</td>\n",
       "      <td>...</td>\n",
       "      <td>5.16</td>\n",
       "      <td>6.46</td>\n",
       "      <td>5.11</td>\n",
       "      <td>AUS</td>\n",
       "      <td>Oceania</td>\n",
       "      <td>Australia and New Zealand</td>\n",
       "      <td>6.519677</td>\n",
       "      <td>3.30</td>\n",
       "      <td>1.07</td>\n",
       "      <td>-1.25</td>\n",
       "    </tr>\n",
       "    <tr>\n",
       "      <th>21</th>\n",
       "      <td>21</td>\n",
       "      <td>Brazil</td>\n",
       "      <td>BRA</td>\n",
       "      <td>6.31</td>\n",
       "      <td>6.42</td>\n",
       "      <td>6.03</td>\n",
       "      <td>6.17</td>\n",
       "      <td>6.42</td>\n",
       "      <td>7.25</td>\n",
       "      <td>8.16</td>\n",
       "      <td>...</td>\n",
       "      <td>11.93</td>\n",
       "      <td>13.69</td>\n",
       "      <td>14.40</td>\n",
       "      <td>BRA</td>\n",
       "      <td>Americas</td>\n",
       "      <td>South America</td>\n",
       "      <td>8.924194</td>\n",
       "      <td>-3.25</td>\n",
       "      <td>2.29</td>\n",
       "      <td>-6.42</td>\n",
       "    </tr>\n",
       "    <tr>\n",
       "      <th>29</th>\n",
       "      <td>29</td>\n",
       "      <td>Canada</td>\n",
       "      <td>CAN</td>\n",
       "      <td>10.32</td>\n",
       "      <td>11.20</td>\n",
       "      <td>11.38</td>\n",
       "      <td>10.40</td>\n",
       "      <td>9.49</td>\n",
       "      <td>9.62</td>\n",
       "      <td>9.10</td>\n",
       "      <td>...</td>\n",
       "      <td>5.66</td>\n",
       "      <td>9.46</td>\n",
       "      <td>7.51</td>\n",
       "      <td>CAN</td>\n",
       "      <td>Americas</td>\n",
       "      <td>Northern America</td>\n",
       "      <td>7.838387</td>\n",
       "      <td>3.49</td>\n",
       "      <td>-1.23</td>\n",
       "      <td>-1.40</td>\n",
       "    </tr>\n",
       "    <tr>\n",
       "      <th>33</th>\n",
       "      <td>33</td>\n",
       "      <td>China</td>\n",
       "      <td>CHN</td>\n",
       "      <td>2.37</td>\n",
       "      <td>2.37</td>\n",
       "      <td>2.69</td>\n",
       "      <td>2.90</td>\n",
       "      <td>3.00</td>\n",
       "      <td>3.12</td>\n",
       "      <td>3.23</td>\n",
       "      <td>...</td>\n",
       "      <td>4.52</td>\n",
       "      <td>5.00</td>\n",
       "      <td>4.82</td>\n",
       "      <td>CHN</td>\n",
       "      <td>Asia</td>\n",
       "      <td>Eastern Asia</td>\n",
       "      <td>4.007097</td>\n",
       "      <td>-0.89</td>\n",
       "      <td>-1.27</td>\n",
       "      <td>-0.47</td>\n",
       "    </tr>\n",
       "    <tr>\n",
       "      <th>57</th>\n",
       "      <td>57</td>\n",
       "      <td>France</td>\n",
       "      <td>FRA</td>\n",
       "      <td>9.13</td>\n",
       "      <td>10.21</td>\n",
       "      <td>11.32</td>\n",
       "      <td>12.59</td>\n",
       "      <td>11.84</td>\n",
       "      <td>12.37</td>\n",
       "      <td>12.57</td>\n",
       "      <td>...</td>\n",
       "      <td>8.41</td>\n",
       "      <td>8.01</td>\n",
       "      <td>8.06</td>\n",
       "      <td>FRA</td>\n",
       "      <td>Europe</td>\n",
       "      <td>Western Europe</td>\n",
       "      <td>9.671935</td>\n",
       "      <td>-1.09</td>\n",
       "      <td>1.35</td>\n",
       "      <td>0.86</td>\n",
       "    </tr>\n",
       "    <tr>\n",
       "      <th>62</th>\n",
       "      <td>62</td>\n",
       "      <td>Germany</td>\n",
       "      <td>DEU</td>\n",
       "      <td>5.32</td>\n",
       "      <td>6.32</td>\n",
       "      <td>7.68</td>\n",
       "      <td>8.73</td>\n",
       "      <td>8.16</td>\n",
       "      <td>8.82</td>\n",
       "      <td>9.86</td>\n",
       "      <td>...</td>\n",
       "      <td>3.14</td>\n",
       "      <td>3.81</td>\n",
       "      <td>3.54</td>\n",
       "      <td>DEU</td>\n",
       "      <td>Europe</td>\n",
       "      <td>Western Europe</td>\n",
       "      <td>7.041935</td>\n",
       "      <td>-2.60</td>\n",
       "      <td>0.95</td>\n",
       "      <td>3.16</td>\n",
       "    </tr>\n",
       "    <tr>\n",
       "      <th>75</th>\n",
       "      <td>75</td>\n",
       "      <td>India</td>\n",
       "      <td>IND</td>\n",
       "      <td>5.60</td>\n",
       "      <td>5.73</td>\n",
       "      <td>5.69</td>\n",
       "      <td>5.74</td>\n",
       "      <td>5.76</td>\n",
       "      <td>5.74</td>\n",
       "      <td>5.61</td>\n",
       "      <td>...</td>\n",
       "      <td>5.27</td>\n",
       "      <td>8.00</td>\n",
       "      <td>5.98</td>\n",
       "      <td>IND</td>\n",
       "      <td>Asia</td>\n",
       "      <td>Southern Asia</td>\n",
       "      <td>5.644839</td>\n",
       "      <td>0.04</td>\n",
       "      <td>0.01</td>\n",
       "      <td>-2.45</td>\n",
       "    </tr>\n",
       "    <tr>\n",
       "      <th>76</th>\n",
       "      <td>76</td>\n",
       "      <td>Indonesia</td>\n",
       "      <td>IDN</td>\n",
       "      <td>2.62</td>\n",
       "      <td>2.73</td>\n",
       "      <td>2.78</td>\n",
       "      <td>4.37</td>\n",
       "      <td>4.60</td>\n",
       "      <td>4.86</td>\n",
       "      <td>4.68</td>\n",
       "      <td>...</td>\n",
       "      <td>3.62</td>\n",
       "      <td>4.28</td>\n",
       "      <td>4.41</td>\n",
       "      <td>IDN</td>\n",
       "      <td>Asia</td>\n",
       "      <td>South-Eastern Asia</td>\n",
       "      <td>5.195806</td>\n",
       "      <td>-3.46</td>\n",
       "      <td>0.47</td>\n",
       "      <td>1.33</td>\n",
       "    </tr>\n",
       "    <tr>\n",
       "      <th>81</th>\n",
       "      <td>81</td>\n",
       "      <td>Italy</td>\n",
       "      <td>ITA</td>\n",
       "      <td>10.10</td>\n",
       "      <td>9.33</td>\n",
       "      <td>10.24</td>\n",
       "      <td>11.09</td>\n",
       "      <td>11.67</td>\n",
       "      <td>11.87</td>\n",
       "      <td>12.00</td>\n",
       "      <td>...</td>\n",
       "      <td>9.95</td>\n",
       "      <td>9.16</td>\n",
       "      <td>9.83</td>\n",
       "      <td>ITA</td>\n",
       "      <td>Europe</td>\n",
       "      <td>Southern Europe</td>\n",
       "      <td>9.939032</td>\n",
       "      <td>-0.74</td>\n",
       "      <td>2.48</td>\n",
       "      <td>-0.80</td>\n",
       "    </tr>\n",
       "    <tr>\n",
       "      <th>83</th>\n",
       "      <td>83</td>\n",
       "      <td>Japan</td>\n",
       "      <td>JPN</td>\n",
       "      <td>2.10</td>\n",
       "      <td>2.20</td>\n",
       "      <td>2.50</td>\n",
       "      <td>2.90</td>\n",
       "      <td>3.20</td>\n",
       "      <td>3.40</td>\n",
       "      <td>3.40</td>\n",
       "      <td>...</td>\n",
       "      <td>2.40</td>\n",
       "      <td>2.80</td>\n",
       "      <td>2.80</td>\n",
       "      <td>JPN</td>\n",
       "      <td>Asia</td>\n",
       "      <td>Eastern Asia</td>\n",
       "      <td>3.759677</td>\n",
       "      <td>-2.65</td>\n",
       "      <td>-0.35</td>\n",
       "      <td>2.30</td>\n",
       "    </tr>\n",
       "    <tr>\n",
       "      <th>87</th>\n",
       "      <td>87</td>\n",
       "      <td>Korea, Dem. People's Rep.</td>\n",
       "      <td>PRK</td>\n",
       "      <td>2.30</td>\n",
       "      <td>2.31</td>\n",
       "      <td>2.42</td>\n",
       "      <td>2.54</td>\n",
       "      <td>2.55</td>\n",
       "      <td>2.60</td>\n",
       "      <td>2.68</td>\n",
       "      <td>...</td>\n",
       "      <td>2.59</td>\n",
       "      <td>2.92</td>\n",
       "      <td>2.59</td>\n",
       "      <td>PRK</td>\n",
       "      <td>Asia</td>\n",
       "      <td>Eastern Asia</td>\n",
       "      <td>2.726774</td>\n",
       "      <td>-0.63</td>\n",
       "      <td>0.22</td>\n",
       "      <td>-0.21</td>\n",
       "    </tr>\n",
       "    <tr>\n",
       "      <th>108</th>\n",
       "      <td>108</td>\n",
       "      <td>Mexico</td>\n",
       "      <td>MEX</td>\n",
       "      <td>3.15</td>\n",
       "      <td>3.24</td>\n",
       "      <td>3.37</td>\n",
       "      <td>4.44</td>\n",
       "      <td>7.10</td>\n",
       "      <td>5.47</td>\n",
       "      <td>4.24</td>\n",
       "      <td>...</td>\n",
       "      <td>3.48</td>\n",
       "      <td>4.45</td>\n",
       "      <td>4.38</td>\n",
       "      <td>MEX</td>\n",
       "      <td>Americas</td>\n",
       "      <td>Central America</td>\n",
       "      <td>4.040968</td>\n",
       "      <td>0.50</td>\n",
       "      <td>-2.65</td>\n",
       "      <td>0.85</td>\n",
       "    </tr>\n",
       "    <tr>\n",
       "      <th>137</th>\n",
       "      <td>137</td>\n",
       "      <td>Russian Federation</td>\n",
       "      <td>RUS</td>\n",
       "      <td>5.41</td>\n",
       "      <td>5.18</td>\n",
       "      <td>5.88</td>\n",
       "      <td>8.13</td>\n",
       "      <td>9.45</td>\n",
       "      <td>9.67</td>\n",
       "      <td>11.81</td>\n",
       "      <td>...</td>\n",
       "      <td>4.50</td>\n",
       "      <td>5.59</td>\n",
       "      <td>5.01</td>\n",
       "      <td>RUS</td>\n",
       "      <td>Europe</td>\n",
       "      <td>Eastern Europe</td>\n",
       "      <td>7.296452</td>\n",
       "      <td>-5.17</td>\n",
       "      <td>3.21</td>\n",
       "      <td>1.78</td>\n",
       "    </tr>\n",
       "    <tr>\n",
       "      <th>141</th>\n",
       "      <td>141</td>\n",
       "      <td>Saudi Arabia</td>\n",
       "      <td>SAU</td>\n",
       "      <td>7.07</td>\n",
       "      <td>7.20</td>\n",
       "      <td>6.85</td>\n",
       "      <td>6.41</td>\n",
       "      <td>6.00</td>\n",
       "      <td>5.56</td>\n",
       "      <td>5.15</td>\n",
       "      <td>...</td>\n",
       "      <td>5.67</td>\n",
       "      <td>7.45</td>\n",
       "      <td>7.36</td>\n",
       "      <td>SAU</td>\n",
       "      <td>Asia</td>\n",
       "      <td>Western Asia</td>\n",
       "      <td>5.787742</td>\n",
       "      <td>2.50</td>\n",
       "      <td>-0.98</td>\n",
       "      <td>-1.90</td>\n",
       "    </tr>\n",
       "    <tr>\n",
       "      <th>150</th>\n",
       "      <td>150</td>\n",
       "      <td>South Africa</td>\n",
       "      <td>ZAF</td>\n",
       "      <td>29.95</td>\n",
       "      <td>29.98</td>\n",
       "      <td>29.92</td>\n",
       "      <td>29.89</td>\n",
       "      <td>29.89</td>\n",
       "      <td>29.87</td>\n",
       "      <td>29.91</td>\n",
       "      <td>...</td>\n",
       "      <td>28.47</td>\n",
       "      <td>29.22</td>\n",
       "      <td>33.56</td>\n",
       "      <td>ZAF</td>\n",
       "      <td>Africa</td>\n",
       "      <td>Southern Africa</td>\n",
       "      <td>28.232581</td>\n",
       "      <td>0.07</td>\n",
       "      <td>5.20</td>\n",
       "      <td>-4.54</td>\n",
       "    </tr>\n",
       "    <tr>\n",
       "      <th>169</th>\n",
       "      <td>169</td>\n",
       "      <td>Turkiye</td>\n",
       "      <td>TUR</td>\n",
       "      <td>8.21</td>\n",
       "      <td>8.51</td>\n",
       "      <td>8.96</td>\n",
       "      <td>8.58</td>\n",
       "      <td>7.64</td>\n",
       "      <td>6.63</td>\n",
       "      <td>6.84</td>\n",
       "      <td>...</td>\n",
       "      <td>13.67</td>\n",
       "      <td>13.11</td>\n",
       "      <td>13.39</td>\n",
       "      <td>TUR</td>\n",
       "      <td>Asia</td>\n",
       "      <td>Western Asia</td>\n",
       "      <td>9.556129</td>\n",
       "      <td>1.71</td>\n",
       "      <td>-4.16</td>\n",
       "      <td>-2.45</td>\n",
       "    </tr>\n",
       "    <tr>\n",
       "      <th>174</th>\n",
       "      <td>174</td>\n",
       "      <td>United Kingdom</td>\n",
       "      <td>GBR</td>\n",
       "      <td>8.55</td>\n",
       "      <td>9.78</td>\n",
       "      <td>10.35</td>\n",
       "      <td>9.65</td>\n",
       "      <td>8.69</td>\n",
       "      <td>8.19</td>\n",
       "      <td>7.07</td>\n",
       "      <td>...</td>\n",
       "      <td>3.74</td>\n",
       "      <td>4.47</td>\n",
       "      <td>4.53</td>\n",
       "      <td>GBR</td>\n",
       "      <td>Europe</td>\n",
       "      <td>Northern Europe</td>\n",
       "      <td>6.330968</td>\n",
       "      <td>2.99</td>\n",
       "      <td>-2.23</td>\n",
       "      <td>3.32</td>\n",
       "    </tr>\n",
       "    <tr>\n",
       "      <th>175</th>\n",
       "      <td>175</td>\n",
       "      <td>United States</td>\n",
       "      <td>USA</td>\n",
       "      <td>6.80</td>\n",
       "      <td>7.50</td>\n",
       "      <td>6.90</td>\n",
       "      <td>6.12</td>\n",
       "      <td>5.65</td>\n",
       "      <td>5.45</td>\n",
       "      <td>5.00</td>\n",
       "      <td>...</td>\n",
       "      <td>3.67</td>\n",
       "      <td>8.05</td>\n",
       "      <td>5.46</td>\n",
       "      <td>USA</td>\n",
       "      <td>Americas</td>\n",
       "      <td>Northern America</td>\n",
       "      <td>5.912903</td>\n",
       "      <td>2.81</td>\n",
       "      <td>-5.64</td>\n",
       "      <td>1.58</td>\n",
       "    </tr>\n",
       "    <tr>\n",
       "      <th>126</th>\n",
       "      <td>126</td>\n",
       "      <td>Pakistan</td>\n",
       "      <td>PAK</td>\n",
       "      <td>0.62</td>\n",
       "      <td>0.66</td>\n",
       "      <td>0.56</td>\n",
       "      <td>0.59</td>\n",
       "      <td>0.60</td>\n",
       "      <td>0.60</td>\n",
       "      <td>0.54</td>\n",
       "      <td>...</td>\n",
       "      <td>3.54</td>\n",
       "      <td>4.30</td>\n",
       "      <td>4.35</td>\n",
       "      <td>PAK</td>\n",
       "      <td>Asia</td>\n",
       "      <td>Southern Asia</td>\n",
       "      <td>1.494839</td>\n",
       "      <td>0.04</td>\n",
       "      <td>-0.07</td>\n",
       "      <td>-3.65</td>\n",
       "    </tr>\n",
       "  </tbody>\n",
       "</table>\n",
       "<p>20 rows × 41 columns</p>\n",
       "</div>"
      ],
      "text/plain": [
       "     Unnamed: 0               Country Name Country Code   1991   1992   1993  \\\n",
       "4             4                  Argentina          ARG   5.44   6.36  10.10   \n",
       "6             6                  Australia          AUS   9.58  10.73  10.87   \n",
       "21           21                     Brazil          BRA   6.31   6.42   6.03   \n",
       "29           29                     Canada          CAN  10.32  11.20  11.38   \n",
       "33           33                      China          CHN   2.37   2.37   2.69   \n",
       "57           57                     France          FRA   9.13  10.21  11.32   \n",
       "62           62                    Germany          DEU   5.32   6.32   7.68   \n",
       "75           75                      India          IND   5.60   5.73   5.69   \n",
       "76           76                  Indonesia          IDN   2.62   2.73   2.78   \n",
       "81           81                      Italy          ITA  10.10   9.33  10.24   \n",
       "83           83                      Japan          JPN   2.10   2.20   2.50   \n",
       "87           87  Korea, Dem. People's Rep.          PRK   2.30   2.31   2.42   \n",
       "108         108                     Mexico          MEX   3.15   3.24   3.37   \n",
       "137         137         Russian Federation          RUS   5.41   5.18   5.88   \n",
       "141         141               Saudi Arabia          SAU   7.07   7.20   6.85   \n",
       "150         150               South Africa          ZAF  29.95  29.98  29.92   \n",
       "169         169                    Turkiye          TUR   8.21   8.51   8.96   \n",
       "174         174             United Kingdom          GBR   8.55   9.78  10.35   \n",
       "175         175              United States          USA   6.80   7.50   6.90   \n",
       "126         126                   Pakistan          PAK   0.62   0.66   0.56   \n",
       "\n",
       "      1994   1995   1996   1997  ...   2019   2020   2021  code_3  continent  \\\n",
       "4    11.76  18.80  17.11  14.82  ...   9.84  11.46  10.90     ARG   Americas   \n",
       "6     9.72   8.47   8.51   8.36  ...   5.16   6.46   5.11     AUS    Oceania   \n",
       "21    6.17   6.42   7.25   8.16  ...  11.93  13.69  14.40     BRA   Americas   \n",
       "29   10.40   9.49   9.62   9.10  ...   5.66   9.46   7.51     CAN   Americas   \n",
       "33    2.90   3.00   3.12   3.23  ...   4.52   5.00   4.82     CHN       Asia   \n",
       "57   12.59  11.84  12.37  12.57  ...   8.41   8.01   8.06     FRA     Europe   \n",
       "62    8.73   8.16   8.82   9.86  ...   3.14   3.81   3.54     DEU     Europe   \n",
       "75    5.74   5.76   5.74   5.61  ...   5.27   8.00   5.98     IND       Asia   \n",
       "76    4.37   4.60   4.86   4.68  ...   3.62   4.28   4.41     IDN       Asia   \n",
       "81   11.09  11.67  11.87  12.00  ...   9.95   9.16   9.83     ITA     Europe   \n",
       "83    2.90   3.20   3.40   3.40  ...   2.40   2.80   2.80     JPN       Asia   \n",
       "87    2.54   2.55   2.60   2.68  ...   2.59   2.92   2.59     PRK       Asia   \n",
       "108   4.44   7.10   5.47   4.24  ...   3.48   4.45   4.38     MEX   Americas   \n",
       "137   8.13   9.45   9.67  11.81  ...   4.50   5.59   5.01     RUS     Europe   \n",
       "141   6.41   6.00   5.56   5.15  ...   5.67   7.45   7.36     SAU       Asia   \n",
       "150  29.89  29.89  29.87  29.91  ...  28.47  29.22  33.56     ZAF     Africa   \n",
       "169   8.58   7.64   6.63   6.84  ...  13.67  13.11  13.39     TUR       Asia   \n",
       "174   9.65   8.69   8.19   7.07  ...   3.74   4.47   4.53     GBR     Europe   \n",
       "175   6.12   5.65   5.45   5.00  ...   3.67   8.05   5.46     USA   Americas   \n",
       "126   0.59   0.60   0.60   0.54  ...   3.54   4.30   4.35     PAK       Asia   \n",
       "\n",
       "                    sub_region    average  91-20  20-21  21-22  \n",
       "4                South America  10.977742  -9.56   7.29  -3.75  \n",
       "6    Australia and New Zealand   6.519677   3.30   1.07  -1.25  \n",
       "21               South America   8.924194  -3.25   2.29  -6.42  \n",
       "29            Northern America   7.838387   3.49  -1.23  -1.40  \n",
       "33                Eastern Asia   4.007097  -0.89  -1.27  -0.47  \n",
       "57              Western Europe   9.671935  -1.09   1.35   0.86  \n",
       "62              Western Europe   7.041935  -2.60   0.95   3.16  \n",
       "75               Southern Asia   5.644839   0.04   0.01  -2.45  \n",
       "76          South-Eastern Asia   5.195806  -3.46   0.47   1.33  \n",
       "81             Southern Europe   9.939032  -0.74   2.48  -0.80  \n",
       "83                Eastern Asia   3.759677  -2.65  -0.35   2.30  \n",
       "87                Eastern Asia   2.726774  -0.63   0.22  -0.21  \n",
       "108            Central America   4.040968   0.50  -2.65   0.85  \n",
       "137             Eastern Europe   7.296452  -5.17   3.21   1.78  \n",
       "141               Western Asia   5.787742   2.50  -0.98  -1.90  \n",
       "150            Southern Africa  28.232581   0.07   5.20  -4.54  \n",
       "169               Western Asia   9.556129   1.71  -4.16  -2.45  \n",
       "174            Northern Europe   6.330968   2.99  -2.23   3.32  \n",
       "175           Northern America   5.912903   2.81  -5.64   1.58  \n",
       "126              Southern Asia   1.494839   0.04  -0.07  -3.65  \n",
       "\n",
       "[20 rows x 41 columns]"
      ]
     },
     "execution_count": 6,
     "metadata": {},
     "output_type": "execute_result"
    }
   ],
   "source": [
    "#considering g20 countries \n",
    "#retrieving g20 countries\n",
    "\n",
    "countries=['Argentina','Australia','Brazil','Canada','China','France','Germany','India',\n",
    "           'Indonesia','Italy','Japan',\"Korea, Dem. People's Rep.\",'Mexico',\n",
    "           'Russian Federation','Saudi Arabia','South Africa','Turkiye','United Kingdom','United States','Pakistan'] #mentioning g20 country names\n",
    "\n",
    "data_g20c=pd.DataFrame()\n",
    "for i in countries:\n",
    "    data_g20c = data_g20c.append(data[data['Country Name']==i]) # appending g20 country details into new dataframe\n",
    "\n",
    "data_g20c.drop_duplicates()# dropping all the duplicates\n",
    "\n",
    "data_g20c # returning the dataframe"
   ]
  },
  {
   "cell_type": "code",
   "execution_count": 7,
   "metadata": {},
   "outputs": [],
   "source": [
    "#dropping unwanted columns\n",
    "data_g20c.drop(['Unnamed: 0','Country Code','code_3'],axis=1,inplace=True)"
   ]
  },
  {
   "cell_type": "code",
   "execution_count": 8,
   "metadata": {},
   "outputs": [
    {
     "data": {
      "text/html": [
       "<div>\n",
       "<style scoped>\n",
       "    .dataframe tbody tr th:only-of-type {\n",
       "        vertical-align: middle;\n",
       "    }\n",
       "\n",
       "    .dataframe tbody tr th {\n",
       "        vertical-align: top;\n",
       "    }\n",
       "\n",
       "    .dataframe thead th {\n",
       "        text-align: right;\n",
       "    }\n",
       "</style>\n",
       "<table border=\"1\" class=\"dataframe\">\n",
       "  <thead>\n",
       "    <tr style=\"text-align: right;\">\n",
       "      <th></th>\n",
       "      <th>Country Name</th>\n",
       "      <th>1991</th>\n",
       "      <th>1992</th>\n",
       "      <th>1993</th>\n",
       "      <th>1994</th>\n",
       "      <th>1995</th>\n",
       "      <th>1996</th>\n",
       "      <th>1997</th>\n",
       "      <th>1998</th>\n",
       "      <th>1999</th>\n",
       "      <th>...</th>\n",
       "      <th>2018</th>\n",
       "      <th>2019</th>\n",
       "      <th>2020</th>\n",
       "      <th>2021</th>\n",
       "      <th>continent</th>\n",
       "      <th>sub_region</th>\n",
       "      <th>average</th>\n",
       "      <th>91-20</th>\n",
       "      <th>20-21</th>\n",
       "      <th>21-22</th>\n",
       "    </tr>\n",
       "  </thead>\n",
       "  <tbody>\n",
       "    <tr>\n",
       "      <th>4</th>\n",
       "      <td>Argentina</td>\n",
       "      <td>5.44</td>\n",
       "      <td>6.36</td>\n",
       "      <td>10.10</td>\n",
       "      <td>11.76</td>\n",
       "      <td>18.80</td>\n",
       "      <td>17.11</td>\n",
       "      <td>14.82</td>\n",
       "      <td>12.65</td>\n",
       "      <td>14.05</td>\n",
       "      <td>...</td>\n",
       "      <td>9.22</td>\n",
       "      <td>9.84</td>\n",
       "      <td>11.46</td>\n",
       "      <td>10.90</td>\n",
       "      <td>Americas</td>\n",
       "      <td>South America</td>\n",
       "      <td>10.977742</td>\n",
       "      <td>-9.56</td>\n",
       "      <td>7.29</td>\n",
       "      <td>-3.75</td>\n",
       "    </tr>\n",
       "    <tr>\n",
       "      <th>6</th>\n",
       "      <td>Australia</td>\n",
       "      <td>9.58</td>\n",
       "      <td>10.73</td>\n",
       "      <td>10.87</td>\n",
       "      <td>9.72</td>\n",
       "      <td>8.47</td>\n",
       "      <td>8.51</td>\n",
       "      <td>8.36</td>\n",
       "      <td>7.68</td>\n",
       "      <td>6.87</td>\n",
       "      <td>...</td>\n",
       "      <td>5.30</td>\n",
       "      <td>5.16</td>\n",
       "      <td>6.46</td>\n",
       "      <td>5.11</td>\n",
       "      <td>Oceania</td>\n",
       "      <td>Australia and New Zealand</td>\n",
       "      <td>6.519677</td>\n",
       "      <td>3.30</td>\n",
       "      <td>1.07</td>\n",
       "      <td>-1.25</td>\n",
       "    </tr>\n",
       "    <tr>\n",
       "      <th>21</th>\n",
       "      <td>Brazil</td>\n",
       "      <td>6.31</td>\n",
       "      <td>6.42</td>\n",
       "      <td>6.03</td>\n",
       "      <td>6.17</td>\n",
       "      <td>6.42</td>\n",
       "      <td>7.25</td>\n",
       "      <td>8.16</td>\n",
       "      <td>9.42</td>\n",
       "      <td>10.21</td>\n",
       "      <td>...</td>\n",
       "      <td>12.33</td>\n",
       "      <td>11.93</td>\n",
       "      <td>13.69</td>\n",
       "      <td>14.40</td>\n",
       "      <td>Americas</td>\n",
       "      <td>South America</td>\n",
       "      <td>8.924194</td>\n",
       "      <td>-3.25</td>\n",
       "      <td>2.29</td>\n",
       "      <td>-6.42</td>\n",
       "    </tr>\n",
       "    <tr>\n",
       "      <th>29</th>\n",
       "      <td>Canada</td>\n",
       "      <td>10.32</td>\n",
       "      <td>11.20</td>\n",
       "      <td>11.38</td>\n",
       "      <td>10.40</td>\n",
       "      <td>9.49</td>\n",
       "      <td>9.62</td>\n",
       "      <td>9.10</td>\n",
       "      <td>8.28</td>\n",
       "      <td>7.58</td>\n",
       "      <td>...</td>\n",
       "      <td>5.83</td>\n",
       "      <td>5.66</td>\n",
       "      <td>9.46</td>\n",
       "      <td>7.51</td>\n",
       "      <td>Americas</td>\n",
       "      <td>Northern America</td>\n",
       "      <td>7.838387</td>\n",
       "      <td>3.49</td>\n",
       "      <td>-1.23</td>\n",
       "      <td>-1.40</td>\n",
       "    </tr>\n",
       "    <tr>\n",
       "      <th>33</th>\n",
       "      <td>China</td>\n",
       "      <td>2.37</td>\n",
       "      <td>2.37</td>\n",
       "      <td>2.69</td>\n",
       "      <td>2.90</td>\n",
       "      <td>3.00</td>\n",
       "      <td>3.12</td>\n",
       "      <td>3.23</td>\n",
       "      <td>3.24</td>\n",
       "      <td>3.25</td>\n",
       "      <td>...</td>\n",
       "      <td>4.28</td>\n",
       "      <td>4.52</td>\n",
       "      <td>5.00</td>\n",
       "      <td>4.82</td>\n",
       "      <td>Asia</td>\n",
       "      <td>Eastern Asia</td>\n",
       "      <td>4.007097</td>\n",
       "      <td>-0.89</td>\n",
       "      <td>-1.27</td>\n",
       "      <td>-0.47</td>\n",
       "    </tr>\n",
       "    <tr>\n",
       "      <th>57</th>\n",
       "      <td>France</td>\n",
       "      <td>9.13</td>\n",
       "      <td>10.21</td>\n",
       "      <td>11.32</td>\n",
       "      <td>12.59</td>\n",
       "      <td>11.84</td>\n",
       "      <td>12.37</td>\n",
       "      <td>12.57</td>\n",
       "      <td>12.07</td>\n",
       "      <td>11.98</td>\n",
       "      <td>...</td>\n",
       "      <td>9.02</td>\n",
       "      <td>8.41</td>\n",
       "      <td>8.01</td>\n",
       "      <td>8.06</td>\n",
       "      <td>Europe</td>\n",
       "      <td>Western Europe</td>\n",
       "      <td>9.671935</td>\n",
       "      <td>-1.09</td>\n",
       "      <td>1.35</td>\n",
       "      <td>0.86</td>\n",
       "    </tr>\n",
       "    <tr>\n",
       "      <th>62</th>\n",
       "      <td>Germany</td>\n",
       "      <td>5.32</td>\n",
       "      <td>6.32</td>\n",
       "      <td>7.68</td>\n",
       "      <td>8.73</td>\n",
       "      <td>8.16</td>\n",
       "      <td>8.82</td>\n",
       "      <td>9.86</td>\n",
       "      <td>9.79</td>\n",
       "      <td>8.86</td>\n",
       "      <td>...</td>\n",
       "      <td>3.38</td>\n",
       "      <td>3.14</td>\n",
       "      <td>3.81</td>\n",
       "      <td>3.54</td>\n",
       "      <td>Europe</td>\n",
       "      <td>Western Europe</td>\n",
       "      <td>7.041935</td>\n",
       "      <td>-2.60</td>\n",
       "      <td>0.95</td>\n",
       "      <td>3.16</td>\n",
       "    </tr>\n",
       "    <tr>\n",
       "      <th>75</th>\n",
       "      <td>India</td>\n",
       "      <td>5.60</td>\n",
       "      <td>5.73</td>\n",
       "      <td>5.69</td>\n",
       "      <td>5.74</td>\n",
       "      <td>5.76</td>\n",
       "      <td>5.74</td>\n",
       "      <td>5.61</td>\n",
       "      <td>5.67</td>\n",
       "      <td>5.74</td>\n",
       "      <td>...</td>\n",
       "      <td>5.33</td>\n",
       "      <td>5.27</td>\n",
       "      <td>8.00</td>\n",
       "      <td>5.98</td>\n",
       "      <td>Asia</td>\n",
       "      <td>Southern Asia</td>\n",
       "      <td>5.644839</td>\n",
       "      <td>0.04</td>\n",
       "      <td>0.01</td>\n",
       "      <td>-2.45</td>\n",
       "    </tr>\n",
       "    <tr>\n",
       "      <th>76</th>\n",
       "      <td>Indonesia</td>\n",
       "      <td>2.62</td>\n",
       "      <td>2.73</td>\n",
       "      <td>2.78</td>\n",
       "      <td>4.37</td>\n",
       "      <td>4.60</td>\n",
       "      <td>4.86</td>\n",
       "      <td>4.68</td>\n",
       "      <td>5.46</td>\n",
       "      <td>6.36</td>\n",
       "      <td>...</td>\n",
       "      <td>4.40</td>\n",
       "      <td>3.62</td>\n",
       "      <td>4.28</td>\n",
       "      <td>4.41</td>\n",
       "      <td>Asia</td>\n",
       "      <td>South-Eastern Asia</td>\n",
       "      <td>5.195806</td>\n",
       "      <td>-3.46</td>\n",
       "      <td>0.47</td>\n",
       "      <td>1.33</td>\n",
       "    </tr>\n",
       "    <tr>\n",
       "      <th>81</th>\n",
       "      <td>Italy</td>\n",
       "      <td>10.10</td>\n",
       "      <td>9.33</td>\n",
       "      <td>10.24</td>\n",
       "      <td>11.09</td>\n",
       "      <td>11.67</td>\n",
       "      <td>11.87</td>\n",
       "      <td>12.00</td>\n",
       "      <td>12.12</td>\n",
       "      <td>11.69</td>\n",
       "      <td>...</td>\n",
       "      <td>10.61</td>\n",
       "      <td>9.95</td>\n",
       "      <td>9.16</td>\n",
       "      <td>9.83</td>\n",
       "      <td>Europe</td>\n",
       "      <td>Southern Europe</td>\n",
       "      <td>9.939032</td>\n",
       "      <td>-0.74</td>\n",
       "      <td>2.48</td>\n",
       "      <td>-0.80</td>\n",
       "    </tr>\n",
       "    <tr>\n",
       "      <th>83</th>\n",
       "      <td>Japan</td>\n",
       "      <td>2.10</td>\n",
       "      <td>2.20</td>\n",
       "      <td>2.50</td>\n",
       "      <td>2.90</td>\n",
       "      <td>3.20</td>\n",
       "      <td>3.40</td>\n",
       "      <td>3.40</td>\n",
       "      <td>4.10</td>\n",
       "      <td>4.70</td>\n",
       "      <td>...</td>\n",
       "      <td>2.40</td>\n",
       "      <td>2.40</td>\n",
       "      <td>2.80</td>\n",
       "      <td>2.80</td>\n",
       "      <td>Asia</td>\n",
       "      <td>Eastern Asia</td>\n",
       "      <td>3.759677</td>\n",
       "      <td>-2.65</td>\n",
       "      <td>-0.35</td>\n",
       "      <td>2.30</td>\n",
       "    </tr>\n",
       "    <tr>\n",
       "      <th>87</th>\n",
       "      <td>Korea, Dem. People's Rep.</td>\n",
       "      <td>2.30</td>\n",
       "      <td>2.31</td>\n",
       "      <td>2.42</td>\n",
       "      <td>2.54</td>\n",
       "      <td>2.55</td>\n",
       "      <td>2.60</td>\n",
       "      <td>2.68</td>\n",
       "      <td>2.83</td>\n",
       "      <td>2.97</td>\n",
       "      <td>...</td>\n",
       "      <td>2.63</td>\n",
       "      <td>2.59</td>\n",
       "      <td>2.92</td>\n",
       "      <td>2.59</td>\n",
       "      <td>Asia</td>\n",
       "      <td>Eastern Asia</td>\n",
       "      <td>2.726774</td>\n",
       "      <td>-0.63</td>\n",
       "      <td>0.22</td>\n",
       "      <td>-0.21</td>\n",
       "    </tr>\n",
       "    <tr>\n",
       "      <th>108</th>\n",
       "      <td>Mexico</td>\n",
       "      <td>3.15</td>\n",
       "      <td>3.24</td>\n",
       "      <td>3.37</td>\n",
       "      <td>4.44</td>\n",
       "      <td>7.10</td>\n",
       "      <td>5.47</td>\n",
       "      <td>4.24</td>\n",
       "      <td>3.73</td>\n",
       "      <td>2.60</td>\n",
       "      <td>...</td>\n",
       "      <td>3.28</td>\n",
       "      <td>3.48</td>\n",
       "      <td>4.45</td>\n",
       "      <td>4.38</td>\n",
       "      <td>Americas</td>\n",
       "      <td>Central America</td>\n",
       "      <td>4.040968</td>\n",
       "      <td>0.50</td>\n",
       "      <td>-2.65</td>\n",
       "      <td>0.85</td>\n",
       "    </tr>\n",
       "    <tr>\n",
       "      <th>137</th>\n",
       "      <td>Russian Federation</td>\n",
       "      <td>5.41</td>\n",
       "      <td>5.18</td>\n",
       "      <td>5.88</td>\n",
       "      <td>8.13</td>\n",
       "      <td>9.45</td>\n",
       "      <td>9.67</td>\n",
       "      <td>11.81</td>\n",
       "      <td>13.26</td>\n",
       "      <td>13.04</td>\n",
       "      <td>...</td>\n",
       "      <td>4.85</td>\n",
       "      <td>4.50</td>\n",
       "      <td>5.59</td>\n",
       "      <td>5.01</td>\n",
       "      <td>Europe</td>\n",
       "      <td>Eastern Europe</td>\n",
       "      <td>7.296452</td>\n",
       "      <td>-5.17</td>\n",
       "      <td>3.21</td>\n",
       "      <td>1.78</td>\n",
       "    </tr>\n",
       "    <tr>\n",
       "      <th>141</th>\n",
       "      <td>Saudi Arabia</td>\n",
       "      <td>7.07</td>\n",
       "      <td>7.20</td>\n",
       "      <td>6.85</td>\n",
       "      <td>6.41</td>\n",
       "      <td>6.00</td>\n",
       "      <td>5.56</td>\n",
       "      <td>5.15</td>\n",
       "      <td>4.72</td>\n",
       "      <td>4.35</td>\n",
       "      <td>...</td>\n",
       "      <td>6.04</td>\n",
       "      <td>5.67</td>\n",
       "      <td>7.45</td>\n",
       "      <td>7.36</td>\n",
       "      <td>Asia</td>\n",
       "      <td>Western Asia</td>\n",
       "      <td>5.787742</td>\n",
       "      <td>2.50</td>\n",
       "      <td>-0.98</td>\n",
       "      <td>-1.90</td>\n",
       "    </tr>\n",
       "    <tr>\n",
       "      <th>150</th>\n",
       "      <td>South Africa</td>\n",
       "      <td>29.95</td>\n",
       "      <td>29.98</td>\n",
       "      <td>29.92</td>\n",
       "      <td>29.89</td>\n",
       "      <td>29.89</td>\n",
       "      <td>29.87</td>\n",
       "      <td>29.91</td>\n",
       "      <td>29.95</td>\n",
       "      <td>29.91</td>\n",
       "      <td>...</td>\n",
       "      <td>26.91</td>\n",
       "      <td>28.47</td>\n",
       "      <td>29.22</td>\n",
       "      <td>33.56</td>\n",
       "      <td>Africa</td>\n",
       "      <td>Southern Africa</td>\n",
       "      <td>28.232581</td>\n",
       "      <td>0.07</td>\n",
       "      <td>5.20</td>\n",
       "      <td>-4.54</td>\n",
       "    </tr>\n",
       "    <tr>\n",
       "      <th>169</th>\n",
       "      <td>Turkiye</td>\n",
       "      <td>8.21</td>\n",
       "      <td>8.51</td>\n",
       "      <td>8.96</td>\n",
       "      <td>8.58</td>\n",
       "      <td>7.64</td>\n",
       "      <td>6.63</td>\n",
       "      <td>6.84</td>\n",
       "      <td>6.89</td>\n",
       "      <td>7.69</td>\n",
       "      <td>...</td>\n",
       "      <td>10.89</td>\n",
       "      <td>13.67</td>\n",
       "      <td>13.11</td>\n",
       "      <td>13.39</td>\n",
       "      <td>Asia</td>\n",
       "      <td>Western Asia</td>\n",
       "      <td>9.556129</td>\n",
       "      <td>1.71</td>\n",
       "      <td>-4.16</td>\n",
       "      <td>-2.45</td>\n",
       "    </tr>\n",
       "    <tr>\n",
       "      <th>174</th>\n",
       "      <td>United Kingdom</td>\n",
       "      <td>8.55</td>\n",
       "      <td>9.78</td>\n",
       "      <td>10.35</td>\n",
       "      <td>9.65</td>\n",
       "      <td>8.69</td>\n",
       "      <td>8.19</td>\n",
       "      <td>7.07</td>\n",
       "      <td>6.20</td>\n",
       "      <td>6.04</td>\n",
       "      <td>...</td>\n",
       "      <td>4.00</td>\n",
       "      <td>3.74</td>\n",
       "      <td>4.47</td>\n",
       "      <td>4.53</td>\n",
       "      <td>Europe</td>\n",
       "      <td>Northern Europe</td>\n",
       "      <td>6.330968</td>\n",
       "      <td>2.99</td>\n",
       "      <td>-2.23</td>\n",
       "      <td>3.32</td>\n",
       "    </tr>\n",
       "    <tr>\n",
       "      <th>175</th>\n",
       "      <td>United States</td>\n",
       "      <td>6.80</td>\n",
       "      <td>7.50</td>\n",
       "      <td>6.90</td>\n",
       "      <td>6.12</td>\n",
       "      <td>5.65</td>\n",
       "      <td>5.45</td>\n",
       "      <td>5.00</td>\n",
       "      <td>4.51</td>\n",
       "      <td>4.22</td>\n",
       "      <td>...</td>\n",
       "      <td>3.90</td>\n",
       "      <td>3.67</td>\n",
       "      <td>8.05</td>\n",
       "      <td>5.46</td>\n",
       "      <td>Americas</td>\n",
       "      <td>Northern America</td>\n",
       "      <td>5.912903</td>\n",
       "      <td>2.81</td>\n",
       "      <td>-5.64</td>\n",
       "      <td>1.58</td>\n",
       "    </tr>\n",
       "    <tr>\n",
       "      <th>126</th>\n",
       "      <td>Pakistan</td>\n",
       "      <td>0.62</td>\n",
       "      <td>0.66</td>\n",
       "      <td>0.56</td>\n",
       "      <td>0.59</td>\n",
       "      <td>0.60</td>\n",
       "      <td>0.60</td>\n",
       "      <td>0.54</td>\n",
       "      <td>0.56</td>\n",
       "      <td>0.57</td>\n",
       "      <td>...</td>\n",
       "      <td>4.08</td>\n",
       "      <td>3.54</td>\n",
       "      <td>4.30</td>\n",
       "      <td>4.35</td>\n",
       "      <td>Asia</td>\n",
       "      <td>Southern Asia</td>\n",
       "      <td>1.494839</td>\n",
       "      <td>0.04</td>\n",
       "      <td>-0.07</td>\n",
       "      <td>-3.65</td>\n",
       "    </tr>\n",
       "  </tbody>\n",
       "</table>\n",
       "<p>20 rows × 38 columns</p>\n",
       "</div>"
      ],
      "text/plain": [
       "                  Country Name   1991   1992   1993   1994   1995   1996  \\\n",
       "4                    Argentina   5.44   6.36  10.10  11.76  18.80  17.11   \n",
       "6                    Australia   9.58  10.73  10.87   9.72   8.47   8.51   \n",
       "21                      Brazil   6.31   6.42   6.03   6.17   6.42   7.25   \n",
       "29                      Canada  10.32  11.20  11.38  10.40   9.49   9.62   \n",
       "33                       China   2.37   2.37   2.69   2.90   3.00   3.12   \n",
       "57                      France   9.13  10.21  11.32  12.59  11.84  12.37   \n",
       "62                     Germany   5.32   6.32   7.68   8.73   8.16   8.82   \n",
       "75                       India   5.60   5.73   5.69   5.74   5.76   5.74   \n",
       "76                   Indonesia   2.62   2.73   2.78   4.37   4.60   4.86   \n",
       "81                       Italy  10.10   9.33  10.24  11.09  11.67  11.87   \n",
       "83                       Japan   2.10   2.20   2.50   2.90   3.20   3.40   \n",
       "87   Korea, Dem. People's Rep.   2.30   2.31   2.42   2.54   2.55   2.60   \n",
       "108                     Mexico   3.15   3.24   3.37   4.44   7.10   5.47   \n",
       "137         Russian Federation   5.41   5.18   5.88   8.13   9.45   9.67   \n",
       "141               Saudi Arabia   7.07   7.20   6.85   6.41   6.00   5.56   \n",
       "150               South Africa  29.95  29.98  29.92  29.89  29.89  29.87   \n",
       "169                    Turkiye   8.21   8.51   8.96   8.58   7.64   6.63   \n",
       "174             United Kingdom   8.55   9.78  10.35   9.65   8.69   8.19   \n",
       "175              United States   6.80   7.50   6.90   6.12   5.65   5.45   \n",
       "126                   Pakistan   0.62   0.66   0.56   0.59   0.60   0.60   \n",
       "\n",
       "      1997   1998   1999  ...   2018   2019   2020   2021  continent  \\\n",
       "4    14.82  12.65  14.05  ...   9.22   9.84  11.46  10.90   Americas   \n",
       "6     8.36   7.68   6.87  ...   5.30   5.16   6.46   5.11    Oceania   \n",
       "21    8.16   9.42  10.21  ...  12.33  11.93  13.69  14.40   Americas   \n",
       "29    9.10   8.28   7.58  ...   5.83   5.66   9.46   7.51   Americas   \n",
       "33    3.23   3.24   3.25  ...   4.28   4.52   5.00   4.82       Asia   \n",
       "57   12.57  12.07  11.98  ...   9.02   8.41   8.01   8.06     Europe   \n",
       "62    9.86   9.79   8.86  ...   3.38   3.14   3.81   3.54     Europe   \n",
       "75    5.61   5.67   5.74  ...   5.33   5.27   8.00   5.98       Asia   \n",
       "76    4.68   5.46   6.36  ...   4.40   3.62   4.28   4.41       Asia   \n",
       "81   12.00  12.12  11.69  ...  10.61   9.95   9.16   9.83     Europe   \n",
       "83    3.40   4.10   4.70  ...   2.40   2.40   2.80   2.80       Asia   \n",
       "87    2.68   2.83   2.97  ...   2.63   2.59   2.92   2.59       Asia   \n",
       "108   4.24   3.73   2.60  ...   3.28   3.48   4.45   4.38   Americas   \n",
       "137  11.81  13.26  13.04  ...   4.85   4.50   5.59   5.01     Europe   \n",
       "141   5.15   4.72   4.35  ...   6.04   5.67   7.45   7.36       Asia   \n",
       "150  29.91  29.95  29.91  ...  26.91  28.47  29.22  33.56     Africa   \n",
       "169   6.84   6.89   7.69  ...  10.89  13.67  13.11  13.39       Asia   \n",
       "174   7.07   6.20   6.04  ...   4.00   3.74   4.47   4.53     Europe   \n",
       "175   5.00   4.51   4.22  ...   3.90   3.67   8.05   5.46   Americas   \n",
       "126   0.54   0.56   0.57  ...   4.08   3.54   4.30   4.35       Asia   \n",
       "\n",
       "                    sub_region    average  91-20  20-21  21-22  \n",
       "4                South America  10.977742  -9.56   7.29  -3.75  \n",
       "6    Australia and New Zealand   6.519677   3.30   1.07  -1.25  \n",
       "21               South America   8.924194  -3.25   2.29  -6.42  \n",
       "29            Northern America   7.838387   3.49  -1.23  -1.40  \n",
       "33                Eastern Asia   4.007097  -0.89  -1.27  -0.47  \n",
       "57              Western Europe   9.671935  -1.09   1.35   0.86  \n",
       "62              Western Europe   7.041935  -2.60   0.95   3.16  \n",
       "75               Southern Asia   5.644839   0.04   0.01  -2.45  \n",
       "76          South-Eastern Asia   5.195806  -3.46   0.47   1.33  \n",
       "81             Southern Europe   9.939032  -0.74   2.48  -0.80  \n",
       "83                Eastern Asia   3.759677  -2.65  -0.35   2.30  \n",
       "87                Eastern Asia   2.726774  -0.63   0.22  -0.21  \n",
       "108            Central America   4.040968   0.50  -2.65   0.85  \n",
       "137             Eastern Europe   7.296452  -5.17   3.21   1.78  \n",
       "141               Western Asia   5.787742   2.50  -0.98  -1.90  \n",
       "150            Southern Africa  28.232581   0.07   5.20  -4.54  \n",
       "169               Western Asia   9.556129   1.71  -4.16  -2.45  \n",
       "174            Northern Europe   6.330968   2.99  -2.23   3.32  \n",
       "175           Northern America   5.912903   2.81  -5.64   1.58  \n",
       "126              Southern Asia   1.494839   0.04  -0.07  -3.65  \n",
       "\n",
       "[20 rows x 38 columns]"
      ]
     },
     "execution_count": 8,
     "metadata": {},
     "output_type": "execute_result"
    }
   ],
   "source": [
    "data_g20c"
   ]
  },
  {
   "cell_type": "code",
   "execution_count": 9,
   "metadata": {},
   "outputs": [
    {
     "data": {
      "application/vnd.plotly.v1+json": {
       "config": {
        "plotlyServerURL": "https://plot.ly"
       },
       "data": [
        {
         "alignmentgroup": "True",
         "hovertemplate": "x=%{x}<br>y=%{y}<extra></extra>",
         "legendgroup": "",
         "marker": {
          "color": "#636efa",
          "pattern": {
           "shape": ""
          }
         },
         "name": "",
         "offsetgroup": "",
         "orientation": "v",
         "showlegend": false,
         "textposition": "auto",
         "type": "bar",
         "x": [
          "Argentina",
          "Australia",
          "Brazil",
          "Canada",
          "China",
          "France",
          "Germany",
          "India",
          "Indonesia",
          "Italy",
          "Japan",
          "Korea, Dem. People's Rep.",
          "Mexico",
          "Russian Federation",
          "Saudi Arabia",
          "South Africa",
          "Turkiye",
          "United Kingdom",
          "United States",
          "Pakistan"
         ],
         "xaxis": "x",
         "y": [
          10.977741935483872,
          6.519677419354841,
          8.924193548387098,
          7.838387096774191,
          4.007096774193548,
          9.671935483870968,
          7.041935483870967,
          5.64483870967742,
          5.195806451612903,
          9.939032258064518,
          3.759677419354839,
          2.726774193548388,
          4.040967741935484,
          7.296451612903227,
          5.7877419354838695,
          28.232580645161285,
          9.556129032258069,
          6.330967741935487,
          5.912903225806453,
          1.4948387096774194
         ],
         "yaxis": "y"
        }
       ],
       "layout": {
        "barmode": "relative",
        "height": 500,
        "legend": {
         "tracegroupgap": 0
        },
        "template": {
         "data": {
          "bar": [
           {
            "error_x": {
             "color": "#2a3f5f"
            },
            "error_y": {
             "color": "#2a3f5f"
            },
            "marker": {
             "line": {
              "color": "#E5ECF6",
              "width": 0.5
             },
             "pattern": {
              "fillmode": "overlay",
              "size": 10,
              "solidity": 0.2
             }
            },
            "type": "bar"
           }
          ],
          "barpolar": [
           {
            "marker": {
             "line": {
              "color": "#E5ECF6",
              "width": 0.5
             },
             "pattern": {
              "fillmode": "overlay",
              "size": 10,
              "solidity": 0.2
             }
            },
            "type": "barpolar"
           }
          ],
          "carpet": [
           {
            "aaxis": {
             "endlinecolor": "#2a3f5f",
             "gridcolor": "white",
             "linecolor": "white",
             "minorgridcolor": "white",
             "startlinecolor": "#2a3f5f"
            },
            "baxis": {
             "endlinecolor": "#2a3f5f",
             "gridcolor": "white",
             "linecolor": "white",
             "minorgridcolor": "white",
             "startlinecolor": "#2a3f5f"
            },
            "type": "carpet"
           }
          ],
          "choropleth": [
           {
            "colorbar": {
             "outlinewidth": 0,
             "ticks": ""
            },
            "type": "choropleth"
           }
          ],
          "contour": [
           {
            "colorbar": {
             "outlinewidth": 0,
             "ticks": ""
            },
            "colorscale": [
             [
              0,
              "#0d0887"
             ],
             [
              0.1111111111111111,
              "#46039f"
             ],
             [
              0.2222222222222222,
              "#7201a8"
             ],
             [
              0.3333333333333333,
              "#9c179e"
             ],
             [
              0.4444444444444444,
              "#bd3786"
             ],
             [
              0.5555555555555556,
              "#d8576b"
             ],
             [
              0.6666666666666666,
              "#ed7953"
             ],
             [
              0.7777777777777778,
              "#fb9f3a"
             ],
             [
              0.8888888888888888,
              "#fdca26"
             ],
             [
              1,
              "#f0f921"
             ]
            ],
            "type": "contour"
           }
          ],
          "contourcarpet": [
           {
            "colorbar": {
             "outlinewidth": 0,
             "ticks": ""
            },
            "type": "contourcarpet"
           }
          ],
          "heatmap": [
           {
            "colorbar": {
             "outlinewidth": 0,
             "ticks": ""
            },
            "colorscale": [
             [
              0,
              "#0d0887"
             ],
             [
              0.1111111111111111,
              "#46039f"
             ],
             [
              0.2222222222222222,
              "#7201a8"
             ],
             [
              0.3333333333333333,
              "#9c179e"
             ],
             [
              0.4444444444444444,
              "#bd3786"
             ],
             [
              0.5555555555555556,
              "#d8576b"
             ],
             [
              0.6666666666666666,
              "#ed7953"
             ],
             [
              0.7777777777777778,
              "#fb9f3a"
             ],
             [
              0.8888888888888888,
              "#fdca26"
             ],
             [
              1,
              "#f0f921"
             ]
            ],
            "type": "heatmap"
           }
          ],
          "heatmapgl": [
           {
            "colorbar": {
             "outlinewidth": 0,
             "ticks": ""
            },
            "colorscale": [
             [
              0,
              "#0d0887"
             ],
             [
              0.1111111111111111,
              "#46039f"
             ],
             [
              0.2222222222222222,
              "#7201a8"
             ],
             [
              0.3333333333333333,
              "#9c179e"
             ],
             [
              0.4444444444444444,
              "#bd3786"
             ],
             [
              0.5555555555555556,
              "#d8576b"
             ],
             [
              0.6666666666666666,
              "#ed7953"
             ],
             [
              0.7777777777777778,
              "#fb9f3a"
             ],
             [
              0.8888888888888888,
              "#fdca26"
             ],
             [
              1,
              "#f0f921"
             ]
            ],
            "type": "heatmapgl"
           }
          ],
          "histogram": [
           {
            "marker": {
             "pattern": {
              "fillmode": "overlay",
              "size": 10,
              "solidity": 0.2
             }
            },
            "type": "histogram"
           }
          ],
          "histogram2d": [
           {
            "colorbar": {
             "outlinewidth": 0,
             "ticks": ""
            },
            "colorscale": [
             [
              0,
              "#0d0887"
             ],
             [
              0.1111111111111111,
              "#46039f"
             ],
             [
              0.2222222222222222,
              "#7201a8"
             ],
             [
              0.3333333333333333,
              "#9c179e"
             ],
             [
              0.4444444444444444,
              "#bd3786"
             ],
             [
              0.5555555555555556,
              "#d8576b"
             ],
             [
              0.6666666666666666,
              "#ed7953"
             ],
             [
              0.7777777777777778,
              "#fb9f3a"
             ],
             [
              0.8888888888888888,
              "#fdca26"
             ],
             [
              1,
              "#f0f921"
             ]
            ],
            "type": "histogram2d"
           }
          ],
          "histogram2dcontour": [
           {
            "colorbar": {
             "outlinewidth": 0,
             "ticks": ""
            },
            "colorscale": [
             [
              0,
              "#0d0887"
             ],
             [
              0.1111111111111111,
              "#46039f"
             ],
             [
              0.2222222222222222,
              "#7201a8"
             ],
             [
              0.3333333333333333,
              "#9c179e"
             ],
             [
              0.4444444444444444,
              "#bd3786"
             ],
             [
              0.5555555555555556,
              "#d8576b"
             ],
             [
              0.6666666666666666,
              "#ed7953"
             ],
             [
              0.7777777777777778,
              "#fb9f3a"
             ],
             [
              0.8888888888888888,
              "#fdca26"
             ],
             [
              1,
              "#f0f921"
             ]
            ],
            "type": "histogram2dcontour"
           }
          ],
          "mesh3d": [
           {
            "colorbar": {
             "outlinewidth": 0,
             "ticks": ""
            },
            "type": "mesh3d"
           }
          ],
          "parcoords": [
           {
            "line": {
             "colorbar": {
              "outlinewidth": 0,
              "ticks": ""
             }
            },
            "type": "parcoords"
           }
          ],
          "pie": [
           {
            "automargin": true,
            "type": "pie"
           }
          ],
          "scatter": [
           {
            "fillpattern": {
             "fillmode": "overlay",
             "size": 10,
             "solidity": 0.2
            },
            "type": "scatter"
           }
          ],
          "scatter3d": [
           {
            "line": {
             "colorbar": {
              "outlinewidth": 0,
              "ticks": ""
             }
            },
            "marker": {
             "colorbar": {
              "outlinewidth": 0,
              "ticks": ""
             }
            },
            "type": "scatter3d"
           }
          ],
          "scattercarpet": [
           {
            "marker": {
             "colorbar": {
              "outlinewidth": 0,
              "ticks": ""
             }
            },
            "type": "scattercarpet"
           }
          ],
          "scattergeo": [
           {
            "marker": {
             "colorbar": {
              "outlinewidth": 0,
              "ticks": ""
             }
            },
            "type": "scattergeo"
           }
          ],
          "scattergl": [
           {
            "marker": {
             "colorbar": {
              "outlinewidth": 0,
              "ticks": ""
             }
            },
            "type": "scattergl"
           }
          ],
          "scattermapbox": [
           {
            "marker": {
             "colorbar": {
              "outlinewidth": 0,
              "ticks": ""
             }
            },
            "type": "scattermapbox"
           }
          ],
          "scatterpolar": [
           {
            "marker": {
             "colorbar": {
              "outlinewidth": 0,
              "ticks": ""
             }
            },
            "type": "scatterpolar"
           }
          ],
          "scatterpolargl": [
           {
            "marker": {
             "colorbar": {
              "outlinewidth": 0,
              "ticks": ""
             }
            },
            "type": "scatterpolargl"
           }
          ],
          "scatterternary": [
           {
            "marker": {
             "colorbar": {
              "outlinewidth": 0,
              "ticks": ""
             }
            },
            "type": "scatterternary"
           }
          ],
          "surface": [
           {
            "colorbar": {
             "outlinewidth": 0,
             "ticks": ""
            },
            "colorscale": [
             [
              0,
              "#0d0887"
             ],
             [
              0.1111111111111111,
              "#46039f"
             ],
             [
              0.2222222222222222,
              "#7201a8"
             ],
             [
              0.3333333333333333,
              "#9c179e"
             ],
             [
              0.4444444444444444,
              "#bd3786"
             ],
             [
              0.5555555555555556,
              "#d8576b"
             ],
             [
              0.6666666666666666,
              "#ed7953"
             ],
             [
              0.7777777777777778,
              "#fb9f3a"
             ],
             [
              0.8888888888888888,
              "#fdca26"
             ],
             [
              1,
              "#f0f921"
             ]
            ],
            "type": "surface"
           }
          ],
          "table": [
           {
            "cells": {
             "fill": {
              "color": "#EBF0F8"
             },
             "line": {
              "color": "white"
             }
            },
            "header": {
             "fill": {
              "color": "#C8D4E3"
             },
             "line": {
              "color": "white"
             }
            },
            "type": "table"
           }
          ]
         },
         "layout": {
          "annotationdefaults": {
           "arrowcolor": "#2a3f5f",
           "arrowhead": 0,
           "arrowwidth": 1
          },
          "autotypenumbers": "strict",
          "coloraxis": {
           "colorbar": {
            "outlinewidth": 0,
            "ticks": ""
           }
          },
          "colorscale": {
           "diverging": [
            [
             0,
             "#8e0152"
            ],
            [
             0.1,
             "#c51b7d"
            ],
            [
             0.2,
             "#de77ae"
            ],
            [
             0.3,
             "#f1b6da"
            ],
            [
             0.4,
             "#fde0ef"
            ],
            [
             0.5,
             "#f7f7f7"
            ],
            [
             0.6,
             "#e6f5d0"
            ],
            [
             0.7,
             "#b8e186"
            ],
            [
             0.8,
             "#7fbc41"
            ],
            [
             0.9,
             "#4d9221"
            ],
            [
             1,
             "#276419"
            ]
           ],
           "sequential": [
            [
             0,
             "#0d0887"
            ],
            [
             0.1111111111111111,
             "#46039f"
            ],
            [
             0.2222222222222222,
             "#7201a8"
            ],
            [
             0.3333333333333333,
             "#9c179e"
            ],
            [
             0.4444444444444444,
             "#bd3786"
            ],
            [
             0.5555555555555556,
             "#d8576b"
            ],
            [
             0.6666666666666666,
             "#ed7953"
            ],
            [
             0.7777777777777778,
             "#fb9f3a"
            ],
            [
             0.8888888888888888,
             "#fdca26"
            ],
            [
             1,
             "#f0f921"
            ]
           ],
           "sequentialminus": [
            [
             0,
             "#0d0887"
            ],
            [
             0.1111111111111111,
             "#46039f"
            ],
            [
             0.2222222222222222,
             "#7201a8"
            ],
            [
             0.3333333333333333,
             "#9c179e"
            ],
            [
             0.4444444444444444,
             "#bd3786"
            ],
            [
             0.5555555555555556,
             "#d8576b"
            ],
            [
             0.6666666666666666,
             "#ed7953"
            ],
            [
             0.7777777777777778,
             "#fb9f3a"
            ],
            [
             0.8888888888888888,
             "#fdca26"
            ],
            [
             1,
             "#f0f921"
            ]
           ]
          },
          "colorway": [
           "#636efa",
           "#EF553B",
           "#00cc96",
           "#ab63fa",
           "#FFA15A",
           "#19d3f3",
           "#FF6692",
           "#B6E880",
           "#FF97FF",
           "#FECB52"
          ],
          "font": {
           "color": "#2a3f5f"
          },
          "geo": {
           "bgcolor": "white",
           "lakecolor": "white",
           "landcolor": "#E5ECF6",
           "showlakes": true,
           "showland": true,
           "subunitcolor": "white"
          },
          "hoverlabel": {
           "align": "left"
          },
          "hovermode": "closest",
          "mapbox": {
           "style": "light"
          },
          "paper_bgcolor": "white",
          "plot_bgcolor": "#E5ECF6",
          "polar": {
           "angularaxis": {
            "gridcolor": "white",
            "linecolor": "white",
            "ticks": ""
           },
           "bgcolor": "#E5ECF6",
           "radialaxis": {
            "gridcolor": "white",
            "linecolor": "white",
            "ticks": ""
           }
          },
          "scene": {
           "xaxis": {
            "backgroundcolor": "#E5ECF6",
            "gridcolor": "white",
            "gridwidth": 2,
            "linecolor": "white",
            "showbackground": true,
            "ticks": "",
            "zerolinecolor": "white"
           },
           "yaxis": {
            "backgroundcolor": "#E5ECF6",
            "gridcolor": "white",
            "gridwidth": 2,
            "linecolor": "white",
            "showbackground": true,
            "ticks": "",
            "zerolinecolor": "white"
           },
           "zaxis": {
            "backgroundcolor": "#E5ECF6",
            "gridcolor": "white",
            "gridwidth": 2,
            "linecolor": "white",
            "showbackground": true,
            "ticks": "",
            "zerolinecolor": "white"
           }
          },
          "shapedefaults": {
           "line": {
            "color": "#2a3f5f"
           }
          },
          "ternary": {
           "aaxis": {
            "gridcolor": "white",
            "linecolor": "white",
            "ticks": ""
           },
           "baxis": {
            "gridcolor": "white",
            "linecolor": "white",
            "ticks": ""
           },
           "bgcolor": "#E5ECF6",
           "caxis": {
            "gridcolor": "white",
            "linecolor": "white",
            "ticks": ""
           }
          },
          "title": {
           "x": 0.05
          },
          "xaxis": {
           "automargin": true,
           "gridcolor": "white",
           "linecolor": "white",
           "ticks": "",
           "title": {
            "standoff": 15
           },
           "zerolinecolor": "white",
           "zerolinewidth": 2
          },
          "yaxis": {
           "automargin": true,
           "gridcolor": "white",
           "linecolor": "white",
           "ticks": "",
           "title": {
            "standoff": 15
           },
           "zerolinecolor": "white",
           "zerolinewidth": 2
          }
         }
        },
        "title": {
         "text": "Unemployment Rate of G20 Countries"
        },
        "width": 1000,
        "xaxis": {
         "anchor": "y",
         "domain": [
          0,
          1
         ],
         "title": {
          "text": "x"
         }
        },
        "yaxis": {
         "anchor": "x",
         "domain": [
          0,
          1
         ],
         "title": {
          "text": "y"
         }
        }
       }
      }
     },
     "metadata": {},
     "output_type": "display_data"
    }
   ],
   "source": [
    "#visualizing each country unemployment rate\n",
    "\n",
    "fig=px.bar(x=data_g20c['Country Name'],y=data_g20c['average'],height=500,width=1000,\n",
    "           labels={'index':'Country Name','value':'Unemployment Rate'},\n",
    "           title='Unemployment Rate of G20 Countries')\n",
    "fig.show()"
   ]
  },
  {
   "attachments": {},
   "cell_type": "markdown",
   "metadata": {},
   "source": [
    "# **Transposing Dataset**"
   ]
  },
  {
   "cell_type": "code",
   "execution_count": 10,
   "metadata": {},
   "outputs": [
    {
     "data": {
      "text/html": [
       "<div>\n",
       "<style scoped>\n",
       "    .dataframe tbody tr th:only-of-type {\n",
       "        vertical-align: middle;\n",
       "    }\n",
       "\n",
       "    .dataframe tbody tr th {\n",
       "        vertical-align: top;\n",
       "    }\n",
       "\n",
       "    .dataframe thead th {\n",
       "        text-align: right;\n",
       "    }\n",
       "</style>\n",
       "<table border=\"1\" class=\"dataframe\">\n",
       "  <thead>\n",
       "    <tr style=\"text-align: right;\">\n",
       "      <th>Country Name</th>\n",
       "      <th>year</th>\n",
       "      <th>Argentina</th>\n",
       "      <th>Australia</th>\n",
       "      <th>Brazil</th>\n",
       "      <th>Canada</th>\n",
       "      <th>China</th>\n",
       "      <th>France</th>\n",
       "      <th>Germany</th>\n",
       "      <th>India</th>\n",
       "      <th>Indonesia</th>\n",
       "      <th>...</th>\n",
       "      <th>Japan</th>\n",
       "      <th>Korea, Dem. People's Rep.</th>\n",
       "      <th>Mexico</th>\n",
       "      <th>Pakistan</th>\n",
       "      <th>Russian Federation</th>\n",
       "      <th>Saudi Arabia</th>\n",
       "      <th>South Africa</th>\n",
       "      <th>Turkiye</th>\n",
       "      <th>United Kingdom</th>\n",
       "      <th>United States</th>\n",
       "    </tr>\n",
       "  </thead>\n",
       "  <tbody>\n",
       "    <tr>\n",
       "      <th>0</th>\n",
       "      <td>1991</td>\n",
       "      <td>5.44</td>\n",
       "      <td>9.58</td>\n",
       "      <td>6.31</td>\n",
       "      <td>10.32</td>\n",
       "      <td>2.37</td>\n",
       "      <td>9.13</td>\n",
       "      <td>5.32</td>\n",
       "      <td>5.6</td>\n",
       "      <td>2.62</td>\n",
       "      <td>...</td>\n",
       "      <td>2.1</td>\n",
       "      <td>2.3</td>\n",
       "      <td>3.15</td>\n",
       "      <td>0.62</td>\n",
       "      <td>5.41</td>\n",
       "      <td>7.07</td>\n",
       "      <td>29.95</td>\n",
       "      <td>8.21</td>\n",
       "      <td>8.55</td>\n",
       "      <td>6.8</td>\n",
       "    </tr>\n",
       "    <tr>\n",
       "      <th>1</th>\n",
       "      <td>1992</td>\n",
       "      <td>6.36</td>\n",
       "      <td>10.73</td>\n",
       "      <td>6.42</td>\n",
       "      <td>11.2</td>\n",
       "      <td>2.37</td>\n",
       "      <td>10.21</td>\n",
       "      <td>6.32</td>\n",
       "      <td>5.73</td>\n",
       "      <td>2.73</td>\n",
       "      <td>...</td>\n",
       "      <td>2.2</td>\n",
       "      <td>2.31</td>\n",
       "      <td>3.24</td>\n",
       "      <td>0.66</td>\n",
       "      <td>5.18</td>\n",
       "      <td>7.2</td>\n",
       "      <td>29.98</td>\n",
       "      <td>8.51</td>\n",
       "      <td>9.78</td>\n",
       "      <td>7.5</td>\n",
       "    </tr>\n",
       "    <tr>\n",
       "      <th>2</th>\n",
       "      <td>1993</td>\n",
       "      <td>10.1</td>\n",
       "      <td>10.87</td>\n",
       "      <td>6.03</td>\n",
       "      <td>11.38</td>\n",
       "      <td>2.69</td>\n",
       "      <td>11.32</td>\n",
       "      <td>7.68</td>\n",
       "      <td>5.69</td>\n",
       "      <td>2.78</td>\n",
       "      <td>...</td>\n",
       "      <td>2.5</td>\n",
       "      <td>2.42</td>\n",
       "      <td>3.37</td>\n",
       "      <td>0.56</td>\n",
       "      <td>5.88</td>\n",
       "      <td>6.85</td>\n",
       "      <td>29.92</td>\n",
       "      <td>8.96</td>\n",
       "      <td>10.35</td>\n",
       "      <td>6.9</td>\n",
       "    </tr>\n",
       "    <tr>\n",
       "      <th>3</th>\n",
       "      <td>1994</td>\n",
       "      <td>11.76</td>\n",
       "      <td>9.72</td>\n",
       "      <td>6.17</td>\n",
       "      <td>10.4</td>\n",
       "      <td>2.9</td>\n",
       "      <td>12.59</td>\n",
       "      <td>8.73</td>\n",
       "      <td>5.74</td>\n",
       "      <td>4.37</td>\n",
       "      <td>...</td>\n",
       "      <td>2.9</td>\n",
       "      <td>2.54</td>\n",
       "      <td>4.44</td>\n",
       "      <td>0.59</td>\n",
       "      <td>8.13</td>\n",
       "      <td>6.41</td>\n",
       "      <td>29.89</td>\n",
       "      <td>8.58</td>\n",
       "      <td>9.65</td>\n",
       "      <td>6.12</td>\n",
       "    </tr>\n",
       "    <tr>\n",
       "      <th>4</th>\n",
       "      <td>1995</td>\n",
       "      <td>18.8</td>\n",
       "      <td>8.47</td>\n",
       "      <td>6.42</td>\n",
       "      <td>9.49</td>\n",
       "      <td>3.0</td>\n",
       "      <td>11.84</td>\n",
       "      <td>8.16</td>\n",
       "      <td>5.76</td>\n",
       "      <td>4.6</td>\n",
       "      <td>...</td>\n",
       "      <td>3.2</td>\n",
       "      <td>2.55</td>\n",
       "      <td>7.1</td>\n",
       "      <td>0.6</td>\n",
       "      <td>9.45</td>\n",
       "      <td>6.0</td>\n",
       "      <td>29.89</td>\n",
       "      <td>7.64</td>\n",
       "      <td>8.69</td>\n",
       "      <td>5.65</td>\n",
       "    </tr>\n",
       "  </tbody>\n",
       "</table>\n",
       "<p>5 rows × 21 columns</p>\n",
       "</div>"
      ],
      "text/plain": [
       "Country Name  year Argentina Australia Brazil Canada China France Germany  \\\n",
       "0             1991      5.44      9.58   6.31  10.32  2.37   9.13    5.32   \n",
       "1             1992      6.36     10.73   6.42   11.2  2.37  10.21    6.32   \n",
       "2             1993      10.1     10.87   6.03  11.38  2.69  11.32    7.68   \n",
       "3             1994     11.76      9.72   6.17   10.4   2.9  12.59    8.73   \n",
       "4             1995      18.8      8.47   6.42   9.49   3.0  11.84    8.16   \n",
       "\n",
       "Country Name India Indonesia  ... Japan Korea, Dem. People's Rep. Mexico  \\\n",
       "0              5.6      2.62  ...   2.1                       2.3   3.15   \n",
       "1             5.73      2.73  ...   2.2                      2.31   3.24   \n",
       "2             5.69      2.78  ...   2.5                      2.42   3.37   \n",
       "3             5.74      4.37  ...   2.9                      2.54   4.44   \n",
       "4             5.76       4.6  ...   3.2                      2.55    7.1   \n",
       "\n",
       "Country Name Pakistan Russian Federation Saudi Arabia South Africa Turkiye  \\\n",
       "0                0.62               5.41         7.07        29.95    8.21   \n",
       "1                0.66               5.18          7.2        29.98    8.51   \n",
       "2                0.56               5.88         6.85        29.92    8.96   \n",
       "3                0.59               8.13         6.41        29.89    8.58   \n",
       "4                 0.6               9.45          6.0        29.89    7.64   \n",
       "\n",
       "Country Name United Kingdom United States  \n",
       "0                      8.55           6.8  \n",
       "1                      9.78           7.5  \n",
       "2                     10.35           6.9  \n",
       "3                      9.65          6.12  \n",
       "4                      8.69          5.65  \n",
       "\n",
       "[5 rows x 21 columns]"
      ]
     },
     "execution_count": 10,
     "metadata": {},
     "output_type": "execute_result"
    }
   ],
   "source": [
    "#transposing the dataset\n",
    "data_n=data_g20c.T\n",
    "\n",
    "#dropping unwanted columns\n",
    "data_n.drop(['continent','sub_region','average','91-20','20-21','21-22'],axis=0,inplace=True)\n",
    "\n",
    "#converting rows into header column\n",
    "header_row = 0\n",
    "data_n.columns = data_n.iloc[header_row]\n",
    "#print(data_n)\n",
    "\n",
    "# Convert row to column header using DataFrame.iloc[]\n",
    "data_n.columns = data_n.iloc[0]\n",
    "#print(data_n)\n",
    "\n",
    "#dropping unwanted columns\n",
    "data_n.drop('Country Name',axis=0,inplace=True)\n",
    "\n",
    "#sorting the columns\n",
    "data_n.sort_index(axis=1,inplace=True)\n",
    "\n",
    "#resetting index values as column name\n",
    "data_n.reset_index(level=0,inplace=True)\n",
    "\n",
    "data_n.rename(columns={'index':'year'},inplace=True)\n",
    "data_n.head()"
   ]
  },
  {
   "attachments": {},
   "cell_type": "markdown",
   "metadata": {},
   "source": [
    "**Visualizing the performance of Every country over the years**\n",
    "**Countries are divided into two half. First consist of asian, ocenia, arab countries. Second part consist of american, europien, african countries.**"
   ]
  },
  {
   "cell_type": "code",
   "execution_count": 11,
   "metadata": {},
   "outputs": [
    {
     "data": {
      "application/vnd.plotly.v1+json": {
       "config": {
        "plotlyServerURL": "https://plot.ly"
       },
       "data": [
        {
         "hovertemplate": "x=%{x}<br>y=%{y}<extra></extra>",
         "legendgroup": "",
         "line": {
          "color": "#636efa",
          "dash": "solid"
         },
         "marker": {
          "symbol": "circle"
         },
         "mode": "markers+lines",
         "name": "",
         "orientation": "v",
         "showlegend": false,
         "type": "scatter",
         "x": [
          "1991",
          "1992",
          "1993",
          "1994",
          "1995",
          "1996",
          "1997",
          "1998",
          "1999",
          "2000",
          "2001",
          "2002",
          "2003",
          "2004",
          "2005",
          "2006",
          "2007",
          "2008",
          "2009",
          "2010",
          "2011",
          "2012",
          "2013",
          "2014",
          "2015",
          "2016",
          "2017",
          "2018",
          "2019",
          "2020",
          "2021"
         ],
         "xaxis": "x",
         "y": [
          5.6,
          5.73,
          5.69,
          5.74,
          5.76,
          5.74,
          5.61,
          5.67,
          5.74,
          5.56,
          5.58,
          5.53,
          5.64,
          5.63,
          5.61,
          5.6,
          5.57,
          5.41,
          5.54,
          5.55,
          5.43,
          5.41,
          5.42,
          5.44,
          5.43,
          5.42,
          5.36,
          5.33,
          5.27,
          8,
          5.98
         ],
         "yaxis": "y"
        },
        {
         "name": "China",
         "type": "scatter",
         "x": [
          "1991",
          "1992",
          "1993",
          "1994",
          "1995",
          "1996",
          "1997",
          "1998",
          "1999",
          "2000",
          "2001",
          "2002",
          "2003",
          "2004",
          "2005",
          "2006",
          "2007",
          "2008",
          "2009",
          "2010",
          "2011",
          "2012",
          "2013",
          "2014",
          "2015",
          "2016",
          "2017",
          "2018",
          "2019",
          "2020",
          "2021"
         ],
         "y": [
          2.37,
          2.37,
          2.69,
          2.9,
          3,
          3.12,
          3.23,
          3.24,
          3.25,
          3.26,
          3.8,
          4.24,
          4.58,
          4.49,
          4.52,
          4.43,
          4.35,
          4.59,
          4.72,
          4.53,
          4.55,
          4.57,
          4.59,
          4.61,
          4.63,
          4.53,
          4.44,
          4.28,
          4.52,
          5,
          4.82
         ]
        },
        {
         "name": "Indonesia",
         "type": "scatter",
         "x": [
          "1991",
          "1992",
          "1993",
          "1994",
          "1995",
          "1996",
          "1997",
          "1998",
          "1999",
          "2000",
          "2001",
          "2002",
          "2003",
          "2004",
          "2005",
          "2006",
          "2007",
          "2008",
          "2009",
          "2010",
          "2011",
          "2012",
          "2013",
          "2014",
          "2015",
          "2016",
          "2017",
          "2018",
          "2019",
          "2020",
          "2021"
         ],
         "y": [
          2.62,
          2.73,
          2.78,
          4.37,
          4.6,
          4.86,
          4.68,
          5.46,
          6.36,
          6.08,
          6.08,
          6.6,
          6.66,
          7.3,
          7.94,
          7.55,
          8.06,
          7.21,
          6.11,
          5.61,
          5.15,
          4.47,
          4.34,
          4.05,
          4.51,
          4.3,
          3.88,
          4.4,
          3.62,
          4.28,
          4.41
         ]
        },
        {
         "name": "Japan",
         "type": "scatter",
         "x": [
          "1991",
          "1992",
          "1993",
          "1994",
          "1995",
          "1996",
          "1997",
          "1998",
          "1999",
          "2000",
          "2001",
          "2002",
          "2003",
          "2004",
          "2005",
          "2006",
          "2007",
          "2008",
          "2009",
          "2010",
          "2011",
          "2012",
          "2013",
          "2014",
          "2015",
          "2016",
          "2017",
          "2018",
          "2019",
          "2020",
          "2021"
         ],
         "y": [
          2.1,
          2.2,
          2.5,
          2.9,
          3.2,
          3.4,
          3.4,
          4.1,
          4.7,
          4.75,
          5.02,
          5.39,
          5.25,
          4.73,
          4.45,
          4.19,
          3.89,
          4,
          5.07,
          5.1,
          4.55,
          4.36,
          4,
          3.6,
          3.4,
          3.1,
          2.8,
          2.4,
          2.4,
          2.8,
          2.8
         ]
        },
        {
         "name": "Korea, Dem. People's Rep.",
         "type": "scatter",
         "x": [
          "1991",
          "1992",
          "1993",
          "1994",
          "1995",
          "1996",
          "1997",
          "1998",
          "1999",
          "2000",
          "2001",
          "2002",
          "2003",
          "2004",
          "2005",
          "2006",
          "2007",
          "2008",
          "2009",
          "2010",
          "2011",
          "2012",
          "2013",
          "2014",
          "2015",
          "2016",
          "2017",
          "2018",
          "2019",
          "2020",
          "2021"
         ],
         "y": [
          2.3,
          2.31,
          2.42,
          2.54,
          2.55,
          2.6,
          2.68,
          2.83,
          2.97,
          2.93,
          2.94,
          2.9,
          2.91,
          2.86,
          2.84,
          2.81,
          2.82,
          2.77,
          2.78,
          2.71,
          2.78,
          2.81,
          2.8,
          2.74,
          2.74,
          2.76,
          2.7,
          2.63,
          2.59,
          2.92,
          2.59
         ]
        },
        {
         "name": "Russian Federation",
         "type": "scatter",
         "x": [
          "1991",
          "1992",
          "1993",
          "1994",
          "1995",
          "1996",
          "1997",
          "1998",
          "1999",
          "2000",
          "2001",
          "2002",
          "2003",
          "2004",
          "2005",
          "2006",
          "2007",
          "2008",
          "2009",
          "2010",
          "2011",
          "2012",
          "2013",
          "2014",
          "2015",
          "2016",
          "2017",
          "2018",
          "2019",
          "2020",
          "2021"
         ],
         "y": [
          5.41,
          5.18,
          5.88,
          8.13,
          9.45,
          9.67,
          11.81,
          13.26,
          13.04,
          10.58,
          8.98,
          7.88,
          8.21,
          7.76,
          7.12,
          7.06,
          6,
          6.21,
          8.3,
          7.37,
          6.54,
          5.44,
          5.46,
          5.16,
          5.57,
          5.56,
          5.21,
          4.85,
          4.5,
          5.59,
          5.01
         ]
        },
        {
         "name": "Saudi Arabia",
         "type": "scatter",
         "x": [
          "1991",
          "1992",
          "1993",
          "1994",
          "1995",
          "1996",
          "1997",
          "1998",
          "1999",
          "2000",
          "2001",
          "2002",
          "2003",
          "2004",
          "2005",
          "2006",
          "2007",
          "2008",
          "2009",
          "2010",
          "2011",
          "2012",
          "2013",
          "2014",
          "2015",
          "2016",
          "2017",
          "2018",
          "2019",
          "2020",
          "2021"
         ],
         "y": [
          7.07,
          7.2,
          6.85,
          6.41,
          6,
          5.56,
          5.15,
          4.72,
          4.35,
          4.57,
          4.62,
          5.27,
          5.56,
          5.82,
          6.05,
          6.25,
          5.73,
          5.08,
          5.38,
          5.55,
          5.77,
          5.52,
          5.57,
          5.72,
          5.59,
          5.65,
          5.89,
          6.04,
          5.67,
          7.45,
          7.36
         ]
        },
        {
         "name": "Australia",
         "type": "scatter",
         "x": [
          "1991",
          "1992",
          "1993",
          "1994",
          "1995",
          "1996",
          "1997",
          "1998",
          "1999",
          "2000",
          "2001",
          "2002",
          "2003",
          "2004",
          "2005",
          "2006",
          "2007",
          "2008",
          "2009",
          "2010",
          "2011",
          "2012",
          "2013",
          "2014",
          "2015",
          "2016",
          "2017",
          "2018",
          "2019",
          "2020",
          "2021"
         ],
         "y": [
          9.58,
          10.73,
          10.87,
          9.72,
          8.47,
          8.51,
          8.36,
          7.68,
          6.87,
          6.28,
          6.74,
          6.37,
          5.93,
          5.39,
          5.03,
          4.78,
          4.38,
          4.23,
          5.56,
          5.21,
          5.08,
          5.22,
          5.66,
          6.08,
          6.05,
          5.71,
          5.59,
          5.3,
          5.16,
          6.46,
          5.11
         ]
        },
        {
         "name": "Pakistan",
         "type": "scatter",
         "x": [
          "1991",
          "1992",
          "1993",
          "1994",
          "1995",
          "1996",
          "1997",
          "1998",
          "1999",
          "2000",
          "2001",
          "2002",
          "2003",
          "2004",
          "2005",
          "2006",
          "2007",
          "2008",
          "2009",
          "2010",
          "2011",
          "2012",
          "2013",
          "2014",
          "2015",
          "2016",
          "2017",
          "2018",
          "2019",
          "2020",
          "2021"
         ],
         "y": [
          0.62,
          0.66,
          0.56,
          0.59,
          0.6,
          0.6,
          0.54,
          0.56,
          0.57,
          0.58,
          0.56,
          0.55,
          0.59,
          0.61,
          0.59,
          0.58,
          0.4,
          0.42,
          0.54,
          0.65,
          0.8,
          1.85,
          2.95,
          1.83,
          3.57,
          3.78,
          3.92,
          4.08,
          3.54,
          4.3,
          4.35
         ]
        },
        {
         "name": "Turkiye",
         "type": "scatter",
         "x": [
          "1991",
          "1992",
          "1993",
          "1994",
          "1995",
          "1996",
          "1997",
          "1998",
          "1999",
          "2000",
          "2001",
          "2002",
          "2003",
          "2004",
          "2005",
          "2006",
          "2007",
          "2008",
          "2009",
          "2010",
          "2011",
          "2012",
          "2013",
          "2014",
          "2015",
          "2016",
          "2017",
          "2018",
          "2019",
          "2020",
          "2021"
         ],
         "y": [
          8.21,
          8.51,
          8.96,
          8.58,
          7.64,
          6.63,
          6.84,
          6.89,
          7.69,
          6.5,
          8.38,
          10.36,
          10.54,
          10.84,
          10.64,
          8.72,
          8.87,
          9.71,
          12.55,
          10.66,
          8.8,
          8.15,
          8.73,
          9.88,
          10.24,
          10.84,
          10.82,
          10.89,
          13.67,
          13.11,
          13.39
         ]
        }
       ],
       "layout": {
        "height": 800,
        "legend": {
         "tracegroupgap": 0
        },
        "template": {
         "data": {
          "bar": [
           {
            "error_x": {
             "color": "#2a3f5f"
            },
            "error_y": {
             "color": "#2a3f5f"
            },
            "marker": {
             "line": {
              "color": "#E5ECF6",
              "width": 0.5
             },
             "pattern": {
              "fillmode": "overlay",
              "size": 10,
              "solidity": 0.2
             }
            },
            "type": "bar"
           }
          ],
          "barpolar": [
           {
            "marker": {
             "line": {
              "color": "#E5ECF6",
              "width": 0.5
             },
             "pattern": {
              "fillmode": "overlay",
              "size": 10,
              "solidity": 0.2
             }
            },
            "type": "barpolar"
           }
          ],
          "carpet": [
           {
            "aaxis": {
             "endlinecolor": "#2a3f5f",
             "gridcolor": "white",
             "linecolor": "white",
             "minorgridcolor": "white",
             "startlinecolor": "#2a3f5f"
            },
            "baxis": {
             "endlinecolor": "#2a3f5f",
             "gridcolor": "white",
             "linecolor": "white",
             "minorgridcolor": "white",
             "startlinecolor": "#2a3f5f"
            },
            "type": "carpet"
           }
          ],
          "choropleth": [
           {
            "colorbar": {
             "outlinewidth": 0,
             "ticks": ""
            },
            "type": "choropleth"
           }
          ],
          "contour": [
           {
            "colorbar": {
             "outlinewidth": 0,
             "ticks": ""
            },
            "colorscale": [
             [
              0,
              "#0d0887"
             ],
             [
              0.1111111111111111,
              "#46039f"
             ],
             [
              0.2222222222222222,
              "#7201a8"
             ],
             [
              0.3333333333333333,
              "#9c179e"
             ],
             [
              0.4444444444444444,
              "#bd3786"
             ],
             [
              0.5555555555555556,
              "#d8576b"
             ],
             [
              0.6666666666666666,
              "#ed7953"
             ],
             [
              0.7777777777777778,
              "#fb9f3a"
             ],
             [
              0.8888888888888888,
              "#fdca26"
             ],
             [
              1,
              "#f0f921"
             ]
            ],
            "type": "contour"
           }
          ],
          "contourcarpet": [
           {
            "colorbar": {
             "outlinewidth": 0,
             "ticks": ""
            },
            "type": "contourcarpet"
           }
          ],
          "heatmap": [
           {
            "colorbar": {
             "outlinewidth": 0,
             "ticks": ""
            },
            "colorscale": [
             [
              0,
              "#0d0887"
             ],
             [
              0.1111111111111111,
              "#46039f"
             ],
             [
              0.2222222222222222,
              "#7201a8"
             ],
             [
              0.3333333333333333,
              "#9c179e"
             ],
             [
              0.4444444444444444,
              "#bd3786"
             ],
             [
              0.5555555555555556,
              "#d8576b"
             ],
             [
              0.6666666666666666,
              "#ed7953"
             ],
             [
              0.7777777777777778,
              "#fb9f3a"
             ],
             [
              0.8888888888888888,
              "#fdca26"
             ],
             [
              1,
              "#f0f921"
             ]
            ],
            "type": "heatmap"
           }
          ],
          "heatmapgl": [
           {
            "colorbar": {
             "outlinewidth": 0,
             "ticks": ""
            },
            "colorscale": [
             [
              0,
              "#0d0887"
             ],
             [
              0.1111111111111111,
              "#46039f"
             ],
             [
              0.2222222222222222,
              "#7201a8"
             ],
             [
              0.3333333333333333,
              "#9c179e"
             ],
             [
              0.4444444444444444,
              "#bd3786"
             ],
             [
              0.5555555555555556,
              "#d8576b"
             ],
             [
              0.6666666666666666,
              "#ed7953"
             ],
             [
              0.7777777777777778,
              "#fb9f3a"
             ],
             [
              0.8888888888888888,
              "#fdca26"
             ],
             [
              1,
              "#f0f921"
             ]
            ],
            "type": "heatmapgl"
           }
          ],
          "histogram": [
           {
            "marker": {
             "pattern": {
              "fillmode": "overlay",
              "size": 10,
              "solidity": 0.2
             }
            },
            "type": "histogram"
           }
          ],
          "histogram2d": [
           {
            "colorbar": {
             "outlinewidth": 0,
             "ticks": ""
            },
            "colorscale": [
             [
              0,
              "#0d0887"
             ],
             [
              0.1111111111111111,
              "#46039f"
             ],
             [
              0.2222222222222222,
              "#7201a8"
             ],
             [
              0.3333333333333333,
              "#9c179e"
             ],
             [
              0.4444444444444444,
              "#bd3786"
             ],
             [
              0.5555555555555556,
              "#d8576b"
             ],
             [
              0.6666666666666666,
              "#ed7953"
             ],
             [
              0.7777777777777778,
              "#fb9f3a"
             ],
             [
              0.8888888888888888,
              "#fdca26"
             ],
             [
              1,
              "#f0f921"
             ]
            ],
            "type": "histogram2d"
           }
          ],
          "histogram2dcontour": [
           {
            "colorbar": {
             "outlinewidth": 0,
             "ticks": ""
            },
            "colorscale": [
             [
              0,
              "#0d0887"
             ],
             [
              0.1111111111111111,
              "#46039f"
             ],
             [
              0.2222222222222222,
              "#7201a8"
             ],
             [
              0.3333333333333333,
              "#9c179e"
             ],
             [
              0.4444444444444444,
              "#bd3786"
             ],
             [
              0.5555555555555556,
              "#d8576b"
             ],
             [
              0.6666666666666666,
              "#ed7953"
             ],
             [
              0.7777777777777778,
              "#fb9f3a"
             ],
             [
              0.8888888888888888,
              "#fdca26"
             ],
             [
              1,
              "#f0f921"
             ]
            ],
            "type": "histogram2dcontour"
           }
          ],
          "mesh3d": [
           {
            "colorbar": {
             "outlinewidth": 0,
             "ticks": ""
            },
            "type": "mesh3d"
           }
          ],
          "parcoords": [
           {
            "line": {
             "colorbar": {
              "outlinewidth": 0,
              "ticks": ""
             }
            },
            "type": "parcoords"
           }
          ],
          "pie": [
           {
            "automargin": true,
            "type": "pie"
           }
          ],
          "scatter": [
           {
            "fillpattern": {
             "fillmode": "overlay",
             "size": 10,
             "solidity": 0.2
            },
            "type": "scatter"
           }
          ],
          "scatter3d": [
           {
            "line": {
             "colorbar": {
              "outlinewidth": 0,
              "ticks": ""
             }
            },
            "marker": {
             "colorbar": {
              "outlinewidth": 0,
              "ticks": ""
             }
            },
            "type": "scatter3d"
           }
          ],
          "scattercarpet": [
           {
            "marker": {
             "colorbar": {
              "outlinewidth": 0,
              "ticks": ""
             }
            },
            "type": "scattercarpet"
           }
          ],
          "scattergeo": [
           {
            "marker": {
             "colorbar": {
              "outlinewidth": 0,
              "ticks": ""
             }
            },
            "type": "scattergeo"
           }
          ],
          "scattergl": [
           {
            "marker": {
             "colorbar": {
              "outlinewidth": 0,
              "ticks": ""
             }
            },
            "type": "scattergl"
           }
          ],
          "scattermapbox": [
           {
            "marker": {
             "colorbar": {
              "outlinewidth": 0,
              "ticks": ""
             }
            },
            "type": "scattermapbox"
           }
          ],
          "scatterpolar": [
           {
            "marker": {
             "colorbar": {
              "outlinewidth": 0,
              "ticks": ""
             }
            },
            "type": "scatterpolar"
           }
          ],
          "scatterpolargl": [
           {
            "marker": {
             "colorbar": {
              "outlinewidth": 0,
              "ticks": ""
             }
            },
            "type": "scatterpolargl"
           }
          ],
          "scatterternary": [
           {
            "marker": {
             "colorbar": {
              "outlinewidth": 0,
              "ticks": ""
             }
            },
            "type": "scatterternary"
           }
          ],
          "surface": [
           {
            "colorbar": {
             "outlinewidth": 0,
             "ticks": ""
            },
            "colorscale": [
             [
              0,
              "#0d0887"
             ],
             [
              0.1111111111111111,
              "#46039f"
             ],
             [
              0.2222222222222222,
              "#7201a8"
             ],
             [
              0.3333333333333333,
              "#9c179e"
             ],
             [
              0.4444444444444444,
              "#bd3786"
             ],
             [
              0.5555555555555556,
              "#d8576b"
             ],
             [
              0.6666666666666666,
              "#ed7953"
             ],
             [
              0.7777777777777778,
              "#fb9f3a"
             ],
             [
              0.8888888888888888,
              "#fdca26"
             ],
             [
              1,
              "#f0f921"
             ]
            ],
            "type": "surface"
           }
          ],
          "table": [
           {
            "cells": {
             "fill": {
              "color": "#EBF0F8"
             },
             "line": {
              "color": "white"
             }
            },
            "header": {
             "fill": {
              "color": "#C8D4E3"
             },
             "line": {
              "color": "white"
             }
            },
            "type": "table"
           }
          ]
         },
         "layout": {
          "annotationdefaults": {
           "arrowcolor": "#2a3f5f",
           "arrowhead": 0,
           "arrowwidth": 1
          },
          "autotypenumbers": "strict",
          "coloraxis": {
           "colorbar": {
            "outlinewidth": 0,
            "ticks": ""
           }
          },
          "colorscale": {
           "diverging": [
            [
             0,
             "#8e0152"
            ],
            [
             0.1,
             "#c51b7d"
            ],
            [
             0.2,
             "#de77ae"
            ],
            [
             0.3,
             "#f1b6da"
            ],
            [
             0.4,
             "#fde0ef"
            ],
            [
             0.5,
             "#f7f7f7"
            ],
            [
             0.6,
             "#e6f5d0"
            ],
            [
             0.7,
             "#b8e186"
            ],
            [
             0.8,
             "#7fbc41"
            ],
            [
             0.9,
             "#4d9221"
            ],
            [
             1,
             "#276419"
            ]
           ],
           "sequential": [
            [
             0,
             "#0d0887"
            ],
            [
             0.1111111111111111,
             "#46039f"
            ],
            [
             0.2222222222222222,
             "#7201a8"
            ],
            [
             0.3333333333333333,
             "#9c179e"
            ],
            [
             0.4444444444444444,
             "#bd3786"
            ],
            [
             0.5555555555555556,
             "#d8576b"
            ],
            [
             0.6666666666666666,
             "#ed7953"
            ],
            [
             0.7777777777777778,
             "#fb9f3a"
            ],
            [
             0.8888888888888888,
             "#fdca26"
            ],
            [
             1,
             "#f0f921"
            ]
           ],
           "sequentialminus": [
            [
             0,
             "#0d0887"
            ],
            [
             0.1111111111111111,
             "#46039f"
            ],
            [
             0.2222222222222222,
             "#7201a8"
            ],
            [
             0.3333333333333333,
             "#9c179e"
            ],
            [
             0.4444444444444444,
             "#bd3786"
            ],
            [
             0.5555555555555556,
             "#d8576b"
            ],
            [
             0.6666666666666666,
             "#ed7953"
            ],
            [
             0.7777777777777778,
             "#fb9f3a"
            ],
            [
             0.8888888888888888,
             "#fdca26"
            ],
            [
             1,
             "#f0f921"
            ]
           ]
          },
          "colorway": [
           "#636efa",
           "#EF553B",
           "#00cc96",
           "#ab63fa",
           "#FFA15A",
           "#19d3f3",
           "#FF6692",
           "#B6E880",
           "#FF97FF",
           "#FECB52"
          ],
          "font": {
           "color": "#2a3f5f"
          },
          "geo": {
           "bgcolor": "white",
           "lakecolor": "white",
           "landcolor": "#E5ECF6",
           "showlakes": true,
           "showland": true,
           "subunitcolor": "white"
          },
          "hoverlabel": {
           "align": "left"
          },
          "hovermode": "closest",
          "mapbox": {
           "style": "light"
          },
          "paper_bgcolor": "white",
          "plot_bgcolor": "#E5ECF6",
          "polar": {
           "angularaxis": {
            "gridcolor": "white",
            "linecolor": "white",
            "ticks": ""
           },
           "bgcolor": "#E5ECF6",
           "radialaxis": {
            "gridcolor": "white",
            "linecolor": "white",
            "ticks": ""
           }
          },
          "scene": {
           "xaxis": {
            "backgroundcolor": "#E5ECF6",
            "gridcolor": "white",
            "gridwidth": 2,
            "linecolor": "white",
            "showbackground": true,
            "ticks": "",
            "zerolinecolor": "white"
           },
           "yaxis": {
            "backgroundcolor": "#E5ECF6",
            "gridcolor": "white",
            "gridwidth": 2,
            "linecolor": "white",
            "showbackground": true,
            "ticks": "",
            "zerolinecolor": "white"
           },
           "zaxis": {
            "backgroundcolor": "#E5ECF6",
            "gridcolor": "white",
            "gridwidth": 2,
            "linecolor": "white",
            "showbackground": true,
            "ticks": "",
            "zerolinecolor": "white"
           }
          },
          "shapedefaults": {
           "line": {
            "color": "#2a3f5f"
           }
          },
          "ternary": {
           "aaxis": {
            "gridcolor": "white",
            "linecolor": "white",
            "ticks": ""
           },
           "baxis": {
            "gridcolor": "white",
            "linecolor": "white",
            "ticks": ""
           },
           "bgcolor": "#E5ECF6",
           "caxis": {
            "gridcolor": "white",
            "linecolor": "white",
            "ticks": ""
           }
          },
          "title": {
           "x": 0.05
          },
          "xaxis": {
           "automargin": true,
           "gridcolor": "white",
           "linecolor": "white",
           "ticks": "",
           "title": {
            "standoff": 15
           },
           "zerolinecolor": "white",
           "zerolinewidth": 2
          },
          "yaxis": {
           "automargin": true,
           "gridcolor": "white",
           "linecolor": "white",
           "ticks": "",
           "title": {
            "standoff": 15
           },
           "zerolinecolor": "white",
           "zerolinewidth": 2
          }
         }
        },
        "title": {
         "text": "Asian Arab Ocenia Countries Unemployment Rate"
        },
        "width": 1500,
        "xaxis": {
         "anchor": "y",
         "domain": [
          0,
          1
         ],
         "title": {
          "text": "x"
         }
        },
        "yaxis": {
         "anchor": "x",
         "domain": [
          0,
          1
         ],
         "title": {
          "text": "y"
         }
        }
       }
      }
     },
     "metadata": {},
     "output_type": "display_data"
    }
   ],
   "source": [
    "#country names in list format\n",
    "countries=['Argentina','Australia','Brazil','Canada','China','France','Germany','India',\n",
    "           'Indonesia','Italy','Japan',\"Korea, Dem. People's Rep.\",'Mexico',\n",
    "           'Russian Federation','Saudi Arabia','South Africa','Turkiye','United Kingdom','United States','Pakistan']\n",
    "\n",
    "newnames = {'trace 1':'Australia', 'trace 2': 'Brazil', 'trace 3':'Canada', 'trace 4':'China','trace 5':'France','trace 6':'Germany'}\n",
    "\n",
    "fig = px.line(x=data_n['year'],y=data_n['India'],markers='India',height=800,width=1500,title='Asian Arab Ocenia Countries Unemployment Rate') #creating a line plot\n",
    "fig.add_scatter(x=data_n['year'],y=data_n['China'],name='China') #adding line plot to the previous plot\n",
    "fig.add_scatter(x=data_n['year'],y=data_n['Indonesia'],name='Indonesia')#adding line plot to the previous plot\n",
    "fig.add_scatter(x=data_n['year'],y=data_n['Japan'],name='Japan')#adding line plot to the previous plot\n",
    "fig.add_scatter(x=data_n['year'],y=data_n[\"Korea, Dem. People's Rep.\"],name=\"Korea, Dem. People's Rep.\")#adding line plot to the previous plot\n",
    "fig.add_scatter(x=data_n['year'],y=data_n['Russian Federation'],name='Russian Federation')#adding line plot to the previous plot\n",
    "fig.add_scatter(x=data_n['year'],y=data_n['Saudi Arabia'],name='Saudi Arabia')#adding line plot to the previous plot\n",
    "fig.add_scatter(x=data_n['year'],y=data_n['Australia'],name='Australia')#adding line plot to the previous plot\n",
    "fig.add_scatter(x=data_n['year'],y=data_n['Pakistan'],name='Pakistan')#adding line plot to the previous plot\n",
    "fig.add_scatter(x=data_n['year'],y=data_n['Turkiye'],name='Turkiye')#adding line plot to the previous plot\n",
    "#fig.for_each_trace(lambda t: t.update(name = newnames[t.name],legendgroup = newnames[t.name],hovertemplate = t.hovertemplate.replace(t.name, newnames[t.name])))\n",
    "fig.show() #showing the visualization using show"
   ]
  },
  {
   "cell_type": "code",
   "execution_count": 12,
   "metadata": {},
   "outputs": [
    {
     "data": {
      "application/vnd.plotly.v1+json": {
       "config": {
        "plotlyServerURL": "https://plot.ly"
       },
       "data": [
        {
         "hovertemplate": "x=%{x}<br>y=%{y}<extra></extra>",
         "legendgroup": "",
         "line": {
          "color": "#636efa",
          "dash": "solid"
         },
         "marker": {
          "symbol": "circle"
         },
         "mode": "markers+lines",
         "name": "",
         "orientation": "v",
         "showlegend": false,
         "type": "scatter",
         "x": [
          "1991",
          "1992",
          "1993",
          "1994",
          "1995",
          "1996",
          "1997",
          "1998",
          "1999",
          "2000",
          "2001",
          "2002",
          "2003",
          "2004",
          "2005",
          "2006",
          "2007",
          "2008",
          "2009",
          "2010",
          "2011",
          "2012",
          "2013",
          "2014",
          "2015",
          "2016",
          "2017",
          "2018",
          "2019",
          "2020",
          "2021"
         ],
         "xaxis": "x",
         "y": [
          6.8,
          7.5,
          6.9,
          6.12,
          5.65,
          5.45,
          5,
          4.51,
          4.22,
          3.99,
          4.73,
          5.78,
          5.99,
          5.53,
          5.08,
          4.62,
          4.62,
          5.78,
          9.25,
          9.63,
          8.95,
          8.07,
          7.37,
          6.17,
          5.28,
          4.87,
          4.36,
          3.9,
          3.67,
          8.05,
          5.46
         ],
         "yaxis": "y"
        },
        {
         "name": "Argentina",
         "type": "scatter",
         "x": [
          "1991",
          "1992",
          "1993",
          "1994",
          "1995",
          "1996",
          "1997",
          "1998",
          "1999",
          "2000",
          "2001",
          "2002",
          "2003",
          "2004",
          "2005",
          "2006",
          "2007",
          "2008",
          "2009",
          "2010",
          "2011",
          "2012",
          "2013",
          "2014",
          "2015",
          "2016",
          "2017",
          "2018",
          "2019",
          "2020",
          "2021"
         ],
         "y": [
          5.44,
          6.36,
          10.1,
          11.76,
          18.8,
          17.11,
          14.82,
          12.65,
          14.05,
          15,
          17.32,
          19.59,
          15.36,
          13.52,
          11.51,
          10.08,
          8.47,
          7.84,
          8.65,
          7.71,
          7.18,
          7.22,
          7.1,
          7.27,
          7.52,
          8.11,
          8.35,
          9.22,
          9.84,
          11.46,
          10.9
         ]
        },
        {
         "name": "Brazil",
         "type": "scatter",
         "x": [
          "1991",
          "1992",
          "1993",
          "1994",
          "1995",
          "1996",
          "1997",
          "1998",
          "1999",
          "2000",
          "2001",
          "2002",
          "2003",
          "2004",
          "2005",
          "2006",
          "2007",
          "2008",
          "2009",
          "2010",
          "2011",
          "2012",
          "2013",
          "2014",
          "2015",
          "2016",
          "2017",
          "2018",
          "2019",
          "2020",
          "2021"
         ],
         "y": [
          6.31,
          6.42,
          6.03,
          6.17,
          6.42,
          7.25,
          8.16,
          9.42,
          10.21,
          9.56,
          9.61,
          9.37,
          9.99,
          9.11,
          9.57,
          8.64,
          8.33,
          7.34,
          8.52,
          7.27,
          6.92,
          7.19,
          6.98,
          6.66,
          8.43,
          11.6,
          12.82,
          12.33,
          11.93,
          13.69,
          14.4
         ]
        },
        {
         "name": "Canada",
         "type": "scatter",
         "x": [
          "1991",
          "1992",
          "1993",
          "1994",
          "1995",
          "1996",
          "1997",
          "1998",
          "1999",
          "2000",
          "2001",
          "2002",
          "2003",
          "2004",
          "2005",
          "2006",
          "2007",
          "2008",
          "2009",
          "2010",
          "2011",
          "2012",
          "2013",
          "2014",
          "2015",
          "2016",
          "2017",
          "2018",
          "2019",
          "2020",
          "2021"
         ],
         "y": [
          10.32,
          11.2,
          11.38,
          10.4,
          9.49,
          9.62,
          9.1,
          8.28,
          7.58,
          6.83,
          7.22,
          7.66,
          7.57,
          7.19,
          6.76,
          6.32,
          6.04,
          6.14,
          8.34,
          8.06,
          7.51,
          7.29,
          7.07,
          6.91,
          6.91,
          7,
          6.34,
          5.83,
          5.66,
          9.46,
          7.51
         ]
        },
        {
         "name": "France",
         "type": "scatter",
         "x": [
          "1991",
          "1992",
          "1993",
          "1994",
          "1995",
          "1996",
          "1997",
          "1998",
          "1999",
          "2000",
          "2001",
          "2002",
          "2003",
          "2004",
          "2005",
          "2006",
          "2007",
          "2008",
          "2009",
          "2010",
          "2011",
          "2012",
          "2013",
          "2014",
          "2015",
          "2016",
          "2017",
          "2018",
          "2019",
          "2020",
          "2021"
         ],
         "y": [
          9.13,
          10.21,
          11.32,
          12.59,
          11.84,
          12.37,
          12.57,
          12.07,
          11.98,
          10.22,
          8.61,
          8.7,
          8.31,
          8.91,
          8.49,
          8.45,
          7.66,
          7.06,
          8.74,
          8.87,
          8.81,
          9.4,
          9.92,
          10.29,
          10.35,
          10.05,
          9.41,
          9.02,
          8.41,
          8.01,
          8.06
         ]
        },
        {
         "name": "Germany",
         "type": "scatter",
         "x": [
          "1991",
          "1992",
          "1993",
          "1994",
          "1995",
          "1996",
          "1997",
          "1998",
          "1999",
          "2000",
          "2001",
          "2002",
          "2003",
          "2004",
          "2005",
          "2006",
          "2007",
          "2008",
          "2009",
          "2010",
          "2011",
          "2012",
          "2013",
          "2014",
          "2015",
          "2016",
          "2017",
          "2018",
          "2019",
          "2020",
          "2021"
         ],
         "y": [
          5.32,
          6.32,
          7.68,
          8.73,
          8.16,
          8.82,
          9.86,
          9.79,
          8.86,
          7.92,
          7.77,
          8.48,
          9.78,
          10.73,
          11.17,
          10.25,
          8.66,
          7.52,
          7.74,
          6.97,
          5.82,
          5.38,
          5.23,
          4.98,
          4.62,
          4.12,
          3.75,
          3.38,
          3.14,
          3.81,
          3.54
         ]
        },
        {
         "name": "Italy",
         "type": "scatter",
         "x": [
          "1991",
          "1992",
          "1993",
          "1994",
          "1995",
          "1996",
          "1997",
          "1998",
          "1999",
          "2000",
          "2001",
          "2002",
          "2003",
          "2004",
          "2005",
          "2006",
          "2007",
          "2008",
          "2009",
          "2010",
          "2011",
          "2012",
          "2013",
          "2014",
          "2015",
          "2016",
          "2017",
          "2018",
          "2019",
          "2020",
          "2021"
         ],
         "y": [
          10.1,
          9.33,
          10.24,
          11.09,
          11.67,
          11.87,
          12,
          12.12,
          11.69,
          10.84,
          9.6,
          9.21,
          8.87,
          7.87,
          7.73,
          6.78,
          6.08,
          6.72,
          7.75,
          8.36,
          8.36,
          10.65,
          12.15,
          12.68,
          11.9,
          11.69,
          11.21,
          10.61,
          9.95,
          9.16,
          9.83
         ]
        },
        {
         "name": "Mexico",
         "type": "scatter",
         "x": [
          "1991",
          "1992",
          "1993",
          "1994",
          "1995",
          "1996",
          "1997",
          "1998",
          "1999",
          "2000",
          "2001",
          "2002",
          "2003",
          "2004",
          "2005",
          "2006",
          "2007",
          "2008",
          "2009",
          "2010",
          "2011",
          "2012",
          "2013",
          "2014",
          "2015",
          "2016",
          "2017",
          "2018",
          "2019",
          "2020",
          "2021"
         ],
         "y": [
          3.15,
          3.24,
          3.37,
          4.44,
          7.1,
          5.47,
          4.24,
          3.73,
          2.6,
          2.65,
          2.63,
          3,
          3.46,
          3.94,
          3.56,
          3.57,
          3.63,
          3.87,
          5.36,
          5.3,
          5.17,
          4.89,
          4.91,
          4.81,
          4.31,
          3.86,
          3.42,
          3.28,
          3.48,
          4.45,
          4.38
         ]
        },
        {
         "name": "South Africa",
         "type": "scatter",
         "x": [
          "1991",
          "1992",
          "1993",
          "1994",
          "1995",
          "1996",
          "1997",
          "1998",
          "1999",
          "2000",
          "2001",
          "2002",
          "2003",
          "2004",
          "2005",
          "2006",
          "2007",
          "2008",
          "2009",
          "2010",
          "2011",
          "2012",
          "2013",
          "2014",
          "2015",
          "2016",
          "2017",
          "2018",
          "2019",
          "2020",
          "2021"
         ],
         "y": [
          29.95,
          29.98,
          29.92,
          29.89,
          29.89,
          29.87,
          29.91,
          29.95,
          29.91,
          29.88,
          30.69,
          33.29,
          32.31,
          29.45,
          29.12,
          28.34,
          26.54,
          22.41,
          23.52,
          24.68,
          24.64,
          24.73,
          24.56,
          24.89,
          25.15,
          26.54,
          27.04,
          26.91,
          28.47,
          29.22,
          33.56
         ]
        }
       ],
       "layout": {
        "height": 800,
        "legend": {
         "tracegroupgap": 0
        },
        "template": {
         "data": {
          "bar": [
           {
            "error_x": {
             "color": "#2a3f5f"
            },
            "error_y": {
             "color": "#2a3f5f"
            },
            "marker": {
             "line": {
              "color": "#E5ECF6",
              "width": 0.5
             },
             "pattern": {
              "fillmode": "overlay",
              "size": 10,
              "solidity": 0.2
             }
            },
            "type": "bar"
           }
          ],
          "barpolar": [
           {
            "marker": {
             "line": {
              "color": "#E5ECF6",
              "width": 0.5
             },
             "pattern": {
              "fillmode": "overlay",
              "size": 10,
              "solidity": 0.2
             }
            },
            "type": "barpolar"
           }
          ],
          "carpet": [
           {
            "aaxis": {
             "endlinecolor": "#2a3f5f",
             "gridcolor": "white",
             "linecolor": "white",
             "minorgridcolor": "white",
             "startlinecolor": "#2a3f5f"
            },
            "baxis": {
             "endlinecolor": "#2a3f5f",
             "gridcolor": "white",
             "linecolor": "white",
             "minorgridcolor": "white",
             "startlinecolor": "#2a3f5f"
            },
            "type": "carpet"
           }
          ],
          "choropleth": [
           {
            "colorbar": {
             "outlinewidth": 0,
             "ticks": ""
            },
            "type": "choropleth"
           }
          ],
          "contour": [
           {
            "colorbar": {
             "outlinewidth": 0,
             "ticks": ""
            },
            "colorscale": [
             [
              0,
              "#0d0887"
             ],
             [
              0.1111111111111111,
              "#46039f"
             ],
             [
              0.2222222222222222,
              "#7201a8"
             ],
             [
              0.3333333333333333,
              "#9c179e"
             ],
             [
              0.4444444444444444,
              "#bd3786"
             ],
             [
              0.5555555555555556,
              "#d8576b"
             ],
             [
              0.6666666666666666,
              "#ed7953"
             ],
             [
              0.7777777777777778,
              "#fb9f3a"
             ],
             [
              0.8888888888888888,
              "#fdca26"
             ],
             [
              1,
              "#f0f921"
             ]
            ],
            "type": "contour"
           }
          ],
          "contourcarpet": [
           {
            "colorbar": {
             "outlinewidth": 0,
             "ticks": ""
            },
            "type": "contourcarpet"
           }
          ],
          "heatmap": [
           {
            "colorbar": {
             "outlinewidth": 0,
             "ticks": ""
            },
            "colorscale": [
             [
              0,
              "#0d0887"
             ],
             [
              0.1111111111111111,
              "#46039f"
             ],
             [
              0.2222222222222222,
              "#7201a8"
             ],
             [
              0.3333333333333333,
              "#9c179e"
             ],
             [
              0.4444444444444444,
              "#bd3786"
             ],
             [
              0.5555555555555556,
              "#d8576b"
             ],
             [
              0.6666666666666666,
              "#ed7953"
             ],
             [
              0.7777777777777778,
              "#fb9f3a"
             ],
             [
              0.8888888888888888,
              "#fdca26"
             ],
             [
              1,
              "#f0f921"
             ]
            ],
            "type": "heatmap"
           }
          ],
          "heatmapgl": [
           {
            "colorbar": {
             "outlinewidth": 0,
             "ticks": ""
            },
            "colorscale": [
             [
              0,
              "#0d0887"
             ],
             [
              0.1111111111111111,
              "#46039f"
             ],
             [
              0.2222222222222222,
              "#7201a8"
             ],
             [
              0.3333333333333333,
              "#9c179e"
             ],
             [
              0.4444444444444444,
              "#bd3786"
             ],
             [
              0.5555555555555556,
              "#d8576b"
             ],
             [
              0.6666666666666666,
              "#ed7953"
             ],
             [
              0.7777777777777778,
              "#fb9f3a"
             ],
             [
              0.8888888888888888,
              "#fdca26"
             ],
             [
              1,
              "#f0f921"
             ]
            ],
            "type": "heatmapgl"
           }
          ],
          "histogram": [
           {
            "marker": {
             "pattern": {
              "fillmode": "overlay",
              "size": 10,
              "solidity": 0.2
             }
            },
            "type": "histogram"
           }
          ],
          "histogram2d": [
           {
            "colorbar": {
             "outlinewidth": 0,
             "ticks": ""
            },
            "colorscale": [
             [
              0,
              "#0d0887"
             ],
             [
              0.1111111111111111,
              "#46039f"
             ],
             [
              0.2222222222222222,
              "#7201a8"
             ],
             [
              0.3333333333333333,
              "#9c179e"
             ],
             [
              0.4444444444444444,
              "#bd3786"
             ],
             [
              0.5555555555555556,
              "#d8576b"
             ],
             [
              0.6666666666666666,
              "#ed7953"
             ],
             [
              0.7777777777777778,
              "#fb9f3a"
             ],
             [
              0.8888888888888888,
              "#fdca26"
             ],
             [
              1,
              "#f0f921"
             ]
            ],
            "type": "histogram2d"
           }
          ],
          "histogram2dcontour": [
           {
            "colorbar": {
             "outlinewidth": 0,
             "ticks": ""
            },
            "colorscale": [
             [
              0,
              "#0d0887"
             ],
             [
              0.1111111111111111,
              "#46039f"
             ],
             [
              0.2222222222222222,
              "#7201a8"
             ],
             [
              0.3333333333333333,
              "#9c179e"
             ],
             [
              0.4444444444444444,
              "#bd3786"
             ],
             [
              0.5555555555555556,
              "#d8576b"
             ],
             [
              0.6666666666666666,
              "#ed7953"
             ],
             [
              0.7777777777777778,
              "#fb9f3a"
             ],
             [
              0.8888888888888888,
              "#fdca26"
             ],
             [
              1,
              "#f0f921"
             ]
            ],
            "type": "histogram2dcontour"
           }
          ],
          "mesh3d": [
           {
            "colorbar": {
             "outlinewidth": 0,
             "ticks": ""
            },
            "type": "mesh3d"
           }
          ],
          "parcoords": [
           {
            "line": {
             "colorbar": {
              "outlinewidth": 0,
              "ticks": ""
             }
            },
            "type": "parcoords"
           }
          ],
          "pie": [
           {
            "automargin": true,
            "type": "pie"
           }
          ],
          "scatter": [
           {
            "fillpattern": {
             "fillmode": "overlay",
             "size": 10,
             "solidity": 0.2
            },
            "type": "scatter"
           }
          ],
          "scatter3d": [
           {
            "line": {
             "colorbar": {
              "outlinewidth": 0,
              "ticks": ""
             }
            },
            "marker": {
             "colorbar": {
              "outlinewidth": 0,
              "ticks": ""
             }
            },
            "type": "scatter3d"
           }
          ],
          "scattercarpet": [
           {
            "marker": {
             "colorbar": {
              "outlinewidth": 0,
              "ticks": ""
             }
            },
            "type": "scattercarpet"
           }
          ],
          "scattergeo": [
           {
            "marker": {
             "colorbar": {
              "outlinewidth": 0,
              "ticks": ""
             }
            },
            "type": "scattergeo"
           }
          ],
          "scattergl": [
           {
            "marker": {
             "colorbar": {
              "outlinewidth": 0,
              "ticks": ""
             }
            },
            "type": "scattergl"
           }
          ],
          "scattermapbox": [
           {
            "marker": {
             "colorbar": {
              "outlinewidth": 0,
              "ticks": ""
             }
            },
            "type": "scattermapbox"
           }
          ],
          "scatterpolar": [
           {
            "marker": {
             "colorbar": {
              "outlinewidth": 0,
              "ticks": ""
             }
            },
            "type": "scatterpolar"
           }
          ],
          "scatterpolargl": [
           {
            "marker": {
             "colorbar": {
              "outlinewidth": 0,
              "ticks": ""
             }
            },
            "type": "scatterpolargl"
           }
          ],
          "scatterternary": [
           {
            "marker": {
             "colorbar": {
              "outlinewidth": 0,
              "ticks": ""
             }
            },
            "type": "scatterternary"
           }
          ],
          "surface": [
           {
            "colorbar": {
             "outlinewidth": 0,
             "ticks": ""
            },
            "colorscale": [
             [
              0,
              "#0d0887"
             ],
             [
              0.1111111111111111,
              "#46039f"
             ],
             [
              0.2222222222222222,
              "#7201a8"
             ],
             [
              0.3333333333333333,
              "#9c179e"
             ],
             [
              0.4444444444444444,
              "#bd3786"
             ],
             [
              0.5555555555555556,
              "#d8576b"
             ],
             [
              0.6666666666666666,
              "#ed7953"
             ],
             [
              0.7777777777777778,
              "#fb9f3a"
             ],
             [
              0.8888888888888888,
              "#fdca26"
             ],
             [
              1,
              "#f0f921"
             ]
            ],
            "type": "surface"
           }
          ],
          "table": [
           {
            "cells": {
             "fill": {
              "color": "#EBF0F8"
             },
             "line": {
              "color": "white"
             }
            },
            "header": {
             "fill": {
              "color": "#C8D4E3"
             },
             "line": {
              "color": "white"
             }
            },
            "type": "table"
           }
          ]
         },
         "layout": {
          "annotationdefaults": {
           "arrowcolor": "#2a3f5f",
           "arrowhead": 0,
           "arrowwidth": 1
          },
          "autotypenumbers": "strict",
          "coloraxis": {
           "colorbar": {
            "outlinewidth": 0,
            "ticks": ""
           }
          },
          "colorscale": {
           "diverging": [
            [
             0,
             "#8e0152"
            ],
            [
             0.1,
             "#c51b7d"
            ],
            [
             0.2,
             "#de77ae"
            ],
            [
             0.3,
             "#f1b6da"
            ],
            [
             0.4,
             "#fde0ef"
            ],
            [
             0.5,
             "#f7f7f7"
            ],
            [
             0.6,
             "#e6f5d0"
            ],
            [
             0.7,
             "#b8e186"
            ],
            [
             0.8,
             "#7fbc41"
            ],
            [
             0.9,
             "#4d9221"
            ],
            [
             1,
             "#276419"
            ]
           ],
           "sequential": [
            [
             0,
             "#0d0887"
            ],
            [
             0.1111111111111111,
             "#46039f"
            ],
            [
             0.2222222222222222,
             "#7201a8"
            ],
            [
             0.3333333333333333,
             "#9c179e"
            ],
            [
             0.4444444444444444,
             "#bd3786"
            ],
            [
             0.5555555555555556,
             "#d8576b"
            ],
            [
             0.6666666666666666,
             "#ed7953"
            ],
            [
             0.7777777777777778,
             "#fb9f3a"
            ],
            [
             0.8888888888888888,
             "#fdca26"
            ],
            [
             1,
             "#f0f921"
            ]
           ],
           "sequentialminus": [
            [
             0,
             "#0d0887"
            ],
            [
             0.1111111111111111,
             "#46039f"
            ],
            [
             0.2222222222222222,
             "#7201a8"
            ],
            [
             0.3333333333333333,
             "#9c179e"
            ],
            [
             0.4444444444444444,
             "#bd3786"
            ],
            [
             0.5555555555555556,
             "#d8576b"
            ],
            [
             0.6666666666666666,
             "#ed7953"
            ],
            [
             0.7777777777777778,
             "#fb9f3a"
            ],
            [
             0.8888888888888888,
             "#fdca26"
            ],
            [
             1,
             "#f0f921"
            ]
           ]
          },
          "colorway": [
           "#636efa",
           "#EF553B",
           "#00cc96",
           "#ab63fa",
           "#FFA15A",
           "#19d3f3",
           "#FF6692",
           "#B6E880",
           "#FF97FF",
           "#FECB52"
          ],
          "font": {
           "color": "#2a3f5f"
          },
          "geo": {
           "bgcolor": "white",
           "lakecolor": "white",
           "landcolor": "#E5ECF6",
           "showlakes": true,
           "showland": true,
           "subunitcolor": "white"
          },
          "hoverlabel": {
           "align": "left"
          },
          "hovermode": "closest",
          "mapbox": {
           "style": "light"
          },
          "paper_bgcolor": "white",
          "plot_bgcolor": "#E5ECF6",
          "polar": {
           "angularaxis": {
            "gridcolor": "white",
            "linecolor": "white",
            "ticks": ""
           },
           "bgcolor": "#E5ECF6",
           "radialaxis": {
            "gridcolor": "white",
            "linecolor": "white",
            "ticks": ""
           }
          },
          "scene": {
           "xaxis": {
            "backgroundcolor": "#E5ECF6",
            "gridcolor": "white",
            "gridwidth": 2,
            "linecolor": "white",
            "showbackground": true,
            "ticks": "",
            "zerolinecolor": "white"
           },
           "yaxis": {
            "backgroundcolor": "#E5ECF6",
            "gridcolor": "white",
            "gridwidth": 2,
            "linecolor": "white",
            "showbackground": true,
            "ticks": "",
            "zerolinecolor": "white"
           },
           "zaxis": {
            "backgroundcolor": "#E5ECF6",
            "gridcolor": "white",
            "gridwidth": 2,
            "linecolor": "white",
            "showbackground": true,
            "ticks": "",
            "zerolinecolor": "white"
           }
          },
          "shapedefaults": {
           "line": {
            "color": "#2a3f5f"
           }
          },
          "ternary": {
           "aaxis": {
            "gridcolor": "white",
            "linecolor": "white",
            "ticks": ""
           },
           "baxis": {
            "gridcolor": "white",
            "linecolor": "white",
            "ticks": ""
           },
           "bgcolor": "#E5ECF6",
           "caxis": {
            "gridcolor": "white",
            "linecolor": "white",
            "ticks": ""
           }
          },
          "title": {
           "x": 0.05
          },
          "xaxis": {
           "automargin": true,
           "gridcolor": "white",
           "linecolor": "white",
           "ticks": "",
           "title": {
            "standoff": 15
           },
           "zerolinecolor": "white",
           "zerolinewidth": 2
          },
          "yaxis": {
           "automargin": true,
           "gridcolor": "white",
           "linecolor": "white",
           "ticks": "",
           "title": {
            "standoff": 15
           },
           "zerolinecolor": "white",
           "zerolinewidth": 2
          }
         }
        },
        "title": {
         "text": "American Europien African Countries"
        },
        "width": 1500,
        "xaxis": {
         "anchor": "y",
         "domain": [
          0,
          1
         ],
         "title": {
          "text": "x"
         }
        },
        "yaxis": {
         "anchor": "x",
         "domain": [
          0,
          1
         ],
         "title": {
          "text": "y"
         }
        }
       }
      }
     },
     "metadata": {},
     "output_type": "display_data"
    }
   ],
   "source": [
    "#country names in list\n",
    "countries=['Argentina','Australia','Brazil','Canada','China','France','Germany','India',\n",
    "           'Indonesia','Italy','Japan',\"Korea, Dem. People's Rep.\",'Mexico',\n",
    "           'Russian Federation','Saudi Arabia','South Africa','Turkiye','United Kingdom','United States','Pakistan']\n",
    "\n",
    "fig = px.line(x=data_n['year'],y=data_n['United States'],markers='United States',height=800,width=1500,title='American Europien African Countries') #using line plot to visualize\n",
    "fig.add_scatter(x=data_n['year'],y=data_n['Argentina'],name='Argentina')#adding line plot to the previous plot\n",
    "fig.add_scatter(x=data_n['year'],y=data_n['Brazil'],name='Brazil')#adding line plot to the previous plot\n",
    "fig.add_scatter(x=data_n['year'],y=data_n['Canada'],name='Canada')#adding line plot to the previous plot\n",
    "fig.add_scatter(x=data_n['year'],y=data_n[\"France\"],name=\"France\")#adding line plot to the previous plot\n",
    "fig.add_scatter(x=data_n['year'],y=data_n['Germany'],name='Germany')#adding line plot to the previous plot\n",
    "fig.add_scatter(x=data_n['year'],y=data_n['Italy'],name='Italy')#adding line plot to the previous plot\n",
    "fig.add_scatter(x=data_n['year'],y=data_n['Mexico'],name='Mexico')#adding line plot to the previous plot\n",
    "fig.add_scatter(x=data_n['year'],y=data_n['South Africa'],name='South Africa')#adding line plot to the previous plot\n",
    "#fig.for_each_trace(lambda t: t.update(name = newnames[t.name],legendgroup = newnames[t.name],hovertemplate = t.hovertemplate.replace(t.name, newnames[t.name])))\n",
    "fig.show() #showing the resultant plot"
   ]
  },
  {
   "cell_type": "code",
   "execution_count": 13,
   "metadata": {},
   "outputs": [
    {
     "data": {
      "text/html": [
       "<div>\n",
       "<style scoped>\n",
       "    .dataframe tbody tr th:only-of-type {\n",
       "        vertical-align: middle;\n",
       "    }\n",
       "\n",
       "    .dataframe tbody tr th {\n",
       "        vertical-align: top;\n",
       "    }\n",
       "\n",
       "    .dataframe thead th {\n",
       "        text-align: right;\n",
       "    }\n",
       "</style>\n",
       "<table border=\"1\" class=\"dataframe\">\n",
       "  <thead>\n",
       "    <tr style=\"text-align: right;\">\n",
       "      <th>Country Name</th>\n",
       "      <th>year</th>\n",
       "      <th>Argentina</th>\n",
       "      <th>Australia</th>\n",
       "      <th>Brazil</th>\n",
       "      <th>Canada</th>\n",
       "      <th>China</th>\n",
       "      <th>France</th>\n",
       "      <th>Germany</th>\n",
       "      <th>India</th>\n",
       "      <th>Indonesia</th>\n",
       "      <th>...</th>\n",
       "      <th>Japan</th>\n",
       "      <th>Korea, Dem. People's Rep.</th>\n",
       "      <th>Mexico</th>\n",
       "      <th>Pakistan</th>\n",
       "      <th>Russian Federation</th>\n",
       "      <th>Saudi Arabia</th>\n",
       "      <th>South Africa</th>\n",
       "      <th>Turkiye</th>\n",
       "      <th>United Kingdom</th>\n",
       "      <th>United States</th>\n",
       "    </tr>\n",
       "  </thead>\n",
       "  <tbody>\n",
       "    <tr>\n",
       "      <th>0</th>\n",
       "      <td>1991</td>\n",
       "      <td>5.44</td>\n",
       "      <td>9.58</td>\n",
       "      <td>6.31</td>\n",
       "      <td>10.32</td>\n",
       "      <td>2.37</td>\n",
       "      <td>9.13</td>\n",
       "      <td>5.32</td>\n",
       "      <td>5.6</td>\n",
       "      <td>2.62</td>\n",
       "      <td>...</td>\n",
       "      <td>2.1</td>\n",
       "      <td>2.3</td>\n",
       "      <td>3.15</td>\n",
       "      <td>0.62</td>\n",
       "      <td>5.41</td>\n",
       "      <td>7.07</td>\n",
       "      <td>29.95</td>\n",
       "      <td>8.21</td>\n",
       "      <td>8.55</td>\n",
       "      <td>6.8</td>\n",
       "    </tr>\n",
       "    <tr>\n",
       "      <th>1</th>\n",
       "      <td>1992</td>\n",
       "      <td>6.36</td>\n",
       "      <td>10.73</td>\n",
       "      <td>6.42</td>\n",
       "      <td>11.2</td>\n",
       "      <td>2.37</td>\n",
       "      <td>10.21</td>\n",
       "      <td>6.32</td>\n",
       "      <td>5.73</td>\n",
       "      <td>2.73</td>\n",
       "      <td>...</td>\n",
       "      <td>2.2</td>\n",
       "      <td>2.31</td>\n",
       "      <td>3.24</td>\n",
       "      <td>0.66</td>\n",
       "      <td>5.18</td>\n",
       "      <td>7.2</td>\n",
       "      <td>29.98</td>\n",
       "      <td>8.51</td>\n",
       "      <td>9.78</td>\n",
       "      <td>7.5</td>\n",
       "    </tr>\n",
       "    <tr>\n",
       "      <th>2</th>\n",
       "      <td>1993</td>\n",
       "      <td>10.1</td>\n",
       "      <td>10.87</td>\n",
       "      <td>6.03</td>\n",
       "      <td>11.38</td>\n",
       "      <td>2.69</td>\n",
       "      <td>11.32</td>\n",
       "      <td>7.68</td>\n",
       "      <td>5.69</td>\n",
       "      <td>2.78</td>\n",
       "      <td>...</td>\n",
       "      <td>2.5</td>\n",
       "      <td>2.42</td>\n",
       "      <td>3.37</td>\n",
       "      <td>0.56</td>\n",
       "      <td>5.88</td>\n",
       "      <td>6.85</td>\n",
       "      <td>29.92</td>\n",
       "      <td>8.96</td>\n",
       "      <td>10.35</td>\n",
       "      <td>6.9</td>\n",
       "    </tr>\n",
       "    <tr>\n",
       "      <th>3</th>\n",
       "      <td>1994</td>\n",
       "      <td>11.76</td>\n",
       "      <td>9.72</td>\n",
       "      <td>6.17</td>\n",
       "      <td>10.4</td>\n",
       "      <td>2.9</td>\n",
       "      <td>12.59</td>\n",
       "      <td>8.73</td>\n",
       "      <td>5.74</td>\n",
       "      <td>4.37</td>\n",
       "      <td>...</td>\n",
       "      <td>2.9</td>\n",
       "      <td>2.54</td>\n",
       "      <td>4.44</td>\n",
       "      <td>0.59</td>\n",
       "      <td>8.13</td>\n",
       "      <td>6.41</td>\n",
       "      <td>29.89</td>\n",
       "      <td>8.58</td>\n",
       "      <td>9.65</td>\n",
       "      <td>6.12</td>\n",
       "    </tr>\n",
       "    <tr>\n",
       "      <th>4</th>\n",
       "      <td>1995</td>\n",
       "      <td>18.8</td>\n",
       "      <td>8.47</td>\n",
       "      <td>6.42</td>\n",
       "      <td>9.49</td>\n",
       "      <td>3.0</td>\n",
       "      <td>11.84</td>\n",
       "      <td>8.16</td>\n",
       "      <td>5.76</td>\n",
       "      <td>4.6</td>\n",
       "      <td>...</td>\n",
       "      <td>3.2</td>\n",
       "      <td>2.55</td>\n",
       "      <td>7.1</td>\n",
       "      <td>0.6</td>\n",
       "      <td>9.45</td>\n",
       "      <td>6.0</td>\n",
       "      <td>29.89</td>\n",
       "      <td>7.64</td>\n",
       "      <td>8.69</td>\n",
       "      <td>5.65</td>\n",
       "    </tr>\n",
       "  </tbody>\n",
       "</table>\n",
       "<p>5 rows × 21 columns</p>\n",
       "</div>"
      ],
      "text/plain": [
       "Country Name  year Argentina Australia Brazil Canada China France Germany  \\\n",
       "0             1991      5.44      9.58   6.31  10.32  2.37   9.13    5.32   \n",
       "1             1992      6.36     10.73   6.42   11.2  2.37  10.21    6.32   \n",
       "2             1993      10.1     10.87   6.03  11.38  2.69  11.32    7.68   \n",
       "3             1994     11.76      9.72   6.17   10.4   2.9  12.59    8.73   \n",
       "4             1995      18.8      8.47   6.42   9.49   3.0  11.84    8.16   \n",
       "\n",
       "Country Name India Indonesia  ... Japan Korea, Dem. People's Rep. Mexico  \\\n",
       "0              5.6      2.62  ...   2.1                       2.3   3.15   \n",
       "1             5.73      2.73  ...   2.2                      2.31   3.24   \n",
       "2             5.69      2.78  ...   2.5                      2.42   3.37   \n",
       "3             5.74      4.37  ...   2.9                      2.54   4.44   \n",
       "4             5.76       4.6  ...   3.2                      2.55    7.1   \n",
       "\n",
       "Country Name Pakistan Russian Federation Saudi Arabia South Africa Turkiye  \\\n",
       "0                0.62               5.41         7.07        29.95    8.21   \n",
       "1                0.66               5.18          7.2        29.98    8.51   \n",
       "2                0.56               5.88         6.85        29.92    8.96   \n",
       "3                0.59               8.13         6.41        29.89    8.58   \n",
       "4                 0.6               9.45          6.0        29.89    7.64   \n",
       "\n",
       "Country Name United Kingdom United States  \n",
       "0                      8.55           6.8  \n",
       "1                      9.78           7.5  \n",
       "2                     10.35           6.9  \n",
       "3                      9.65          6.12  \n",
       "4                      8.69          5.65  \n",
       "\n",
       "[5 rows x 21 columns]"
      ]
     },
     "execution_count": 13,
     "metadata": {},
     "output_type": "execute_result"
    }
   ],
   "source": [
    "data_n.head()"
   ]
  },
  {
   "cell_type": "code",
   "execution_count": 14,
   "metadata": {},
   "outputs": [],
   "source": [
    "sample_data_g20c= data_g20c.drop(['average','91-20','20-21','21-22'],axis=1)\n",
    "#new_data_g20c.head()"
   ]
  },
  {
   "attachments": {},
   "cell_type": "markdown",
   "metadata": {},
   "source": [
    "**Checking for the performance of every country by classifying it as good or bad WRT each year**"
   ]
  },
  {
   "cell_type": "code",
   "execution_count": 15,
   "metadata": {},
   "outputs": [
    {
     "name": "stdout",
     "output_type": "stream",
     "text": [
      "The overall median is  5.8\n"
     ]
    },
    {
     "data": {
      "text/html": [
       "<div>\n",
       "<style scoped>\n",
       "    .dataframe tbody tr th:only-of-type {\n",
       "        vertical-align: middle;\n",
       "    }\n",
       "\n",
       "    .dataframe tbody tr th {\n",
       "        vertical-align: top;\n",
       "    }\n",
       "\n",
       "    .dataframe thead th {\n",
       "        text-align: right;\n",
       "    }\n",
       "</style>\n",
       "<table border=\"1\" class=\"dataframe\">\n",
       "  <thead>\n",
       "    <tr style=\"text-align: right;\">\n",
       "      <th></th>\n",
       "      <th>Country Name</th>\n",
       "      <th>1991</th>\n",
       "      <th>1992</th>\n",
       "      <th>1993</th>\n",
       "      <th>1994</th>\n",
       "      <th>1995</th>\n",
       "      <th>1996</th>\n",
       "      <th>1997</th>\n",
       "      <th>1998</th>\n",
       "      <th>1999</th>\n",
       "      <th>...</th>\n",
       "      <th>2015</th>\n",
       "      <th>2016</th>\n",
       "      <th>2017</th>\n",
       "      <th>2018</th>\n",
       "      <th>2019</th>\n",
       "      <th>2020</th>\n",
       "      <th>2021</th>\n",
       "      <th>continent</th>\n",
       "      <th>sub_region</th>\n",
       "      <th>median</th>\n",
       "    </tr>\n",
       "  </thead>\n",
       "  <tbody>\n",
       "    <tr>\n",
       "      <th>4</th>\n",
       "      <td>Argentina</td>\n",
       "      <td>5.44</td>\n",
       "      <td>6.36</td>\n",
       "      <td>10.10</td>\n",
       "      <td>11.76</td>\n",
       "      <td>18.80</td>\n",
       "      <td>17.11</td>\n",
       "      <td>14.82</td>\n",
       "      <td>12.65</td>\n",
       "      <td>14.05</td>\n",
       "      <td>...</td>\n",
       "      <td>7.52</td>\n",
       "      <td>8.11</td>\n",
       "      <td>8.35</td>\n",
       "      <td>9.22</td>\n",
       "      <td>9.84</td>\n",
       "      <td>11.46</td>\n",
       "      <td>10.90</td>\n",
       "      <td>Americas</td>\n",
       "      <td>South America</td>\n",
       "      <td>10.08</td>\n",
       "    </tr>\n",
       "    <tr>\n",
       "      <th>6</th>\n",
       "      <td>Australia</td>\n",
       "      <td>9.58</td>\n",
       "      <td>10.73</td>\n",
       "      <td>10.87</td>\n",
       "      <td>9.72</td>\n",
       "      <td>8.47</td>\n",
       "      <td>8.51</td>\n",
       "      <td>8.36</td>\n",
       "      <td>7.68</td>\n",
       "      <td>6.87</td>\n",
       "      <td>...</td>\n",
       "      <td>6.05</td>\n",
       "      <td>5.71</td>\n",
       "      <td>5.59</td>\n",
       "      <td>5.30</td>\n",
       "      <td>5.16</td>\n",
       "      <td>6.46</td>\n",
       "      <td>5.11</td>\n",
       "      <td>Oceania</td>\n",
       "      <td>Australia and New Zealand</td>\n",
       "      <td>5.93</td>\n",
       "    </tr>\n",
       "    <tr>\n",
       "      <th>21</th>\n",
       "      <td>Brazil</td>\n",
       "      <td>6.31</td>\n",
       "      <td>6.42</td>\n",
       "      <td>6.03</td>\n",
       "      <td>6.17</td>\n",
       "      <td>6.42</td>\n",
       "      <td>7.25</td>\n",
       "      <td>8.16</td>\n",
       "      <td>9.42</td>\n",
       "      <td>10.21</td>\n",
       "      <td>...</td>\n",
       "      <td>8.43</td>\n",
       "      <td>11.60</td>\n",
       "      <td>12.82</td>\n",
       "      <td>12.33</td>\n",
       "      <td>11.93</td>\n",
       "      <td>13.69</td>\n",
       "      <td>14.40</td>\n",
       "      <td>Americas</td>\n",
       "      <td>South America</td>\n",
       "      <td>8.52</td>\n",
       "    </tr>\n",
       "    <tr>\n",
       "      <th>29</th>\n",
       "      <td>Canada</td>\n",
       "      <td>10.32</td>\n",
       "      <td>11.20</td>\n",
       "      <td>11.38</td>\n",
       "      <td>10.40</td>\n",
       "      <td>9.49</td>\n",
       "      <td>9.62</td>\n",
       "      <td>9.10</td>\n",
       "      <td>8.28</td>\n",
       "      <td>7.58</td>\n",
       "      <td>...</td>\n",
       "      <td>6.91</td>\n",
       "      <td>7.00</td>\n",
       "      <td>6.34</td>\n",
       "      <td>5.83</td>\n",
       "      <td>5.66</td>\n",
       "      <td>9.46</td>\n",
       "      <td>7.51</td>\n",
       "      <td>Americas</td>\n",
       "      <td>Northern America</td>\n",
       "      <td>7.51</td>\n",
       "    </tr>\n",
       "    <tr>\n",
       "      <th>33</th>\n",
       "      <td>China</td>\n",
       "      <td>2.37</td>\n",
       "      <td>2.37</td>\n",
       "      <td>2.69</td>\n",
       "      <td>2.90</td>\n",
       "      <td>3.00</td>\n",
       "      <td>3.12</td>\n",
       "      <td>3.23</td>\n",
       "      <td>3.24</td>\n",
       "      <td>3.25</td>\n",
       "      <td>...</td>\n",
       "      <td>4.63</td>\n",
       "      <td>4.53</td>\n",
       "      <td>4.44</td>\n",
       "      <td>4.28</td>\n",
       "      <td>4.52</td>\n",
       "      <td>5.00</td>\n",
       "      <td>4.82</td>\n",
       "      <td>Asia</td>\n",
       "      <td>Eastern Asia</td>\n",
       "      <td>4.44</td>\n",
       "    </tr>\n",
       "  </tbody>\n",
       "</table>\n",
       "<p>5 rows × 35 columns</p>\n",
       "</div>"
      ],
      "text/plain": [
       "   Country Name   1991   1992   1993   1994   1995   1996   1997   1998  \\\n",
       "4     Argentina   5.44   6.36  10.10  11.76  18.80  17.11  14.82  12.65   \n",
       "6     Australia   9.58  10.73  10.87   9.72   8.47   8.51   8.36   7.68   \n",
       "21       Brazil   6.31   6.42   6.03   6.17   6.42   7.25   8.16   9.42   \n",
       "29       Canada  10.32  11.20  11.38  10.40   9.49   9.62   9.10   8.28   \n",
       "33        China   2.37   2.37   2.69   2.90   3.00   3.12   3.23   3.24   \n",
       "\n",
       "     1999  ...  2015   2016   2017   2018   2019   2020   2021  continent  \\\n",
       "4   14.05  ...  7.52   8.11   8.35   9.22   9.84  11.46  10.90   Americas   \n",
       "6    6.87  ...  6.05   5.71   5.59   5.30   5.16   6.46   5.11    Oceania   \n",
       "21  10.21  ...  8.43  11.60  12.82  12.33  11.93  13.69  14.40   Americas   \n",
       "29   7.58  ...  6.91   7.00   6.34   5.83   5.66   9.46   7.51   Americas   \n",
       "33   3.25  ...  4.63   4.53   4.44   4.28   4.52   5.00   4.82       Asia   \n",
       "\n",
       "                   sub_region  median  \n",
       "4               South America   10.08  \n",
       "6   Australia and New Zealand    5.93  \n",
       "21              South America    8.52  \n",
       "29           Northern America    7.51  \n",
       "33               Eastern Asia    4.44  \n",
       "\n",
       "[5 rows x 35 columns]"
      ]
     },
     "execution_count": 15,
     "metadata": {},
     "output_type": "execute_result"
    }
   ],
   "source": [
    "#removing unwanted columns\n",
    "new_data_g20c = data_g20c.drop(['average','91-20','20-21','21-22'],axis=1)\n",
    "#new_data_g20c.head()\n",
    "\n",
    "#finding median for each country, since many countries have more outliered data.\n",
    "new_data_g20c['median']=new_data_g20c.median(axis=1,numeric_only=True)\n",
    "\n",
    "overall_median=new_data_g20c['median'].median()\n",
    "print(\"The overall median is \",overall_median) #finding overall median for column named MEDIAN\n",
    "\n",
    "new_data_g20c.head()"
   ]
  },
  {
   "cell_type": "code",
   "execution_count": 16,
   "metadata": {},
   "outputs": [
    {
     "name": "stdout",
     "output_type": "stream",
     "text": [
      "['1991', '1992', '1993', '1994', '1995', '1996', '1997', '1998', '1999', '2000', '2001', '2002', '2003', '2004', '2005', '2006', '2007', '2008', '2009', '2010', '2011', '2012', '2013', '2014', '2015', '2016', '2017', '2018', '2019', '2020', '2021']\n",
      "['1991', '1992', '1993', '1994', '1995', '1996', '1997', '1998', '1999', '2000', '2001', '2002', '2003', '2004', '2005', '2006', '2007', '2008', '2009', '2010', '2011', '2012', '2013', '2014', '2015', '2016', '2017', '2018', '2019', '2020', '2021']\n"
     ]
    },
    {
     "data": {
      "text/html": [
       "<div>\n",
       "<style scoped>\n",
       "    .dataframe tbody tr th:only-of-type {\n",
       "        vertical-align: middle;\n",
       "    }\n",
       "\n",
       "    .dataframe tbody tr th {\n",
       "        vertical-align: top;\n",
       "    }\n",
       "\n",
       "    .dataframe thead th {\n",
       "        text-align: right;\n",
       "    }\n",
       "</style>\n",
       "<table border=\"1\" class=\"dataframe\">\n",
       "  <thead>\n",
       "    <tr style=\"text-align: right;\">\n",
       "      <th></th>\n",
       "      <th>countries</th>\n",
       "      <th>continent</th>\n",
       "      <th>sub_region</th>\n",
       "      <th>1991</th>\n",
       "      <th>1992</th>\n",
       "      <th>1993</th>\n",
       "      <th>1994</th>\n",
       "      <th>1995</th>\n",
       "      <th>1996</th>\n",
       "      <th>1997</th>\n",
       "      <th>...</th>\n",
       "      <th>2014</th>\n",
       "      <th>2015</th>\n",
       "      <th>2016</th>\n",
       "      <th>2017</th>\n",
       "      <th>2018</th>\n",
       "      <th>2019</th>\n",
       "      <th>2020</th>\n",
       "      <th>2021</th>\n",
       "      <th>Good</th>\n",
       "      <th>Bad</th>\n",
       "    </tr>\n",
       "  </thead>\n",
       "  <tbody>\n",
       "    <tr>\n",
       "      <th>4</th>\n",
       "      <td>Argentina</td>\n",
       "      <td>Americas</td>\n",
       "      <td>South America</td>\n",
       "      <td>1</td>\n",
       "      <td>0</td>\n",
       "      <td>0</td>\n",
       "      <td>0</td>\n",
       "      <td>0</td>\n",
       "      <td>0</td>\n",
       "      <td>0</td>\n",
       "      <td>...</td>\n",
       "      <td>0</td>\n",
       "      <td>0</td>\n",
       "      <td>0</td>\n",
       "      <td>0</td>\n",
       "      <td>0</td>\n",
       "      <td>0</td>\n",
       "      <td>0</td>\n",
       "      <td>0</td>\n",
       "      <td>1</td>\n",
       "      <td>30</td>\n",
       "    </tr>\n",
       "    <tr>\n",
       "      <th>6</th>\n",
       "      <td>Australia</td>\n",
       "      <td>Oceania</td>\n",
       "      <td>Australia and New Zealand</td>\n",
       "      <td>0</td>\n",
       "      <td>0</td>\n",
       "      <td>0</td>\n",
       "      <td>0</td>\n",
       "      <td>0</td>\n",
       "      <td>0</td>\n",
       "      <td>0</td>\n",
       "      <td>...</td>\n",
       "      <td>0</td>\n",
       "      <td>0</td>\n",
       "      <td>1</td>\n",
       "      <td>1</td>\n",
       "      <td>1</td>\n",
       "      <td>1</td>\n",
       "      <td>0</td>\n",
       "      <td>1</td>\n",
       "      <td>15</td>\n",
       "      <td>16</td>\n",
       "    </tr>\n",
       "    <tr>\n",
       "      <th>21</th>\n",
       "      <td>Brazil</td>\n",
       "      <td>Americas</td>\n",
       "      <td>South America</td>\n",
       "      <td>0</td>\n",
       "      <td>0</td>\n",
       "      <td>0</td>\n",
       "      <td>0</td>\n",
       "      <td>0</td>\n",
       "      <td>0</td>\n",
       "      <td>0</td>\n",
       "      <td>...</td>\n",
       "      <td>0</td>\n",
       "      <td>0</td>\n",
       "      <td>0</td>\n",
       "      <td>0</td>\n",
       "      <td>0</td>\n",
       "      <td>0</td>\n",
       "      <td>0</td>\n",
       "      <td>0</td>\n",
       "      <td>0</td>\n",
       "      <td>31</td>\n",
       "    </tr>\n",
       "    <tr>\n",
       "      <th>29</th>\n",
       "      <td>Canada</td>\n",
       "      <td>Americas</td>\n",
       "      <td>Northern America</td>\n",
       "      <td>0</td>\n",
       "      <td>0</td>\n",
       "      <td>0</td>\n",
       "      <td>0</td>\n",
       "      <td>0</td>\n",
       "      <td>0</td>\n",
       "      <td>0</td>\n",
       "      <td>...</td>\n",
       "      <td>0</td>\n",
       "      <td>0</td>\n",
       "      <td>0</td>\n",
       "      <td>0</td>\n",
       "      <td>0</td>\n",
       "      <td>1</td>\n",
       "      <td>0</td>\n",
       "      <td>0</td>\n",
       "      <td>1</td>\n",
       "      <td>30</td>\n",
       "    </tr>\n",
       "    <tr>\n",
       "      <th>33</th>\n",
       "      <td>China</td>\n",
       "      <td>Asia</td>\n",
       "      <td>Eastern Asia</td>\n",
       "      <td>1</td>\n",
       "      <td>1</td>\n",
       "      <td>1</td>\n",
       "      <td>1</td>\n",
       "      <td>1</td>\n",
       "      <td>1</td>\n",
       "      <td>1</td>\n",
       "      <td>...</td>\n",
       "      <td>1</td>\n",
       "      <td>1</td>\n",
       "      <td>1</td>\n",
       "      <td>1</td>\n",
       "      <td>1</td>\n",
       "      <td>1</td>\n",
       "      <td>1</td>\n",
       "      <td>1</td>\n",
       "      <td>31</td>\n",
       "      <td>0</td>\n",
       "    </tr>\n",
       "  </tbody>\n",
       "</table>\n",
       "<p>5 rows × 36 columns</p>\n",
       "</div>"
      ],
      "text/plain": [
       "    countries continent                 sub_region  1991  1992  1993  1994  \\\n",
       "4   Argentina  Americas              South America     1     0     0     0   \n",
       "6   Australia   Oceania  Australia and New Zealand     0     0     0     0   \n",
       "21     Brazil  Americas              South America     0     0     0     0   \n",
       "29     Canada  Americas           Northern America     0     0     0     0   \n",
       "33      China      Asia               Eastern Asia     1     1     1     1   \n",
       "\n",
       "    1995  1996  1997  ...  2014  2015  2016  2017  2018  2019  2020  2021  \\\n",
       "4      0     0     0  ...     0     0     0     0     0     0     0     0   \n",
       "6      0     0     0  ...     0     0     1     1     1     1     0     1   \n",
       "21     0     0     0  ...     0     0     0     0     0     0     0     0   \n",
       "29     0     0     0  ...     0     0     0     0     0     1     0     0   \n",
       "33     1     1     1  ...     1     1     1     1     1     1     1     1   \n",
       "\n",
       "    Good  Bad  \n",
       "4      1   30  \n",
       "6     15   16  \n",
       "21     0   31  \n",
       "29     1   30  \n",
       "33    31    0  \n",
       "\n",
       "[5 rows x 36 columns]"
      ]
     },
     "execution_count": 16,
     "metadata": {},
     "output_type": "execute_result"
    }
   ],
   "source": [
    "#classifying every columns as Good or Bad based on the overall median values obtained.\n",
    "new_columns=sample_data_g20c._get_numeric_data().columns.values.tolist()\n",
    "print(new_columns)\n",
    "diff=sample_data_g20c._get_numeric_data().columns.values.tolist()\n",
    "print(diff)\n",
    "\n",
    "#creating new Dataframe to add categorical data\n",
    "classify_data_g20c = pd.DataFrame()\n",
    "classify_data_g20c['countries']=data_g20c['Country Name']\n",
    "classify_data_g20c['continent']=data_g20c['continent']\n",
    "classify_data_g20c['sub_region']=data_g20c['sub_region']\n",
    "\n",
    "for i,j in zip(new_columns,diff): #classifying data into good or bad using for condition\n",
    "    classify_data_g20c[i]=np.where((new_data_g20c[j]< overall_median),'Good','Bad')\n",
    "\n",
    "#classify_data_g20c.head()\n",
    "\n",
    "#creating new column, adding all the good ratings\n",
    "#seperating all the bad rated ones into new columns\n",
    "classify_data_g20c.replace(['Good','Bad'],[1,0],inplace=True)\n",
    "classify_data_g20c['Good']=classify_data_g20c.sum(numeric_only=True,axis=1)\n",
    "\n",
    "#findng the bad rated countries\n",
    "classify_data_g20c['Bad']=31-classify_data_g20c['Good']\n",
    "classify_data_g20c\n",
    "\n",
    "classify_data_g20c.head()\n"
   ]
  },
  {
   "cell_type": "code",
   "execution_count": 17,
   "metadata": {},
   "outputs": [
    {
     "data": {
      "application/vnd.plotly.v1+json": {
       "config": {
        "plotlyServerURL": "https://plot.ly"
       },
       "data": [
        {
         "alignmentgroup": "True",
         "hovertemplate": "x=%{x}<br>y=%{y}<extra></extra>",
         "legendgroup": "",
         "marker": {
          "color": "#636efa",
          "pattern": {
           "shape": ""
          }
         },
         "name": "",
         "offsetgroup": "",
         "orientation": "v",
         "showlegend": false,
         "textposition": "auto",
         "type": "bar",
         "x": [
          "Argentina",
          "Australia",
          "Brazil",
          "Canada",
          "China",
          "France",
          "Germany",
          "India",
          "Indonesia",
          "Italy",
          "Japan",
          "Korea, Dem. People's Rep.",
          "Mexico",
          "Russian Federation",
          "Saudi Arabia",
          "South Africa",
          "Turkiye",
          "United Kingdom",
          "United States",
          "Pakistan"
         ],
         "xaxis": "x",
         "y": [
          1,
          15,
          0,
          1,
          31,
          0,
          11,
          29,
          20,
          0,
          31,
          31,
          30,
          12,
          19,
          0,
          0,
          16,
          19,
          31
         ],
         "yaxis": "y"
        },
        {
         "name": "BAD",
         "type": "bar",
         "x": [
          "Argentina",
          "Australia",
          "Brazil",
          "Canada",
          "China",
          "France",
          "Germany",
          "India",
          "Indonesia",
          "Italy",
          "Japan",
          "Korea, Dem. People's Rep.",
          "Mexico",
          "Russian Federation",
          "Saudi Arabia",
          "South Africa",
          "Turkiye",
          "United Kingdom",
          "United States",
          "Pakistan"
         ],
         "y": [
          30,
          16,
          31,
          30,
          0,
          31,
          20,
          2,
          11,
          31,
          0,
          0,
          1,
          19,
          12,
          31,
          31,
          15,
          12,
          0
         ]
        }
       ],
       "layout": {
        "barmode": "relative",
        "height": 500,
        "legend": {
         "tracegroupgap": 0
        },
        "template": {
         "data": {
          "bar": [
           {
            "error_x": {
             "color": "#2a3f5f"
            },
            "error_y": {
             "color": "#2a3f5f"
            },
            "marker": {
             "line": {
              "color": "#E5ECF6",
              "width": 0.5
             },
             "pattern": {
              "fillmode": "overlay",
              "size": 10,
              "solidity": 0.2
             }
            },
            "type": "bar"
           }
          ],
          "barpolar": [
           {
            "marker": {
             "line": {
              "color": "#E5ECF6",
              "width": 0.5
             },
             "pattern": {
              "fillmode": "overlay",
              "size": 10,
              "solidity": 0.2
             }
            },
            "type": "barpolar"
           }
          ],
          "carpet": [
           {
            "aaxis": {
             "endlinecolor": "#2a3f5f",
             "gridcolor": "white",
             "linecolor": "white",
             "minorgridcolor": "white",
             "startlinecolor": "#2a3f5f"
            },
            "baxis": {
             "endlinecolor": "#2a3f5f",
             "gridcolor": "white",
             "linecolor": "white",
             "minorgridcolor": "white",
             "startlinecolor": "#2a3f5f"
            },
            "type": "carpet"
           }
          ],
          "choropleth": [
           {
            "colorbar": {
             "outlinewidth": 0,
             "ticks": ""
            },
            "type": "choropleth"
           }
          ],
          "contour": [
           {
            "colorbar": {
             "outlinewidth": 0,
             "ticks": ""
            },
            "colorscale": [
             [
              0,
              "#0d0887"
             ],
             [
              0.1111111111111111,
              "#46039f"
             ],
             [
              0.2222222222222222,
              "#7201a8"
             ],
             [
              0.3333333333333333,
              "#9c179e"
             ],
             [
              0.4444444444444444,
              "#bd3786"
             ],
             [
              0.5555555555555556,
              "#d8576b"
             ],
             [
              0.6666666666666666,
              "#ed7953"
             ],
             [
              0.7777777777777778,
              "#fb9f3a"
             ],
             [
              0.8888888888888888,
              "#fdca26"
             ],
             [
              1,
              "#f0f921"
             ]
            ],
            "type": "contour"
           }
          ],
          "contourcarpet": [
           {
            "colorbar": {
             "outlinewidth": 0,
             "ticks": ""
            },
            "type": "contourcarpet"
           }
          ],
          "heatmap": [
           {
            "colorbar": {
             "outlinewidth": 0,
             "ticks": ""
            },
            "colorscale": [
             [
              0,
              "#0d0887"
             ],
             [
              0.1111111111111111,
              "#46039f"
             ],
             [
              0.2222222222222222,
              "#7201a8"
             ],
             [
              0.3333333333333333,
              "#9c179e"
             ],
             [
              0.4444444444444444,
              "#bd3786"
             ],
             [
              0.5555555555555556,
              "#d8576b"
             ],
             [
              0.6666666666666666,
              "#ed7953"
             ],
             [
              0.7777777777777778,
              "#fb9f3a"
             ],
             [
              0.8888888888888888,
              "#fdca26"
             ],
             [
              1,
              "#f0f921"
             ]
            ],
            "type": "heatmap"
           }
          ],
          "heatmapgl": [
           {
            "colorbar": {
             "outlinewidth": 0,
             "ticks": ""
            },
            "colorscale": [
             [
              0,
              "#0d0887"
             ],
             [
              0.1111111111111111,
              "#46039f"
             ],
             [
              0.2222222222222222,
              "#7201a8"
             ],
             [
              0.3333333333333333,
              "#9c179e"
             ],
             [
              0.4444444444444444,
              "#bd3786"
             ],
             [
              0.5555555555555556,
              "#d8576b"
             ],
             [
              0.6666666666666666,
              "#ed7953"
             ],
             [
              0.7777777777777778,
              "#fb9f3a"
             ],
             [
              0.8888888888888888,
              "#fdca26"
             ],
             [
              1,
              "#f0f921"
             ]
            ],
            "type": "heatmapgl"
           }
          ],
          "histogram": [
           {
            "marker": {
             "pattern": {
              "fillmode": "overlay",
              "size": 10,
              "solidity": 0.2
             }
            },
            "type": "histogram"
           }
          ],
          "histogram2d": [
           {
            "colorbar": {
             "outlinewidth": 0,
             "ticks": ""
            },
            "colorscale": [
             [
              0,
              "#0d0887"
             ],
             [
              0.1111111111111111,
              "#46039f"
             ],
             [
              0.2222222222222222,
              "#7201a8"
             ],
             [
              0.3333333333333333,
              "#9c179e"
             ],
             [
              0.4444444444444444,
              "#bd3786"
             ],
             [
              0.5555555555555556,
              "#d8576b"
             ],
             [
              0.6666666666666666,
              "#ed7953"
             ],
             [
              0.7777777777777778,
              "#fb9f3a"
             ],
             [
              0.8888888888888888,
              "#fdca26"
             ],
             [
              1,
              "#f0f921"
             ]
            ],
            "type": "histogram2d"
           }
          ],
          "histogram2dcontour": [
           {
            "colorbar": {
             "outlinewidth": 0,
             "ticks": ""
            },
            "colorscale": [
             [
              0,
              "#0d0887"
             ],
             [
              0.1111111111111111,
              "#46039f"
             ],
             [
              0.2222222222222222,
              "#7201a8"
             ],
             [
              0.3333333333333333,
              "#9c179e"
             ],
             [
              0.4444444444444444,
              "#bd3786"
             ],
             [
              0.5555555555555556,
              "#d8576b"
             ],
             [
              0.6666666666666666,
              "#ed7953"
             ],
             [
              0.7777777777777778,
              "#fb9f3a"
             ],
             [
              0.8888888888888888,
              "#fdca26"
             ],
             [
              1,
              "#f0f921"
             ]
            ],
            "type": "histogram2dcontour"
           }
          ],
          "mesh3d": [
           {
            "colorbar": {
             "outlinewidth": 0,
             "ticks": ""
            },
            "type": "mesh3d"
           }
          ],
          "parcoords": [
           {
            "line": {
             "colorbar": {
              "outlinewidth": 0,
              "ticks": ""
             }
            },
            "type": "parcoords"
           }
          ],
          "pie": [
           {
            "automargin": true,
            "type": "pie"
           }
          ],
          "scatter": [
           {
            "fillpattern": {
             "fillmode": "overlay",
             "size": 10,
             "solidity": 0.2
            },
            "type": "scatter"
           }
          ],
          "scatter3d": [
           {
            "line": {
             "colorbar": {
              "outlinewidth": 0,
              "ticks": ""
             }
            },
            "marker": {
             "colorbar": {
              "outlinewidth": 0,
              "ticks": ""
             }
            },
            "type": "scatter3d"
           }
          ],
          "scattercarpet": [
           {
            "marker": {
             "colorbar": {
              "outlinewidth": 0,
              "ticks": ""
             }
            },
            "type": "scattercarpet"
           }
          ],
          "scattergeo": [
           {
            "marker": {
             "colorbar": {
              "outlinewidth": 0,
              "ticks": ""
             }
            },
            "type": "scattergeo"
           }
          ],
          "scattergl": [
           {
            "marker": {
             "colorbar": {
              "outlinewidth": 0,
              "ticks": ""
             }
            },
            "type": "scattergl"
           }
          ],
          "scattermapbox": [
           {
            "marker": {
             "colorbar": {
              "outlinewidth": 0,
              "ticks": ""
             }
            },
            "type": "scattermapbox"
           }
          ],
          "scatterpolar": [
           {
            "marker": {
             "colorbar": {
              "outlinewidth": 0,
              "ticks": ""
             }
            },
            "type": "scatterpolar"
           }
          ],
          "scatterpolargl": [
           {
            "marker": {
             "colorbar": {
              "outlinewidth": 0,
              "ticks": ""
             }
            },
            "type": "scatterpolargl"
           }
          ],
          "scatterternary": [
           {
            "marker": {
             "colorbar": {
              "outlinewidth": 0,
              "ticks": ""
             }
            },
            "type": "scatterternary"
           }
          ],
          "surface": [
           {
            "colorbar": {
             "outlinewidth": 0,
             "ticks": ""
            },
            "colorscale": [
             [
              0,
              "#0d0887"
             ],
             [
              0.1111111111111111,
              "#46039f"
             ],
             [
              0.2222222222222222,
              "#7201a8"
             ],
             [
              0.3333333333333333,
              "#9c179e"
             ],
             [
              0.4444444444444444,
              "#bd3786"
             ],
             [
              0.5555555555555556,
              "#d8576b"
             ],
             [
              0.6666666666666666,
              "#ed7953"
             ],
             [
              0.7777777777777778,
              "#fb9f3a"
             ],
             [
              0.8888888888888888,
              "#fdca26"
             ],
             [
              1,
              "#f0f921"
             ]
            ],
            "type": "surface"
           }
          ],
          "table": [
           {
            "cells": {
             "fill": {
              "color": "#EBF0F8"
             },
             "line": {
              "color": "white"
             }
            },
            "header": {
             "fill": {
              "color": "#C8D4E3"
             },
             "line": {
              "color": "white"
             }
            },
            "type": "table"
           }
          ]
         },
         "layout": {
          "annotationdefaults": {
           "arrowcolor": "#2a3f5f",
           "arrowhead": 0,
           "arrowwidth": 1
          },
          "autotypenumbers": "strict",
          "coloraxis": {
           "colorbar": {
            "outlinewidth": 0,
            "ticks": ""
           }
          },
          "colorscale": {
           "diverging": [
            [
             0,
             "#8e0152"
            ],
            [
             0.1,
             "#c51b7d"
            ],
            [
             0.2,
             "#de77ae"
            ],
            [
             0.3,
             "#f1b6da"
            ],
            [
             0.4,
             "#fde0ef"
            ],
            [
             0.5,
             "#f7f7f7"
            ],
            [
             0.6,
             "#e6f5d0"
            ],
            [
             0.7,
             "#b8e186"
            ],
            [
             0.8,
             "#7fbc41"
            ],
            [
             0.9,
             "#4d9221"
            ],
            [
             1,
             "#276419"
            ]
           ],
           "sequential": [
            [
             0,
             "#0d0887"
            ],
            [
             0.1111111111111111,
             "#46039f"
            ],
            [
             0.2222222222222222,
             "#7201a8"
            ],
            [
             0.3333333333333333,
             "#9c179e"
            ],
            [
             0.4444444444444444,
             "#bd3786"
            ],
            [
             0.5555555555555556,
             "#d8576b"
            ],
            [
             0.6666666666666666,
             "#ed7953"
            ],
            [
             0.7777777777777778,
             "#fb9f3a"
            ],
            [
             0.8888888888888888,
             "#fdca26"
            ],
            [
             1,
             "#f0f921"
            ]
           ],
           "sequentialminus": [
            [
             0,
             "#0d0887"
            ],
            [
             0.1111111111111111,
             "#46039f"
            ],
            [
             0.2222222222222222,
             "#7201a8"
            ],
            [
             0.3333333333333333,
             "#9c179e"
            ],
            [
             0.4444444444444444,
             "#bd3786"
            ],
            [
             0.5555555555555556,
             "#d8576b"
            ],
            [
             0.6666666666666666,
             "#ed7953"
            ],
            [
             0.7777777777777778,
             "#fb9f3a"
            ],
            [
             0.8888888888888888,
             "#fdca26"
            ],
            [
             1,
             "#f0f921"
            ]
           ]
          },
          "colorway": [
           "#636efa",
           "#EF553B",
           "#00cc96",
           "#ab63fa",
           "#FFA15A",
           "#19d3f3",
           "#FF6692",
           "#B6E880",
           "#FF97FF",
           "#FECB52"
          ],
          "font": {
           "color": "#2a3f5f"
          },
          "geo": {
           "bgcolor": "white",
           "lakecolor": "white",
           "landcolor": "#E5ECF6",
           "showlakes": true,
           "showland": true,
           "subunitcolor": "white"
          },
          "hoverlabel": {
           "align": "left"
          },
          "hovermode": "closest",
          "mapbox": {
           "style": "light"
          },
          "paper_bgcolor": "white",
          "plot_bgcolor": "#E5ECF6",
          "polar": {
           "angularaxis": {
            "gridcolor": "white",
            "linecolor": "white",
            "ticks": ""
           },
           "bgcolor": "#E5ECF6",
           "radialaxis": {
            "gridcolor": "white",
            "linecolor": "white",
            "ticks": ""
           }
          },
          "scene": {
           "xaxis": {
            "backgroundcolor": "#E5ECF6",
            "gridcolor": "white",
            "gridwidth": 2,
            "linecolor": "white",
            "showbackground": true,
            "ticks": "",
            "zerolinecolor": "white"
           },
           "yaxis": {
            "backgroundcolor": "#E5ECF6",
            "gridcolor": "white",
            "gridwidth": 2,
            "linecolor": "white",
            "showbackground": true,
            "ticks": "",
            "zerolinecolor": "white"
           },
           "zaxis": {
            "backgroundcolor": "#E5ECF6",
            "gridcolor": "white",
            "gridwidth": 2,
            "linecolor": "white",
            "showbackground": true,
            "ticks": "",
            "zerolinecolor": "white"
           }
          },
          "shapedefaults": {
           "line": {
            "color": "#2a3f5f"
           }
          },
          "ternary": {
           "aaxis": {
            "gridcolor": "white",
            "linecolor": "white",
            "ticks": ""
           },
           "baxis": {
            "gridcolor": "white",
            "linecolor": "white",
            "ticks": ""
           },
           "bgcolor": "#E5ECF6",
           "caxis": {
            "gridcolor": "white",
            "linecolor": "white",
            "ticks": ""
           }
          },
          "title": {
           "x": 0.05
          },
          "xaxis": {
           "automargin": true,
           "gridcolor": "white",
           "linecolor": "white",
           "ticks": "",
           "title": {
            "standoff": 15
           },
           "zerolinecolor": "white",
           "zerolinewidth": 2
          },
          "yaxis": {
           "automargin": true,
           "gridcolor": "white",
           "linecolor": "white",
           "ticks": "",
           "title": {
            "standoff": 15
           },
           "zerolinecolor": "white",
           "zerolinewidth": 2
          }
         }
        },
        "title": {
         "text": "GOOD VS BAD Rated countries in terms of unemployment"
        },
        "width": 1200,
        "xaxis": {
         "anchor": "y",
         "domain": [
          0,
          1
         ],
         "title": {
          "text": "x"
         }
        },
        "yaxis": {
         "anchor": "x",
         "domain": [
          0,
          1
         ],
         "title": {
          "text": "y"
         }
        }
       }
      }
     },
     "metadata": {},
     "output_type": "display_data"
    }
   ],
   "source": [
    "fig1=px.bar(y=classify_data_g20c['Good'],x=classify_data_g20c['countries'],title='GOOD VS BAD Rated countries in terms of unemployment',\n",
    "            height=500,width=1200)\n",
    "fig1.add_bar(y=classify_data_g20c['Bad'],x=classify_data_g20c['countries'],name='BAD')"
   ]
  },
  {
   "cell_type": "code",
   "execution_count": 19,
   "metadata": {},
   "outputs": [],
   "source": [
    "data_g20c.to_csv('data_g20c')"
   ]
  }
 ],
 "metadata": {
  "kernelspec": {
   "display_name": "venv",
   "language": "python",
   "name": "python3"
  },
  "language_info": {
   "codemirror_mode": {
    "name": "ipython",
    "version": 3
   },
   "file_extension": ".py",
   "mimetype": "text/x-python",
   "name": "python",
   "nbconvert_exporter": "python",
   "pygments_lexer": "ipython3",
   "version": "3.11.2"
  },
  "orig_nbformat": 4,
  "vscode": {
   "interpreter": {
    "hash": "0d638eae6eba7442ccb4a5a3a7d5767bda5f644711c1803a9078a1e68ddce642"
   }
  }
 },
 "nbformat": 4,
 "nbformat_minor": 2
}
