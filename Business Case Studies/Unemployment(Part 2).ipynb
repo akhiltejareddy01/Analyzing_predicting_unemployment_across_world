{
 "cells": [
  {
   "attachments": {},
   "cell_type": "markdown",
   "metadata": {},
   "source": [
    "# **Importing Libraries**"
   ]
  },
  {
   "cell_type": "code",
   "execution_count": 4,
   "metadata": {},
   "outputs": [],
   "source": [
    "#importing processing packages\n",
    "import numpy as np\n",
    "import pandas as pd\n",
    "import scipy as sc\n",
    "\n",
    "#importing visualization packages\n",
    "import matplotlib.pyplot as plt\n",
    "import plotly.express as px\n",
    "import plotly.graph_objects as go\n",
    "import seaborn as sns\n",
    "import bokeh as bk\n",
    "\n",
    "#importing warnings\n",
    "import warnings\n",
    "warnings.filterwarnings(\"ignore\")\n"
   ]
  },
  {
   "attachments": {},
   "cell_type": "markdown",
   "metadata": {},
   "source": [
    "# **Importing Dataset**"
   ]
  },
  {
   "cell_type": "code",
   "execution_count": 5,
   "metadata": {},
   "outputs": [
    {
     "data": {
      "text/html": [
       "<div>\n",
       "<style scoped>\n",
       "    .dataframe tbody tr th:only-of-type {\n",
       "        vertical-align: middle;\n",
       "    }\n",
       "\n",
       "    .dataframe tbody tr th {\n",
       "        vertical-align: top;\n",
       "    }\n",
       "\n",
       "    .dataframe thead th {\n",
       "        text-align: right;\n",
       "    }\n",
       "</style>\n",
       "<table border=\"1\" class=\"dataframe\">\n",
       "  <thead>\n",
       "    <tr style=\"text-align: right;\">\n",
       "      <th></th>\n",
       "      <th>Unnamed: 0</th>\n",
       "      <th>Country Name</th>\n",
       "      <th>Country Code</th>\n",
       "      <th>1991</th>\n",
       "      <th>1992</th>\n",
       "      <th>1993</th>\n",
       "      <th>1994</th>\n",
       "      <th>1995</th>\n",
       "      <th>1996</th>\n",
       "      <th>1997</th>\n",
       "      <th>...</th>\n",
       "      <th>2019</th>\n",
       "      <th>2020</th>\n",
       "      <th>2021</th>\n",
       "      <th>code_3</th>\n",
       "      <th>continent</th>\n",
       "      <th>sub_region</th>\n",
       "      <th>average</th>\n",
       "      <th>91-20</th>\n",
       "      <th>20-21</th>\n",
       "      <th>21-22</th>\n",
       "    </tr>\n",
       "  </thead>\n",
       "  <tbody>\n",
       "    <tr>\n",
       "      <th>0</th>\n",
       "      <td>0</td>\n",
       "      <td>Afghanistan</td>\n",
       "      <td>AFG</td>\n",
       "      <td>10.65</td>\n",
       "      <td>10.82</td>\n",
       "      <td>10.72</td>\n",
       "      <td>10.73</td>\n",
       "      <td>11.18</td>\n",
       "      <td>10.96</td>\n",
       "      <td>10.78</td>\n",
       "      <td>...</td>\n",
       "      <td>11.22</td>\n",
       "      <td>11.71</td>\n",
       "      <td>13.28</td>\n",
       "      <td>AFG</td>\n",
       "      <td>Asia</td>\n",
       "      <td>Southern Asia</td>\n",
       "      <td>11.141290</td>\n",
       "      <td>-0.16</td>\n",
       "      <td>-0.54</td>\n",
       "      <td>-0.36</td>\n",
       "    </tr>\n",
       "    <tr>\n",
       "      <th>1</th>\n",
       "      <td>1</td>\n",
       "      <td>Albania</td>\n",
       "      <td>ALB</td>\n",
       "      <td>10.31</td>\n",
       "      <td>30.01</td>\n",
       "      <td>25.26</td>\n",
       "      <td>20.84</td>\n",
       "      <td>14.61</td>\n",
       "      <td>13.93</td>\n",
       "      <td>16.88</td>\n",
       "      <td>...</td>\n",
       "      <td>11.47</td>\n",
       "      <td>13.33</td>\n",
       "      <td>11.82</td>\n",
       "      <td>ALB</td>\n",
       "      <td>Europe</td>\n",
       "      <td>Southern Europe</td>\n",
       "      <td>16.318065</td>\n",
       "      <td>-8.72</td>\n",
       "      <td>4.94</td>\n",
       "      <td>0.76</td>\n",
       "    </tr>\n",
       "    <tr>\n",
       "      <th>2</th>\n",
       "      <td>2</td>\n",
       "      <td>Algeria</td>\n",
       "      <td>DZA</td>\n",
       "      <td>20.60</td>\n",
       "      <td>24.38</td>\n",
       "      <td>26.23</td>\n",
       "      <td>27.74</td>\n",
       "      <td>31.84</td>\n",
       "      <td>28.53</td>\n",
       "      <td>25.43</td>\n",
       "      <td>...</td>\n",
       "      <td>10.51</td>\n",
       "      <td>12.55</td>\n",
       "      <td>12.70</td>\n",
       "      <td>DZA</td>\n",
       "      <td>Africa</td>\n",
       "      <td>Northern Africa</td>\n",
       "      <td>17.926129</td>\n",
       "      <td>-9.17</td>\n",
       "      <td>19.81</td>\n",
       "      <td>-2.59</td>\n",
       "    </tr>\n",
       "    <tr>\n",
       "      <th>3</th>\n",
       "      <td>3</td>\n",
       "      <td>Angola</td>\n",
       "      <td>AGO</td>\n",
       "      <td>4.21</td>\n",
       "      <td>4.21</td>\n",
       "      <td>4.23</td>\n",
       "      <td>4.16</td>\n",
       "      <td>4.11</td>\n",
       "      <td>4.10</td>\n",
       "      <td>4.09</td>\n",
       "      <td>...</td>\n",
       "      <td>7.42</td>\n",
       "      <td>8.33</td>\n",
       "      <td>8.53</td>\n",
       "      <td>AGO</td>\n",
       "      <td>Africa</td>\n",
       "      <td>Middle Africa</td>\n",
       "      <td>5.452258</td>\n",
       "      <td>0.18</td>\n",
       "      <td>-5.40</td>\n",
       "      <td>1.10</td>\n",
       "    </tr>\n",
       "    <tr>\n",
       "      <th>4</th>\n",
       "      <td>4</td>\n",
       "      <td>Argentina</td>\n",
       "      <td>ARG</td>\n",
       "      <td>5.44</td>\n",
       "      <td>6.36</td>\n",
       "      <td>10.10</td>\n",
       "      <td>11.76</td>\n",
       "      <td>18.80</td>\n",
       "      <td>17.11</td>\n",
       "      <td>14.82</td>\n",
       "      <td>...</td>\n",
       "      <td>9.84</td>\n",
       "      <td>11.46</td>\n",
       "      <td>10.90</td>\n",
       "      <td>ARG</td>\n",
       "      <td>Americas</td>\n",
       "      <td>South America</td>\n",
       "      <td>10.977742</td>\n",
       "      <td>-9.56</td>\n",
       "      <td>7.29</td>\n",
       "      <td>-3.75</td>\n",
       "    </tr>\n",
       "  </tbody>\n",
       "</table>\n",
       "<p>5 rows × 41 columns</p>\n",
       "</div>"
      ],
      "text/plain": [
       "   Unnamed: 0 Country Name Country Code   1991   1992   1993   1994   1995  \\\n",
       "0           0  Afghanistan          AFG  10.65  10.82  10.72  10.73  11.18   \n",
       "1           1      Albania          ALB  10.31  30.01  25.26  20.84  14.61   \n",
       "2           2      Algeria          DZA  20.60  24.38  26.23  27.74  31.84   \n",
       "3           3       Angola          AGO   4.21   4.21   4.23   4.16   4.11   \n",
       "4           4    Argentina          ARG   5.44   6.36  10.10  11.76  18.80   \n",
       "\n",
       "    1996   1997  ...   2019   2020   2021  code_3  continent       sub_region  \\\n",
       "0  10.96  10.78  ...  11.22  11.71  13.28     AFG       Asia    Southern Asia   \n",
       "1  13.93  16.88  ...  11.47  13.33  11.82     ALB     Europe  Southern Europe   \n",
       "2  28.53  25.43  ...  10.51  12.55  12.70     DZA     Africa  Northern Africa   \n",
       "3   4.10   4.09  ...   7.42   8.33   8.53     AGO     Africa    Middle Africa   \n",
       "4  17.11  14.82  ...   9.84  11.46  10.90     ARG   Americas    South America   \n",
       "\n",
       "     average  91-20  20-21  21-22  \n",
       "0  11.141290  -0.16  -0.54  -0.36  \n",
       "1  16.318065  -8.72   4.94   0.76  \n",
       "2  17.926129  -9.17  19.81  -2.59  \n",
       "3   5.452258   0.18  -5.40   1.10  \n",
       "4  10.977742  -9.56   7.29  -3.75  \n",
       "\n",
       "[5 rows x 41 columns]"
      ]
     },
     "execution_count": 5,
     "metadata": {},
     "output_type": "execute_result"
    }
   ],
   "source": [
    "#pre-processed csv file from part 1 has been considered\n",
    "\n",
    "data=pd.read_csv(\"E:/Analyzing_Unemployment_rate_across_the_world/Business Case Studies/2ndpart.csv\",na_values='NaN')\n",
    "data.head()"
   ]
  },
  {
   "cell_type": "code",
   "execution_count": 6,
   "metadata": {},
   "outputs": [
    {
     "data": {
      "text/plain": [
       "Unnamed: 0      0\n",
       "Country Name    0\n",
       "Country Code    0\n",
       "1991            0\n",
       "1992            0\n",
       "1993            0\n",
       "1994            0\n",
       "1995            0\n",
       "1996            0\n",
       "1997            0\n",
       "1998            0\n",
       "1999            0\n",
       "2000            0\n",
       "2001            0\n",
       "2002            0\n",
       "2003            0\n",
       "2004            0\n",
       "2005            0\n",
       "2006            0\n",
       "2007            0\n",
       "2008            0\n",
       "2009            0\n",
       "2010            0\n",
       "2011            0\n",
       "2012            0\n",
       "2013            0\n",
       "2014            0\n",
       "2015            0\n",
       "2016            0\n",
       "2017            0\n",
       "2018            0\n",
       "2019            0\n",
       "2020            0\n",
       "2021            0\n",
       "code_3          0\n",
       "continent       0\n",
       "sub_region      0\n",
       "average         0\n",
       "91-20           0\n",
       "20-21           0\n",
       "21-22           0\n",
       "dtype: int64"
      ]
     },
     "execution_count": 6,
     "metadata": {},
     "output_type": "execute_result"
    }
   ],
   "source": [
    "#returning column names along with their null values\n",
    "data.isnull().sum()"
   ]
  },
  {
   "attachments": {},
   "cell_type": "markdown",
   "metadata": {},
   "source": [
    "**G20countries are said to be in a better position in terms of controlling\n",
    "unemployment rate over the years.**"
   ]
  },
  {
   "cell_type": "code",
   "execution_count": 7,
   "metadata": {},
   "outputs": [
    {
     "data": {
      "text/plain": [
       "array(['Afghanistan', 'Albania', 'Algeria', 'Angola', 'Argentina',\n",
       "       'Armenia', 'Australia', 'Austria', 'Azerbaijan', 'Bahamas, The',\n",
       "       'Bahrain', 'Bangladesh', 'Barbados', 'Belarus', 'Belgium',\n",
       "       'Belize', 'Benin', 'Bhutan', 'Bolivia', 'Bosnia and Herzegovina',\n",
       "       'Botswana', 'Brazil', 'Brunei Darussalam', 'Bulgaria',\n",
       "       'Burkina Faso', 'Burundi', 'Cabo Verde', 'Cambodia', 'Cameroon',\n",
       "       'Canada', 'Central African Republic', 'Chad', 'Chile', 'China',\n",
       "       'Colombia', 'Comoros', 'Congo, Dem. Rep.', 'Congo, Rep.',\n",
       "       'Costa Rica', \"Cote d'Ivoire\", 'Croatia', 'Cuba', 'Cyprus',\n",
       "       'Czech Republic', 'Denmark', 'Djibouti', 'Dominican Republic',\n",
       "       'Ecuador', 'Egypt, Arab Rep.', 'El Salvador', 'Equatorial Guinea',\n",
       "       'Eritrea', 'Estonia', 'Eswatini', 'Ethiopia', 'Fiji', 'Finland',\n",
       "       'France', 'French Polynesia', 'Gabon', 'Gambia, The', 'Georgia',\n",
       "       'Germany', 'Ghana', 'Greece', 'Guam', 'Guatemala', 'Guinea',\n",
       "       'Guinea-Bissau', 'Guyana', 'Haiti', 'Honduras',\n",
       "       'Hong Kong SAR, China', 'Hungary', 'Iceland', 'India', 'Indonesia',\n",
       "       'Iran, Islamic Rep.', 'Iraq', 'Ireland', 'Israel', 'Italy',\n",
       "       'Jamaica', 'Japan', 'Jordan', 'Kazakhstan', 'Kenya',\n",
       "       \"Korea, Dem. People's Rep.\", 'Korea, Rep.', 'Kuwait',\n",
       "       'Kyrgyz Republic', 'Lao PDR', 'Latvia', 'Lebanon', 'Lesotho',\n",
       "       'Liberia', 'Libya', 'Lithuania', 'Luxembourg', 'Macao SAR, China',\n",
       "       'Madagascar', 'Malawi', 'Malaysia', 'Maldives', 'Mali', 'Malta',\n",
       "       'Mauritania', 'Mauritius', 'Mexico', 'Moldova', 'Mongolia',\n",
       "       'Montenegro', 'Morocco', 'Mozambique', 'Myanmar', 'Namibia',\n",
       "       'Nepal', 'Netherlands', 'New Caledonia', 'New Zealand',\n",
       "       'Nicaragua', 'Niger', 'Nigeria', 'North Macedonia', 'Norway',\n",
       "       'Oman', 'Pakistan', 'Panama', 'Papua New Guinea', 'Paraguay',\n",
       "       'Peru', 'Philippines', 'Poland', 'Portugal', 'Puerto Rico',\n",
       "       'Qatar', 'Romania', 'Russian Federation', 'Rwanda', 'Samoa',\n",
       "       'Sao Tome and Principe', 'Saudi Arabia', 'Senegal', 'Serbia',\n",
       "       'Sierra Leone', 'Singapore', 'Slovak Republic', 'Slovenia',\n",
       "       'Solomon Islands', 'Somalia', 'South Africa', 'South Sudan',\n",
       "       'Spain', 'Sri Lanka', 'St. Lucia',\n",
       "       'St. Vincent and the Grenadines', 'Sudan', 'Suriname', 'Sweden',\n",
       "       'Switzerland', 'Syrian Arab Republic', 'Tajikistan', 'Tanzania',\n",
       "       'Thailand', 'Timor-Leste', 'Togo', 'Tonga', 'Trinidad and Tobago',\n",
       "       'Tunisia', 'Turkiye', 'Turkmenistan', 'Uganda', 'Ukraine',\n",
       "       'United Arab Emirates', 'United Kingdom', 'United States',\n",
       "       'Uruguay', 'Uzbekistan', 'Vanuatu', 'Venezuela, RB', 'Vietnam',\n",
       "       'Virgin Islands (U.S.)', 'West Bank and Gaza', 'Yemen, Rep.',\n",
       "       'Zambia', 'Zimbabwe'], dtype=object)"
      ]
     },
     "execution_count": 7,
     "metadata": {},
     "output_type": "execute_result"
    }
   ],
   "source": [
    "data['Country Name'].unique()"
   ]
  },
  {
   "cell_type": "code",
   "execution_count": 8,
   "metadata": {},
   "outputs": [
    {
     "data": {
      "text/html": [
       "<div>\n",
       "<style scoped>\n",
       "    .dataframe tbody tr th:only-of-type {\n",
       "        vertical-align: middle;\n",
       "    }\n",
       "\n",
       "    .dataframe tbody tr th {\n",
       "        vertical-align: top;\n",
       "    }\n",
       "\n",
       "    .dataframe thead th {\n",
       "        text-align: right;\n",
       "    }\n",
       "</style>\n",
       "<table border=\"1\" class=\"dataframe\">\n",
       "  <thead>\n",
       "    <tr style=\"text-align: right;\">\n",
       "      <th></th>\n",
       "      <th>Unnamed: 0</th>\n",
       "      <th>Country Name</th>\n",
       "      <th>Country Code</th>\n",
       "      <th>1991</th>\n",
       "      <th>1992</th>\n",
       "      <th>1993</th>\n",
       "      <th>1994</th>\n",
       "      <th>1995</th>\n",
       "      <th>1996</th>\n",
       "      <th>1997</th>\n",
       "      <th>...</th>\n",
       "      <th>2019</th>\n",
       "      <th>2020</th>\n",
       "      <th>2021</th>\n",
       "      <th>code_3</th>\n",
       "      <th>continent</th>\n",
       "      <th>sub_region</th>\n",
       "      <th>average</th>\n",
       "      <th>91-20</th>\n",
       "      <th>20-21</th>\n",
       "      <th>21-22</th>\n",
       "    </tr>\n",
       "  </thead>\n",
       "  <tbody>\n",
       "    <tr>\n",
       "      <th>4</th>\n",
       "      <td>4</td>\n",
       "      <td>Argentina</td>\n",
       "      <td>ARG</td>\n",
       "      <td>5.44</td>\n",
       "      <td>6.36</td>\n",
       "      <td>10.10</td>\n",
       "      <td>11.76</td>\n",
       "      <td>18.80</td>\n",
       "      <td>17.11</td>\n",
       "      <td>14.82</td>\n",
       "      <td>...</td>\n",
       "      <td>9.84</td>\n",
       "      <td>11.46</td>\n",
       "      <td>10.90</td>\n",
       "      <td>ARG</td>\n",
       "      <td>Americas</td>\n",
       "      <td>South America</td>\n",
       "      <td>10.977742</td>\n",
       "      <td>-9.56</td>\n",
       "      <td>7.29</td>\n",
       "      <td>-3.75</td>\n",
       "    </tr>\n",
       "    <tr>\n",
       "      <th>6</th>\n",
       "      <td>6</td>\n",
       "      <td>Australia</td>\n",
       "      <td>AUS</td>\n",
       "      <td>9.58</td>\n",
       "      <td>10.73</td>\n",
       "      <td>10.87</td>\n",
       "      <td>9.72</td>\n",
       "      <td>8.47</td>\n",
       "      <td>8.51</td>\n",
       "      <td>8.36</td>\n",
       "      <td>...</td>\n",
       "      <td>5.16</td>\n",
       "      <td>6.46</td>\n",
       "      <td>5.11</td>\n",
       "      <td>AUS</td>\n",
       "      <td>Oceania</td>\n",
       "      <td>Australia and New Zealand</td>\n",
       "      <td>6.519677</td>\n",
       "      <td>3.30</td>\n",
       "      <td>1.07</td>\n",
       "      <td>-1.25</td>\n",
       "    </tr>\n",
       "    <tr>\n",
       "      <th>21</th>\n",
       "      <td>21</td>\n",
       "      <td>Brazil</td>\n",
       "      <td>BRA</td>\n",
       "      <td>6.31</td>\n",
       "      <td>6.42</td>\n",
       "      <td>6.03</td>\n",
       "      <td>6.17</td>\n",
       "      <td>6.42</td>\n",
       "      <td>7.25</td>\n",
       "      <td>8.16</td>\n",
       "      <td>...</td>\n",
       "      <td>11.93</td>\n",
       "      <td>13.69</td>\n",
       "      <td>14.40</td>\n",
       "      <td>BRA</td>\n",
       "      <td>Americas</td>\n",
       "      <td>South America</td>\n",
       "      <td>8.924194</td>\n",
       "      <td>-3.25</td>\n",
       "      <td>2.29</td>\n",
       "      <td>-6.42</td>\n",
       "    </tr>\n",
       "    <tr>\n",
       "      <th>29</th>\n",
       "      <td>29</td>\n",
       "      <td>Canada</td>\n",
       "      <td>CAN</td>\n",
       "      <td>10.32</td>\n",
       "      <td>11.20</td>\n",
       "      <td>11.38</td>\n",
       "      <td>10.40</td>\n",
       "      <td>9.49</td>\n",
       "      <td>9.62</td>\n",
       "      <td>9.10</td>\n",
       "      <td>...</td>\n",
       "      <td>5.66</td>\n",
       "      <td>9.46</td>\n",
       "      <td>7.51</td>\n",
       "      <td>CAN</td>\n",
       "      <td>Americas</td>\n",
       "      <td>Northern America</td>\n",
       "      <td>7.838387</td>\n",
       "      <td>3.49</td>\n",
       "      <td>-1.23</td>\n",
       "      <td>-1.40</td>\n",
       "    </tr>\n",
       "    <tr>\n",
       "      <th>33</th>\n",
       "      <td>33</td>\n",
       "      <td>China</td>\n",
       "      <td>CHN</td>\n",
       "      <td>2.37</td>\n",
       "      <td>2.37</td>\n",
       "      <td>2.69</td>\n",
       "      <td>2.90</td>\n",
       "      <td>3.00</td>\n",
       "      <td>3.12</td>\n",
       "      <td>3.23</td>\n",
       "      <td>...</td>\n",
       "      <td>4.52</td>\n",
       "      <td>5.00</td>\n",
       "      <td>4.82</td>\n",
       "      <td>CHN</td>\n",
       "      <td>Asia</td>\n",
       "      <td>Eastern Asia</td>\n",
       "      <td>4.007097</td>\n",
       "      <td>-0.89</td>\n",
       "      <td>-1.27</td>\n",
       "      <td>-0.47</td>\n",
       "    </tr>\n",
       "    <tr>\n",
       "      <th>57</th>\n",
       "      <td>57</td>\n",
       "      <td>France</td>\n",
       "      <td>FRA</td>\n",
       "      <td>9.13</td>\n",
       "      <td>10.21</td>\n",
       "      <td>11.32</td>\n",
       "      <td>12.59</td>\n",
       "      <td>11.84</td>\n",
       "      <td>12.37</td>\n",
       "      <td>12.57</td>\n",
       "      <td>...</td>\n",
       "      <td>8.41</td>\n",
       "      <td>8.01</td>\n",
       "      <td>8.06</td>\n",
       "      <td>FRA</td>\n",
       "      <td>Europe</td>\n",
       "      <td>Western Europe</td>\n",
       "      <td>9.671935</td>\n",
       "      <td>-1.09</td>\n",
       "      <td>1.35</td>\n",
       "      <td>0.86</td>\n",
       "    </tr>\n",
       "    <tr>\n",
       "      <th>62</th>\n",
       "      <td>62</td>\n",
       "      <td>Germany</td>\n",
       "      <td>DEU</td>\n",
       "      <td>5.32</td>\n",
       "      <td>6.32</td>\n",
       "      <td>7.68</td>\n",
       "      <td>8.73</td>\n",
       "      <td>8.16</td>\n",
       "      <td>8.82</td>\n",
       "      <td>9.86</td>\n",
       "      <td>...</td>\n",
       "      <td>3.14</td>\n",
       "      <td>3.81</td>\n",
       "      <td>3.54</td>\n",
       "      <td>DEU</td>\n",
       "      <td>Europe</td>\n",
       "      <td>Western Europe</td>\n",
       "      <td>7.041935</td>\n",
       "      <td>-2.60</td>\n",
       "      <td>0.95</td>\n",
       "      <td>3.16</td>\n",
       "    </tr>\n",
       "    <tr>\n",
       "      <th>75</th>\n",
       "      <td>75</td>\n",
       "      <td>India</td>\n",
       "      <td>IND</td>\n",
       "      <td>5.60</td>\n",
       "      <td>5.73</td>\n",
       "      <td>5.69</td>\n",
       "      <td>5.74</td>\n",
       "      <td>5.76</td>\n",
       "      <td>5.74</td>\n",
       "      <td>5.61</td>\n",
       "      <td>...</td>\n",
       "      <td>5.27</td>\n",
       "      <td>8.00</td>\n",
       "      <td>5.98</td>\n",
       "      <td>IND</td>\n",
       "      <td>Asia</td>\n",
       "      <td>Southern Asia</td>\n",
       "      <td>5.644839</td>\n",
       "      <td>0.04</td>\n",
       "      <td>0.01</td>\n",
       "      <td>-2.45</td>\n",
       "    </tr>\n",
       "    <tr>\n",
       "      <th>76</th>\n",
       "      <td>76</td>\n",
       "      <td>Indonesia</td>\n",
       "      <td>IDN</td>\n",
       "      <td>2.62</td>\n",
       "      <td>2.73</td>\n",
       "      <td>2.78</td>\n",
       "      <td>4.37</td>\n",
       "      <td>4.60</td>\n",
       "      <td>4.86</td>\n",
       "      <td>4.68</td>\n",
       "      <td>...</td>\n",
       "      <td>3.62</td>\n",
       "      <td>4.28</td>\n",
       "      <td>4.41</td>\n",
       "      <td>IDN</td>\n",
       "      <td>Asia</td>\n",
       "      <td>South-Eastern Asia</td>\n",
       "      <td>5.195806</td>\n",
       "      <td>-3.46</td>\n",
       "      <td>0.47</td>\n",
       "      <td>1.33</td>\n",
       "    </tr>\n",
       "    <tr>\n",
       "      <th>81</th>\n",
       "      <td>81</td>\n",
       "      <td>Italy</td>\n",
       "      <td>ITA</td>\n",
       "      <td>10.10</td>\n",
       "      <td>9.33</td>\n",
       "      <td>10.24</td>\n",
       "      <td>11.09</td>\n",
       "      <td>11.67</td>\n",
       "      <td>11.87</td>\n",
       "      <td>12.00</td>\n",
       "      <td>...</td>\n",
       "      <td>9.95</td>\n",
       "      <td>9.16</td>\n",
       "      <td>9.83</td>\n",
       "      <td>ITA</td>\n",
       "      <td>Europe</td>\n",
       "      <td>Southern Europe</td>\n",
       "      <td>9.939032</td>\n",
       "      <td>-0.74</td>\n",
       "      <td>2.48</td>\n",
       "      <td>-0.80</td>\n",
       "    </tr>\n",
       "    <tr>\n",
       "      <th>83</th>\n",
       "      <td>83</td>\n",
       "      <td>Japan</td>\n",
       "      <td>JPN</td>\n",
       "      <td>2.10</td>\n",
       "      <td>2.20</td>\n",
       "      <td>2.50</td>\n",
       "      <td>2.90</td>\n",
       "      <td>3.20</td>\n",
       "      <td>3.40</td>\n",
       "      <td>3.40</td>\n",
       "      <td>...</td>\n",
       "      <td>2.40</td>\n",
       "      <td>2.80</td>\n",
       "      <td>2.80</td>\n",
       "      <td>JPN</td>\n",
       "      <td>Asia</td>\n",
       "      <td>Eastern Asia</td>\n",
       "      <td>3.759677</td>\n",
       "      <td>-2.65</td>\n",
       "      <td>-0.35</td>\n",
       "      <td>2.30</td>\n",
       "    </tr>\n",
       "    <tr>\n",
       "      <th>87</th>\n",
       "      <td>87</td>\n",
       "      <td>Korea, Dem. People's Rep.</td>\n",
       "      <td>PRK</td>\n",
       "      <td>2.30</td>\n",
       "      <td>2.31</td>\n",
       "      <td>2.42</td>\n",
       "      <td>2.54</td>\n",
       "      <td>2.55</td>\n",
       "      <td>2.60</td>\n",
       "      <td>2.68</td>\n",
       "      <td>...</td>\n",
       "      <td>2.59</td>\n",
       "      <td>2.92</td>\n",
       "      <td>2.59</td>\n",
       "      <td>PRK</td>\n",
       "      <td>Asia</td>\n",
       "      <td>Eastern Asia</td>\n",
       "      <td>2.726774</td>\n",
       "      <td>-0.63</td>\n",
       "      <td>0.22</td>\n",
       "      <td>-0.21</td>\n",
       "    </tr>\n",
       "    <tr>\n",
       "      <th>108</th>\n",
       "      <td>108</td>\n",
       "      <td>Mexico</td>\n",
       "      <td>MEX</td>\n",
       "      <td>3.15</td>\n",
       "      <td>3.24</td>\n",
       "      <td>3.37</td>\n",
       "      <td>4.44</td>\n",
       "      <td>7.10</td>\n",
       "      <td>5.47</td>\n",
       "      <td>4.24</td>\n",
       "      <td>...</td>\n",
       "      <td>3.48</td>\n",
       "      <td>4.45</td>\n",
       "      <td>4.38</td>\n",
       "      <td>MEX</td>\n",
       "      <td>Americas</td>\n",
       "      <td>Central America</td>\n",
       "      <td>4.040968</td>\n",
       "      <td>0.50</td>\n",
       "      <td>-2.65</td>\n",
       "      <td>0.85</td>\n",
       "    </tr>\n",
       "    <tr>\n",
       "      <th>137</th>\n",
       "      <td>137</td>\n",
       "      <td>Russian Federation</td>\n",
       "      <td>RUS</td>\n",
       "      <td>5.41</td>\n",
       "      <td>5.18</td>\n",
       "      <td>5.88</td>\n",
       "      <td>8.13</td>\n",
       "      <td>9.45</td>\n",
       "      <td>9.67</td>\n",
       "      <td>11.81</td>\n",
       "      <td>...</td>\n",
       "      <td>4.50</td>\n",
       "      <td>5.59</td>\n",
       "      <td>5.01</td>\n",
       "      <td>RUS</td>\n",
       "      <td>Europe</td>\n",
       "      <td>Eastern Europe</td>\n",
       "      <td>7.296452</td>\n",
       "      <td>-5.17</td>\n",
       "      <td>3.21</td>\n",
       "      <td>1.78</td>\n",
       "    </tr>\n",
       "    <tr>\n",
       "      <th>141</th>\n",
       "      <td>141</td>\n",
       "      <td>Saudi Arabia</td>\n",
       "      <td>SAU</td>\n",
       "      <td>7.07</td>\n",
       "      <td>7.20</td>\n",
       "      <td>6.85</td>\n",
       "      <td>6.41</td>\n",
       "      <td>6.00</td>\n",
       "      <td>5.56</td>\n",
       "      <td>5.15</td>\n",
       "      <td>...</td>\n",
       "      <td>5.67</td>\n",
       "      <td>7.45</td>\n",
       "      <td>7.36</td>\n",
       "      <td>SAU</td>\n",
       "      <td>Asia</td>\n",
       "      <td>Western Asia</td>\n",
       "      <td>5.787742</td>\n",
       "      <td>2.50</td>\n",
       "      <td>-0.98</td>\n",
       "      <td>-1.90</td>\n",
       "    </tr>\n",
       "    <tr>\n",
       "      <th>150</th>\n",
       "      <td>150</td>\n",
       "      <td>South Africa</td>\n",
       "      <td>ZAF</td>\n",
       "      <td>29.95</td>\n",
       "      <td>29.98</td>\n",
       "      <td>29.92</td>\n",
       "      <td>29.89</td>\n",
       "      <td>29.89</td>\n",
       "      <td>29.87</td>\n",
       "      <td>29.91</td>\n",
       "      <td>...</td>\n",
       "      <td>28.47</td>\n",
       "      <td>29.22</td>\n",
       "      <td>33.56</td>\n",
       "      <td>ZAF</td>\n",
       "      <td>Africa</td>\n",
       "      <td>Southern Africa</td>\n",
       "      <td>28.232581</td>\n",
       "      <td>0.07</td>\n",
       "      <td>5.20</td>\n",
       "      <td>-4.54</td>\n",
       "    </tr>\n",
       "    <tr>\n",
       "      <th>169</th>\n",
       "      <td>169</td>\n",
       "      <td>Turkiye</td>\n",
       "      <td>TUR</td>\n",
       "      <td>8.21</td>\n",
       "      <td>8.51</td>\n",
       "      <td>8.96</td>\n",
       "      <td>8.58</td>\n",
       "      <td>7.64</td>\n",
       "      <td>6.63</td>\n",
       "      <td>6.84</td>\n",
       "      <td>...</td>\n",
       "      <td>13.67</td>\n",
       "      <td>13.11</td>\n",
       "      <td>13.39</td>\n",
       "      <td>TUR</td>\n",
       "      <td>Asia</td>\n",
       "      <td>Western Asia</td>\n",
       "      <td>9.556129</td>\n",
       "      <td>1.71</td>\n",
       "      <td>-4.16</td>\n",
       "      <td>-2.45</td>\n",
       "    </tr>\n",
       "    <tr>\n",
       "      <th>174</th>\n",
       "      <td>174</td>\n",
       "      <td>United Kingdom</td>\n",
       "      <td>GBR</td>\n",
       "      <td>8.55</td>\n",
       "      <td>9.78</td>\n",
       "      <td>10.35</td>\n",
       "      <td>9.65</td>\n",
       "      <td>8.69</td>\n",
       "      <td>8.19</td>\n",
       "      <td>7.07</td>\n",
       "      <td>...</td>\n",
       "      <td>3.74</td>\n",
       "      <td>4.47</td>\n",
       "      <td>4.53</td>\n",
       "      <td>GBR</td>\n",
       "      <td>Europe</td>\n",
       "      <td>Northern Europe</td>\n",
       "      <td>6.330968</td>\n",
       "      <td>2.99</td>\n",
       "      <td>-2.23</td>\n",
       "      <td>3.32</td>\n",
       "    </tr>\n",
       "    <tr>\n",
       "      <th>175</th>\n",
       "      <td>175</td>\n",
       "      <td>United States</td>\n",
       "      <td>USA</td>\n",
       "      <td>6.80</td>\n",
       "      <td>7.50</td>\n",
       "      <td>6.90</td>\n",
       "      <td>6.12</td>\n",
       "      <td>5.65</td>\n",
       "      <td>5.45</td>\n",
       "      <td>5.00</td>\n",
       "      <td>...</td>\n",
       "      <td>3.67</td>\n",
       "      <td>8.05</td>\n",
       "      <td>5.46</td>\n",
       "      <td>USA</td>\n",
       "      <td>Americas</td>\n",
       "      <td>Northern America</td>\n",
       "      <td>5.912903</td>\n",
       "      <td>2.81</td>\n",
       "      <td>-5.64</td>\n",
       "      <td>1.58</td>\n",
       "    </tr>\n",
       "    <tr>\n",
       "      <th>126</th>\n",
       "      <td>126</td>\n",
       "      <td>Pakistan</td>\n",
       "      <td>PAK</td>\n",
       "      <td>0.62</td>\n",
       "      <td>0.66</td>\n",
       "      <td>0.56</td>\n",
       "      <td>0.59</td>\n",
       "      <td>0.60</td>\n",
       "      <td>0.60</td>\n",
       "      <td>0.54</td>\n",
       "      <td>...</td>\n",
       "      <td>3.54</td>\n",
       "      <td>4.30</td>\n",
       "      <td>4.35</td>\n",
       "      <td>PAK</td>\n",
       "      <td>Asia</td>\n",
       "      <td>Southern Asia</td>\n",
       "      <td>1.494839</td>\n",
       "      <td>0.04</td>\n",
       "      <td>-0.07</td>\n",
       "      <td>-3.65</td>\n",
       "    </tr>\n",
       "  </tbody>\n",
       "</table>\n",
       "<p>20 rows × 41 columns</p>\n",
       "</div>"
      ],
      "text/plain": [
       "     Unnamed: 0               Country Name Country Code   1991   1992   1993  \\\n",
       "4             4                  Argentina          ARG   5.44   6.36  10.10   \n",
       "6             6                  Australia          AUS   9.58  10.73  10.87   \n",
       "21           21                     Brazil          BRA   6.31   6.42   6.03   \n",
       "29           29                     Canada          CAN  10.32  11.20  11.38   \n",
       "33           33                      China          CHN   2.37   2.37   2.69   \n",
       "57           57                     France          FRA   9.13  10.21  11.32   \n",
       "62           62                    Germany          DEU   5.32   6.32   7.68   \n",
       "75           75                      India          IND   5.60   5.73   5.69   \n",
       "76           76                  Indonesia          IDN   2.62   2.73   2.78   \n",
       "81           81                      Italy          ITA  10.10   9.33  10.24   \n",
       "83           83                      Japan          JPN   2.10   2.20   2.50   \n",
       "87           87  Korea, Dem. People's Rep.          PRK   2.30   2.31   2.42   \n",
       "108         108                     Mexico          MEX   3.15   3.24   3.37   \n",
       "137         137         Russian Federation          RUS   5.41   5.18   5.88   \n",
       "141         141               Saudi Arabia          SAU   7.07   7.20   6.85   \n",
       "150         150               South Africa          ZAF  29.95  29.98  29.92   \n",
       "169         169                    Turkiye          TUR   8.21   8.51   8.96   \n",
       "174         174             United Kingdom          GBR   8.55   9.78  10.35   \n",
       "175         175              United States          USA   6.80   7.50   6.90   \n",
       "126         126                   Pakistan          PAK   0.62   0.66   0.56   \n",
       "\n",
       "      1994   1995   1996   1997  ...   2019   2020   2021  code_3  continent  \\\n",
       "4    11.76  18.80  17.11  14.82  ...   9.84  11.46  10.90     ARG   Americas   \n",
       "6     9.72   8.47   8.51   8.36  ...   5.16   6.46   5.11     AUS    Oceania   \n",
       "21    6.17   6.42   7.25   8.16  ...  11.93  13.69  14.40     BRA   Americas   \n",
       "29   10.40   9.49   9.62   9.10  ...   5.66   9.46   7.51     CAN   Americas   \n",
       "33    2.90   3.00   3.12   3.23  ...   4.52   5.00   4.82     CHN       Asia   \n",
       "57   12.59  11.84  12.37  12.57  ...   8.41   8.01   8.06     FRA     Europe   \n",
       "62    8.73   8.16   8.82   9.86  ...   3.14   3.81   3.54     DEU     Europe   \n",
       "75    5.74   5.76   5.74   5.61  ...   5.27   8.00   5.98     IND       Asia   \n",
       "76    4.37   4.60   4.86   4.68  ...   3.62   4.28   4.41     IDN       Asia   \n",
       "81   11.09  11.67  11.87  12.00  ...   9.95   9.16   9.83     ITA     Europe   \n",
       "83    2.90   3.20   3.40   3.40  ...   2.40   2.80   2.80     JPN       Asia   \n",
       "87    2.54   2.55   2.60   2.68  ...   2.59   2.92   2.59     PRK       Asia   \n",
       "108   4.44   7.10   5.47   4.24  ...   3.48   4.45   4.38     MEX   Americas   \n",
       "137   8.13   9.45   9.67  11.81  ...   4.50   5.59   5.01     RUS     Europe   \n",
       "141   6.41   6.00   5.56   5.15  ...   5.67   7.45   7.36     SAU       Asia   \n",
       "150  29.89  29.89  29.87  29.91  ...  28.47  29.22  33.56     ZAF     Africa   \n",
       "169   8.58   7.64   6.63   6.84  ...  13.67  13.11  13.39     TUR       Asia   \n",
       "174   9.65   8.69   8.19   7.07  ...   3.74   4.47   4.53     GBR     Europe   \n",
       "175   6.12   5.65   5.45   5.00  ...   3.67   8.05   5.46     USA   Americas   \n",
       "126   0.59   0.60   0.60   0.54  ...   3.54   4.30   4.35     PAK       Asia   \n",
       "\n",
       "                    sub_region    average  91-20  20-21  21-22  \n",
       "4                South America  10.977742  -9.56   7.29  -3.75  \n",
       "6    Australia and New Zealand   6.519677   3.30   1.07  -1.25  \n",
       "21               South America   8.924194  -3.25   2.29  -6.42  \n",
       "29            Northern America   7.838387   3.49  -1.23  -1.40  \n",
       "33                Eastern Asia   4.007097  -0.89  -1.27  -0.47  \n",
       "57              Western Europe   9.671935  -1.09   1.35   0.86  \n",
       "62              Western Europe   7.041935  -2.60   0.95   3.16  \n",
       "75               Southern Asia   5.644839   0.04   0.01  -2.45  \n",
       "76          South-Eastern Asia   5.195806  -3.46   0.47   1.33  \n",
       "81             Southern Europe   9.939032  -0.74   2.48  -0.80  \n",
       "83                Eastern Asia   3.759677  -2.65  -0.35   2.30  \n",
       "87                Eastern Asia   2.726774  -0.63   0.22  -0.21  \n",
       "108            Central America   4.040968   0.50  -2.65   0.85  \n",
       "137             Eastern Europe   7.296452  -5.17   3.21   1.78  \n",
       "141               Western Asia   5.787742   2.50  -0.98  -1.90  \n",
       "150            Southern Africa  28.232581   0.07   5.20  -4.54  \n",
       "169               Western Asia   9.556129   1.71  -4.16  -2.45  \n",
       "174            Northern Europe   6.330968   2.99  -2.23   3.32  \n",
       "175           Northern America   5.912903   2.81  -5.64   1.58  \n",
       "126              Southern Asia   1.494839   0.04  -0.07  -3.65  \n",
       "\n",
       "[20 rows x 41 columns]"
      ]
     },
     "execution_count": 8,
     "metadata": {},
     "output_type": "execute_result"
    }
   ],
   "source": [
    "#considering g20 countries \n",
    "#retrieving g20 countries\n",
    "\n",
    "countries=['Argentina','Australia','Brazil','Canada','China','France','Germany','India',\n",
    "           'Indonesia','Italy','Japan',\"Korea, Dem. People's Rep.\",'Mexico',\n",
    "           'Russian Federation','Saudi Arabia','South Africa','Turkiye','United Kingdom','United States','Pakistan'] #mentioning g20 country names\n",
    "\n",
    "data_g20c=pd.DataFrame()\n",
    "for i in countries:\n",
    "    data_g20c = data_g20c.append(data[data['Country Name']==i]) # appending g20 country details into new dataframe\n",
    "\n",
    "data_g20c.drop_duplicates()# dropping all the duplicates\n",
    "\n",
    "data_g20c # returning the dataframe"
   ]
  },
  {
   "cell_type": "code",
   "execution_count": 9,
   "metadata": {},
   "outputs": [],
   "source": [
    "#dropping unwanted columns\n",
    "data_g20c.drop(['Unnamed: 0','Country Code','code_3'],axis=1,inplace=True)"
   ]
  },
  {
   "cell_type": "code",
   "execution_count": 10,
   "metadata": {},
   "outputs": [
    {
     "data": {
      "text/html": [
       "<div>\n",
       "<style scoped>\n",
       "    .dataframe tbody tr th:only-of-type {\n",
       "        vertical-align: middle;\n",
       "    }\n",
       "\n",
       "    .dataframe tbody tr th {\n",
       "        vertical-align: top;\n",
       "    }\n",
       "\n",
       "    .dataframe thead th {\n",
       "        text-align: right;\n",
       "    }\n",
       "</style>\n",
       "<table border=\"1\" class=\"dataframe\">\n",
       "  <thead>\n",
       "    <tr style=\"text-align: right;\">\n",
       "      <th></th>\n",
       "      <th>Country Name</th>\n",
       "      <th>1991</th>\n",
       "      <th>1992</th>\n",
       "      <th>1993</th>\n",
       "      <th>1994</th>\n",
       "      <th>1995</th>\n",
       "      <th>1996</th>\n",
       "      <th>1997</th>\n",
       "      <th>1998</th>\n",
       "      <th>1999</th>\n",
       "      <th>...</th>\n",
       "      <th>2018</th>\n",
       "      <th>2019</th>\n",
       "      <th>2020</th>\n",
       "      <th>2021</th>\n",
       "      <th>continent</th>\n",
       "      <th>sub_region</th>\n",
       "      <th>average</th>\n",
       "      <th>91-20</th>\n",
       "      <th>20-21</th>\n",
       "      <th>21-22</th>\n",
       "    </tr>\n",
       "  </thead>\n",
       "  <tbody>\n",
       "    <tr>\n",
       "      <th>4</th>\n",
       "      <td>Argentina</td>\n",
       "      <td>5.44</td>\n",
       "      <td>6.36</td>\n",
       "      <td>10.10</td>\n",
       "      <td>11.76</td>\n",
       "      <td>18.80</td>\n",
       "      <td>17.11</td>\n",
       "      <td>14.82</td>\n",
       "      <td>12.65</td>\n",
       "      <td>14.05</td>\n",
       "      <td>...</td>\n",
       "      <td>9.22</td>\n",
       "      <td>9.84</td>\n",
       "      <td>11.46</td>\n",
       "      <td>10.90</td>\n",
       "      <td>Americas</td>\n",
       "      <td>South America</td>\n",
       "      <td>10.977742</td>\n",
       "      <td>-9.56</td>\n",
       "      <td>7.29</td>\n",
       "      <td>-3.75</td>\n",
       "    </tr>\n",
       "    <tr>\n",
       "      <th>6</th>\n",
       "      <td>Australia</td>\n",
       "      <td>9.58</td>\n",
       "      <td>10.73</td>\n",
       "      <td>10.87</td>\n",
       "      <td>9.72</td>\n",
       "      <td>8.47</td>\n",
       "      <td>8.51</td>\n",
       "      <td>8.36</td>\n",
       "      <td>7.68</td>\n",
       "      <td>6.87</td>\n",
       "      <td>...</td>\n",
       "      <td>5.30</td>\n",
       "      <td>5.16</td>\n",
       "      <td>6.46</td>\n",
       "      <td>5.11</td>\n",
       "      <td>Oceania</td>\n",
       "      <td>Australia and New Zealand</td>\n",
       "      <td>6.519677</td>\n",
       "      <td>3.30</td>\n",
       "      <td>1.07</td>\n",
       "      <td>-1.25</td>\n",
       "    </tr>\n",
       "    <tr>\n",
       "      <th>21</th>\n",
       "      <td>Brazil</td>\n",
       "      <td>6.31</td>\n",
       "      <td>6.42</td>\n",
       "      <td>6.03</td>\n",
       "      <td>6.17</td>\n",
       "      <td>6.42</td>\n",
       "      <td>7.25</td>\n",
       "      <td>8.16</td>\n",
       "      <td>9.42</td>\n",
       "      <td>10.21</td>\n",
       "      <td>...</td>\n",
       "      <td>12.33</td>\n",
       "      <td>11.93</td>\n",
       "      <td>13.69</td>\n",
       "      <td>14.40</td>\n",
       "      <td>Americas</td>\n",
       "      <td>South America</td>\n",
       "      <td>8.924194</td>\n",
       "      <td>-3.25</td>\n",
       "      <td>2.29</td>\n",
       "      <td>-6.42</td>\n",
       "    </tr>\n",
       "    <tr>\n",
       "      <th>29</th>\n",
       "      <td>Canada</td>\n",
       "      <td>10.32</td>\n",
       "      <td>11.20</td>\n",
       "      <td>11.38</td>\n",
       "      <td>10.40</td>\n",
       "      <td>9.49</td>\n",
       "      <td>9.62</td>\n",
       "      <td>9.10</td>\n",
       "      <td>8.28</td>\n",
       "      <td>7.58</td>\n",
       "      <td>...</td>\n",
       "      <td>5.83</td>\n",
       "      <td>5.66</td>\n",
       "      <td>9.46</td>\n",
       "      <td>7.51</td>\n",
       "      <td>Americas</td>\n",
       "      <td>Northern America</td>\n",
       "      <td>7.838387</td>\n",
       "      <td>3.49</td>\n",
       "      <td>-1.23</td>\n",
       "      <td>-1.40</td>\n",
       "    </tr>\n",
       "    <tr>\n",
       "      <th>33</th>\n",
       "      <td>China</td>\n",
       "      <td>2.37</td>\n",
       "      <td>2.37</td>\n",
       "      <td>2.69</td>\n",
       "      <td>2.90</td>\n",
       "      <td>3.00</td>\n",
       "      <td>3.12</td>\n",
       "      <td>3.23</td>\n",
       "      <td>3.24</td>\n",
       "      <td>3.25</td>\n",
       "      <td>...</td>\n",
       "      <td>4.28</td>\n",
       "      <td>4.52</td>\n",
       "      <td>5.00</td>\n",
       "      <td>4.82</td>\n",
       "      <td>Asia</td>\n",
       "      <td>Eastern Asia</td>\n",
       "      <td>4.007097</td>\n",
       "      <td>-0.89</td>\n",
       "      <td>-1.27</td>\n",
       "      <td>-0.47</td>\n",
       "    </tr>\n",
       "    <tr>\n",
       "      <th>57</th>\n",
       "      <td>France</td>\n",
       "      <td>9.13</td>\n",
       "      <td>10.21</td>\n",
       "      <td>11.32</td>\n",
       "      <td>12.59</td>\n",
       "      <td>11.84</td>\n",
       "      <td>12.37</td>\n",
       "      <td>12.57</td>\n",
       "      <td>12.07</td>\n",
       "      <td>11.98</td>\n",
       "      <td>...</td>\n",
       "      <td>9.02</td>\n",
       "      <td>8.41</td>\n",
       "      <td>8.01</td>\n",
       "      <td>8.06</td>\n",
       "      <td>Europe</td>\n",
       "      <td>Western Europe</td>\n",
       "      <td>9.671935</td>\n",
       "      <td>-1.09</td>\n",
       "      <td>1.35</td>\n",
       "      <td>0.86</td>\n",
       "    </tr>\n",
       "    <tr>\n",
       "      <th>62</th>\n",
       "      <td>Germany</td>\n",
       "      <td>5.32</td>\n",
       "      <td>6.32</td>\n",
       "      <td>7.68</td>\n",
       "      <td>8.73</td>\n",
       "      <td>8.16</td>\n",
       "      <td>8.82</td>\n",
       "      <td>9.86</td>\n",
       "      <td>9.79</td>\n",
       "      <td>8.86</td>\n",
       "      <td>...</td>\n",
       "      <td>3.38</td>\n",
       "      <td>3.14</td>\n",
       "      <td>3.81</td>\n",
       "      <td>3.54</td>\n",
       "      <td>Europe</td>\n",
       "      <td>Western Europe</td>\n",
       "      <td>7.041935</td>\n",
       "      <td>-2.60</td>\n",
       "      <td>0.95</td>\n",
       "      <td>3.16</td>\n",
       "    </tr>\n",
       "    <tr>\n",
       "      <th>75</th>\n",
       "      <td>India</td>\n",
       "      <td>5.60</td>\n",
       "      <td>5.73</td>\n",
       "      <td>5.69</td>\n",
       "      <td>5.74</td>\n",
       "      <td>5.76</td>\n",
       "      <td>5.74</td>\n",
       "      <td>5.61</td>\n",
       "      <td>5.67</td>\n",
       "      <td>5.74</td>\n",
       "      <td>...</td>\n",
       "      <td>5.33</td>\n",
       "      <td>5.27</td>\n",
       "      <td>8.00</td>\n",
       "      <td>5.98</td>\n",
       "      <td>Asia</td>\n",
       "      <td>Southern Asia</td>\n",
       "      <td>5.644839</td>\n",
       "      <td>0.04</td>\n",
       "      <td>0.01</td>\n",
       "      <td>-2.45</td>\n",
       "    </tr>\n",
       "    <tr>\n",
       "      <th>76</th>\n",
       "      <td>Indonesia</td>\n",
       "      <td>2.62</td>\n",
       "      <td>2.73</td>\n",
       "      <td>2.78</td>\n",
       "      <td>4.37</td>\n",
       "      <td>4.60</td>\n",
       "      <td>4.86</td>\n",
       "      <td>4.68</td>\n",
       "      <td>5.46</td>\n",
       "      <td>6.36</td>\n",
       "      <td>...</td>\n",
       "      <td>4.40</td>\n",
       "      <td>3.62</td>\n",
       "      <td>4.28</td>\n",
       "      <td>4.41</td>\n",
       "      <td>Asia</td>\n",
       "      <td>South-Eastern Asia</td>\n",
       "      <td>5.195806</td>\n",
       "      <td>-3.46</td>\n",
       "      <td>0.47</td>\n",
       "      <td>1.33</td>\n",
       "    </tr>\n",
       "    <tr>\n",
       "      <th>81</th>\n",
       "      <td>Italy</td>\n",
       "      <td>10.10</td>\n",
       "      <td>9.33</td>\n",
       "      <td>10.24</td>\n",
       "      <td>11.09</td>\n",
       "      <td>11.67</td>\n",
       "      <td>11.87</td>\n",
       "      <td>12.00</td>\n",
       "      <td>12.12</td>\n",
       "      <td>11.69</td>\n",
       "      <td>...</td>\n",
       "      <td>10.61</td>\n",
       "      <td>9.95</td>\n",
       "      <td>9.16</td>\n",
       "      <td>9.83</td>\n",
       "      <td>Europe</td>\n",
       "      <td>Southern Europe</td>\n",
       "      <td>9.939032</td>\n",
       "      <td>-0.74</td>\n",
       "      <td>2.48</td>\n",
       "      <td>-0.80</td>\n",
       "    </tr>\n",
       "    <tr>\n",
       "      <th>83</th>\n",
       "      <td>Japan</td>\n",
       "      <td>2.10</td>\n",
       "      <td>2.20</td>\n",
       "      <td>2.50</td>\n",
       "      <td>2.90</td>\n",
       "      <td>3.20</td>\n",
       "      <td>3.40</td>\n",
       "      <td>3.40</td>\n",
       "      <td>4.10</td>\n",
       "      <td>4.70</td>\n",
       "      <td>...</td>\n",
       "      <td>2.40</td>\n",
       "      <td>2.40</td>\n",
       "      <td>2.80</td>\n",
       "      <td>2.80</td>\n",
       "      <td>Asia</td>\n",
       "      <td>Eastern Asia</td>\n",
       "      <td>3.759677</td>\n",
       "      <td>-2.65</td>\n",
       "      <td>-0.35</td>\n",
       "      <td>2.30</td>\n",
       "    </tr>\n",
       "    <tr>\n",
       "      <th>87</th>\n",
       "      <td>Korea, Dem. People's Rep.</td>\n",
       "      <td>2.30</td>\n",
       "      <td>2.31</td>\n",
       "      <td>2.42</td>\n",
       "      <td>2.54</td>\n",
       "      <td>2.55</td>\n",
       "      <td>2.60</td>\n",
       "      <td>2.68</td>\n",
       "      <td>2.83</td>\n",
       "      <td>2.97</td>\n",
       "      <td>...</td>\n",
       "      <td>2.63</td>\n",
       "      <td>2.59</td>\n",
       "      <td>2.92</td>\n",
       "      <td>2.59</td>\n",
       "      <td>Asia</td>\n",
       "      <td>Eastern Asia</td>\n",
       "      <td>2.726774</td>\n",
       "      <td>-0.63</td>\n",
       "      <td>0.22</td>\n",
       "      <td>-0.21</td>\n",
       "    </tr>\n",
       "    <tr>\n",
       "      <th>108</th>\n",
       "      <td>Mexico</td>\n",
       "      <td>3.15</td>\n",
       "      <td>3.24</td>\n",
       "      <td>3.37</td>\n",
       "      <td>4.44</td>\n",
       "      <td>7.10</td>\n",
       "      <td>5.47</td>\n",
       "      <td>4.24</td>\n",
       "      <td>3.73</td>\n",
       "      <td>2.60</td>\n",
       "      <td>...</td>\n",
       "      <td>3.28</td>\n",
       "      <td>3.48</td>\n",
       "      <td>4.45</td>\n",
       "      <td>4.38</td>\n",
       "      <td>Americas</td>\n",
       "      <td>Central America</td>\n",
       "      <td>4.040968</td>\n",
       "      <td>0.50</td>\n",
       "      <td>-2.65</td>\n",
       "      <td>0.85</td>\n",
       "    </tr>\n",
       "    <tr>\n",
       "      <th>137</th>\n",
       "      <td>Russian Federation</td>\n",
       "      <td>5.41</td>\n",
       "      <td>5.18</td>\n",
       "      <td>5.88</td>\n",
       "      <td>8.13</td>\n",
       "      <td>9.45</td>\n",
       "      <td>9.67</td>\n",
       "      <td>11.81</td>\n",
       "      <td>13.26</td>\n",
       "      <td>13.04</td>\n",
       "      <td>...</td>\n",
       "      <td>4.85</td>\n",
       "      <td>4.50</td>\n",
       "      <td>5.59</td>\n",
       "      <td>5.01</td>\n",
       "      <td>Europe</td>\n",
       "      <td>Eastern Europe</td>\n",
       "      <td>7.296452</td>\n",
       "      <td>-5.17</td>\n",
       "      <td>3.21</td>\n",
       "      <td>1.78</td>\n",
       "    </tr>\n",
       "    <tr>\n",
       "      <th>141</th>\n",
       "      <td>Saudi Arabia</td>\n",
       "      <td>7.07</td>\n",
       "      <td>7.20</td>\n",
       "      <td>6.85</td>\n",
       "      <td>6.41</td>\n",
       "      <td>6.00</td>\n",
       "      <td>5.56</td>\n",
       "      <td>5.15</td>\n",
       "      <td>4.72</td>\n",
       "      <td>4.35</td>\n",
       "      <td>...</td>\n",
       "      <td>6.04</td>\n",
       "      <td>5.67</td>\n",
       "      <td>7.45</td>\n",
       "      <td>7.36</td>\n",
       "      <td>Asia</td>\n",
       "      <td>Western Asia</td>\n",
       "      <td>5.787742</td>\n",
       "      <td>2.50</td>\n",
       "      <td>-0.98</td>\n",
       "      <td>-1.90</td>\n",
       "    </tr>\n",
       "    <tr>\n",
       "      <th>150</th>\n",
       "      <td>South Africa</td>\n",
       "      <td>29.95</td>\n",
       "      <td>29.98</td>\n",
       "      <td>29.92</td>\n",
       "      <td>29.89</td>\n",
       "      <td>29.89</td>\n",
       "      <td>29.87</td>\n",
       "      <td>29.91</td>\n",
       "      <td>29.95</td>\n",
       "      <td>29.91</td>\n",
       "      <td>...</td>\n",
       "      <td>26.91</td>\n",
       "      <td>28.47</td>\n",
       "      <td>29.22</td>\n",
       "      <td>33.56</td>\n",
       "      <td>Africa</td>\n",
       "      <td>Southern Africa</td>\n",
       "      <td>28.232581</td>\n",
       "      <td>0.07</td>\n",
       "      <td>5.20</td>\n",
       "      <td>-4.54</td>\n",
       "    </tr>\n",
       "    <tr>\n",
       "      <th>169</th>\n",
       "      <td>Turkiye</td>\n",
       "      <td>8.21</td>\n",
       "      <td>8.51</td>\n",
       "      <td>8.96</td>\n",
       "      <td>8.58</td>\n",
       "      <td>7.64</td>\n",
       "      <td>6.63</td>\n",
       "      <td>6.84</td>\n",
       "      <td>6.89</td>\n",
       "      <td>7.69</td>\n",
       "      <td>...</td>\n",
       "      <td>10.89</td>\n",
       "      <td>13.67</td>\n",
       "      <td>13.11</td>\n",
       "      <td>13.39</td>\n",
       "      <td>Asia</td>\n",
       "      <td>Western Asia</td>\n",
       "      <td>9.556129</td>\n",
       "      <td>1.71</td>\n",
       "      <td>-4.16</td>\n",
       "      <td>-2.45</td>\n",
       "    </tr>\n",
       "    <tr>\n",
       "      <th>174</th>\n",
       "      <td>United Kingdom</td>\n",
       "      <td>8.55</td>\n",
       "      <td>9.78</td>\n",
       "      <td>10.35</td>\n",
       "      <td>9.65</td>\n",
       "      <td>8.69</td>\n",
       "      <td>8.19</td>\n",
       "      <td>7.07</td>\n",
       "      <td>6.20</td>\n",
       "      <td>6.04</td>\n",
       "      <td>...</td>\n",
       "      <td>4.00</td>\n",
       "      <td>3.74</td>\n",
       "      <td>4.47</td>\n",
       "      <td>4.53</td>\n",
       "      <td>Europe</td>\n",
       "      <td>Northern Europe</td>\n",
       "      <td>6.330968</td>\n",
       "      <td>2.99</td>\n",
       "      <td>-2.23</td>\n",
       "      <td>3.32</td>\n",
       "    </tr>\n",
       "    <tr>\n",
       "      <th>175</th>\n",
       "      <td>United States</td>\n",
       "      <td>6.80</td>\n",
       "      <td>7.50</td>\n",
       "      <td>6.90</td>\n",
       "      <td>6.12</td>\n",
       "      <td>5.65</td>\n",
       "      <td>5.45</td>\n",
       "      <td>5.00</td>\n",
       "      <td>4.51</td>\n",
       "      <td>4.22</td>\n",
       "      <td>...</td>\n",
       "      <td>3.90</td>\n",
       "      <td>3.67</td>\n",
       "      <td>8.05</td>\n",
       "      <td>5.46</td>\n",
       "      <td>Americas</td>\n",
       "      <td>Northern America</td>\n",
       "      <td>5.912903</td>\n",
       "      <td>2.81</td>\n",
       "      <td>-5.64</td>\n",
       "      <td>1.58</td>\n",
       "    </tr>\n",
       "    <tr>\n",
       "      <th>126</th>\n",
       "      <td>Pakistan</td>\n",
       "      <td>0.62</td>\n",
       "      <td>0.66</td>\n",
       "      <td>0.56</td>\n",
       "      <td>0.59</td>\n",
       "      <td>0.60</td>\n",
       "      <td>0.60</td>\n",
       "      <td>0.54</td>\n",
       "      <td>0.56</td>\n",
       "      <td>0.57</td>\n",
       "      <td>...</td>\n",
       "      <td>4.08</td>\n",
       "      <td>3.54</td>\n",
       "      <td>4.30</td>\n",
       "      <td>4.35</td>\n",
       "      <td>Asia</td>\n",
       "      <td>Southern Asia</td>\n",
       "      <td>1.494839</td>\n",
       "      <td>0.04</td>\n",
       "      <td>-0.07</td>\n",
       "      <td>-3.65</td>\n",
       "    </tr>\n",
       "  </tbody>\n",
       "</table>\n",
       "<p>20 rows × 38 columns</p>\n",
       "</div>"
      ],
      "text/plain": [
       "                  Country Name   1991   1992   1993   1994   1995   1996  \\\n",
       "4                    Argentina   5.44   6.36  10.10  11.76  18.80  17.11   \n",
       "6                    Australia   9.58  10.73  10.87   9.72   8.47   8.51   \n",
       "21                      Brazil   6.31   6.42   6.03   6.17   6.42   7.25   \n",
       "29                      Canada  10.32  11.20  11.38  10.40   9.49   9.62   \n",
       "33                       China   2.37   2.37   2.69   2.90   3.00   3.12   \n",
       "57                      France   9.13  10.21  11.32  12.59  11.84  12.37   \n",
       "62                     Germany   5.32   6.32   7.68   8.73   8.16   8.82   \n",
       "75                       India   5.60   5.73   5.69   5.74   5.76   5.74   \n",
       "76                   Indonesia   2.62   2.73   2.78   4.37   4.60   4.86   \n",
       "81                       Italy  10.10   9.33  10.24  11.09  11.67  11.87   \n",
       "83                       Japan   2.10   2.20   2.50   2.90   3.20   3.40   \n",
       "87   Korea, Dem. People's Rep.   2.30   2.31   2.42   2.54   2.55   2.60   \n",
       "108                     Mexico   3.15   3.24   3.37   4.44   7.10   5.47   \n",
       "137         Russian Federation   5.41   5.18   5.88   8.13   9.45   9.67   \n",
       "141               Saudi Arabia   7.07   7.20   6.85   6.41   6.00   5.56   \n",
       "150               South Africa  29.95  29.98  29.92  29.89  29.89  29.87   \n",
       "169                    Turkiye   8.21   8.51   8.96   8.58   7.64   6.63   \n",
       "174             United Kingdom   8.55   9.78  10.35   9.65   8.69   8.19   \n",
       "175              United States   6.80   7.50   6.90   6.12   5.65   5.45   \n",
       "126                   Pakistan   0.62   0.66   0.56   0.59   0.60   0.60   \n",
       "\n",
       "      1997   1998   1999  ...   2018   2019   2020   2021  continent  \\\n",
       "4    14.82  12.65  14.05  ...   9.22   9.84  11.46  10.90   Americas   \n",
       "6     8.36   7.68   6.87  ...   5.30   5.16   6.46   5.11    Oceania   \n",
       "21    8.16   9.42  10.21  ...  12.33  11.93  13.69  14.40   Americas   \n",
       "29    9.10   8.28   7.58  ...   5.83   5.66   9.46   7.51   Americas   \n",
       "33    3.23   3.24   3.25  ...   4.28   4.52   5.00   4.82       Asia   \n",
       "57   12.57  12.07  11.98  ...   9.02   8.41   8.01   8.06     Europe   \n",
       "62    9.86   9.79   8.86  ...   3.38   3.14   3.81   3.54     Europe   \n",
       "75    5.61   5.67   5.74  ...   5.33   5.27   8.00   5.98       Asia   \n",
       "76    4.68   5.46   6.36  ...   4.40   3.62   4.28   4.41       Asia   \n",
       "81   12.00  12.12  11.69  ...  10.61   9.95   9.16   9.83     Europe   \n",
       "83    3.40   4.10   4.70  ...   2.40   2.40   2.80   2.80       Asia   \n",
       "87    2.68   2.83   2.97  ...   2.63   2.59   2.92   2.59       Asia   \n",
       "108   4.24   3.73   2.60  ...   3.28   3.48   4.45   4.38   Americas   \n",
       "137  11.81  13.26  13.04  ...   4.85   4.50   5.59   5.01     Europe   \n",
       "141   5.15   4.72   4.35  ...   6.04   5.67   7.45   7.36       Asia   \n",
       "150  29.91  29.95  29.91  ...  26.91  28.47  29.22  33.56     Africa   \n",
       "169   6.84   6.89   7.69  ...  10.89  13.67  13.11  13.39       Asia   \n",
       "174   7.07   6.20   6.04  ...   4.00   3.74   4.47   4.53     Europe   \n",
       "175   5.00   4.51   4.22  ...   3.90   3.67   8.05   5.46   Americas   \n",
       "126   0.54   0.56   0.57  ...   4.08   3.54   4.30   4.35       Asia   \n",
       "\n",
       "                    sub_region    average  91-20  20-21  21-22  \n",
       "4                South America  10.977742  -9.56   7.29  -3.75  \n",
       "6    Australia and New Zealand   6.519677   3.30   1.07  -1.25  \n",
       "21               South America   8.924194  -3.25   2.29  -6.42  \n",
       "29            Northern America   7.838387   3.49  -1.23  -1.40  \n",
       "33                Eastern Asia   4.007097  -0.89  -1.27  -0.47  \n",
       "57              Western Europe   9.671935  -1.09   1.35   0.86  \n",
       "62              Western Europe   7.041935  -2.60   0.95   3.16  \n",
       "75               Southern Asia   5.644839   0.04   0.01  -2.45  \n",
       "76          South-Eastern Asia   5.195806  -3.46   0.47   1.33  \n",
       "81             Southern Europe   9.939032  -0.74   2.48  -0.80  \n",
       "83                Eastern Asia   3.759677  -2.65  -0.35   2.30  \n",
       "87                Eastern Asia   2.726774  -0.63   0.22  -0.21  \n",
       "108            Central America   4.040968   0.50  -2.65   0.85  \n",
       "137             Eastern Europe   7.296452  -5.17   3.21   1.78  \n",
       "141               Western Asia   5.787742   2.50  -0.98  -1.90  \n",
       "150            Southern Africa  28.232581   0.07   5.20  -4.54  \n",
       "169               Western Asia   9.556129   1.71  -4.16  -2.45  \n",
       "174            Northern Europe   6.330968   2.99  -2.23   3.32  \n",
       "175           Northern America   5.912903   2.81  -5.64   1.58  \n",
       "126              Southern Asia   1.494839   0.04  -0.07  -3.65  \n",
       "\n",
       "[20 rows x 38 columns]"
      ]
     },
     "execution_count": 10,
     "metadata": {},
     "output_type": "execute_result"
    }
   ],
   "source": [
    "data_g20c"
   ]
  },
  {
   "cell_type": "code",
   "execution_count": 11,
   "metadata": {},
   "outputs": [
    {
     "data": {
      "application/vnd.plotly.v1+json": {
       "config": {
        "plotlyServerURL": "https://plot.ly"
       },
       "data": [
        {
         "alignmentgroup": "True",
         "hovertemplate": "x=%{x}<br>y=%{y}<extra></extra>",
         "legendgroup": "",
         "marker": {
          "color": "#636efa",
          "pattern": {
           "shape": ""
          }
         },
         "name": "",
         "offsetgroup": "",
         "orientation": "v",
         "showlegend": false,
         "textposition": "auto",
         "type": "bar",
         "x": [
          "Argentina",
          "Australia",
          "Brazil",
          "Canada",
          "China",
          "France",
          "Germany",
          "India",
          "Indonesia",
          "Italy",
          "Japan",
          "Korea, Dem. People's Rep.",
          "Mexico",
          "Russian Federation",
          "Saudi Arabia",
          "South Africa",
          "Turkiye",
          "United Kingdom",
          "United States",
          "Pakistan"
         ],
         "xaxis": "x",
         "y": [
          10.977741935483872,
          6.519677419354841,
          8.924193548387098,
          7.838387096774191,
          4.007096774193548,
          9.671935483870968,
          7.041935483870967,
          5.64483870967742,
          5.195806451612903,
          9.939032258064518,
          3.759677419354839,
          2.726774193548388,
          4.040967741935484,
          7.296451612903227,
          5.7877419354838695,
          28.232580645161285,
          9.556129032258069,
          6.330967741935487,
          5.912903225806453,
          1.4948387096774194
         ],
         "yaxis": "y"
        }
       ],
       "layout": {
        "barmode": "relative",
        "height": 500,
        "legend": {
         "tracegroupgap": 0
        },
        "template": {
         "data": {
          "bar": [
           {
            "error_x": {
             "color": "#2a3f5f"
            },
            "error_y": {
             "color": "#2a3f5f"
            },
            "marker": {
             "line": {
              "color": "#E5ECF6",
              "width": 0.5
             },
             "pattern": {
              "fillmode": "overlay",
              "size": 10,
              "solidity": 0.2
             }
            },
            "type": "bar"
           }
          ],
          "barpolar": [
           {
            "marker": {
             "line": {
              "color": "#E5ECF6",
              "width": 0.5
             },
             "pattern": {
              "fillmode": "overlay",
              "size": 10,
              "solidity": 0.2
             }
            },
            "type": "barpolar"
           }
          ],
          "carpet": [
           {
            "aaxis": {
             "endlinecolor": "#2a3f5f",
             "gridcolor": "white",
             "linecolor": "white",
             "minorgridcolor": "white",
             "startlinecolor": "#2a3f5f"
            },
            "baxis": {
             "endlinecolor": "#2a3f5f",
             "gridcolor": "white",
             "linecolor": "white",
             "minorgridcolor": "white",
             "startlinecolor": "#2a3f5f"
            },
            "type": "carpet"
           }
          ],
          "choropleth": [
           {
            "colorbar": {
             "outlinewidth": 0,
             "ticks": ""
            },
            "type": "choropleth"
           }
          ],
          "contour": [
           {
            "colorbar": {
             "outlinewidth": 0,
             "ticks": ""
            },
            "colorscale": [
             [
              0,
              "#0d0887"
             ],
             [
              0.1111111111111111,
              "#46039f"
             ],
             [
              0.2222222222222222,
              "#7201a8"
             ],
             [
              0.3333333333333333,
              "#9c179e"
             ],
             [
              0.4444444444444444,
              "#bd3786"
             ],
             [
              0.5555555555555556,
              "#d8576b"
             ],
             [
              0.6666666666666666,
              "#ed7953"
             ],
             [
              0.7777777777777778,
              "#fb9f3a"
             ],
             [
              0.8888888888888888,
              "#fdca26"
             ],
             [
              1,
              "#f0f921"
             ]
            ],
            "type": "contour"
           }
          ],
          "contourcarpet": [
           {
            "colorbar": {
             "outlinewidth": 0,
             "ticks": ""
            },
            "type": "contourcarpet"
           }
          ],
          "heatmap": [
           {
            "colorbar": {
             "outlinewidth": 0,
             "ticks": ""
            },
            "colorscale": [
             [
              0,
              "#0d0887"
             ],
             [
              0.1111111111111111,
              "#46039f"
             ],
             [
              0.2222222222222222,
              "#7201a8"
             ],
             [
              0.3333333333333333,
              "#9c179e"
             ],
             [
              0.4444444444444444,
              "#bd3786"
             ],
             [
              0.5555555555555556,
              "#d8576b"
             ],
             [
              0.6666666666666666,
              "#ed7953"
             ],
             [
              0.7777777777777778,
              "#fb9f3a"
             ],
             [
              0.8888888888888888,
              "#fdca26"
             ],
             [
              1,
              "#f0f921"
             ]
            ],
            "type": "heatmap"
           }
          ],
          "heatmapgl": [
           {
            "colorbar": {
             "outlinewidth": 0,
             "ticks": ""
            },
            "colorscale": [
             [
              0,
              "#0d0887"
             ],
             [
              0.1111111111111111,
              "#46039f"
             ],
             [
              0.2222222222222222,
              "#7201a8"
             ],
             [
              0.3333333333333333,
              "#9c179e"
             ],
             [
              0.4444444444444444,
              "#bd3786"
             ],
             [
              0.5555555555555556,
              "#d8576b"
             ],
             [
              0.6666666666666666,
              "#ed7953"
             ],
             [
              0.7777777777777778,
              "#fb9f3a"
             ],
             [
              0.8888888888888888,
              "#fdca26"
             ],
             [
              1,
              "#f0f921"
             ]
            ],
            "type": "heatmapgl"
           }
          ],
          "histogram": [
           {
            "marker": {
             "pattern": {
              "fillmode": "overlay",
              "size": 10,
              "solidity": 0.2
             }
            },
            "type": "histogram"
           }
          ],
          "histogram2d": [
           {
            "colorbar": {
             "outlinewidth": 0,
             "ticks": ""
            },
            "colorscale": [
             [
              0,
              "#0d0887"
             ],
             [
              0.1111111111111111,
              "#46039f"
             ],
             [
              0.2222222222222222,
              "#7201a8"
             ],
             [
              0.3333333333333333,
              "#9c179e"
             ],
             [
              0.4444444444444444,
              "#bd3786"
             ],
             [
              0.5555555555555556,
              "#d8576b"
             ],
             [
              0.6666666666666666,
              "#ed7953"
             ],
             [
              0.7777777777777778,
              "#fb9f3a"
             ],
             [
              0.8888888888888888,
              "#fdca26"
             ],
             [
              1,
              "#f0f921"
             ]
            ],
            "type": "histogram2d"
           }
          ],
          "histogram2dcontour": [
           {
            "colorbar": {
             "outlinewidth": 0,
             "ticks": ""
            },
            "colorscale": [
             [
              0,
              "#0d0887"
             ],
             [
              0.1111111111111111,
              "#46039f"
             ],
             [
              0.2222222222222222,
              "#7201a8"
             ],
             [
              0.3333333333333333,
              "#9c179e"
             ],
             [
              0.4444444444444444,
              "#bd3786"
             ],
             [
              0.5555555555555556,
              "#d8576b"
             ],
             [
              0.6666666666666666,
              "#ed7953"
             ],
             [
              0.7777777777777778,
              "#fb9f3a"
             ],
             [
              0.8888888888888888,
              "#fdca26"
             ],
             [
              1,
              "#f0f921"
             ]
            ],
            "type": "histogram2dcontour"
           }
          ],
          "mesh3d": [
           {
            "colorbar": {
             "outlinewidth": 0,
             "ticks": ""
            },
            "type": "mesh3d"
           }
          ],
          "parcoords": [
           {
            "line": {
             "colorbar": {
              "outlinewidth": 0,
              "ticks": ""
             }
            },
            "type": "parcoords"
           }
          ],
          "pie": [
           {
            "automargin": true,
            "type": "pie"
           }
          ],
          "scatter": [
           {
            "fillpattern": {
             "fillmode": "overlay",
             "size": 10,
             "solidity": 0.2
            },
            "type": "scatter"
           }
          ],
          "scatter3d": [
           {
            "line": {
             "colorbar": {
              "outlinewidth": 0,
              "ticks": ""
             }
            },
            "marker": {
             "colorbar": {
              "outlinewidth": 0,
              "ticks": ""
             }
            },
            "type": "scatter3d"
           }
          ],
          "scattercarpet": [
           {
            "marker": {
             "colorbar": {
              "outlinewidth": 0,
              "ticks": ""
             }
            },
            "type": "scattercarpet"
           }
          ],
          "scattergeo": [
           {
            "marker": {
             "colorbar": {
              "outlinewidth": 0,
              "ticks": ""
             }
            },
            "type": "scattergeo"
           }
          ],
          "scattergl": [
           {
            "marker": {
             "colorbar": {
              "outlinewidth": 0,
              "ticks": ""
             }
            },
            "type": "scattergl"
           }
          ],
          "scattermapbox": [
           {
            "marker": {
             "colorbar": {
              "outlinewidth": 0,
              "ticks": ""
             }
            },
            "type": "scattermapbox"
           }
          ],
          "scatterpolar": [
           {
            "marker": {
             "colorbar": {
              "outlinewidth": 0,
              "ticks": ""
             }
            },
            "type": "scatterpolar"
           }
          ],
          "scatterpolargl": [
           {
            "marker": {
             "colorbar": {
              "outlinewidth": 0,
              "ticks": ""
             }
            },
            "type": "scatterpolargl"
           }
          ],
          "scatterternary": [
           {
            "marker": {
             "colorbar": {
              "outlinewidth": 0,
              "ticks": ""
             }
            },
            "type": "scatterternary"
           }
          ],
          "surface": [
           {
            "colorbar": {
             "outlinewidth": 0,
             "ticks": ""
            },
            "colorscale": [
             [
              0,
              "#0d0887"
             ],
             [
              0.1111111111111111,
              "#46039f"
             ],
             [
              0.2222222222222222,
              "#7201a8"
             ],
             [
              0.3333333333333333,
              "#9c179e"
             ],
             [
              0.4444444444444444,
              "#bd3786"
             ],
             [
              0.5555555555555556,
              "#d8576b"
             ],
             [
              0.6666666666666666,
              "#ed7953"
             ],
             [
              0.7777777777777778,
              "#fb9f3a"
             ],
             [
              0.8888888888888888,
              "#fdca26"
             ],
             [
              1,
              "#f0f921"
             ]
            ],
            "type": "surface"
           }
          ],
          "table": [
           {
            "cells": {
             "fill": {
              "color": "#EBF0F8"
             },
             "line": {
              "color": "white"
             }
            },
            "header": {
             "fill": {
              "color": "#C8D4E3"
             },
             "line": {
              "color": "white"
             }
            },
            "type": "table"
           }
          ]
         },
         "layout": {
          "annotationdefaults": {
           "arrowcolor": "#2a3f5f",
           "arrowhead": 0,
           "arrowwidth": 1
          },
          "autotypenumbers": "strict",
          "coloraxis": {
           "colorbar": {
            "outlinewidth": 0,
            "ticks": ""
           }
          },
          "colorscale": {
           "diverging": [
            [
             0,
             "#8e0152"
            ],
            [
             0.1,
             "#c51b7d"
            ],
            [
             0.2,
             "#de77ae"
            ],
            [
             0.3,
             "#f1b6da"
            ],
            [
             0.4,
             "#fde0ef"
            ],
            [
             0.5,
             "#f7f7f7"
            ],
            [
             0.6,
             "#e6f5d0"
            ],
            [
             0.7,
             "#b8e186"
            ],
            [
             0.8,
             "#7fbc41"
            ],
            [
             0.9,
             "#4d9221"
            ],
            [
             1,
             "#276419"
            ]
           ],
           "sequential": [
            [
             0,
             "#0d0887"
            ],
            [
             0.1111111111111111,
             "#46039f"
            ],
            [
             0.2222222222222222,
             "#7201a8"
            ],
            [
             0.3333333333333333,
             "#9c179e"
            ],
            [
             0.4444444444444444,
             "#bd3786"
            ],
            [
             0.5555555555555556,
             "#d8576b"
            ],
            [
             0.6666666666666666,
             "#ed7953"
            ],
            [
             0.7777777777777778,
             "#fb9f3a"
            ],
            [
             0.8888888888888888,
             "#fdca26"
            ],
            [
             1,
             "#f0f921"
            ]
           ],
           "sequentialminus": [
            [
             0,
             "#0d0887"
            ],
            [
             0.1111111111111111,
             "#46039f"
            ],
            [
             0.2222222222222222,
             "#7201a8"
            ],
            [
             0.3333333333333333,
             "#9c179e"
            ],
            [
             0.4444444444444444,
             "#bd3786"
            ],
            [
             0.5555555555555556,
             "#d8576b"
            ],
            [
             0.6666666666666666,
             "#ed7953"
            ],
            [
             0.7777777777777778,
             "#fb9f3a"
            ],
            [
             0.8888888888888888,
             "#fdca26"
            ],
            [
             1,
             "#f0f921"
            ]
           ]
          },
          "colorway": [
           "#636efa",
           "#EF553B",
           "#00cc96",
           "#ab63fa",
           "#FFA15A",
           "#19d3f3",
           "#FF6692",
           "#B6E880",
           "#FF97FF",
           "#FECB52"
          ],
          "font": {
           "color": "#2a3f5f"
          },
          "geo": {
           "bgcolor": "white",
           "lakecolor": "white",
           "landcolor": "#E5ECF6",
           "showlakes": true,
           "showland": true,
           "subunitcolor": "white"
          },
          "hoverlabel": {
           "align": "left"
          },
          "hovermode": "closest",
          "mapbox": {
           "style": "light"
          },
          "paper_bgcolor": "white",
          "plot_bgcolor": "#E5ECF6",
          "polar": {
           "angularaxis": {
            "gridcolor": "white",
            "linecolor": "white",
            "ticks": ""
           },
           "bgcolor": "#E5ECF6",
           "radialaxis": {
            "gridcolor": "white",
            "linecolor": "white",
            "ticks": ""
           }
          },
          "scene": {
           "xaxis": {
            "backgroundcolor": "#E5ECF6",
            "gridcolor": "white",
            "gridwidth": 2,
            "linecolor": "white",
            "showbackground": true,
            "ticks": "",
            "zerolinecolor": "white"
           },
           "yaxis": {
            "backgroundcolor": "#E5ECF6",
            "gridcolor": "white",
            "gridwidth": 2,
            "linecolor": "white",
            "showbackground": true,
            "ticks": "",
            "zerolinecolor": "white"
           },
           "zaxis": {
            "backgroundcolor": "#E5ECF6",
            "gridcolor": "white",
            "gridwidth": 2,
            "linecolor": "white",
            "showbackground": true,
            "ticks": "",
            "zerolinecolor": "white"
           }
          },
          "shapedefaults": {
           "line": {
            "color": "#2a3f5f"
           }
          },
          "ternary": {
           "aaxis": {
            "gridcolor": "white",
            "linecolor": "white",
            "ticks": ""
           },
           "baxis": {
            "gridcolor": "white",
            "linecolor": "white",
            "ticks": ""
           },
           "bgcolor": "#E5ECF6",
           "caxis": {
            "gridcolor": "white",
            "linecolor": "white",
            "ticks": ""
           }
          },
          "title": {
           "x": 0.05
          },
          "xaxis": {
           "automargin": true,
           "gridcolor": "white",
           "linecolor": "white",
           "ticks": "",
           "title": {
            "standoff": 15
           },
           "zerolinecolor": "white",
           "zerolinewidth": 2
          },
          "yaxis": {
           "automargin": true,
           "gridcolor": "white",
           "linecolor": "white",
           "ticks": "",
           "title": {
            "standoff": 15
           },
           "zerolinecolor": "white",
           "zerolinewidth": 2
          }
         }
        },
        "title": {
         "text": "Unemployment Rate of G20 Countries"
        },
        "width": 1000,
        "xaxis": {
         "anchor": "y",
         "domain": [
          0,
          1
         ],
         "title": {
          "text": "x"
         }
        },
        "yaxis": {
         "anchor": "x",
         "domain": [
          0,
          1
         ],
         "title": {
          "text": "y"
         }
        }
       }
      }
     },
     "metadata": {},
     "output_type": "display_data"
    }
   ],
   "source": [
    "#visualizing each country unemployment rate\n",
    "\n",
    "fig=px.bar(x=data_g20c['Country Name'],y=data_g20c['average'],height=500,width=1000,\n",
    "           labels={'index':'Country Name','value':'Unemployment Rate'},\n",
    "           title='Unemployment Rate of G20 Countries')\n",
    "fig.show()"
   ]
  },
  {
   "attachments": {},
   "cell_type": "markdown",
   "metadata": {},
   "source": [
    "# **Transposing Dataset**"
   ]
  },
  {
   "cell_type": "code",
   "execution_count": 16,
   "metadata": {},
   "outputs": [
    {
     "name": "stdout",
     "output_type": "stream",
     "text": [
      "Country Name  Argentina  Australia  Brazil  Canada  China  France  Germany  \\\n",
      "Country Name  Argentina  Australia  Brazil  Canada  China  France  Germany   \n",
      "1991               5.44       9.58    6.31   10.32   2.37    9.13     5.32   \n",
      "1992               6.36      10.73    6.42    11.2   2.37   10.21     6.32   \n",
      "1993               10.1      10.87    6.03   11.38   2.69   11.32     7.68   \n",
      "1994              11.76       9.72    6.17    10.4    2.9   12.59     8.73   \n",
      "1995               18.8       8.47    6.42    9.49    3.0   11.84     8.16   \n",
      "1996              17.11       8.51    7.25    9.62   3.12   12.37     8.82   \n",
      "1997              14.82       8.36    8.16     9.1   3.23   12.57     9.86   \n",
      "1998              12.65       7.68    9.42    8.28   3.24   12.07     9.79   \n",
      "1999              14.05       6.87   10.21    7.58   3.25   11.98     8.86   \n",
      "2000               15.0       6.28    9.56    6.83   3.26   10.22     7.92   \n",
      "2001              17.32       6.74    9.61    7.22    3.8    8.61     7.77   \n",
      "2002              19.59       6.37    9.37    7.66   4.24     8.7     8.48   \n",
      "2003              15.36       5.93    9.99    7.57   4.58    8.31     9.78   \n",
      "2004              13.52       5.39    9.11    7.19   4.49    8.91    10.73   \n",
      "2005              11.51       5.03    9.57    6.76   4.52    8.49    11.17   \n",
      "2006              10.08       4.78    8.64    6.32   4.43    8.45    10.25   \n",
      "2007               8.47       4.38    8.33    6.04   4.35    7.66     8.66   \n",
      "2008               7.84       4.23    7.34    6.14   4.59    7.06     7.52   \n",
      "2009               8.65       5.56    8.52    8.34   4.72    8.74     7.74   \n",
      "2010               7.71       5.21    7.27    8.06   4.53    8.87     6.97   \n",
      "2011               7.18       5.08    6.92    7.51   4.55    8.81     5.82   \n",
      "2012               7.22       5.22    7.19    7.29   4.57     9.4     5.38   \n",
      "2013                7.1       5.66    6.98    7.07   4.59    9.92     5.23   \n",
      "2014               7.27       6.08    6.66    6.91   4.61   10.29     4.98   \n",
      "2015               7.52       6.05    8.43    6.91   4.63   10.35     4.62   \n",
      "2016               8.11       5.71    11.6     7.0   4.53   10.05     4.12   \n",
      "2017               8.35       5.59   12.82    6.34   4.44    9.41     3.75   \n",
      "2018               9.22        5.3   12.33    5.83   4.28    9.02     3.38   \n",
      "2019               9.84       5.16   11.93    5.66   4.52    8.41     3.14   \n",
      "2020              11.46       6.46   13.69    9.46    5.0    8.01     3.81   \n",
      "2021               10.9       5.11    14.4    7.51   4.82    8.06     3.54   \n",
      "\n",
      "Country Name  India  Indonesia  Italy  Japan  Korea, Dem. People's Rep.  \\\n",
      "Country Name  India  Indonesia  Italy  Japan  Korea, Dem. People's Rep.   \n",
      "1991            5.6       2.62   10.1    2.1                        2.3   \n",
      "1992           5.73       2.73   9.33    2.2                       2.31   \n",
      "1993           5.69       2.78  10.24    2.5                       2.42   \n",
      "1994           5.74       4.37  11.09    2.9                       2.54   \n",
      "1995           5.76        4.6  11.67    3.2                       2.55   \n",
      "1996           5.74       4.86  11.87    3.4                        2.6   \n",
      "1997           5.61       4.68   12.0    3.4                       2.68   \n",
      "1998           5.67       5.46  12.12    4.1                       2.83   \n",
      "1999           5.74       6.36  11.69    4.7                       2.97   \n",
      "2000           5.56       6.08  10.84   4.75                       2.93   \n",
      "2001           5.58       6.08    9.6   5.02                       2.94   \n",
      "2002           5.53        6.6   9.21   5.39                        2.9   \n",
      "2003           5.64       6.66   8.87   5.25                       2.91   \n",
      "2004           5.63        7.3   7.87   4.73                       2.86   \n",
      "2005           5.61       7.94   7.73   4.45                       2.84   \n",
      "2006            5.6       7.55   6.78   4.19                       2.81   \n",
      "2007           5.57       8.06   6.08   3.89                       2.82   \n",
      "2008           5.41       7.21   6.72    4.0                       2.77   \n",
      "2009           5.54       6.11   7.75   5.07                       2.78   \n",
      "2010           5.55       5.61   8.36    5.1                       2.71   \n",
      "2011           5.43       5.15   8.36   4.55                       2.78   \n",
      "2012           5.41       4.47  10.65   4.36                       2.81   \n",
      "2013           5.42       4.34  12.15    4.0                        2.8   \n",
      "2014           5.44       4.05  12.68    3.6                       2.74   \n",
      "2015           5.43       4.51   11.9    3.4                       2.74   \n",
      "2016           5.42        4.3  11.69    3.1                       2.76   \n",
      "2017           5.36       3.88  11.21    2.8                        2.7   \n",
      "2018           5.33        4.4  10.61    2.4                       2.63   \n",
      "2019           5.27       3.62   9.95    2.4                       2.59   \n",
      "2020            8.0       4.28   9.16    2.8                       2.92   \n",
      "2021           5.98       4.41   9.83    2.8                       2.59   \n",
      "\n",
      "Country Name  Mexico  Russian Federation  Saudi Arabia  South Africa  Turkiye  \\\n",
      "Country Name  Mexico  Russian Federation  Saudi Arabia  South Africa  Turkiye   \n",
      "1991            3.15                5.41          7.07         29.95     8.21   \n",
      "1992            3.24                5.18           7.2         29.98     8.51   \n",
      "1993            3.37                5.88          6.85         29.92     8.96   \n",
      "1994            4.44                8.13          6.41         29.89     8.58   \n",
      "1995             7.1                9.45           6.0         29.89     7.64   \n",
      "1996            5.47                9.67          5.56         29.87     6.63   \n",
      "1997            4.24               11.81          5.15         29.91     6.84   \n",
      "1998            3.73               13.26          4.72         29.95     6.89   \n",
      "1999             2.6               13.04          4.35         29.91     7.69   \n",
      "2000            2.65               10.58          4.57         29.88      6.5   \n",
      "2001            2.63                8.98          4.62         30.69     8.38   \n",
      "2002             3.0                7.88          5.27         33.29    10.36   \n",
      "2003            3.46                8.21          5.56         32.31    10.54   \n",
      "2004            3.94                7.76          5.82         29.45    10.84   \n",
      "2005            3.56                7.12          6.05         29.12    10.64   \n",
      "2006            3.57                7.06          6.25         28.34     8.72   \n",
      "2007            3.63                 6.0          5.73         26.54     8.87   \n",
      "2008            3.87                6.21          5.08         22.41     9.71   \n",
      "2009            5.36                 8.3          5.38         23.52    12.55   \n",
      "2010             5.3                7.37          5.55         24.68    10.66   \n",
      "2011            5.17                6.54          5.77         24.64      8.8   \n",
      "2012            4.89                5.44          5.52         24.73     8.15   \n",
      "2013            4.91                5.46          5.57         24.56     8.73   \n",
      "2014            4.81                5.16          5.72         24.89     9.88   \n",
      "2015            4.31                5.57          5.59         25.15    10.24   \n",
      "2016            3.86                5.56          5.65         26.54    10.84   \n",
      "2017            3.42                5.21          5.89         27.04    10.82   \n",
      "2018            3.28                4.85          6.04         26.91    10.89   \n",
      "2019            3.48                 4.5          5.67         28.47    13.67   \n",
      "2020            4.45                5.59          7.45         29.22    13.11   \n",
      "2021            4.38                5.01          7.36         33.56    13.39   \n",
      "\n",
      "Country Name  United Kingdom  United States  Pakistan  \n",
      "Country Name  United Kingdom  United States  Pakistan  \n",
      "1991                    8.55            6.8      0.62  \n",
      "1992                    9.78            7.5      0.66  \n",
      "1993                   10.35            6.9      0.56  \n",
      "1994                    9.65           6.12      0.59  \n",
      "1995                    8.69           5.65       0.6  \n",
      "1996                    8.19           5.45       0.6  \n",
      "1997                    7.07            5.0      0.54  \n",
      "1998                     6.2           4.51      0.56  \n",
      "1999                    6.04           4.22      0.57  \n",
      "2000                    5.56           3.99      0.58  \n",
      "2001                     4.7           4.73      0.56  \n",
      "2002                    5.04           5.78      0.55  \n",
      "2003                    4.81           5.99      0.59  \n",
      "2004                    4.59           5.53      0.61  \n",
      "2005                    4.75           5.08      0.59  \n",
      "2006                    5.35           4.62      0.58  \n",
      "2007                    5.26           4.62       0.4  \n",
      "2008                    5.62           5.78      0.42  \n",
      "2009                    7.54           9.25      0.54  \n",
      "2010                    7.79           9.63      0.65  \n",
      "2011                    8.04           8.95       0.8  \n",
      "2012                    7.88           8.07      1.85  \n",
      "2013                    7.52           7.37      2.95  \n",
      "2014                    6.11           6.17      1.83  \n",
      "2015                     5.3           5.28      3.57  \n",
      "2016                    4.81           4.87      3.78  \n",
      "2017                    4.33           4.36      3.92  \n",
      "2018                     4.0            3.9      4.08  \n",
      "2019                    3.74           3.67      3.54  \n",
      "2020                    4.47           8.05       4.3  \n",
      "2021                    4.53           5.46      4.35  \n",
      "Country Name  Argentina  Australia  Brazil  Canada  China  France  Germany  \\\n",
      "Country Name  Argentina  Australia  Brazil  Canada  China  France  Germany   \n",
      "1991               5.44       9.58    6.31   10.32   2.37    9.13     5.32   \n",
      "1992               6.36      10.73    6.42    11.2   2.37   10.21     6.32   \n",
      "1993               10.1      10.87    6.03   11.38   2.69   11.32     7.68   \n",
      "1994              11.76       9.72    6.17    10.4    2.9   12.59     8.73   \n",
      "1995               18.8       8.47    6.42    9.49    3.0   11.84     8.16   \n",
      "1996              17.11       8.51    7.25    9.62   3.12   12.37     8.82   \n",
      "1997              14.82       8.36    8.16     9.1   3.23   12.57     9.86   \n",
      "1998              12.65       7.68    9.42    8.28   3.24   12.07     9.79   \n",
      "1999              14.05       6.87   10.21    7.58   3.25   11.98     8.86   \n",
      "2000               15.0       6.28    9.56    6.83   3.26   10.22     7.92   \n",
      "2001              17.32       6.74    9.61    7.22    3.8    8.61     7.77   \n",
      "2002              19.59       6.37    9.37    7.66   4.24     8.7     8.48   \n",
      "2003              15.36       5.93    9.99    7.57   4.58    8.31     9.78   \n",
      "2004              13.52       5.39    9.11    7.19   4.49    8.91    10.73   \n",
      "2005              11.51       5.03    9.57    6.76   4.52    8.49    11.17   \n",
      "2006              10.08       4.78    8.64    6.32   4.43    8.45    10.25   \n",
      "2007               8.47       4.38    8.33    6.04   4.35    7.66     8.66   \n",
      "2008               7.84       4.23    7.34    6.14   4.59    7.06     7.52   \n",
      "2009               8.65       5.56    8.52    8.34   4.72    8.74     7.74   \n",
      "2010               7.71       5.21    7.27    8.06   4.53    8.87     6.97   \n",
      "2011               7.18       5.08    6.92    7.51   4.55    8.81     5.82   \n",
      "2012               7.22       5.22    7.19    7.29   4.57     9.4     5.38   \n",
      "2013                7.1       5.66    6.98    7.07   4.59    9.92     5.23   \n",
      "2014               7.27       6.08    6.66    6.91   4.61   10.29     4.98   \n",
      "2015               7.52       6.05    8.43    6.91   4.63   10.35     4.62   \n",
      "2016               8.11       5.71    11.6     7.0   4.53   10.05     4.12   \n",
      "2017               8.35       5.59   12.82    6.34   4.44    9.41     3.75   \n",
      "2018               9.22        5.3   12.33    5.83   4.28    9.02     3.38   \n",
      "2019               9.84       5.16   11.93    5.66   4.52    8.41     3.14   \n",
      "2020              11.46       6.46   13.69    9.46    5.0    8.01     3.81   \n",
      "2021               10.9       5.11    14.4    7.51   4.82    8.06     3.54   \n",
      "\n",
      "Country Name  India  Indonesia  Italy  Japan  Korea, Dem. People's Rep.  \\\n",
      "Country Name  India  Indonesia  Italy  Japan  Korea, Dem. People's Rep.   \n",
      "1991            5.6       2.62   10.1    2.1                        2.3   \n",
      "1992           5.73       2.73   9.33    2.2                       2.31   \n",
      "1993           5.69       2.78  10.24    2.5                       2.42   \n",
      "1994           5.74       4.37  11.09    2.9                       2.54   \n",
      "1995           5.76        4.6  11.67    3.2                       2.55   \n",
      "1996           5.74       4.86  11.87    3.4                        2.6   \n",
      "1997           5.61       4.68   12.0    3.4                       2.68   \n",
      "1998           5.67       5.46  12.12    4.1                       2.83   \n",
      "1999           5.74       6.36  11.69    4.7                       2.97   \n",
      "2000           5.56       6.08  10.84   4.75                       2.93   \n",
      "2001           5.58       6.08    9.6   5.02                       2.94   \n",
      "2002           5.53        6.6   9.21   5.39                        2.9   \n",
      "2003           5.64       6.66   8.87   5.25                       2.91   \n",
      "2004           5.63        7.3   7.87   4.73                       2.86   \n",
      "2005           5.61       7.94   7.73   4.45                       2.84   \n",
      "2006            5.6       7.55   6.78   4.19                       2.81   \n",
      "2007           5.57       8.06   6.08   3.89                       2.82   \n",
      "2008           5.41       7.21   6.72    4.0                       2.77   \n",
      "2009           5.54       6.11   7.75   5.07                       2.78   \n",
      "2010           5.55       5.61   8.36    5.1                       2.71   \n",
      "2011           5.43       5.15   8.36   4.55                       2.78   \n",
      "2012           5.41       4.47  10.65   4.36                       2.81   \n",
      "2013           5.42       4.34  12.15    4.0                        2.8   \n",
      "2014           5.44       4.05  12.68    3.6                       2.74   \n",
      "2015           5.43       4.51   11.9    3.4                       2.74   \n",
      "2016           5.42        4.3  11.69    3.1                       2.76   \n",
      "2017           5.36       3.88  11.21    2.8                        2.7   \n",
      "2018           5.33        4.4  10.61    2.4                       2.63   \n",
      "2019           5.27       3.62   9.95    2.4                       2.59   \n",
      "2020            8.0       4.28   9.16    2.8                       2.92   \n",
      "2021           5.98       4.41   9.83    2.8                       2.59   \n",
      "\n",
      "Country Name  Mexico  Russian Federation  Saudi Arabia  South Africa  Turkiye  \\\n",
      "Country Name  Mexico  Russian Federation  Saudi Arabia  South Africa  Turkiye   \n",
      "1991            3.15                5.41          7.07         29.95     8.21   \n",
      "1992            3.24                5.18           7.2         29.98     8.51   \n",
      "1993            3.37                5.88          6.85         29.92     8.96   \n",
      "1994            4.44                8.13          6.41         29.89     8.58   \n",
      "1995             7.1                9.45           6.0         29.89     7.64   \n",
      "1996            5.47                9.67          5.56         29.87     6.63   \n",
      "1997            4.24               11.81          5.15         29.91     6.84   \n",
      "1998            3.73               13.26          4.72         29.95     6.89   \n",
      "1999             2.6               13.04          4.35         29.91     7.69   \n",
      "2000            2.65               10.58          4.57         29.88      6.5   \n",
      "2001            2.63                8.98          4.62         30.69     8.38   \n",
      "2002             3.0                7.88          5.27         33.29    10.36   \n",
      "2003            3.46                8.21          5.56         32.31    10.54   \n",
      "2004            3.94                7.76          5.82         29.45    10.84   \n",
      "2005            3.56                7.12          6.05         29.12    10.64   \n",
      "2006            3.57                7.06          6.25         28.34     8.72   \n",
      "2007            3.63                 6.0          5.73         26.54     8.87   \n",
      "2008            3.87                6.21          5.08         22.41     9.71   \n",
      "2009            5.36                 8.3          5.38         23.52    12.55   \n",
      "2010             5.3                7.37          5.55         24.68    10.66   \n",
      "2011            5.17                6.54          5.77         24.64      8.8   \n",
      "2012            4.89                5.44          5.52         24.73     8.15   \n",
      "2013            4.91                5.46          5.57         24.56     8.73   \n",
      "2014            4.81                5.16          5.72         24.89     9.88   \n",
      "2015            4.31                5.57          5.59         25.15    10.24   \n",
      "2016            3.86                5.56          5.65         26.54    10.84   \n",
      "2017            3.42                5.21          5.89         27.04    10.82   \n",
      "2018            3.28                4.85          6.04         26.91    10.89   \n",
      "2019            3.48                 4.5          5.67         28.47    13.67   \n",
      "2020            4.45                5.59          7.45         29.22    13.11   \n",
      "2021            4.38                5.01          7.36         33.56    13.39   \n",
      "\n",
      "Country Name  United Kingdom  United States  Pakistan  \n",
      "Country Name  United Kingdom  United States  Pakistan  \n",
      "1991                    8.55            6.8      0.62  \n",
      "1992                    9.78            7.5      0.66  \n",
      "1993                   10.35            6.9      0.56  \n",
      "1994                    9.65           6.12      0.59  \n",
      "1995                    8.69           5.65       0.6  \n",
      "1996                    8.19           5.45       0.6  \n",
      "1997                    7.07            5.0      0.54  \n",
      "1998                     6.2           4.51      0.56  \n",
      "1999                    6.04           4.22      0.57  \n",
      "2000                    5.56           3.99      0.58  \n",
      "2001                     4.7           4.73      0.56  \n",
      "2002                    5.04           5.78      0.55  \n",
      "2003                    4.81           5.99      0.59  \n",
      "2004                    4.59           5.53      0.61  \n",
      "2005                    4.75           5.08      0.59  \n",
      "2006                    5.35           4.62      0.58  \n",
      "2007                    5.26           4.62       0.4  \n",
      "2008                    5.62           5.78      0.42  \n",
      "2009                    7.54           9.25      0.54  \n",
      "2010                    7.79           9.63      0.65  \n",
      "2011                    8.04           8.95       0.8  \n",
      "2012                    7.88           8.07      1.85  \n",
      "2013                    7.52           7.37      2.95  \n",
      "2014                    6.11           6.17      1.83  \n",
      "2015                     5.3           5.28      3.57  \n",
      "2016                    4.81           4.87      3.78  \n",
      "2017                    4.33           4.36      3.92  \n",
      "2018                     4.0            3.9      4.08  \n",
      "2019                    3.74           3.67      3.54  \n",
      "2020                    4.47           8.05       4.3  \n",
      "2021                    4.53           5.46      4.35  \n"
     ]
    },
    {
     "data": {
      "text/html": [
       "<div>\n",
       "<style scoped>\n",
       "    .dataframe tbody tr th:only-of-type {\n",
       "        vertical-align: middle;\n",
       "    }\n",
       "\n",
       "    .dataframe tbody tr th {\n",
       "        vertical-align: top;\n",
       "    }\n",
       "\n",
       "    .dataframe thead th {\n",
       "        text-align: right;\n",
       "    }\n",
       "</style>\n",
       "<table border=\"1\" class=\"dataframe\">\n",
       "  <thead>\n",
       "    <tr style=\"text-align: right;\">\n",
       "      <th>Country Name</th>\n",
       "      <th>year</th>\n",
       "      <th>Argentina</th>\n",
       "      <th>Australia</th>\n",
       "      <th>Brazil</th>\n",
       "      <th>Canada</th>\n",
       "      <th>China</th>\n",
       "      <th>France</th>\n",
       "      <th>Germany</th>\n",
       "      <th>India</th>\n",
       "      <th>Indonesia</th>\n",
       "      <th>...</th>\n",
       "      <th>Japan</th>\n",
       "      <th>Korea, Dem. People's Rep.</th>\n",
       "      <th>Mexico</th>\n",
       "      <th>Pakistan</th>\n",
       "      <th>Russian Federation</th>\n",
       "      <th>Saudi Arabia</th>\n",
       "      <th>South Africa</th>\n",
       "      <th>Turkiye</th>\n",
       "      <th>United Kingdom</th>\n",
       "      <th>United States</th>\n",
       "    </tr>\n",
       "  </thead>\n",
       "  <tbody>\n",
       "    <tr>\n",
       "      <th>0</th>\n",
       "      <td>1991</td>\n",
       "      <td>5.44</td>\n",
       "      <td>9.58</td>\n",
       "      <td>6.31</td>\n",
       "      <td>10.32</td>\n",
       "      <td>2.37</td>\n",
       "      <td>9.13</td>\n",
       "      <td>5.32</td>\n",
       "      <td>5.6</td>\n",
       "      <td>2.62</td>\n",
       "      <td>...</td>\n",
       "      <td>2.1</td>\n",
       "      <td>2.3</td>\n",
       "      <td>3.15</td>\n",
       "      <td>0.62</td>\n",
       "      <td>5.41</td>\n",
       "      <td>7.07</td>\n",
       "      <td>29.95</td>\n",
       "      <td>8.21</td>\n",
       "      <td>8.55</td>\n",
       "      <td>6.8</td>\n",
       "    </tr>\n",
       "    <tr>\n",
       "      <th>1</th>\n",
       "      <td>1992</td>\n",
       "      <td>6.36</td>\n",
       "      <td>10.73</td>\n",
       "      <td>6.42</td>\n",
       "      <td>11.2</td>\n",
       "      <td>2.37</td>\n",
       "      <td>10.21</td>\n",
       "      <td>6.32</td>\n",
       "      <td>5.73</td>\n",
       "      <td>2.73</td>\n",
       "      <td>...</td>\n",
       "      <td>2.2</td>\n",
       "      <td>2.31</td>\n",
       "      <td>3.24</td>\n",
       "      <td>0.66</td>\n",
       "      <td>5.18</td>\n",
       "      <td>7.2</td>\n",
       "      <td>29.98</td>\n",
       "      <td>8.51</td>\n",
       "      <td>9.78</td>\n",
       "      <td>7.5</td>\n",
       "    </tr>\n",
       "    <tr>\n",
       "      <th>2</th>\n",
       "      <td>1993</td>\n",
       "      <td>10.1</td>\n",
       "      <td>10.87</td>\n",
       "      <td>6.03</td>\n",
       "      <td>11.38</td>\n",
       "      <td>2.69</td>\n",
       "      <td>11.32</td>\n",
       "      <td>7.68</td>\n",
       "      <td>5.69</td>\n",
       "      <td>2.78</td>\n",
       "      <td>...</td>\n",
       "      <td>2.5</td>\n",
       "      <td>2.42</td>\n",
       "      <td>3.37</td>\n",
       "      <td>0.56</td>\n",
       "      <td>5.88</td>\n",
       "      <td>6.85</td>\n",
       "      <td>29.92</td>\n",
       "      <td>8.96</td>\n",
       "      <td>10.35</td>\n",
       "      <td>6.9</td>\n",
       "    </tr>\n",
       "    <tr>\n",
       "      <th>3</th>\n",
       "      <td>1994</td>\n",
       "      <td>11.76</td>\n",
       "      <td>9.72</td>\n",
       "      <td>6.17</td>\n",
       "      <td>10.4</td>\n",
       "      <td>2.9</td>\n",
       "      <td>12.59</td>\n",
       "      <td>8.73</td>\n",
       "      <td>5.74</td>\n",
       "      <td>4.37</td>\n",
       "      <td>...</td>\n",
       "      <td>2.9</td>\n",
       "      <td>2.54</td>\n",
       "      <td>4.44</td>\n",
       "      <td>0.59</td>\n",
       "      <td>8.13</td>\n",
       "      <td>6.41</td>\n",
       "      <td>29.89</td>\n",
       "      <td>8.58</td>\n",
       "      <td>9.65</td>\n",
       "      <td>6.12</td>\n",
       "    </tr>\n",
       "    <tr>\n",
       "      <th>4</th>\n",
       "      <td>1995</td>\n",
       "      <td>18.8</td>\n",
       "      <td>8.47</td>\n",
       "      <td>6.42</td>\n",
       "      <td>9.49</td>\n",
       "      <td>3.0</td>\n",
       "      <td>11.84</td>\n",
       "      <td>8.16</td>\n",
       "      <td>5.76</td>\n",
       "      <td>4.6</td>\n",
       "      <td>...</td>\n",
       "      <td>3.2</td>\n",
       "      <td>2.55</td>\n",
       "      <td>7.1</td>\n",
       "      <td>0.6</td>\n",
       "      <td>9.45</td>\n",
       "      <td>6.0</td>\n",
       "      <td>29.89</td>\n",
       "      <td>7.64</td>\n",
       "      <td>8.69</td>\n",
       "      <td>5.65</td>\n",
       "    </tr>\n",
       "    <tr>\n",
       "      <th>5</th>\n",
       "      <td>1996</td>\n",
       "      <td>17.11</td>\n",
       "      <td>8.51</td>\n",
       "      <td>7.25</td>\n",
       "      <td>9.62</td>\n",
       "      <td>3.12</td>\n",
       "      <td>12.37</td>\n",
       "      <td>8.82</td>\n",
       "      <td>5.74</td>\n",
       "      <td>4.86</td>\n",
       "      <td>...</td>\n",
       "      <td>3.4</td>\n",
       "      <td>2.6</td>\n",
       "      <td>5.47</td>\n",
       "      <td>0.6</td>\n",
       "      <td>9.67</td>\n",
       "      <td>5.56</td>\n",
       "      <td>29.87</td>\n",
       "      <td>6.63</td>\n",
       "      <td>8.19</td>\n",
       "      <td>5.45</td>\n",
       "    </tr>\n",
       "    <tr>\n",
       "      <th>6</th>\n",
       "      <td>1997</td>\n",
       "      <td>14.82</td>\n",
       "      <td>8.36</td>\n",
       "      <td>8.16</td>\n",
       "      <td>9.1</td>\n",
       "      <td>3.23</td>\n",
       "      <td>12.57</td>\n",
       "      <td>9.86</td>\n",
       "      <td>5.61</td>\n",
       "      <td>4.68</td>\n",
       "      <td>...</td>\n",
       "      <td>3.4</td>\n",
       "      <td>2.68</td>\n",
       "      <td>4.24</td>\n",
       "      <td>0.54</td>\n",
       "      <td>11.81</td>\n",
       "      <td>5.15</td>\n",
       "      <td>29.91</td>\n",
       "      <td>6.84</td>\n",
       "      <td>7.07</td>\n",
       "      <td>5.0</td>\n",
       "    </tr>\n",
       "    <tr>\n",
       "      <th>7</th>\n",
       "      <td>1998</td>\n",
       "      <td>12.65</td>\n",
       "      <td>7.68</td>\n",
       "      <td>9.42</td>\n",
       "      <td>8.28</td>\n",
       "      <td>3.24</td>\n",
       "      <td>12.07</td>\n",
       "      <td>9.79</td>\n",
       "      <td>5.67</td>\n",
       "      <td>5.46</td>\n",
       "      <td>...</td>\n",
       "      <td>4.1</td>\n",
       "      <td>2.83</td>\n",
       "      <td>3.73</td>\n",
       "      <td>0.56</td>\n",
       "      <td>13.26</td>\n",
       "      <td>4.72</td>\n",
       "      <td>29.95</td>\n",
       "      <td>6.89</td>\n",
       "      <td>6.2</td>\n",
       "      <td>4.51</td>\n",
       "    </tr>\n",
       "    <tr>\n",
       "      <th>8</th>\n",
       "      <td>1999</td>\n",
       "      <td>14.05</td>\n",
       "      <td>6.87</td>\n",
       "      <td>10.21</td>\n",
       "      <td>7.58</td>\n",
       "      <td>3.25</td>\n",
       "      <td>11.98</td>\n",
       "      <td>8.86</td>\n",
       "      <td>5.74</td>\n",
       "      <td>6.36</td>\n",
       "      <td>...</td>\n",
       "      <td>4.7</td>\n",
       "      <td>2.97</td>\n",
       "      <td>2.6</td>\n",
       "      <td>0.57</td>\n",
       "      <td>13.04</td>\n",
       "      <td>4.35</td>\n",
       "      <td>29.91</td>\n",
       "      <td>7.69</td>\n",
       "      <td>6.04</td>\n",
       "      <td>4.22</td>\n",
       "    </tr>\n",
       "    <tr>\n",
       "      <th>9</th>\n",
       "      <td>2000</td>\n",
       "      <td>15.0</td>\n",
       "      <td>6.28</td>\n",
       "      <td>9.56</td>\n",
       "      <td>6.83</td>\n",
       "      <td>3.26</td>\n",
       "      <td>10.22</td>\n",
       "      <td>7.92</td>\n",
       "      <td>5.56</td>\n",
       "      <td>6.08</td>\n",
       "      <td>...</td>\n",
       "      <td>4.75</td>\n",
       "      <td>2.93</td>\n",
       "      <td>2.65</td>\n",
       "      <td>0.58</td>\n",
       "      <td>10.58</td>\n",
       "      <td>4.57</td>\n",
       "      <td>29.88</td>\n",
       "      <td>6.5</td>\n",
       "      <td>5.56</td>\n",
       "      <td>3.99</td>\n",
       "    </tr>\n",
       "    <tr>\n",
       "      <th>10</th>\n",
       "      <td>2001</td>\n",
       "      <td>17.32</td>\n",
       "      <td>6.74</td>\n",
       "      <td>9.61</td>\n",
       "      <td>7.22</td>\n",
       "      <td>3.8</td>\n",
       "      <td>8.61</td>\n",
       "      <td>7.77</td>\n",
       "      <td>5.58</td>\n",
       "      <td>6.08</td>\n",
       "      <td>...</td>\n",
       "      <td>5.02</td>\n",
       "      <td>2.94</td>\n",
       "      <td>2.63</td>\n",
       "      <td>0.56</td>\n",
       "      <td>8.98</td>\n",
       "      <td>4.62</td>\n",
       "      <td>30.69</td>\n",
       "      <td>8.38</td>\n",
       "      <td>4.7</td>\n",
       "      <td>4.73</td>\n",
       "    </tr>\n",
       "    <tr>\n",
       "      <th>11</th>\n",
       "      <td>2002</td>\n",
       "      <td>19.59</td>\n",
       "      <td>6.37</td>\n",
       "      <td>9.37</td>\n",
       "      <td>7.66</td>\n",
       "      <td>4.24</td>\n",
       "      <td>8.7</td>\n",
       "      <td>8.48</td>\n",
       "      <td>5.53</td>\n",
       "      <td>6.6</td>\n",
       "      <td>...</td>\n",
       "      <td>5.39</td>\n",
       "      <td>2.9</td>\n",
       "      <td>3.0</td>\n",
       "      <td>0.55</td>\n",
       "      <td>7.88</td>\n",
       "      <td>5.27</td>\n",
       "      <td>33.29</td>\n",
       "      <td>10.36</td>\n",
       "      <td>5.04</td>\n",
       "      <td>5.78</td>\n",
       "    </tr>\n",
       "    <tr>\n",
       "      <th>12</th>\n",
       "      <td>2003</td>\n",
       "      <td>15.36</td>\n",
       "      <td>5.93</td>\n",
       "      <td>9.99</td>\n",
       "      <td>7.57</td>\n",
       "      <td>4.58</td>\n",
       "      <td>8.31</td>\n",
       "      <td>9.78</td>\n",
       "      <td>5.64</td>\n",
       "      <td>6.66</td>\n",
       "      <td>...</td>\n",
       "      <td>5.25</td>\n",
       "      <td>2.91</td>\n",
       "      <td>3.46</td>\n",
       "      <td>0.59</td>\n",
       "      <td>8.21</td>\n",
       "      <td>5.56</td>\n",
       "      <td>32.31</td>\n",
       "      <td>10.54</td>\n",
       "      <td>4.81</td>\n",
       "      <td>5.99</td>\n",
       "    </tr>\n",
       "    <tr>\n",
       "      <th>13</th>\n",
       "      <td>2004</td>\n",
       "      <td>13.52</td>\n",
       "      <td>5.39</td>\n",
       "      <td>9.11</td>\n",
       "      <td>7.19</td>\n",
       "      <td>4.49</td>\n",
       "      <td>8.91</td>\n",
       "      <td>10.73</td>\n",
       "      <td>5.63</td>\n",
       "      <td>7.3</td>\n",
       "      <td>...</td>\n",
       "      <td>4.73</td>\n",
       "      <td>2.86</td>\n",
       "      <td>3.94</td>\n",
       "      <td>0.61</td>\n",
       "      <td>7.76</td>\n",
       "      <td>5.82</td>\n",
       "      <td>29.45</td>\n",
       "      <td>10.84</td>\n",
       "      <td>4.59</td>\n",
       "      <td>5.53</td>\n",
       "    </tr>\n",
       "    <tr>\n",
       "      <th>14</th>\n",
       "      <td>2005</td>\n",
       "      <td>11.51</td>\n",
       "      <td>5.03</td>\n",
       "      <td>9.57</td>\n",
       "      <td>6.76</td>\n",
       "      <td>4.52</td>\n",
       "      <td>8.49</td>\n",
       "      <td>11.17</td>\n",
       "      <td>5.61</td>\n",
       "      <td>7.94</td>\n",
       "      <td>...</td>\n",
       "      <td>4.45</td>\n",
       "      <td>2.84</td>\n",
       "      <td>3.56</td>\n",
       "      <td>0.59</td>\n",
       "      <td>7.12</td>\n",
       "      <td>6.05</td>\n",
       "      <td>29.12</td>\n",
       "      <td>10.64</td>\n",
       "      <td>4.75</td>\n",
       "      <td>5.08</td>\n",
       "    </tr>\n",
       "    <tr>\n",
       "      <th>15</th>\n",
       "      <td>2006</td>\n",
       "      <td>10.08</td>\n",
       "      <td>4.78</td>\n",
       "      <td>8.64</td>\n",
       "      <td>6.32</td>\n",
       "      <td>4.43</td>\n",
       "      <td>8.45</td>\n",
       "      <td>10.25</td>\n",
       "      <td>5.6</td>\n",
       "      <td>7.55</td>\n",
       "      <td>...</td>\n",
       "      <td>4.19</td>\n",
       "      <td>2.81</td>\n",
       "      <td>3.57</td>\n",
       "      <td>0.58</td>\n",
       "      <td>7.06</td>\n",
       "      <td>6.25</td>\n",
       "      <td>28.34</td>\n",
       "      <td>8.72</td>\n",
       "      <td>5.35</td>\n",
       "      <td>4.62</td>\n",
       "    </tr>\n",
       "    <tr>\n",
       "      <th>16</th>\n",
       "      <td>2007</td>\n",
       "      <td>8.47</td>\n",
       "      <td>4.38</td>\n",
       "      <td>8.33</td>\n",
       "      <td>6.04</td>\n",
       "      <td>4.35</td>\n",
       "      <td>7.66</td>\n",
       "      <td>8.66</td>\n",
       "      <td>5.57</td>\n",
       "      <td>8.06</td>\n",
       "      <td>...</td>\n",
       "      <td>3.89</td>\n",
       "      <td>2.82</td>\n",
       "      <td>3.63</td>\n",
       "      <td>0.4</td>\n",
       "      <td>6.0</td>\n",
       "      <td>5.73</td>\n",
       "      <td>26.54</td>\n",
       "      <td>8.87</td>\n",
       "      <td>5.26</td>\n",
       "      <td>4.62</td>\n",
       "    </tr>\n",
       "    <tr>\n",
       "      <th>17</th>\n",
       "      <td>2008</td>\n",
       "      <td>7.84</td>\n",
       "      <td>4.23</td>\n",
       "      <td>7.34</td>\n",
       "      <td>6.14</td>\n",
       "      <td>4.59</td>\n",
       "      <td>7.06</td>\n",
       "      <td>7.52</td>\n",
       "      <td>5.41</td>\n",
       "      <td>7.21</td>\n",
       "      <td>...</td>\n",
       "      <td>4.0</td>\n",
       "      <td>2.77</td>\n",
       "      <td>3.87</td>\n",
       "      <td>0.42</td>\n",
       "      <td>6.21</td>\n",
       "      <td>5.08</td>\n",
       "      <td>22.41</td>\n",
       "      <td>9.71</td>\n",
       "      <td>5.62</td>\n",
       "      <td>5.78</td>\n",
       "    </tr>\n",
       "    <tr>\n",
       "      <th>18</th>\n",
       "      <td>2009</td>\n",
       "      <td>8.65</td>\n",
       "      <td>5.56</td>\n",
       "      <td>8.52</td>\n",
       "      <td>8.34</td>\n",
       "      <td>4.72</td>\n",
       "      <td>8.74</td>\n",
       "      <td>7.74</td>\n",
       "      <td>5.54</td>\n",
       "      <td>6.11</td>\n",
       "      <td>...</td>\n",
       "      <td>5.07</td>\n",
       "      <td>2.78</td>\n",
       "      <td>5.36</td>\n",
       "      <td>0.54</td>\n",
       "      <td>8.3</td>\n",
       "      <td>5.38</td>\n",
       "      <td>23.52</td>\n",
       "      <td>12.55</td>\n",
       "      <td>7.54</td>\n",
       "      <td>9.25</td>\n",
       "    </tr>\n",
       "    <tr>\n",
       "      <th>19</th>\n",
       "      <td>2010</td>\n",
       "      <td>7.71</td>\n",
       "      <td>5.21</td>\n",
       "      <td>7.27</td>\n",
       "      <td>8.06</td>\n",
       "      <td>4.53</td>\n",
       "      <td>8.87</td>\n",
       "      <td>6.97</td>\n",
       "      <td>5.55</td>\n",
       "      <td>5.61</td>\n",
       "      <td>...</td>\n",
       "      <td>5.1</td>\n",
       "      <td>2.71</td>\n",
       "      <td>5.3</td>\n",
       "      <td>0.65</td>\n",
       "      <td>7.37</td>\n",
       "      <td>5.55</td>\n",
       "      <td>24.68</td>\n",
       "      <td>10.66</td>\n",
       "      <td>7.79</td>\n",
       "      <td>9.63</td>\n",
       "    </tr>\n",
       "    <tr>\n",
       "      <th>20</th>\n",
       "      <td>2011</td>\n",
       "      <td>7.18</td>\n",
       "      <td>5.08</td>\n",
       "      <td>6.92</td>\n",
       "      <td>7.51</td>\n",
       "      <td>4.55</td>\n",
       "      <td>8.81</td>\n",
       "      <td>5.82</td>\n",
       "      <td>5.43</td>\n",
       "      <td>5.15</td>\n",
       "      <td>...</td>\n",
       "      <td>4.55</td>\n",
       "      <td>2.78</td>\n",
       "      <td>5.17</td>\n",
       "      <td>0.8</td>\n",
       "      <td>6.54</td>\n",
       "      <td>5.77</td>\n",
       "      <td>24.64</td>\n",
       "      <td>8.8</td>\n",
       "      <td>8.04</td>\n",
       "      <td>8.95</td>\n",
       "    </tr>\n",
       "    <tr>\n",
       "      <th>21</th>\n",
       "      <td>2012</td>\n",
       "      <td>7.22</td>\n",
       "      <td>5.22</td>\n",
       "      <td>7.19</td>\n",
       "      <td>7.29</td>\n",
       "      <td>4.57</td>\n",
       "      <td>9.4</td>\n",
       "      <td>5.38</td>\n",
       "      <td>5.41</td>\n",
       "      <td>4.47</td>\n",
       "      <td>...</td>\n",
       "      <td>4.36</td>\n",
       "      <td>2.81</td>\n",
       "      <td>4.89</td>\n",
       "      <td>1.85</td>\n",
       "      <td>5.44</td>\n",
       "      <td>5.52</td>\n",
       "      <td>24.73</td>\n",
       "      <td>8.15</td>\n",
       "      <td>7.88</td>\n",
       "      <td>8.07</td>\n",
       "    </tr>\n",
       "    <tr>\n",
       "      <th>22</th>\n",
       "      <td>2013</td>\n",
       "      <td>7.1</td>\n",
       "      <td>5.66</td>\n",
       "      <td>6.98</td>\n",
       "      <td>7.07</td>\n",
       "      <td>4.59</td>\n",
       "      <td>9.92</td>\n",
       "      <td>5.23</td>\n",
       "      <td>5.42</td>\n",
       "      <td>4.34</td>\n",
       "      <td>...</td>\n",
       "      <td>4.0</td>\n",
       "      <td>2.8</td>\n",
       "      <td>4.91</td>\n",
       "      <td>2.95</td>\n",
       "      <td>5.46</td>\n",
       "      <td>5.57</td>\n",
       "      <td>24.56</td>\n",
       "      <td>8.73</td>\n",
       "      <td>7.52</td>\n",
       "      <td>7.37</td>\n",
       "    </tr>\n",
       "    <tr>\n",
       "      <th>23</th>\n",
       "      <td>2014</td>\n",
       "      <td>7.27</td>\n",
       "      <td>6.08</td>\n",
       "      <td>6.66</td>\n",
       "      <td>6.91</td>\n",
       "      <td>4.61</td>\n",
       "      <td>10.29</td>\n",
       "      <td>4.98</td>\n",
       "      <td>5.44</td>\n",
       "      <td>4.05</td>\n",
       "      <td>...</td>\n",
       "      <td>3.6</td>\n",
       "      <td>2.74</td>\n",
       "      <td>4.81</td>\n",
       "      <td>1.83</td>\n",
       "      <td>5.16</td>\n",
       "      <td>5.72</td>\n",
       "      <td>24.89</td>\n",
       "      <td>9.88</td>\n",
       "      <td>6.11</td>\n",
       "      <td>6.17</td>\n",
       "    </tr>\n",
       "    <tr>\n",
       "      <th>24</th>\n",
       "      <td>2015</td>\n",
       "      <td>7.52</td>\n",
       "      <td>6.05</td>\n",
       "      <td>8.43</td>\n",
       "      <td>6.91</td>\n",
       "      <td>4.63</td>\n",
       "      <td>10.35</td>\n",
       "      <td>4.62</td>\n",
       "      <td>5.43</td>\n",
       "      <td>4.51</td>\n",
       "      <td>...</td>\n",
       "      <td>3.4</td>\n",
       "      <td>2.74</td>\n",
       "      <td>4.31</td>\n",
       "      <td>3.57</td>\n",
       "      <td>5.57</td>\n",
       "      <td>5.59</td>\n",
       "      <td>25.15</td>\n",
       "      <td>10.24</td>\n",
       "      <td>5.3</td>\n",
       "      <td>5.28</td>\n",
       "    </tr>\n",
       "    <tr>\n",
       "      <th>25</th>\n",
       "      <td>2016</td>\n",
       "      <td>8.11</td>\n",
       "      <td>5.71</td>\n",
       "      <td>11.6</td>\n",
       "      <td>7.0</td>\n",
       "      <td>4.53</td>\n",
       "      <td>10.05</td>\n",
       "      <td>4.12</td>\n",
       "      <td>5.42</td>\n",
       "      <td>4.3</td>\n",
       "      <td>...</td>\n",
       "      <td>3.1</td>\n",
       "      <td>2.76</td>\n",
       "      <td>3.86</td>\n",
       "      <td>3.78</td>\n",
       "      <td>5.56</td>\n",
       "      <td>5.65</td>\n",
       "      <td>26.54</td>\n",
       "      <td>10.84</td>\n",
       "      <td>4.81</td>\n",
       "      <td>4.87</td>\n",
       "    </tr>\n",
       "    <tr>\n",
       "      <th>26</th>\n",
       "      <td>2017</td>\n",
       "      <td>8.35</td>\n",
       "      <td>5.59</td>\n",
       "      <td>12.82</td>\n",
       "      <td>6.34</td>\n",
       "      <td>4.44</td>\n",
       "      <td>9.41</td>\n",
       "      <td>3.75</td>\n",
       "      <td>5.36</td>\n",
       "      <td>3.88</td>\n",
       "      <td>...</td>\n",
       "      <td>2.8</td>\n",
       "      <td>2.7</td>\n",
       "      <td>3.42</td>\n",
       "      <td>3.92</td>\n",
       "      <td>5.21</td>\n",
       "      <td>5.89</td>\n",
       "      <td>27.04</td>\n",
       "      <td>10.82</td>\n",
       "      <td>4.33</td>\n",
       "      <td>4.36</td>\n",
       "    </tr>\n",
       "    <tr>\n",
       "      <th>27</th>\n",
       "      <td>2018</td>\n",
       "      <td>9.22</td>\n",
       "      <td>5.3</td>\n",
       "      <td>12.33</td>\n",
       "      <td>5.83</td>\n",
       "      <td>4.28</td>\n",
       "      <td>9.02</td>\n",
       "      <td>3.38</td>\n",
       "      <td>5.33</td>\n",
       "      <td>4.4</td>\n",
       "      <td>...</td>\n",
       "      <td>2.4</td>\n",
       "      <td>2.63</td>\n",
       "      <td>3.28</td>\n",
       "      <td>4.08</td>\n",
       "      <td>4.85</td>\n",
       "      <td>6.04</td>\n",
       "      <td>26.91</td>\n",
       "      <td>10.89</td>\n",
       "      <td>4.0</td>\n",
       "      <td>3.9</td>\n",
       "    </tr>\n",
       "    <tr>\n",
       "      <th>28</th>\n",
       "      <td>2019</td>\n",
       "      <td>9.84</td>\n",
       "      <td>5.16</td>\n",
       "      <td>11.93</td>\n",
       "      <td>5.66</td>\n",
       "      <td>4.52</td>\n",
       "      <td>8.41</td>\n",
       "      <td>3.14</td>\n",
       "      <td>5.27</td>\n",
       "      <td>3.62</td>\n",
       "      <td>...</td>\n",
       "      <td>2.4</td>\n",
       "      <td>2.59</td>\n",
       "      <td>3.48</td>\n",
       "      <td>3.54</td>\n",
       "      <td>4.5</td>\n",
       "      <td>5.67</td>\n",
       "      <td>28.47</td>\n",
       "      <td>13.67</td>\n",
       "      <td>3.74</td>\n",
       "      <td>3.67</td>\n",
       "    </tr>\n",
       "    <tr>\n",
       "      <th>29</th>\n",
       "      <td>2020</td>\n",
       "      <td>11.46</td>\n",
       "      <td>6.46</td>\n",
       "      <td>13.69</td>\n",
       "      <td>9.46</td>\n",
       "      <td>5.0</td>\n",
       "      <td>8.01</td>\n",
       "      <td>3.81</td>\n",
       "      <td>8.0</td>\n",
       "      <td>4.28</td>\n",
       "      <td>...</td>\n",
       "      <td>2.8</td>\n",
       "      <td>2.92</td>\n",
       "      <td>4.45</td>\n",
       "      <td>4.3</td>\n",
       "      <td>5.59</td>\n",
       "      <td>7.45</td>\n",
       "      <td>29.22</td>\n",
       "      <td>13.11</td>\n",
       "      <td>4.47</td>\n",
       "      <td>8.05</td>\n",
       "    </tr>\n",
       "    <tr>\n",
       "      <th>30</th>\n",
       "      <td>2021</td>\n",
       "      <td>10.9</td>\n",
       "      <td>5.11</td>\n",
       "      <td>14.4</td>\n",
       "      <td>7.51</td>\n",
       "      <td>4.82</td>\n",
       "      <td>8.06</td>\n",
       "      <td>3.54</td>\n",
       "      <td>5.98</td>\n",
       "      <td>4.41</td>\n",
       "      <td>...</td>\n",
       "      <td>2.8</td>\n",
       "      <td>2.59</td>\n",
       "      <td>4.38</td>\n",
       "      <td>4.35</td>\n",
       "      <td>5.01</td>\n",
       "      <td>7.36</td>\n",
       "      <td>33.56</td>\n",
       "      <td>13.39</td>\n",
       "      <td>4.53</td>\n",
       "      <td>5.46</td>\n",
       "    </tr>\n",
       "  </tbody>\n",
       "</table>\n",
       "<p>31 rows × 21 columns</p>\n",
       "</div>"
      ],
      "text/plain": [
       "Country Name  year Argentina Australia Brazil Canada China France Germany  \\\n",
       "0             1991      5.44      9.58   6.31  10.32  2.37   9.13    5.32   \n",
       "1             1992      6.36     10.73   6.42   11.2  2.37  10.21    6.32   \n",
       "2             1993      10.1     10.87   6.03  11.38  2.69  11.32    7.68   \n",
       "3             1994     11.76      9.72   6.17   10.4   2.9  12.59    8.73   \n",
       "4             1995      18.8      8.47   6.42   9.49   3.0  11.84    8.16   \n",
       "5             1996     17.11      8.51   7.25   9.62  3.12  12.37    8.82   \n",
       "6             1997     14.82      8.36   8.16    9.1  3.23  12.57    9.86   \n",
       "7             1998     12.65      7.68   9.42   8.28  3.24  12.07    9.79   \n",
       "8             1999     14.05      6.87  10.21   7.58  3.25  11.98    8.86   \n",
       "9             2000      15.0      6.28   9.56   6.83  3.26  10.22    7.92   \n",
       "10            2001     17.32      6.74   9.61   7.22   3.8   8.61    7.77   \n",
       "11            2002     19.59      6.37   9.37   7.66  4.24    8.7    8.48   \n",
       "12            2003     15.36      5.93   9.99   7.57  4.58   8.31    9.78   \n",
       "13            2004     13.52      5.39   9.11   7.19  4.49   8.91   10.73   \n",
       "14            2005     11.51      5.03   9.57   6.76  4.52   8.49   11.17   \n",
       "15            2006     10.08      4.78   8.64   6.32  4.43   8.45   10.25   \n",
       "16            2007      8.47      4.38   8.33   6.04  4.35   7.66    8.66   \n",
       "17            2008      7.84      4.23   7.34   6.14  4.59   7.06    7.52   \n",
       "18            2009      8.65      5.56   8.52   8.34  4.72   8.74    7.74   \n",
       "19            2010      7.71      5.21   7.27   8.06  4.53   8.87    6.97   \n",
       "20            2011      7.18      5.08   6.92   7.51  4.55   8.81    5.82   \n",
       "21            2012      7.22      5.22   7.19   7.29  4.57    9.4    5.38   \n",
       "22            2013       7.1      5.66   6.98   7.07  4.59   9.92    5.23   \n",
       "23            2014      7.27      6.08   6.66   6.91  4.61  10.29    4.98   \n",
       "24            2015      7.52      6.05   8.43   6.91  4.63  10.35    4.62   \n",
       "25            2016      8.11      5.71   11.6    7.0  4.53  10.05    4.12   \n",
       "26            2017      8.35      5.59  12.82   6.34  4.44   9.41    3.75   \n",
       "27            2018      9.22       5.3  12.33   5.83  4.28   9.02    3.38   \n",
       "28            2019      9.84      5.16  11.93   5.66  4.52   8.41    3.14   \n",
       "29            2020     11.46      6.46  13.69   9.46   5.0   8.01    3.81   \n",
       "30            2021      10.9      5.11   14.4   7.51  4.82   8.06    3.54   \n",
       "\n",
       "Country Name India Indonesia  ... Japan Korea, Dem. People's Rep. Mexico  \\\n",
       "0              5.6      2.62  ...   2.1                       2.3   3.15   \n",
       "1             5.73      2.73  ...   2.2                      2.31   3.24   \n",
       "2             5.69      2.78  ...   2.5                      2.42   3.37   \n",
       "3             5.74      4.37  ...   2.9                      2.54   4.44   \n",
       "4             5.76       4.6  ...   3.2                      2.55    7.1   \n",
       "5             5.74      4.86  ...   3.4                       2.6   5.47   \n",
       "6             5.61      4.68  ...   3.4                      2.68   4.24   \n",
       "7             5.67      5.46  ...   4.1                      2.83   3.73   \n",
       "8             5.74      6.36  ...   4.7                      2.97    2.6   \n",
       "9             5.56      6.08  ...  4.75                      2.93   2.65   \n",
       "10            5.58      6.08  ...  5.02                      2.94   2.63   \n",
       "11            5.53       6.6  ...  5.39                       2.9    3.0   \n",
       "12            5.64      6.66  ...  5.25                      2.91   3.46   \n",
       "13            5.63       7.3  ...  4.73                      2.86   3.94   \n",
       "14            5.61      7.94  ...  4.45                      2.84   3.56   \n",
       "15             5.6      7.55  ...  4.19                      2.81   3.57   \n",
       "16            5.57      8.06  ...  3.89                      2.82   3.63   \n",
       "17            5.41      7.21  ...   4.0                      2.77   3.87   \n",
       "18            5.54      6.11  ...  5.07                      2.78   5.36   \n",
       "19            5.55      5.61  ...   5.1                      2.71    5.3   \n",
       "20            5.43      5.15  ...  4.55                      2.78   5.17   \n",
       "21            5.41      4.47  ...  4.36                      2.81   4.89   \n",
       "22            5.42      4.34  ...   4.0                       2.8   4.91   \n",
       "23            5.44      4.05  ...   3.6                      2.74   4.81   \n",
       "24            5.43      4.51  ...   3.4                      2.74   4.31   \n",
       "25            5.42       4.3  ...   3.1                      2.76   3.86   \n",
       "26            5.36      3.88  ...   2.8                       2.7   3.42   \n",
       "27            5.33       4.4  ...   2.4                      2.63   3.28   \n",
       "28            5.27      3.62  ...   2.4                      2.59   3.48   \n",
       "29             8.0      4.28  ...   2.8                      2.92   4.45   \n",
       "30            5.98      4.41  ...   2.8                      2.59   4.38   \n",
       "\n",
       "Country Name Pakistan Russian Federation Saudi Arabia South Africa Turkiye  \\\n",
       "0                0.62               5.41         7.07        29.95    8.21   \n",
       "1                0.66               5.18          7.2        29.98    8.51   \n",
       "2                0.56               5.88         6.85        29.92    8.96   \n",
       "3                0.59               8.13         6.41        29.89    8.58   \n",
       "4                 0.6               9.45          6.0        29.89    7.64   \n",
       "5                 0.6               9.67         5.56        29.87    6.63   \n",
       "6                0.54              11.81         5.15        29.91    6.84   \n",
       "7                0.56              13.26         4.72        29.95    6.89   \n",
       "8                0.57              13.04         4.35        29.91    7.69   \n",
       "9                0.58              10.58         4.57        29.88     6.5   \n",
       "10               0.56               8.98         4.62        30.69    8.38   \n",
       "11               0.55               7.88         5.27        33.29   10.36   \n",
       "12               0.59               8.21         5.56        32.31   10.54   \n",
       "13               0.61               7.76         5.82        29.45   10.84   \n",
       "14               0.59               7.12         6.05        29.12   10.64   \n",
       "15               0.58               7.06         6.25        28.34    8.72   \n",
       "16                0.4                6.0         5.73        26.54    8.87   \n",
       "17               0.42               6.21         5.08        22.41    9.71   \n",
       "18               0.54                8.3         5.38        23.52   12.55   \n",
       "19               0.65               7.37         5.55        24.68   10.66   \n",
       "20                0.8               6.54         5.77        24.64     8.8   \n",
       "21               1.85               5.44         5.52        24.73    8.15   \n",
       "22               2.95               5.46         5.57        24.56    8.73   \n",
       "23               1.83               5.16         5.72        24.89    9.88   \n",
       "24               3.57               5.57         5.59        25.15   10.24   \n",
       "25               3.78               5.56         5.65        26.54   10.84   \n",
       "26               3.92               5.21         5.89        27.04   10.82   \n",
       "27               4.08               4.85         6.04        26.91   10.89   \n",
       "28               3.54                4.5         5.67        28.47   13.67   \n",
       "29                4.3               5.59         7.45        29.22   13.11   \n",
       "30               4.35               5.01         7.36        33.56   13.39   \n",
       "\n",
       "Country Name United Kingdom United States  \n",
       "0                      8.55           6.8  \n",
       "1                      9.78           7.5  \n",
       "2                     10.35           6.9  \n",
       "3                      9.65          6.12  \n",
       "4                      8.69          5.65  \n",
       "5                      8.19          5.45  \n",
       "6                      7.07           5.0  \n",
       "7                       6.2          4.51  \n",
       "8                      6.04          4.22  \n",
       "9                      5.56          3.99  \n",
       "10                      4.7          4.73  \n",
       "11                     5.04          5.78  \n",
       "12                     4.81          5.99  \n",
       "13                     4.59          5.53  \n",
       "14                     4.75          5.08  \n",
       "15                     5.35          4.62  \n",
       "16                     5.26          4.62  \n",
       "17                     5.62          5.78  \n",
       "18                     7.54          9.25  \n",
       "19                     7.79          9.63  \n",
       "20                     8.04          8.95  \n",
       "21                     7.88          8.07  \n",
       "22                     7.52          7.37  \n",
       "23                     6.11          6.17  \n",
       "24                      5.3          5.28  \n",
       "25                     4.81          4.87  \n",
       "26                     4.33          4.36  \n",
       "27                      4.0           3.9  \n",
       "28                     3.74          3.67  \n",
       "29                     4.47          8.05  \n",
       "30                     4.53          5.46  \n",
       "\n",
       "[31 rows x 21 columns]"
      ]
     },
     "execution_count": 16,
     "metadata": {},
     "output_type": "execute_result"
    }
   ],
   "source": [
    "#transposing the dataset\n",
    "data_n=data_g20c.T\n",
    "\n",
    "#dropping unwanted columns\n",
    "data_n.drop(['continent','sub_region','average','91-20','20-21','21-22'],axis=0,inplace=True)\n",
    "\n",
    "#converting rows into header column\n",
    "header_row = 0\n",
    "data_n.columns = data_n.iloc[header_row]\n",
    "print(data_n)\n",
    "\n",
    "# Convert row to column header using DataFrame.iloc[]\n",
    "data_n.columns = data_n.iloc[0]\n",
    "print(data_n)\n",
    "\n",
    "#dropping unwanted columns\n",
    "data_n.drop('Country Name',axis=0,inplace=True)\n",
    "\n",
    "#sorting the columns\n",
    "data_n.sort_index(axis=1,inplace=True)\n",
    "\n",
    "#resetting index values as column name\n",
    "data_n.reset_index(level=0,inplace=True)\n",
    "\n",
    "data_n.rename(columns={'index':'year'},inplace=True)\n",
    "data_n"
   ]
  },
  {
   "cell_type": "code",
   "execution_count": 31,
   "metadata": {},
   "outputs": [
    {
     "data": {
      "application/vnd.plotly.v1+json": {
       "config": {
        "plotlyServerURL": "https://plot.ly"
       },
       "data": [
        {
         "hovertemplate": "x=%{x}<br>y=%{y}<extra></extra>",
         "legendgroup": "",
         "line": {
          "color": "#636efa",
          "dash": "solid"
         },
         "marker": {
          "symbol": "circle"
         },
         "mode": "lines",
         "name": "",
         "orientation": "v",
         "showlegend": false,
         "type": "scatter",
         "x": [
          "1991",
          "1992",
          "1993",
          "1994",
          "1995",
          "1996",
          "1997",
          "1998",
          "1999",
          "2000",
          "2001",
          "2002",
          "2003",
          "2004",
          "2005",
          "2006",
          "2007",
          "2008",
          "2009",
          "2010",
          "2011",
          "2012",
          "2013",
          "2014",
          "2015",
          "2016",
          "2017",
          "2018",
          "2019",
          "2020",
          "2021"
         ],
         "xaxis": "x",
         "y": [
          5.44,
          6.36,
          10.1,
          11.76,
          18.8,
          17.11,
          14.82,
          12.65,
          14.05,
          15,
          17.32,
          19.59,
          15.36,
          13.52,
          11.51,
          10.08,
          8.47,
          7.84,
          8.65,
          7.71,
          7.18,
          7.22,
          7.1,
          7.27,
          7.52,
          8.11,
          8.35,
          9.22,
          9.84,
          11.46,
          10.9
         ],
         "yaxis": "y"
        },
        {
         "type": "scatter",
         "x": [
          "1991",
          "1992",
          "1993",
          "1994",
          "1995",
          "1996",
          "1997",
          "1998",
          "1999",
          "2000",
          "2001",
          "2002",
          "2003",
          "2004",
          "2005",
          "2006",
          "2007",
          "2008",
          "2009",
          "2010",
          "2011",
          "2012",
          "2013",
          "2014",
          "2015",
          "2016",
          "2017",
          "2018",
          "2019",
          "2020",
          "2021"
         ],
         "y": [
          9.58,
          10.73,
          10.87,
          9.72,
          8.47,
          8.51,
          8.36,
          7.68,
          6.87,
          6.28,
          6.74,
          6.37,
          5.93,
          5.39,
          5.03,
          4.78,
          4.38,
          4.23,
          5.56,
          5.21,
          5.08,
          5.22,
          5.66,
          6.08,
          6.05,
          5.71,
          5.59,
          5.3,
          5.16,
          6.46,
          5.11
         ]
        },
        {
         "type": "scatter",
         "x": [
          "1991",
          "1992",
          "1993",
          "1994",
          "1995",
          "1996",
          "1997",
          "1998",
          "1999",
          "2000",
          "2001",
          "2002",
          "2003",
          "2004",
          "2005",
          "2006",
          "2007",
          "2008",
          "2009",
          "2010",
          "2011",
          "2012",
          "2013",
          "2014",
          "2015",
          "2016",
          "2017",
          "2018",
          "2019",
          "2020",
          "2021"
         ],
         "y": [
          6.31,
          6.42,
          6.03,
          6.17,
          6.42,
          7.25,
          8.16,
          9.42,
          10.21,
          9.56,
          9.61,
          9.37,
          9.99,
          9.11,
          9.57,
          8.64,
          8.33,
          7.34,
          8.52,
          7.27,
          6.92,
          7.19,
          6.98,
          6.66,
          8.43,
          11.6,
          12.82,
          12.33,
          11.93,
          13.69,
          14.4
         ]
        },
        {
         "type": "scatter",
         "x": [
          "1991",
          "1992",
          "1993",
          "1994",
          "1995",
          "1996",
          "1997",
          "1998",
          "1999",
          "2000",
          "2001",
          "2002",
          "2003",
          "2004",
          "2005",
          "2006",
          "2007",
          "2008",
          "2009",
          "2010",
          "2011",
          "2012",
          "2013",
          "2014",
          "2015",
          "2016",
          "2017",
          "2018",
          "2019",
          "2020",
          "2021"
         ],
         "y": [
          10.32,
          11.2,
          11.38,
          10.4,
          9.49,
          9.62,
          9.1,
          8.28,
          7.58,
          6.83,
          7.22,
          7.66,
          7.57,
          7.19,
          6.76,
          6.32,
          6.04,
          6.14,
          8.34,
          8.06,
          7.51,
          7.29,
          7.07,
          6.91,
          6.91,
          7,
          6.34,
          5.83,
          5.66,
          9.46,
          7.51
         ]
        },
        {
         "type": "scatter",
         "x": [
          "1991",
          "1992",
          "1993",
          "1994",
          "1995",
          "1996",
          "1997",
          "1998",
          "1999",
          "2000",
          "2001",
          "2002",
          "2003",
          "2004",
          "2005",
          "2006",
          "2007",
          "2008",
          "2009",
          "2010",
          "2011",
          "2012",
          "2013",
          "2014",
          "2015",
          "2016",
          "2017",
          "2018",
          "2019",
          "2020",
          "2021"
         ],
         "y": [
          2.37,
          2.37,
          2.69,
          2.9,
          3,
          3.12,
          3.23,
          3.24,
          3.25,
          3.26,
          3.8,
          4.24,
          4.58,
          4.49,
          4.52,
          4.43,
          4.35,
          4.59,
          4.72,
          4.53,
          4.55,
          4.57,
          4.59,
          4.61,
          4.63,
          4.53,
          4.44,
          4.28,
          4.52,
          5,
          4.82
         ]
        },
        {
         "type": "scatter",
         "x": [
          "1991",
          "1992",
          "1993",
          "1994",
          "1995",
          "1996",
          "1997",
          "1998",
          "1999",
          "2000",
          "2001",
          "2002",
          "2003",
          "2004",
          "2005",
          "2006",
          "2007",
          "2008",
          "2009",
          "2010",
          "2011",
          "2012",
          "2013",
          "2014",
          "2015",
          "2016",
          "2017",
          "2018",
          "2019",
          "2020",
          "2021"
         ],
         "y": [
          9.13,
          10.21,
          11.32,
          12.59,
          11.84,
          12.37,
          12.57,
          12.07,
          11.98,
          10.22,
          8.61,
          8.7,
          8.31,
          8.91,
          8.49,
          8.45,
          7.66,
          7.06,
          8.74,
          8.87,
          8.81,
          9.4,
          9.92,
          10.29,
          10.35,
          10.05,
          9.41,
          9.02,
          8.41,
          8.01,
          8.06
         ]
        },
        {
         "type": "scatter",
         "x": [
          "1991",
          "1992",
          "1993",
          "1994",
          "1995",
          "1996",
          "1997",
          "1998",
          "1999",
          "2000",
          "2001",
          "2002",
          "2003",
          "2004",
          "2005",
          "2006",
          "2007",
          "2008",
          "2009",
          "2010",
          "2011",
          "2012",
          "2013",
          "2014",
          "2015",
          "2016",
          "2017",
          "2018",
          "2019",
          "2020",
          "2021"
         ],
         "y": [
          5.32,
          6.32,
          7.68,
          8.73,
          8.16,
          8.82,
          9.86,
          9.79,
          8.86,
          7.92,
          7.77,
          8.48,
          9.78,
          10.73,
          11.17,
          10.25,
          8.66,
          7.52,
          7.74,
          6.97,
          5.82,
          5.38,
          5.23,
          4.98,
          4.62,
          4.12,
          3.75,
          3.38,
          3.14,
          3.81,
          3.54
         ]
        }
       ],
       "layout": {
        "legend": {
         "tracegroupgap": 0
        },
        "margin": {
         "t": 60
        },
        "template": {
         "data": {
          "bar": [
           {
            "error_x": {
             "color": "#2a3f5f"
            },
            "error_y": {
             "color": "#2a3f5f"
            },
            "marker": {
             "line": {
              "color": "#E5ECF6",
              "width": 0.5
             },
             "pattern": {
              "fillmode": "overlay",
              "size": 10,
              "solidity": 0.2
             }
            },
            "type": "bar"
           }
          ],
          "barpolar": [
           {
            "marker": {
             "line": {
              "color": "#E5ECF6",
              "width": 0.5
             },
             "pattern": {
              "fillmode": "overlay",
              "size": 10,
              "solidity": 0.2
             }
            },
            "type": "barpolar"
           }
          ],
          "carpet": [
           {
            "aaxis": {
             "endlinecolor": "#2a3f5f",
             "gridcolor": "white",
             "linecolor": "white",
             "minorgridcolor": "white",
             "startlinecolor": "#2a3f5f"
            },
            "baxis": {
             "endlinecolor": "#2a3f5f",
             "gridcolor": "white",
             "linecolor": "white",
             "minorgridcolor": "white",
             "startlinecolor": "#2a3f5f"
            },
            "type": "carpet"
           }
          ],
          "choropleth": [
           {
            "colorbar": {
             "outlinewidth": 0,
             "ticks": ""
            },
            "type": "choropleth"
           }
          ],
          "contour": [
           {
            "colorbar": {
             "outlinewidth": 0,
             "ticks": ""
            },
            "colorscale": [
             [
              0,
              "#0d0887"
             ],
             [
              0.1111111111111111,
              "#46039f"
             ],
             [
              0.2222222222222222,
              "#7201a8"
             ],
             [
              0.3333333333333333,
              "#9c179e"
             ],
             [
              0.4444444444444444,
              "#bd3786"
             ],
             [
              0.5555555555555556,
              "#d8576b"
             ],
             [
              0.6666666666666666,
              "#ed7953"
             ],
             [
              0.7777777777777778,
              "#fb9f3a"
             ],
             [
              0.8888888888888888,
              "#fdca26"
             ],
             [
              1,
              "#f0f921"
             ]
            ],
            "type": "contour"
           }
          ],
          "contourcarpet": [
           {
            "colorbar": {
             "outlinewidth": 0,
             "ticks": ""
            },
            "type": "contourcarpet"
           }
          ],
          "heatmap": [
           {
            "colorbar": {
             "outlinewidth": 0,
             "ticks": ""
            },
            "colorscale": [
             [
              0,
              "#0d0887"
             ],
             [
              0.1111111111111111,
              "#46039f"
             ],
             [
              0.2222222222222222,
              "#7201a8"
             ],
             [
              0.3333333333333333,
              "#9c179e"
             ],
             [
              0.4444444444444444,
              "#bd3786"
             ],
             [
              0.5555555555555556,
              "#d8576b"
             ],
             [
              0.6666666666666666,
              "#ed7953"
             ],
             [
              0.7777777777777778,
              "#fb9f3a"
             ],
             [
              0.8888888888888888,
              "#fdca26"
             ],
             [
              1,
              "#f0f921"
             ]
            ],
            "type": "heatmap"
           }
          ],
          "heatmapgl": [
           {
            "colorbar": {
             "outlinewidth": 0,
             "ticks": ""
            },
            "colorscale": [
             [
              0,
              "#0d0887"
             ],
             [
              0.1111111111111111,
              "#46039f"
             ],
             [
              0.2222222222222222,
              "#7201a8"
             ],
             [
              0.3333333333333333,
              "#9c179e"
             ],
             [
              0.4444444444444444,
              "#bd3786"
             ],
             [
              0.5555555555555556,
              "#d8576b"
             ],
             [
              0.6666666666666666,
              "#ed7953"
             ],
             [
              0.7777777777777778,
              "#fb9f3a"
             ],
             [
              0.8888888888888888,
              "#fdca26"
             ],
             [
              1,
              "#f0f921"
             ]
            ],
            "type": "heatmapgl"
           }
          ],
          "histogram": [
           {
            "marker": {
             "pattern": {
              "fillmode": "overlay",
              "size": 10,
              "solidity": 0.2
             }
            },
            "type": "histogram"
           }
          ],
          "histogram2d": [
           {
            "colorbar": {
             "outlinewidth": 0,
             "ticks": ""
            },
            "colorscale": [
             [
              0,
              "#0d0887"
             ],
             [
              0.1111111111111111,
              "#46039f"
             ],
             [
              0.2222222222222222,
              "#7201a8"
             ],
             [
              0.3333333333333333,
              "#9c179e"
             ],
             [
              0.4444444444444444,
              "#bd3786"
             ],
             [
              0.5555555555555556,
              "#d8576b"
             ],
             [
              0.6666666666666666,
              "#ed7953"
             ],
             [
              0.7777777777777778,
              "#fb9f3a"
             ],
             [
              0.8888888888888888,
              "#fdca26"
             ],
             [
              1,
              "#f0f921"
             ]
            ],
            "type": "histogram2d"
           }
          ],
          "histogram2dcontour": [
           {
            "colorbar": {
             "outlinewidth": 0,
             "ticks": ""
            },
            "colorscale": [
             [
              0,
              "#0d0887"
             ],
             [
              0.1111111111111111,
              "#46039f"
             ],
             [
              0.2222222222222222,
              "#7201a8"
             ],
             [
              0.3333333333333333,
              "#9c179e"
             ],
             [
              0.4444444444444444,
              "#bd3786"
             ],
             [
              0.5555555555555556,
              "#d8576b"
             ],
             [
              0.6666666666666666,
              "#ed7953"
             ],
             [
              0.7777777777777778,
              "#fb9f3a"
             ],
             [
              0.8888888888888888,
              "#fdca26"
             ],
             [
              1,
              "#f0f921"
             ]
            ],
            "type": "histogram2dcontour"
           }
          ],
          "mesh3d": [
           {
            "colorbar": {
             "outlinewidth": 0,
             "ticks": ""
            },
            "type": "mesh3d"
           }
          ],
          "parcoords": [
           {
            "line": {
             "colorbar": {
              "outlinewidth": 0,
              "ticks": ""
             }
            },
            "type": "parcoords"
           }
          ],
          "pie": [
           {
            "automargin": true,
            "type": "pie"
           }
          ],
          "scatter": [
           {
            "fillpattern": {
             "fillmode": "overlay",
             "size": 10,
             "solidity": 0.2
            },
            "type": "scatter"
           }
          ],
          "scatter3d": [
           {
            "line": {
             "colorbar": {
              "outlinewidth": 0,
              "ticks": ""
             }
            },
            "marker": {
             "colorbar": {
              "outlinewidth": 0,
              "ticks": ""
             }
            },
            "type": "scatter3d"
           }
          ],
          "scattercarpet": [
           {
            "marker": {
             "colorbar": {
              "outlinewidth": 0,
              "ticks": ""
             }
            },
            "type": "scattercarpet"
           }
          ],
          "scattergeo": [
           {
            "marker": {
             "colorbar": {
              "outlinewidth": 0,
              "ticks": ""
             }
            },
            "type": "scattergeo"
           }
          ],
          "scattergl": [
           {
            "marker": {
             "colorbar": {
              "outlinewidth": 0,
              "ticks": ""
             }
            },
            "type": "scattergl"
           }
          ],
          "scattermapbox": [
           {
            "marker": {
             "colorbar": {
              "outlinewidth": 0,
              "ticks": ""
             }
            },
            "type": "scattermapbox"
           }
          ],
          "scatterpolar": [
           {
            "marker": {
             "colorbar": {
              "outlinewidth": 0,
              "ticks": ""
             }
            },
            "type": "scatterpolar"
           }
          ],
          "scatterpolargl": [
           {
            "marker": {
             "colorbar": {
              "outlinewidth": 0,
              "ticks": ""
             }
            },
            "type": "scatterpolargl"
           }
          ],
          "scatterternary": [
           {
            "marker": {
             "colorbar": {
              "outlinewidth": 0,
              "ticks": ""
             }
            },
            "type": "scatterternary"
           }
          ],
          "surface": [
           {
            "colorbar": {
             "outlinewidth": 0,
             "ticks": ""
            },
            "colorscale": [
             [
              0,
              "#0d0887"
             ],
             [
              0.1111111111111111,
              "#46039f"
             ],
             [
              0.2222222222222222,
              "#7201a8"
             ],
             [
              0.3333333333333333,
              "#9c179e"
             ],
             [
              0.4444444444444444,
              "#bd3786"
             ],
             [
              0.5555555555555556,
              "#d8576b"
             ],
             [
              0.6666666666666666,
              "#ed7953"
             ],
             [
              0.7777777777777778,
              "#fb9f3a"
             ],
             [
              0.8888888888888888,
              "#fdca26"
             ],
             [
              1,
              "#f0f921"
             ]
            ],
            "type": "surface"
           }
          ],
          "table": [
           {
            "cells": {
             "fill": {
              "color": "#EBF0F8"
             },
             "line": {
              "color": "white"
             }
            },
            "header": {
             "fill": {
              "color": "#C8D4E3"
             },
             "line": {
              "color": "white"
             }
            },
            "type": "table"
           }
          ]
         },
         "layout": {
          "annotationdefaults": {
           "arrowcolor": "#2a3f5f",
           "arrowhead": 0,
           "arrowwidth": 1
          },
          "autotypenumbers": "strict",
          "coloraxis": {
           "colorbar": {
            "outlinewidth": 0,
            "ticks": ""
           }
          },
          "colorscale": {
           "diverging": [
            [
             0,
             "#8e0152"
            ],
            [
             0.1,
             "#c51b7d"
            ],
            [
             0.2,
             "#de77ae"
            ],
            [
             0.3,
             "#f1b6da"
            ],
            [
             0.4,
             "#fde0ef"
            ],
            [
             0.5,
             "#f7f7f7"
            ],
            [
             0.6,
             "#e6f5d0"
            ],
            [
             0.7,
             "#b8e186"
            ],
            [
             0.8,
             "#7fbc41"
            ],
            [
             0.9,
             "#4d9221"
            ],
            [
             1,
             "#276419"
            ]
           ],
           "sequential": [
            [
             0,
             "#0d0887"
            ],
            [
             0.1111111111111111,
             "#46039f"
            ],
            [
             0.2222222222222222,
             "#7201a8"
            ],
            [
             0.3333333333333333,
             "#9c179e"
            ],
            [
             0.4444444444444444,
             "#bd3786"
            ],
            [
             0.5555555555555556,
             "#d8576b"
            ],
            [
             0.6666666666666666,
             "#ed7953"
            ],
            [
             0.7777777777777778,
             "#fb9f3a"
            ],
            [
             0.8888888888888888,
             "#fdca26"
            ],
            [
             1,
             "#f0f921"
            ]
           ],
           "sequentialminus": [
            [
             0,
             "#0d0887"
            ],
            [
             0.1111111111111111,
             "#46039f"
            ],
            [
             0.2222222222222222,
             "#7201a8"
            ],
            [
             0.3333333333333333,
             "#9c179e"
            ],
            [
             0.4444444444444444,
             "#bd3786"
            ],
            [
             0.5555555555555556,
             "#d8576b"
            ],
            [
             0.6666666666666666,
             "#ed7953"
            ],
            [
             0.7777777777777778,
             "#fb9f3a"
            ],
            [
             0.8888888888888888,
             "#fdca26"
            ],
            [
             1,
             "#f0f921"
            ]
           ]
          },
          "colorway": [
           "#636efa",
           "#EF553B",
           "#00cc96",
           "#ab63fa",
           "#FFA15A",
           "#19d3f3",
           "#FF6692",
           "#B6E880",
           "#FF97FF",
           "#FECB52"
          ],
          "font": {
           "color": "#2a3f5f"
          },
          "geo": {
           "bgcolor": "white",
           "lakecolor": "white",
           "landcolor": "#E5ECF6",
           "showlakes": true,
           "showland": true,
           "subunitcolor": "white"
          },
          "hoverlabel": {
           "align": "left"
          },
          "hovermode": "closest",
          "mapbox": {
           "style": "light"
          },
          "paper_bgcolor": "white",
          "plot_bgcolor": "#E5ECF6",
          "polar": {
           "angularaxis": {
            "gridcolor": "white",
            "linecolor": "white",
            "ticks": ""
           },
           "bgcolor": "#E5ECF6",
           "radialaxis": {
            "gridcolor": "white",
            "linecolor": "white",
            "ticks": ""
           }
          },
          "scene": {
           "xaxis": {
            "backgroundcolor": "#E5ECF6",
            "gridcolor": "white",
            "gridwidth": 2,
            "linecolor": "white",
            "showbackground": true,
            "ticks": "",
            "zerolinecolor": "white"
           },
           "yaxis": {
            "backgroundcolor": "#E5ECF6",
            "gridcolor": "white",
            "gridwidth": 2,
            "linecolor": "white",
            "showbackground": true,
            "ticks": "",
            "zerolinecolor": "white"
           },
           "zaxis": {
            "backgroundcolor": "#E5ECF6",
            "gridcolor": "white",
            "gridwidth": 2,
            "linecolor": "white",
            "showbackground": true,
            "ticks": "",
            "zerolinecolor": "white"
           }
          },
          "shapedefaults": {
           "line": {
            "color": "#2a3f5f"
           }
          },
          "ternary": {
           "aaxis": {
            "gridcolor": "white",
            "linecolor": "white",
            "ticks": ""
           },
           "baxis": {
            "gridcolor": "white",
            "linecolor": "white",
            "ticks": ""
           },
           "bgcolor": "#E5ECF6",
           "caxis": {
            "gridcolor": "white",
            "linecolor": "white",
            "ticks": ""
           }
          },
          "title": {
           "x": 0.05
          },
          "xaxis": {
           "automargin": true,
           "gridcolor": "white",
           "linecolor": "white",
           "ticks": "",
           "title": {
            "standoff": 15
           },
           "zerolinecolor": "white",
           "zerolinewidth": 2
          },
          "yaxis": {
           "automargin": true,
           "gridcolor": "white",
           "linecolor": "white",
           "ticks": "",
           "title": {
            "standoff": 15
           },
           "zerolinecolor": "white",
           "zerolinewidth": 2
          }
         }
        },
        "xaxis": {
         "anchor": "y",
         "domain": [
          0,
          1
         ],
         "title": {
          "text": "x"
         }
        },
        "yaxis": {
         "anchor": "x",
         "domain": [
          0,
          1
         ],
         "title": {
          "text": "y"
         }
        }
       }
      }
     },
     "metadata": {},
     "output_type": "display_data"
    }
   ],
   "source": [
    "countries=['Argentina','Australia','Brazil','Canada','China','France','Germany','India',\n",
    "           'Indonesia','Italy','Japan',\"Korea, Dem. People's Rep.\",'Mexico',\n",
    "           'Russian Federation','Saudi Arabia','South Africa','Turkiye','United Kingdom','United States','Pakistan']\n",
    "\n",
    "newnames = {'trace 1':'Australia', 'trace 2': 'Brazil', 'trace 3':'Canada', 'trace 4':'China','trace 5':'France','trace 6':'Germany'}\n",
    "\n",
    "\n",
    "'Australia'\n",
    "fig = px.line(x=data_n['year'],y=data_n['Argentina'])\n",
    "fig.add_scatter(x=data_n['year'],y=data_n['Australia'])\n",
    "fig.add_scatter(x=data_n['year'],y=data_n['Brazil'])\n",
    "fig.add_scatter(x=data_n['year'],y=data_n['Canada'])\n",
    "fig.add_scatter(x=data_n['year'],y=data_n['China'])\n",
    "fig.add_scatter(x=data_n['year'],y=data_n['France'])\n",
    "fig.add_scatter(x=data_n['year'],y=data_n['Germany'])\n",
    "#fig.for_each_trace(lambda t: t.update(name = newnames[t.name],legendgroup = newnames[t.name],hovertemplate = t.hovertemplate.replace(t.name, newnames[t.name])))\n",
    "fig.show()"
   ]
  }
 ],
 "metadata": {
  "kernelspec": {
   "display_name": "venv",
   "language": "python",
   "name": "python3"
  },
  "language_info": {
   "codemirror_mode": {
    "name": "ipython",
    "version": 3
   },
   "file_extension": ".py",
   "mimetype": "text/x-python",
   "name": "python",
   "nbconvert_exporter": "python",
   "pygments_lexer": "ipython3",
   "version": "3.11.2"
  },
  "orig_nbformat": 4,
  "vscode": {
   "interpreter": {
    "hash": "0d638eae6eba7442ccb4a5a3a7d5767bda5f644711c1803a9078a1e68ddce642"
   }
  }
 },
 "nbformat": 4,
 "nbformat_minor": 2
}
