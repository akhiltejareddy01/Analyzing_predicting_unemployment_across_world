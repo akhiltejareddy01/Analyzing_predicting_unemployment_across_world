{
 "cells": [
  {
   "attachments": {},
   "cell_type": "markdown",
   "metadata": {},
   "source": [
    "# **Importing Packages**"
   ]
  },
  {
   "cell_type": "code",
   "execution_count": 135,
   "metadata": {},
   "outputs": [],
   "source": [
    "#importing processing packages\n",
    "import numpy as np\n",
    "import pandas as pd\n",
    "import scipy as sc\n",
    "\n",
    "#importing visualization packages\n",
    "import matplotlib.pyplot as plt\n",
    "import plotly.express as px\n",
    "import plotly.graph_objects as go\n",
    "import seaborn as sns\n",
    "import bokeh as bk\n",
    "\n",
    "#importing warnings\n",
    "import warnings\n",
    "warnings.filterwarnings(\"ignore\")"
   ]
  },
  {
   "attachments": {},
   "cell_type": "markdown",
   "metadata": {},
   "source": [
    "# **Importing Data**"
   ]
  },
  {
   "cell_type": "code",
   "execution_count": 136,
   "metadata": {},
   "outputs": [
    {
     "data": {
      "text/html": [
       "<div>\n",
       "<style scoped>\n",
       "    .dataframe tbody tr th:only-of-type {\n",
       "        vertical-align: middle;\n",
       "    }\n",
       "\n",
       "    .dataframe tbody tr th {\n",
       "        vertical-align: top;\n",
       "    }\n",
       "\n",
       "    .dataframe thead th {\n",
       "        text-align: right;\n",
       "    }\n",
       "</style>\n",
       "<table border=\"1\" class=\"dataframe\">\n",
       "  <thead>\n",
       "    <tr style=\"text-align: right;\">\n",
       "      <th></th>\n",
       "      <th>Unnamed: 0</th>\n",
       "      <th>Country Name</th>\n",
       "      <th>Country Code</th>\n",
       "      <th>1991</th>\n",
       "      <th>1992</th>\n",
       "      <th>1993</th>\n",
       "      <th>1994</th>\n",
       "      <th>1995</th>\n",
       "      <th>1996</th>\n",
       "      <th>1997</th>\n",
       "      <th>...</th>\n",
       "      <th>2019</th>\n",
       "      <th>2020</th>\n",
       "      <th>2021</th>\n",
       "      <th>code_3</th>\n",
       "      <th>continent</th>\n",
       "      <th>sub_region</th>\n",
       "      <th>average</th>\n",
       "      <th>91-20</th>\n",
       "      <th>20-21</th>\n",
       "      <th>21-22</th>\n",
       "    </tr>\n",
       "  </thead>\n",
       "  <tbody>\n",
       "    <tr>\n",
       "      <th>0</th>\n",
       "      <td>0</td>\n",
       "      <td>Afghanistan</td>\n",
       "      <td>AFG</td>\n",
       "      <td>10.65</td>\n",
       "      <td>10.82</td>\n",
       "      <td>10.72</td>\n",
       "      <td>10.73</td>\n",
       "      <td>11.18</td>\n",
       "      <td>10.96</td>\n",
       "      <td>10.78</td>\n",
       "      <td>...</td>\n",
       "      <td>11.22</td>\n",
       "      <td>11.71</td>\n",
       "      <td>13.28</td>\n",
       "      <td>AFG</td>\n",
       "      <td>Asia</td>\n",
       "      <td>Southern Asia</td>\n",
       "      <td>11.141290</td>\n",
       "      <td>-0.16</td>\n",
       "      <td>-0.54</td>\n",
       "      <td>-0.36</td>\n",
       "    </tr>\n",
       "    <tr>\n",
       "      <th>1</th>\n",
       "      <td>1</td>\n",
       "      <td>Albania</td>\n",
       "      <td>ALB</td>\n",
       "      <td>10.31</td>\n",
       "      <td>30.01</td>\n",
       "      <td>25.26</td>\n",
       "      <td>20.84</td>\n",
       "      <td>14.61</td>\n",
       "      <td>13.93</td>\n",
       "      <td>16.88</td>\n",
       "      <td>...</td>\n",
       "      <td>11.47</td>\n",
       "      <td>13.33</td>\n",
       "      <td>11.82</td>\n",
       "      <td>ALB</td>\n",
       "      <td>Europe</td>\n",
       "      <td>Southern Europe</td>\n",
       "      <td>16.318065</td>\n",
       "      <td>-8.72</td>\n",
       "      <td>4.94</td>\n",
       "      <td>0.76</td>\n",
       "    </tr>\n",
       "    <tr>\n",
       "      <th>2</th>\n",
       "      <td>2</td>\n",
       "      <td>Algeria</td>\n",
       "      <td>DZA</td>\n",
       "      <td>20.60</td>\n",
       "      <td>24.38</td>\n",
       "      <td>26.23</td>\n",
       "      <td>27.74</td>\n",
       "      <td>31.84</td>\n",
       "      <td>28.53</td>\n",
       "      <td>25.43</td>\n",
       "      <td>...</td>\n",
       "      <td>10.51</td>\n",
       "      <td>12.55</td>\n",
       "      <td>12.70</td>\n",
       "      <td>DZA</td>\n",
       "      <td>Africa</td>\n",
       "      <td>Northern Africa</td>\n",
       "      <td>17.926129</td>\n",
       "      <td>-9.17</td>\n",
       "      <td>19.81</td>\n",
       "      <td>-2.59</td>\n",
       "    </tr>\n",
       "    <tr>\n",
       "      <th>3</th>\n",
       "      <td>3</td>\n",
       "      <td>Angola</td>\n",
       "      <td>AGO</td>\n",
       "      <td>4.21</td>\n",
       "      <td>4.21</td>\n",
       "      <td>4.23</td>\n",
       "      <td>4.16</td>\n",
       "      <td>4.11</td>\n",
       "      <td>4.10</td>\n",
       "      <td>4.09</td>\n",
       "      <td>...</td>\n",
       "      <td>7.42</td>\n",
       "      <td>8.33</td>\n",
       "      <td>8.53</td>\n",
       "      <td>AGO</td>\n",
       "      <td>Africa</td>\n",
       "      <td>Middle Africa</td>\n",
       "      <td>5.452258</td>\n",
       "      <td>0.18</td>\n",
       "      <td>-5.40</td>\n",
       "      <td>1.10</td>\n",
       "    </tr>\n",
       "    <tr>\n",
       "      <th>4</th>\n",
       "      <td>4</td>\n",
       "      <td>Argentina</td>\n",
       "      <td>ARG</td>\n",
       "      <td>5.44</td>\n",
       "      <td>6.36</td>\n",
       "      <td>10.10</td>\n",
       "      <td>11.76</td>\n",
       "      <td>18.80</td>\n",
       "      <td>17.11</td>\n",
       "      <td>14.82</td>\n",
       "      <td>...</td>\n",
       "      <td>9.84</td>\n",
       "      <td>11.46</td>\n",
       "      <td>10.90</td>\n",
       "      <td>ARG</td>\n",
       "      <td>Americas</td>\n",
       "      <td>South America</td>\n",
       "      <td>10.977742</td>\n",
       "      <td>-9.56</td>\n",
       "      <td>7.29</td>\n",
       "      <td>-3.75</td>\n",
       "    </tr>\n",
       "  </tbody>\n",
       "</table>\n",
       "<p>5 rows × 41 columns</p>\n",
       "</div>"
      ],
      "text/plain": [
       "   Unnamed: 0 Country Name Country Code   1991   1992   1993   1994   1995  \\\n",
       "0           0  Afghanistan          AFG  10.65  10.82  10.72  10.73  11.18   \n",
       "1           1      Albania          ALB  10.31  30.01  25.26  20.84  14.61   \n",
       "2           2      Algeria          DZA  20.60  24.38  26.23  27.74  31.84   \n",
       "3           3       Angola          AGO   4.21   4.21   4.23   4.16   4.11   \n",
       "4           4    Argentina          ARG   5.44   6.36  10.10  11.76  18.80   \n",
       "\n",
       "    1996   1997  ...   2019   2020   2021  code_3  continent       sub_region  \\\n",
       "0  10.96  10.78  ...  11.22  11.71  13.28     AFG       Asia    Southern Asia   \n",
       "1  13.93  16.88  ...  11.47  13.33  11.82     ALB     Europe  Southern Europe   \n",
       "2  28.53  25.43  ...  10.51  12.55  12.70     DZA     Africa  Northern Africa   \n",
       "3   4.10   4.09  ...   7.42   8.33   8.53     AGO     Africa    Middle Africa   \n",
       "4  17.11  14.82  ...   9.84  11.46  10.90     ARG   Americas    South America   \n",
       "\n",
       "     average  91-20  20-21  21-22  \n",
       "0  11.141290  -0.16  -0.54  -0.36  \n",
       "1  16.318065  -8.72   4.94   0.76  \n",
       "2  17.926129  -9.17  19.81  -2.59  \n",
       "3   5.452258   0.18  -5.40   1.10  \n",
       "4  10.977742  -9.56   7.29  -3.75  \n",
       "\n",
       "[5 rows x 41 columns]"
      ]
     },
     "execution_count": 136,
     "metadata": {},
     "output_type": "execute_result"
    }
   ],
   "source": [
    "data=pd.read_csv('E:/Analyzing_Unemployment_rate_across_the_world/Business Case Studies/2ndpart.csv')\n",
    "data.head()"
   ]
  },
  {
   "attachments": {},
   "cell_type": "markdown",
   "metadata": {},
   "source": [
    "# **Data Cleaning**"
   ]
  },
  {
   "cell_type": "code",
   "execution_count": 137,
   "metadata": {},
   "outputs": [
    {
     "data": {
      "text/html": [
       "<div>\n",
       "<style scoped>\n",
       "    .dataframe tbody tr th:only-of-type {\n",
       "        vertical-align: middle;\n",
       "    }\n",
       "\n",
       "    .dataframe tbody tr th {\n",
       "        vertical-align: top;\n",
       "    }\n",
       "\n",
       "    .dataframe thead th {\n",
       "        text-align: right;\n",
       "    }\n",
       "</style>\n",
       "<table border=\"1\" class=\"dataframe\">\n",
       "  <thead>\n",
       "    <tr style=\"text-align: right;\">\n",
       "      <th></th>\n",
       "      <th>Country Name</th>\n",
       "      <th>Country Code</th>\n",
       "      <th>1991</th>\n",
       "      <th>1992</th>\n",
       "      <th>1993</th>\n",
       "      <th>1994</th>\n",
       "      <th>1995</th>\n",
       "      <th>1996</th>\n",
       "      <th>1997</th>\n",
       "      <th>1998</th>\n",
       "      <th>...</th>\n",
       "      <th>2014</th>\n",
       "      <th>2015</th>\n",
       "      <th>2016</th>\n",
       "      <th>2017</th>\n",
       "      <th>2018</th>\n",
       "      <th>2019</th>\n",
       "      <th>2020</th>\n",
       "      <th>2021</th>\n",
       "      <th>continent</th>\n",
       "      <th>sub_region</th>\n",
       "    </tr>\n",
       "  </thead>\n",
       "  <tbody>\n",
       "    <tr>\n",
       "      <th>0</th>\n",
       "      <td>Afghanistan</td>\n",
       "      <td>AFG</td>\n",
       "      <td>10.65</td>\n",
       "      <td>10.82</td>\n",
       "      <td>10.72</td>\n",
       "      <td>10.73</td>\n",
       "      <td>11.18</td>\n",
       "      <td>10.96</td>\n",
       "      <td>10.78</td>\n",
       "      <td>10.80</td>\n",
       "      <td>...</td>\n",
       "      <td>11.14</td>\n",
       "      <td>11.13</td>\n",
       "      <td>11.16</td>\n",
       "      <td>11.18</td>\n",
       "      <td>11.15</td>\n",
       "      <td>11.22</td>\n",
       "      <td>11.71</td>\n",
       "      <td>13.28</td>\n",
       "      <td>Asia</td>\n",
       "      <td>Southern Asia</td>\n",
       "    </tr>\n",
       "    <tr>\n",
       "      <th>1</th>\n",
       "      <td>Albania</td>\n",
       "      <td>ALB</td>\n",
       "      <td>10.31</td>\n",
       "      <td>30.01</td>\n",
       "      <td>25.26</td>\n",
       "      <td>20.84</td>\n",
       "      <td>14.61</td>\n",
       "      <td>13.93</td>\n",
       "      <td>16.88</td>\n",
       "      <td>20.05</td>\n",
       "      <td>...</td>\n",
       "      <td>18.05</td>\n",
       "      <td>17.19</td>\n",
       "      <td>15.42</td>\n",
       "      <td>13.62</td>\n",
       "      <td>12.30</td>\n",
       "      <td>11.47</td>\n",
       "      <td>13.33</td>\n",
       "      <td>11.82</td>\n",
       "      <td>Europe</td>\n",
       "      <td>Southern Europe</td>\n",
       "    </tr>\n",
       "    <tr>\n",
       "      <th>2</th>\n",
       "      <td>Algeria</td>\n",
       "      <td>DZA</td>\n",
       "      <td>20.60</td>\n",
       "      <td>24.38</td>\n",
       "      <td>26.23</td>\n",
       "      <td>27.74</td>\n",
       "      <td>31.84</td>\n",
       "      <td>28.53</td>\n",
       "      <td>25.43</td>\n",
       "      <td>26.66</td>\n",
       "      <td>...</td>\n",
       "      <td>10.21</td>\n",
       "      <td>11.21</td>\n",
       "      <td>10.20</td>\n",
       "      <td>10.33</td>\n",
       "      <td>10.42</td>\n",
       "      <td>10.51</td>\n",
       "      <td>12.55</td>\n",
       "      <td>12.70</td>\n",
       "      <td>Africa</td>\n",
       "      <td>Northern Africa</td>\n",
       "    </tr>\n",
       "    <tr>\n",
       "      <th>3</th>\n",
       "      <td>Angola</td>\n",
       "      <td>AGO</td>\n",
       "      <td>4.21</td>\n",
       "      <td>4.21</td>\n",
       "      <td>4.23</td>\n",
       "      <td>4.16</td>\n",
       "      <td>4.11</td>\n",
       "      <td>4.10</td>\n",
       "      <td>4.09</td>\n",
       "      <td>4.07</td>\n",
       "      <td>...</td>\n",
       "      <td>7.37</td>\n",
       "      <td>7.39</td>\n",
       "      <td>7.41</td>\n",
       "      <td>7.41</td>\n",
       "      <td>7.42</td>\n",
       "      <td>7.42</td>\n",
       "      <td>8.33</td>\n",
       "      <td>8.53</td>\n",
       "      <td>Africa</td>\n",
       "      <td>Middle Africa</td>\n",
       "    </tr>\n",
       "    <tr>\n",
       "      <th>4</th>\n",
       "      <td>Argentina</td>\n",
       "      <td>ARG</td>\n",
       "      <td>5.44</td>\n",
       "      <td>6.36</td>\n",
       "      <td>10.10</td>\n",
       "      <td>11.76</td>\n",
       "      <td>18.80</td>\n",
       "      <td>17.11</td>\n",
       "      <td>14.82</td>\n",
       "      <td>12.65</td>\n",
       "      <td>...</td>\n",
       "      <td>7.27</td>\n",
       "      <td>7.52</td>\n",
       "      <td>8.11</td>\n",
       "      <td>8.35</td>\n",
       "      <td>9.22</td>\n",
       "      <td>9.84</td>\n",
       "      <td>11.46</td>\n",
       "      <td>10.90</td>\n",
       "      <td>Americas</td>\n",
       "      <td>South America</td>\n",
       "    </tr>\n",
       "  </tbody>\n",
       "</table>\n",
       "<p>5 rows × 35 columns</p>\n",
       "</div>"
      ],
      "text/plain": [
       "  Country Name Country Code   1991   1992   1993   1994   1995   1996   1997  \\\n",
       "0  Afghanistan          AFG  10.65  10.82  10.72  10.73  11.18  10.96  10.78   \n",
       "1      Albania          ALB  10.31  30.01  25.26  20.84  14.61  13.93  16.88   \n",
       "2      Algeria          DZA  20.60  24.38  26.23  27.74  31.84  28.53  25.43   \n",
       "3       Angola          AGO   4.21   4.21   4.23   4.16   4.11   4.10   4.09   \n",
       "4    Argentina          ARG   5.44   6.36  10.10  11.76  18.80  17.11  14.82   \n",
       "\n",
       "    1998  ...   2014   2015   2016   2017   2018   2019   2020   2021  \\\n",
       "0  10.80  ...  11.14  11.13  11.16  11.18  11.15  11.22  11.71  13.28   \n",
       "1  20.05  ...  18.05  17.19  15.42  13.62  12.30  11.47  13.33  11.82   \n",
       "2  26.66  ...  10.21  11.21  10.20  10.33  10.42  10.51  12.55  12.70   \n",
       "3   4.07  ...   7.37   7.39   7.41   7.41   7.42   7.42   8.33   8.53   \n",
       "4  12.65  ...   7.27   7.52   8.11   8.35   9.22   9.84  11.46  10.90   \n",
       "\n",
       "   continent       sub_region  \n",
       "0       Asia    Southern Asia  \n",
       "1     Europe  Southern Europe  \n",
       "2     Africa  Northern Africa  \n",
       "3     Africa    Middle Africa  \n",
       "4   Americas    South America  \n",
       "\n",
       "[5 rows x 35 columns]"
      ]
     },
     "execution_count": 137,
     "metadata": {},
     "output_type": "execute_result"
    }
   ],
   "source": [
    "#removing unwanted columns\n",
    "data= data.drop(['Unnamed: 0','code_3','average','91-20','20-21','21-22'],axis=1)\n",
    "data.head()"
   ]
  },
  {
   "attachments": {},
   "cell_type": "markdown",
   "metadata": {},
   "source": [
    "**There was a Financialcrisis( 2007- 2008) which affected many people and many\n",
    "lost their jobs which led to an increase in unemployment rate.**"
   ]
  },
  {
   "cell_type": "code",
   "execution_count": 138,
   "metadata": {},
   "outputs": [
    {
     "data": {
      "text/html": [
       "<div>\n",
       "<style scoped>\n",
       "    .dataframe tbody tr th:only-of-type {\n",
       "        vertical-align: middle;\n",
       "    }\n",
       "\n",
       "    .dataframe tbody tr th {\n",
       "        vertical-align: top;\n",
       "    }\n",
       "\n",
       "    .dataframe thead th {\n",
       "        text-align: right;\n",
       "    }\n",
       "</style>\n",
       "<table border=\"1\" class=\"dataframe\">\n",
       "  <thead>\n",
       "    <tr style=\"text-align: right;\">\n",
       "      <th></th>\n",
       "      <th>country_name</th>\n",
       "      <th>country_code</th>\n",
       "      <th>2005</th>\n",
       "      <th>2007</th>\n",
       "      <th>2008</th>\n",
       "      <th>2010</th>\n",
       "      <th>2012</th>\n",
       "      <th>2014</th>\n",
       "      <th>continent</th>\n",
       "      <th>sub_region</th>\n",
       "    </tr>\n",
       "  </thead>\n",
       "  <tbody>\n",
       "    <tr>\n",
       "      <th>0</th>\n",
       "      <td>Afghanistan</td>\n",
       "      <td>AFG</td>\n",
       "      <td>11.22</td>\n",
       "      <td>11.30</td>\n",
       "      <td>11.09</td>\n",
       "      <td>11.35</td>\n",
       "      <td>11.34</td>\n",
       "      <td>11.14</td>\n",
       "      <td>Asia</td>\n",
       "      <td>Southern Asia</td>\n",
       "    </tr>\n",
       "    <tr>\n",
       "      <th>1</th>\n",
       "      <td>Albania</td>\n",
       "      <td>ALB</td>\n",
       "      <td>15.97</td>\n",
       "      <td>15.97</td>\n",
       "      <td>13.06</td>\n",
       "      <td>14.09</td>\n",
       "      <td>13.38</td>\n",
       "      <td>18.05</td>\n",
       "      <td>Europe</td>\n",
       "      <td>Southern Europe</td>\n",
       "    </tr>\n",
       "    <tr>\n",
       "      <th>2</th>\n",
       "      <td>Algeria</td>\n",
       "      <td>DZA</td>\n",
       "      <td>15.27</td>\n",
       "      <td>13.79</td>\n",
       "      <td>11.33</td>\n",
       "      <td>9.96</td>\n",
       "      <td>10.97</td>\n",
       "      <td>10.21</td>\n",
       "      <td>Africa</td>\n",
       "      <td>Northern Africa</td>\n",
       "    </tr>\n",
       "    <tr>\n",
       "      <th>3</th>\n",
       "      <td>Angola</td>\n",
       "      <td>AGO</td>\n",
       "      <td>3.88</td>\n",
       "      <td>3.82</td>\n",
       "      <td>3.79</td>\n",
       "      <td>9.43</td>\n",
       "      <td>7.35</td>\n",
       "      <td>7.37</td>\n",
       "      <td>Africa</td>\n",
       "      <td>Middle Africa</td>\n",
       "    </tr>\n",
       "    <tr>\n",
       "      <th>4</th>\n",
       "      <td>Argentina</td>\n",
       "      <td>ARG</td>\n",
       "      <td>11.51</td>\n",
       "      <td>8.47</td>\n",
       "      <td>7.84</td>\n",
       "      <td>7.71</td>\n",
       "      <td>7.22</td>\n",
       "      <td>7.27</td>\n",
       "      <td>Americas</td>\n",
       "      <td>South America</td>\n",
       "    </tr>\n",
       "  </tbody>\n",
       "</table>\n",
       "</div>"
      ],
      "text/plain": [
       "  country_name country_code   2005   2007   2008   2010   2012   2014  \\\n",
       "0  Afghanistan          AFG  11.22  11.30  11.09  11.35  11.34  11.14   \n",
       "1      Albania          ALB  15.97  15.97  13.06  14.09  13.38  18.05   \n",
       "2      Algeria          DZA  15.27  13.79  11.33   9.96  10.97  10.21   \n",
       "3       Angola          AGO   3.88   3.82   3.79   9.43   7.35   7.37   \n",
       "4    Argentina          ARG  11.51   8.47   7.84   7.71   7.22   7.27   \n",
       "\n",
       "  continent       sub_region  \n",
       "0      Asia    Southern Asia  \n",
       "1    Europe  Southern Europe  \n",
       "2    Africa  Northern Africa  \n",
       "3    Africa    Middle Africa  \n",
       "4  Americas    South America  "
      ]
     },
     "execution_count": 138,
     "metadata": {},
     "output_type": "execute_result"
    }
   ],
   "source": [
    "#considering only certain columns\n",
    "data_fc= pd.DataFrame()\n",
    "data_fc['country_name']= data['Country Name']\n",
    "data_fc['country_code'] = data['Country Code']\n",
    "data_fc['2005']=data['2005']\n",
    "data_fc['2007'] = data['2007']\n",
    "data_fc['2008'] = data['2008']\n",
    "data_fc['2010'] = data['2010']\n",
    "data_fc['2012'] = data['2012']\n",
    "data_fc['2014'] = data['2014']\n",
    "data_fc['continent'] = data['continent']\n",
    "data_fc['sub_region'] = data['sub_region']\n",
    "data_fc.head()"
   ]
  },
  {
   "cell_type": "code",
   "execution_count": 139,
   "metadata": {},
   "outputs": [
    {
     "data": {
      "text/html": [
       "<div>\n",
       "<style scoped>\n",
       "    .dataframe tbody tr th:only-of-type {\n",
       "        vertical-align: middle;\n",
       "    }\n",
       "\n",
       "    .dataframe tbody tr th {\n",
       "        vertical-align: top;\n",
       "    }\n",
       "\n",
       "    .dataframe thead th {\n",
       "        text-align: right;\n",
       "    }\n",
       "</style>\n",
       "<table border=\"1\" class=\"dataframe\">\n",
       "  <thead>\n",
       "    <tr style=\"text-align: right;\">\n",
       "      <th></th>\n",
       "      <th>country_name</th>\n",
       "      <th>country_code</th>\n",
       "      <th>2005</th>\n",
       "      <th>2007</th>\n",
       "      <th>2008</th>\n",
       "      <th>2010</th>\n",
       "      <th>2012</th>\n",
       "      <th>2014</th>\n",
       "      <th>continent</th>\n",
       "      <th>sub_region</th>\n",
       "      <th>median_avg</th>\n",
       "    </tr>\n",
       "  </thead>\n",
       "  <tbody>\n",
       "    <tr>\n",
       "      <th>0</th>\n",
       "      <td>Afghanistan</td>\n",
       "      <td>AFG</td>\n",
       "      <td>11.22</td>\n",
       "      <td>11.30</td>\n",
       "      <td>11.09</td>\n",
       "      <td>11.35</td>\n",
       "      <td>11.34</td>\n",
       "      <td>11.14</td>\n",
       "      <td>Asia</td>\n",
       "      <td>Southern Asia</td>\n",
       "      <td>11.20</td>\n",
       "    </tr>\n",
       "    <tr>\n",
       "      <th>1</th>\n",
       "      <td>Albania</td>\n",
       "      <td>ALB</td>\n",
       "      <td>15.97</td>\n",
       "      <td>15.97</td>\n",
       "      <td>13.06</td>\n",
       "      <td>14.09</td>\n",
       "      <td>13.38</td>\n",
       "      <td>18.05</td>\n",
       "      <td>Europe</td>\n",
       "      <td>Southern Europe</td>\n",
       "      <td>14.52</td>\n",
       "    </tr>\n",
       "    <tr>\n",
       "      <th>2</th>\n",
       "      <td>Algeria</td>\n",
       "      <td>DZA</td>\n",
       "      <td>15.27</td>\n",
       "      <td>13.79</td>\n",
       "      <td>11.33</td>\n",
       "      <td>9.96</td>\n",
       "      <td>10.97</td>\n",
       "      <td>10.21</td>\n",
       "      <td>Africa</td>\n",
       "      <td>Northern Africa</td>\n",
       "      <td>12.56</td>\n",
       "    </tr>\n",
       "    <tr>\n",
       "      <th>3</th>\n",
       "      <td>Angola</td>\n",
       "      <td>AGO</td>\n",
       "      <td>3.88</td>\n",
       "      <td>3.82</td>\n",
       "      <td>3.79</td>\n",
       "      <td>9.43</td>\n",
       "      <td>7.35</td>\n",
       "      <td>7.37</td>\n",
       "      <td>Africa</td>\n",
       "      <td>Middle Africa</td>\n",
       "      <td>3.80</td>\n",
       "    </tr>\n",
       "    <tr>\n",
       "      <th>4</th>\n",
       "      <td>Argentina</td>\n",
       "      <td>ARG</td>\n",
       "      <td>11.51</td>\n",
       "      <td>8.47</td>\n",
       "      <td>7.84</td>\n",
       "      <td>7.71</td>\n",
       "      <td>7.22</td>\n",
       "      <td>7.27</td>\n",
       "      <td>Americas</td>\n",
       "      <td>South America</td>\n",
       "      <td>8.16</td>\n",
       "    </tr>\n",
       "    <tr>\n",
       "      <th>...</th>\n",
       "      <td>...</td>\n",
       "      <td>...</td>\n",
       "      <td>...</td>\n",
       "      <td>...</td>\n",
       "      <td>...</td>\n",
       "      <td>...</td>\n",
       "      <td>...</td>\n",
       "      <td>...</td>\n",
       "      <td>...</td>\n",
       "      <td>...</td>\n",
       "      <td>...</td>\n",
       "    </tr>\n",
       "    <tr>\n",
       "      <th>181</th>\n",
       "      <td>Virgin Islands (U.S.)</td>\n",
       "      <td>VIR</td>\n",
       "      <td>10.96</td>\n",
       "      <td>10.19</td>\n",
       "      <td>10.31</td>\n",
       "      <td>11.73</td>\n",
       "      <td>12.23</td>\n",
       "      <td>12.79</td>\n",
       "      <td>Americas</td>\n",
       "      <td>Caribbean</td>\n",
       "      <td>10.25</td>\n",
       "    </tr>\n",
       "    <tr>\n",
       "      <th>182</th>\n",
       "      <td>West Bank and Gaza</td>\n",
       "      <td>PSE</td>\n",
       "      <td>20.02</td>\n",
       "      <td>18.28</td>\n",
       "      <td>22.91</td>\n",
       "      <td>21.42</td>\n",
       "      <td>19.20</td>\n",
       "      <td>20.53</td>\n",
       "      <td>Asia</td>\n",
       "      <td>Western Asia</td>\n",
       "      <td>20.60</td>\n",
       "    </tr>\n",
       "    <tr>\n",
       "      <th>183</th>\n",
       "      <td>Yemen, Rep.</td>\n",
       "      <td>YEM</td>\n",
       "      <td>12.21</td>\n",
       "      <td>12.49</td>\n",
       "      <td>12.62</td>\n",
       "      <td>12.83</td>\n",
       "      <td>13.17</td>\n",
       "      <td>13.47</td>\n",
       "      <td>Asia</td>\n",
       "      <td>Western Asia</td>\n",
       "      <td>12.56</td>\n",
       "    </tr>\n",
       "    <tr>\n",
       "      <th>184</th>\n",
       "      <td>Zambia</td>\n",
       "      <td>ZMB</td>\n",
       "      <td>15.90</td>\n",
       "      <td>10.59</td>\n",
       "      <td>7.93</td>\n",
       "      <td>13.19</td>\n",
       "      <td>7.85</td>\n",
       "      <td>9.36</td>\n",
       "      <td>Africa</td>\n",
       "      <td>Eastern Africa</td>\n",
       "      <td>9.26</td>\n",
       "    </tr>\n",
       "    <tr>\n",
       "      <th>185</th>\n",
       "      <td>Zimbabwe</td>\n",
       "      <td>ZWE</td>\n",
       "      <td>4.54</td>\n",
       "      <td>4.83</td>\n",
       "      <td>5.01</td>\n",
       "      <td>5.21</td>\n",
       "      <td>5.15</td>\n",
       "      <td>4.77</td>\n",
       "      <td>Africa</td>\n",
       "      <td>Eastern Africa</td>\n",
       "      <td>4.92</td>\n",
       "    </tr>\n",
       "  </tbody>\n",
       "</table>\n",
       "<p>186 rows × 11 columns</p>\n",
       "</div>"
      ],
      "text/plain": [
       "              country_name country_code   2005   2007   2008   2010   2012  \\\n",
       "0              Afghanistan          AFG  11.22  11.30  11.09  11.35  11.34   \n",
       "1                  Albania          ALB  15.97  15.97  13.06  14.09  13.38   \n",
       "2                  Algeria          DZA  15.27  13.79  11.33   9.96  10.97   \n",
       "3                   Angola          AGO   3.88   3.82   3.79   9.43   7.35   \n",
       "4                Argentina          ARG  11.51   8.47   7.84   7.71   7.22   \n",
       "..                     ...          ...    ...    ...    ...    ...    ...   \n",
       "181  Virgin Islands (U.S.)          VIR  10.96  10.19  10.31  11.73  12.23   \n",
       "182     West Bank and Gaza          PSE  20.02  18.28  22.91  21.42  19.20   \n",
       "183            Yemen, Rep.          YEM  12.21  12.49  12.62  12.83  13.17   \n",
       "184                 Zambia          ZMB  15.90  10.59   7.93  13.19   7.85   \n",
       "185               Zimbabwe          ZWE   4.54   4.83   5.01   5.21   5.15   \n",
       "\n",
       "      2014 continent       sub_region  median_avg  \n",
       "0    11.14      Asia    Southern Asia       11.20  \n",
       "1    18.05    Europe  Southern Europe       14.52  \n",
       "2    10.21    Africa  Northern Africa       12.56  \n",
       "3     7.37    Africa    Middle Africa        3.80  \n",
       "4     7.27  Americas    South America        8.16  \n",
       "..     ...       ...              ...         ...  \n",
       "181  12.79  Americas        Caribbean       10.25  \n",
       "182  20.53      Asia     Western Asia       20.60  \n",
       "183  13.47      Asia     Western Asia       12.56  \n",
       "184   9.36    Africa   Eastern Africa        9.26  \n",
       "185   4.77    Africa   Eastern Africa        4.92  \n",
       "\n",
       "[186 rows x 11 columns]"
      ]
     },
     "execution_count": 139,
     "metadata": {},
     "output_type": "execute_result"
    }
   ],
   "source": [
    "#finding average of two years\n",
    "data_fc['median_avg']=data_fc[['2007','2008']].median(axis=1).round(2)\n",
    "data_fc"
   ]
  },
  {
   "cell_type": "code",
   "execution_count": 140,
   "metadata": {},
   "outputs": [
    {
     "data": {
      "application/vnd.plotly.v1+json": {
       "config": {
        "plotlyServerURL": "https://plot.ly"
       },
       "data": [
        {
         "alignmentgroup": "True",
         "hovertemplate": "x=%{x}<br>y=%{y}<extra></extra>",
         "legendgroup": "",
         "marker": {
          "color": "#636efa",
          "pattern": {
           "shape": ""
          }
         },
         "name": "",
         "offsetgroup": "",
         "orientation": "v",
         "showlegend": false,
         "textposition": "auto",
         "type": "bar",
         "x": [
          "Afghanistan",
          "Albania",
          "Algeria",
          "Angola",
          "Argentina",
          "Armenia",
          "Australia",
          "Austria",
          "Azerbaijan",
          "Bahamas, The",
          "Bahrain",
          "Bangladesh",
          "Barbados",
          "Belarus",
          "Belgium",
          "Belize",
          "Benin",
          "Bhutan",
          "Bolivia",
          "Bosnia and Herzegovina",
          "Botswana",
          "Brazil",
          "Brunei Darussalam",
          "Bulgaria",
          "Burkina Faso",
          "Burundi",
          "Cabo Verde",
          "Cambodia",
          "Cameroon",
          "Canada",
          "Central African Republic",
          "Chad",
          "Chile",
          "China",
          "Colombia",
          "Comoros",
          "Congo, Dem. Rep.",
          "Congo, Rep.",
          "Costa Rica",
          "Cote d'Ivoire",
          "Croatia",
          "Cuba",
          "Cyprus",
          "Czech Republic",
          "Denmark",
          "Djibouti",
          "Dominican Republic",
          "Ecuador",
          "Egypt, Arab Rep.",
          "El Salvador",
          "Equatorial Guinea",
          "Eritrea",
          "Estonia",
          "Eswatini",
          "Ethiopia",
          "Fiji",
          "Finland",
          "France",
          "French Polynesia",
          "Gabon",
          "Gambia, The",
          "Georgia",
          "Germany",
          "Ghana",
          "Greece",
          "Guam",
          "Guatemala",
          "Guinea",
          "Guinea-Bissau",
          "Guyana",
          "Haiti",
          "Honduras",
          "Hong Kong SAR, China",
          "Hungary",
          "Iceland",
          "India",
          "Indonesia",
          "Iran, Islamic Rep.",
          "Iraq",
          "Ireland",
          "Israel",
          "Italy",
          "Jamaica",
          "Japan",
          "Jordan",
          "Kazakhstan",
          "Kenya",
          "Korea, Dem. People's Rep.",
          "Korea, Rep.",
          "Kuwait",
          "Kyrgyz Republic",
          "Lao PDR",
          "Latvia",
          "Lebanon",
          "Lesotho",
          "Liberia",
          "Libya",
          "Lithuania",
          "Luxembourg",
          "Macao SAR, China",
          "Madagascar",
          "Malawi",
          "Malaysia",
          "Maldives",
          "Mali",
          "Malta",
          "Mauritania",
          "Mauritius",
          "Mexico",
          "Moldova",
          "Mongolia",
          "Montenegro",
          "Morocco",
          "Mozambique",
          "Myanmar",
          "Namibia",
          "Nepal",
          "Netherlands",
          "New Caledonia",
          "New Zealand",
          "Nicaragua",
          "Niger",
          "Nigeria",
          "North Macedonia",
          "Norway",
          "Oman",
          "Pakistan",
          "Panama",
          "Papua New Guinea",
          "Paraguay",
          "Peru",
          "Philippines",
          "Poland",
          "Portugal",
          "Puerto Rico",
          "Qatar",
          "Romania",
          "Russian Federation",
          "Rwanda",
          "Samoa",
          "Sao Tome and Principe",
          "Saudi Arabia",
          "Senegal",
          "Serbia",
          "Sierra Leone",
          "Singapore",
          "Slovak Republic",
          "Slovenia",
          "Solomon Islands",
          "Somalia",
          "South Africa",
          "South Sudan",
          "Spain",
          "Sri Lanka",
          "St. Lucia",
          "St. Vincent and the Grenadines",
          "Sudan",
          "Suriname",
          "Sweden",
          "Switzerland",
          "Syrian Arab Republic",
          "Tajikistan",
          "Tanzania",
          "Thailand",
          "Timor-Leste",
          "Togo",
          "Tonga",
          "Trinidad and Tobago",
          "Tunisia",
          "Turkiye",
          "Turkmenistan",
          "Uganda",
          "Ukraine",
          "United Arab Emirates",
          "United Kingdom",
          "United States",
          "Uruguay",
          "Uzbekistan",
          "Vanuatu",
          "Venezuela, RB",
          "Vietnam",
          "Virgin Islands (U.S.)",
          "West Bank and Gaza",
          "Yemen, Rep.",
          "Zambia",
          "Zimbabwe"
         ],
         "xaxis": "x",
         "y": [
          11.2,
          14.52,
          12.56,
          3.8,
          8.16,
          12.1,
          4.3,
          4.5,
          6.1,
          8.03,
          1.1,
          4.35,
          7.76,
          7.35,
          7.22,
          8.34,
          0.92,
          3.68,
          2.62,
          26.2,
          16.92,
          7.84,
          6.34,
          6.24,
          3.36,
          1.63,
          10.73,
          1.04,
          3.24,
          6.09,
          5.54,
          0.94,
          8.86,
          4.47,
          10.37,
          5.81,
          3.43,
          20.01,
          4.64,
          6.26,
          9.22,
          1.68,
          3.78,
          4.86,
          3.74,
          27.38,
          4.96,
          3.53,
          8.66,
          6.14,
          8.57,
          5.21,
          5.02,
          27.96,
          2.42,
          4.14,
          6.61,
          7.36,
          11.82,
          18.69,
          9.3,
          15.58,
          8.09,
          4.92,
          8.08,
          8.51,
          3.21,
          4.7,
          5.98,
          11.12,
          16.57,
          3.18,
          3.78,
          7.62,
          2.6,
          5.49,
          7.64,
          10.7,
          8.57,
          5.88,
          8.54,
          6.4,
          10.17,
          3.94,
          12.9,
          6.94,
          2.9,
          2.8,
          2.98,
          1.62,
          8.16,
          1.04,
          6.9,
          8.32,
          29.19,
          2.22,
          19.38,
          5.04,
          4.56,
          3.14,
          3.42,
          5.85,
          3.28,
          10.46,
          11.1,
          6.22,
          9.88,
          7.82,
          3.75,
          4.53,
          6.38,
          18.27,
          9.57,
          3.11,
          0.7,
          22.18,
          1.33,
          3.9,
          14.7,
          3.92,
          5.54,
          1.96,
          3.83,
          34.34,
          2.52,
          4.16,
          0.41,
          3.71,
          2.28,
          4.56,
          4.04,
          3.58,
          8.36,
          7.76,
          11.2,
          0.42,
          6.1,
          6.1,
          1.02,
          5.47,
          15.93,
          5.4,
          10.1,
          15.88,
          3.86,
          3.93,
          10.32,
          4.6,
          1.88,
          18.91,
          24.48,
          12.13,
          9.74,
          5.6,
          13.36,
          18.92,
          14.81,
          8.96,
          6.2,
          3.5,
          9.68,
          12.18,
          2.9,
          1.18,
          3.33,
          3.57,
          1.3,
          5.08,
          12.4,
          9.29,
          5.36,
          2.94,
          6.36,
          2.8,
          5.44,
          5.2,
          8.72,
          4.94,
          1.77,
          6.76,
          1.98,
          10.25,
          20.6,
          12.56,
          9.26,
          4.92
         ],
         "yaxis": "y"
        }
       ],
       "layout": {
        "barmode": "relative",
        "legend": {
         "tracegroupgap": 0
        },
        "margin": {
         "t": 60
        },
        "template": {
         "data": {
          "bar": [
           {
            "error_x": {
             "color": "#2a3f5f"
            },
            "error_y": {
             "color": "#2a3f5f"
            },
            "marker": {
             "line": {
              "color": "#E5ECF6",
              "width": 0.5
             },
             "pattern": {
              "fillmode": "overlay",
              "size": 10,
              "solidity": 0.2
             }
            },
            "type": "bar"
           }
          ],
          "barpolar": [
           {
            "marker": {
             "line": {
              "color": "#E5ECF6",
              "width": 0.5
             },
             "pattern": {
              "fillmode": "overlay",
              "size": 10,
              "solidity": 0.2
             }
            },
            "type": "barpolar"
           }
          ],
          "carpet": [
           {
            "aaxis": {
             "endlinecolor": "#2a3f5f",
             "gridcolor": "white",
             "linecolor": "white",
             "minorgridcolor": "white",
             "startlinecolor": "#2a3f5f"
            },
            "baxis": {
             "endlinecolor": "#2a3f5f",
             "gridcolor": "white",
             "linecolor": "white",
             "minorgridcolor": "white",
             "startlinecolor": "#2a3f5f"
            },
            "type": "carpet"
           }
          ],
          "choropleth": [
           {
            "colorbar": {
             "outlinewidth": 0,
             "ticks": ""
            },
            "type": "choropleth"
           }
          ],
          "contour": [
           {
            "colorbar": {
             "outlinewidth": 0,
             "ticks": ""
            },
            "colorscale": [
             [
              0,
              "#0d0887"
             ],
             [
              0.1111111111111111,
              "#46039f"
             ],
             [
              0.2222222222222222,
              "#7201a8"
             ],
             [
              0.3333333333333333,
              "#9c179e"
             ],
             [
              0.4444444444444444,
              "#bd3786"
             ],
             [
              0.5555555555555556,
              "#d8576b"
             ],
             [
              0.6666666666666666,
              "#ed7953"
             ],
             [
              0.7777777777777778,
              "#fb9f3a"
             ],
             [
              0.8888888888888888,
              "#fdca26"
             ],
             [
              1,
              "#f0f921"
             ]
            ],
            "type": "contour"
           }
          ],
          "contourcarpet": [
           {
            "colorbar": {
             "outlinewidth": 0,
             "ticks": ""
            },
            "type": "contourcarpet"
           }
          ],
          "heatmap": [
           {
            "colorbar": {
             "outlinewidth": 0,
             "ticks": ""
            },
            "colorscale": [
             [
              0,
              "#0d0887"
             ],
             [
              0.1111111111111111,
              "#46039f"
             ],
             [
              0.2222222222222222,
              "#7201a8"
             ],
             [
              0.3333333333333333,
              "#9c179e"
             ],
             [
              0.4444444444444444,
              "#bd3786"
             ],
             [
              0.5555555555555556,
              "#d8576b"
             ],
             [
              0.6666666666666666,
              "#ed7953"
             ],
             [
              0.7777777777777778,
              "#fb9f3a"
             ],
             [
              0.8888888888888888,
              "#fdca26"
             ],
             [
              1,
              "#f0f921"
             ]
            ],
            "type": "heatmap"
           }
          ],
          "heatmapgl": [
           {
            "colorbar": {
             "outlinewidth": 0,
             "ticks": ""
            },
            "colorscale": [
             [
              0,
              "#0d0887"
             ],
             [
              0.1111111111111111,
              "#46039f"
             ],
             [
              0.2222222222222222,
              "#7201a8"
             ],
             [
              0.3333333333333333,
              "#9c179e"
             ],
             [
              0.4444444444444444,
              "#bd3786"
             ],
             [
              0.5555555555555556,
              "#d8576b"
             ],
             [
              0.6666666666666666,
              "#ed7953"
             ],
             [
              0.7777777777777778,
              "#fb9f3a"
             ],
             [
              0.8888888888888888,
              "#fdca26"
             ],
             [
              1,
              "#f0f921"
             ]
            ],
            "type": "heatmapgl"
           }
          ],
          "histogram": [
           {
            "marker": {
             "pattern": {
              "fillmode": "overlay",
              "size": 10,
              "solidity": 0.2
             }
            },
            "type": "histogram"
           }
          ],
          "histogram2d": [
           {
            "colorbar": {
             "outlinewidth": 0,
             "ticks": ""
            },
            "colorscale": [
             [
              0,
              "#0d0887"
             ],
             [
              0.1111111111111111,
              "#46039f"
             ],
             [
              0.2222222222222222,
              "#7201a8"
             ],
             [
              0.3333333333333333,
              "#9c179e"
             ],
             [
              0.4444444444444444,
              "#bd3786"
             ],
             [
              0.5555555555555556,
              "#d8576b"
             ],
             [
              0.6666666666666666,
              "#ed7953"
             ],
             [
              0.7777777777777778,
              "#fb9f3a"
             ],
             [
              0.8888888888888888,
              "#fdca26"
             ],
             [
              1,
              "#f0f921"
             ]
            ],
            "type": "histogram2d"
           }
          ],
          "histogram2dcontour": [
           {
            "colorbar": {
             "outlinewidth": 0,
             "ticks": ""
            },
            "colorscale": [
             [
              0,
              "#0d0887"
             ],
             [
              0.1111111111111111,
              "#46039f"
             ],
             [
              0.2222222222222222,
              "#7201a8"
             ],
             [
              0.3333333333333333,
              "#9c179e"
             ],
             [
              0.4444444444444444,
              "#bd3786"
             ],
             [
              0.5555555555555556,
              "#d8576b"
             ],
             [
              0.6666666666666666,
              "#ed7953"
             ],
             [
              0.7777777777777778,
              "#fb9f3a"
             ],
             [
              0.8888888888888888,
              "#fdca26"
             ],
             [
              1,
              "#f0f921"
             ]
            ],
            "type": "histogram2dcontour"
           }
          ],
          "mesh3d": [
           {
            "colorbar": {
             "outlinewidth": 0,
             "ticks": ""
            },
            "type": "mesh3d"
           }
          ],
          "parcoords": [
           {
            "line": {
             "colorbar": {
              "outlinewidth": 0,
              "ticks": ""
             }
            },
            "type": "parcoords"
           }
          ],
          "pie": [
           {
            "automargin": true,
            "type": "pie"
           }
          ],
          "scatter": [
           {
            "fillpattern": {
             "fillmode": "overlay",
             "size": 10,
             "solidity": 0.2
            },
            "type": "scatter"
           }
          ],
          "scatter3d": [
           {
            "line": {
             "colorbar": {
              "outlinewidth": 0,
              "ticks": ""
             }
            },
            "marker": {
             "colorbar": {
              "outlinewidth": 0,
              "ticks": ""
             }
            },
            "type": "scatter3d"
           }
          ],
          "scattercarpet": [
           {
            "marker": {
             "colorbar": {
              "outlinewidth": 0,
              "ticks": ""
             }
            },
            "type": "scattercarpet"
           }
          ],
          "scattergeo": [
           {
            "marker": {
             "colorbar": {
              "outlinewidth": 0,
              "ticks": ""
             }
            },
            "type": "scattergeo"
           }
          ],
          "scattergl": [
           {
            "marker": {
             "colorbar": {
              "outlinewidth": 0,
              "ticks": ""
             }
            },
            "type": "scattergl"
           }
          ],
          "scattermapbox": [
           {
            "marker": {
             "colorbar": {
              "outlinewidth": 0,
              "ticks": ""
             }
            },
            "type": "scattermapbox"
           }
          ],
          "scatterpolar": [
           {
            "marker": {
             "colorbar": {
              "outlinewidth": 0,
              "ticks": ""
             }
            },
            "type": "scatterpolar"
           }
          ],
          "scatterpolargl": [
           {
            "marker": {
             "colorbar": {
              "outlinewidth": 0,
              "ticks": ""
             }
            },
            "type": "scatterpolargl"
           }
          ],
          "scatterternary": [
           {
            "marker": {
             "colorbar": {
              "outlinewidth": 0,
              "ticks": ""
             }
            },
            "type": "scatterternary"
           }
          ],
          "surface": [
           {
            "colorbar": {
             "outlinewidth": 0,
             "ticks": ""
            },
            "colorscale": [
             [
              0,
              "#0d0887"
             ],
             [
              0.1111111111111111,
              "#46039f"
             ],
             [
              0.2222222222222222,
              "#7201a8"
             ],
             [
              0.3333333333333333,
              "#9c179e"
             ],
             [
              0.4444444444444444,
              "#bd3786"
             ],
             [
              0.5555555555555556,
              "#d8576b"
             ],
             [
              0.6666666666666666,
              "#ed7953"
             ],
             [
              0.7777777777777778,
              "#fb9f3a"
             ],
             [
              0.8888888888888888,
              "#fdca26"
             ],
             [
              1,
              "#f0f921"
             ]
            ],
            "type": "surface"
           }
          ],
          "table": [
           {
            "cells": {
             "fill": {
              "color": "#EBF0F8"
             },
             "line": {
              "color": "white"
             }
            },
            "header": {
             "fill": {
              "color": "#C8D4E3"
             },
             "line": {
              "color": "white"
             }
            },
            "type": "table"
           }
          ]
         },
         "layout": {
          "annotationdefaults": {
           "arrowcolor": "#2a3f5f",
           "arrowhead": 0,
           "arrowwidth": 1
          },
          "autotypenumbers": "strict",
          "coloraxis": {
           "colorbar": {
            "outlinewidth": 0,
            "ticks": ""
           }
          },
          "colorscale": {
           "diverging": [
            [
             0,
             "#8e0152"
            ],
            [
             0.1,
             "#c51b7d"
            ],
            [
             0.2,
             "#de77ae"
            ],
            [
             0.3,
             "#f1b6da"
            ],
            [
             0.4,
             "#fde0ef"
            ],
            [
             0.5,
             "#f7f7f7"
            ],
            [
             0.6,
             "#e6f5d0"
            ],
            [
             0.7,
             "#b8e186"
            ],
            [
             0.8,
             "#7fbc41"
            ],
            [
             0.9,
             "#4d9221"
            ],
            [
             1,
             "#276419"
            ]
           ],
           "sequential": [
            [
             0,
             "#0d0887"
            ],
            [
             0.1111111111111111,
             "#46039f"
            ],
            [
             0.2222222222222222,
             "#7201a8"
            ],
            [
             0.3333333333333333,
             "#9c179e"
            ],
            [
             0.4444444444444444,
             "#bd3786"
            ],
            [
             0.5555555555555556,
             "#d8576b"
            ],
            [
             0.6666666666666666,
             "#ed7953"
            ],
            [
             0.7777777777777778,
             "#fb9f3a"
            ],
            [
             0.8888888888888888,
             "#fdca26"
            ],
            [
             1,
             "#f0f921"
            ]
           ],
           "sequentialminus": [
            [
             0,
             "#0d0887"
            ],
            [
             0.1111111111111111,
             "#46039f"
            ],
            [
             0.2222222222222222,
             "#7201a8"
            ],
            [
             0.3333333333333333,
             "#9c179e"
            ],
            [
             0.4444444444444444,
             "#bd3786"
            ],
            [
             0.5555555555555556,
             "#d8576b"
            ],
            [
             0.6666666666666666,
             "#ed7953"
            ],
            [
             0.7777777777777778,
             "#fb9f3a"
            ],
            [
             0.8888888888888888,
             "#fdca26"
            ],
            [
             1,
             "#f0f921"
            ]
           ]
          },
          "colorway": [
           "#636efa",
           "#EF553B",
           "#00cc96",
           "#ab63fa",
           "#FFA15A",
           "#19d3f3",
           "#FF6692",
           "#B6E880",
           "#FF97FF",
           "#FECB52"
          ],
          "font": {
           "color": "#2a3f5f"
          },
          "geo": {
           "bgcolor": "white",
           "lakecolor": "white",
           "landcolor": "#E5ECF6",
           "showlakes": true,
           "showland": true,
           "subunitcolor": "white"
          },
          "hoverlabel": {
           "align": "left"
          },
          "hovermode": "closest",
          "mapbox": {
           "style": "light"
          },
          "paper_bgcolor": "white",
          "plot_bgcolor": "#E5ECF6",
          "polar": {
           "angularaxis": {
            "gridcolor": "white",
            "linecolor": "white",
            "ticks": ""
           },
           "bgcolor": "#E5ECF6",
           "radialaxis": {
            "gridcolor": "white",
            "linecolor": "white",
            "ticks": ""
           }
          },
          "scene": {
           "xaxis": {
            "backgroundcolor": "#E5ECF6",
            "gridcolor": "white",
            "gridwidth": 2,
            "linecolor": "white",
            "showbackground": true,
            "ticks": "",
            "zerolinecolor": "white"
           },
           "yaxis": {
            "backgroundcolor": "#E5ECF6",
            "gridcolor": "white",
            "gridwidth": 2,
            "linecolor": "white",
            "showbackground": true,
            "ticks": "",
            "zerolinecolor": "white"
           },
           "zaxis": {
            "backgroundcolor": "#E5ECF6",
            "gridcolor": "white",
            "gridwidth": 2,
            "linecolor": "white",
            "showbackground": true,
            "ticks": "",
            "zerolinecolor": "white"
           }
          },
          "shapedefaults": {
           "line": {
            "color": "#2a3f5f"
           }
          },
          "ternary": {
           "aaxis": {
            "gridcolor": "white",
            "linecolor": "white",
            "ticks": ""
           },
           "baxis": {
            "gridcolor": "white",
            "linecolor": "white",
            "ticks": ""
           },
           "bgcolor": "#E5ECF6",
           "caxis": {
            "gridcolor": "white",
            "linecolor": "white",
            "ticks": ""
           }
          },
          "title": {
           "x": 0.05
          },
          "xaxis": {
           "automargin": true,
           "gridcolor": "white",
           "linecolor": "white",
           "ticks": "",
           "title": {
            "standoff": 15
           },
           "zerolinecolor": "white",
           "zerolinewidth": 2
          },
          "yaxis": {
           "automargin": true,
           "gridcolor": "white",
           "linecolor": "white",
           "ticks": "",
           "title": {
            "standoff": 15
           },
           "zerolinecolor": "white",
           "zerolinewidth": 2
          }
         }
        },
        "xaxis": {
         "anchor": "y",
         "domain": [
          0,
          1
         ],
         "title": {
          "text": "x"
         }
        },
        "yaxis": {
         "anchor": "x",
         "domain": [
          0,
          1
         ],
         "title": {
          "text": "y"
         }
        }
       }
      }
     },
     "metadata": {},
     "output_type": "display_data"
    }
   ],
   "source": [
    "#plotting the average unemployment_rate to check whether the statement is true to belief\n",
    "px.bar(x=data_fc['country_name'],y=data_fc['median_avg'])\n"
   ]
  },
  {
   "cell_type": "code",
   "execution_count": 141,
   "metadata": {},
   "outputs": [
    {
     "data": {
      "application/vnd.plotly.v1+json": {
       "config": {
        "plotlyServerURL": "https://plot.ly"
       },
       "data": [
        {
         "alignmentgroup": "True",
         "hovertemplate": "x=%{x}<br>y=%{y}<extra></extra>",
         "legendgroup": "",
         "marker": {
          "color": "#636efa",
          "pattern": {
           "shape": ""
          }
         },
         "name": "",
         "offsetgroup": "",
         "orientation": "v",
         "showlegend": false,
         "textposition": "auto",
         "type": "bar",
         "x": [
          "Afghanistan",
          "Albania",
          "Algeria",
          "Angola",
          "Argentina",
          "Armenia",
          "Australia",
          "Austria",
          "Azerbaijan",
          "Bahamas, The",
          "Bahrain",
          "Bangladesh",
          "Barbados",
          "Belarus",
          "Belgium",
          "Belize",
          "Benin",
          "Bhutan",
          "Bolivia",
          "Bosnia and Herzegovina",
          "Botswana",
          "Brazil",
          "Brunei Darussalam",
          "Bulgaria",
          "Burkina Faso",
          "Burundi",
          "Cabo Verde",
          "Cambodia",
          "Cameroon",
          "Canada",
          "Central African Republic",
          "Chad",
          "Chile",
          "China",
          "Colombia",
          "Comoros",
          "Congo, Dem. Rep.",
          "Congo, Rep.",
          "Costa Rica",
          "Cote d'Ivoire",
          "Croatia",
          "Cuba",
          "Cyprus",
          "Czech Republic",
          "Denmark",
          "Djibouti",
          "Dominican Republic",
          "Ecuador",
          "Egypt, Arab Rep.",
          "El Salvador",
          "Equatorial Guinea",
          "Eritrea",
          "Estonia",
          "Eswatini",
          "Ethiopia",
          "Fiji",
          "Finland",
          "France",
          "French Polynesia",
          "Gabon",
          "Gambia, The",
          "Georgia",
          "Germany",
          "Ghana",
          "Greece",
          "Guam",
          "Guatemala",
          "Guinea",
          "Guinea-Bissau",
          "Guyana",
          "Haiti",
          "Honduras",
          "Hong Kong SAR, China",
          "Hungary",
          "Iceland",
          "India",
          "Indonesia",
          "Iran, Islamic Rep.",
          "Iraq",
          "Ireland",
          "Israel",
          "Italy",
          "Jamaica",
          "Japan",
          "Jordan",
          "Kazakhstan",
          "Kenya",
          "Korea, Dem. People's Rep.",
          "Korea, Rep.",
          "Kuwait",
          "Kyrgyz Republic",
          "Lao PDR",
          "Latvia",
          "Lebanon",
          "Lesotho",
          "Liberia",
          "Libya",
          "Lithuania",
          "Luxembourg",
          "Macao SAR, China",
          "Madagascar",
          "Malawi",
          "Malaysia",
          "Maldives",
          "Mali",
          "Malta",
          "Mauritania",
          "Mauritius",
          "Mexico",
          "Moldova",
          "Mongolia",
          "Montenegro",
          "Morocco",
          "Mozambique",
          "Myanmar",
          "Namibia",
          "Nepal",
          "Netherlands",
          "New Caledonia",
          "New Zealand",
          "Nicaragua",
          "Niger",
          "Nigeria",
          "North Macedonia",
          "Norway",
          "Oman",
          "Pakistan",
          "Panama",
          "Papua New Guinea",
          "Paraguay",
          "Peru",
          "Philippines",
          "Poland",
          "Portugal",
          "Puerto Rico",
          "Qatar",
          "Romania",
          "Russian Federation",
          "Rwanda",
          "Samoa",
          "Sao Tome and Principe",
          "Saudi Arabia",
          "Senegal",
          "Serbia",
          "Sierra Leone",
          "Singapore",
          "Slovak Republic",
          "Slovenia",
          "Solomon Islands",
          "Somalia",
          "South Africa",
          "South Sudan",
          "Spain",
          "Sri Lanka",
          "St. Lucia",
          "St. Vincent and the Grenadines",
          "Sudan",
          "Suriname",
          "Sweden",
          "Switzerland",
          "Syrian Arab Republic",
          "Tajikistan",
          "Tanzania",
          "Thailand",
          "Timor-Leste",
          "Togo",
          "Tonga",
          "Trinidad and Tobago",
          "Tunisia",
          "Turkiye",
          "Turkmenistan",
          "Uganda",
          "Ukraine",
          "United Arab Emirates",
          "United Kingdom",
          "United States",
          "Uruguay",
          "Uzbekistan",
          "Vanuatu",
          "Venezuela, RB",
          "Vietnam",
          "Virgin Islands (U.S.)",
          "West Bank and Gaza",
          "Yemen, Rep.",
          "Zambia",
          "Zimbabwe"
         ],
         "xaxis": "x",
         "y": [
          11.22,
          15.97,
          15.27,
          3.88,
          11.51,
          10.2,
          5.03,
          5.63,
          7.26,
          10.2,
          1.09,
          4.25,
          9.08,
          9.06,
          8.44,
          10.91,
          0.82,
          3.1,
          2.54,
          30.41,
          19.81,
          9.57,
          6.13,
          10.08,
          4,
          1.62,
          10.85,
          1.13,
          4.4,
          6.76,
          5.7,
          0.87,
          9.34,
          4.52,
          11.06,
          4.92,
          2.85,
          19.8,
          6.57,
          5.69,
          12.6,
          1.95,
          5.3,
          7.93,
          4.83,
          27.72,
          6.59,
          3.78,
          11.2,
          7.22,
          8.75,
          5.26,
          8.03,
          27.07,
          2.5,
          3.89,
          8.38,
          8.49,
          11.76,
          16.91,
          9.29,
          13.81,
          11.17,
          5.62,
          9.99,
          7,
          3.05,
          4.65,
          6.21,
          11.02,
          14.42,
          4.91,
          5.58,
          7.19,
          2.55,
          5.61,
          7.94,
          11.81,
          8.71,
          4.34,
          11.34,
          7.73,
          11.26,
          4.45,
          14.8,
          8.13,
          2.92,
          2.84,
          3.48,
          1.5,
          8.11,
          1.35,
          10.03,
          8.28,
          31.31,
          2.19,
          19.39,
          8.32,
          4.49,
          4.16,
          2.62,
          5.84,
          3.53,
          7.2,
          9.69,
          6.92,
          9.79,
          9.52,
          3.56,
          7.29,
          7.04,
          30.31,
          11.01,
          3.02,
          0.67,
          22.22,
          1.46,
          5.87,
          15.85,
          3.81,
          5.37,
          3.1,
          3.87,
          37.25,
          4.38,
          4.18,
          0.59,
          3.75,
          2.41,
          4.82,
          4.88,
          3.8,
          17.75,
          7.58,
          11.35,
          0.87,
          7.17,
          7.12,
          0.96,
          5.29,
          16.47,
          6.05,
          8.9,
          20.85,
          3.55,
          5.59,
          16.26,
          6.51,
          1.76,
          19.01,
          29.12,
          12.11,
          9.15,
          7.67,
          18.7,
          19.75,
          14.97,
          9.38,
          7.49,
          4.44,
          8.85,
          13.13,
          3.23,
          1.35,
          3.44,
          4.22,
          2.49,
          7.95,
          12.87,
          10.64,
          7.5,
          1.9,
          7.18,
          3.12,
          4.75,
          5.08,
          12.01,
          7.09,
          1.73,
          10.66,
          2.1,
          10.96,
          20.02,
          12.21,
          15.9,
          4.54
         ],
         "yaxis": "y"
        }
       ],
       "layout": {
        "barmode": "relative",
        "legend": {
         "tracegroupgap": 0
        },
        "margin": {
         "t": 60
        },
        "template": {
         "data": {
          "bar": [
           {
            "error_x": {
             "color": "#2a3f5f"
            },
            "error_y": {
             "color": "#2a3f5f"
            },
            "marker": {
             "line": {
              "color": "#E5ECF6",
              "width": 0.5
             },
             "pattern": {
              "fillmode": "overlay",
              "size": 10,
              "solidity": 0.2
             }
            },
            "type": "bar"
           }
          ],
          "barpolar": [
           {
            "marker": {
             "line": {
              "color": "#E5ECF6",
              "width": 0.5
             },
             "pattern": {
              "fillmode": "overlay",
              "size": 10,
              "solidity": 0.2
             }
            },
            "type": "barpolar"
           }
          ],
          "carpet": [
           {
            "aaxis": {
             "endlinecolor": "#2a3f5f",
             "gridcolor": "white",
             "linecolor": "white",
             "minorgridcolor": "white",
             "startlinecolor": "#2a3f5f"
            },
            "baxis": {
             "endlinecolor": "#2a3f5f",
             "gridcolor": "white",
             "linecolor": "white",
             "minorgridcolor": "white",
             "startlinecolor": "#2a3f5f"
            },
            "type": "carpet"
           }
          ],
          "choropleth": [
           {
            "colorbar": {
             "outlinewidth": 0,
             "ticks": ""
            },
            "type": "choropleth"
           }
          ],
          "contour": [
           {
            "colorbar": {
             "outlinewidth": 0,
             "ticks": ""
            },
            "colorscale": [
             [
              0,
              "#0d0887"
             ],
             [
              0.1111111111111111,
              "#46039f"
             ],
             [
              0.2222222222222222,
              "#7201a8"
             ],
             [
              0.3333333333333333,
              "#9c179e"
             ],
             [
              0.4444444444444444,
              "#bd3786"
             ],
             [
              0.5555555555555556,
              "#d8576b"
             ],
             [
              0.6666666666666666,
              "#ed7953"
             ],
             [
              0.7777777777777778,
              "#fb9f3a"
             ],
             [
              0.8888888888888888,
              "#fdca26"
             ],
             [
              1,
              "#f0f921"
             ]
            ],
            "type": "contour"
           }
          ],
          "contourcarpet": [
           {
            "colorbar": {
             "outlinewidth": 0,
             "ticks": ""
            },
            "type": "contourcarpet"
           }
          ],
          "heatmap": [
           {
            "colorbar": {
             "outlinewidth": 0,
             "ticks": ""
            },
            "colorscale": [
             [
              0,
              "#0d0887"
             ],
             [
              0.1111111111111111,
              "#46039f"
             ],
             [
              0.2222222222222222,
              "#7201a8"
             ],
             [
              0.3333333333333333,
              "#9c179e"
             ],
             [
              0.4444444444444444,
              "#bd3786"
             ],
             [
              0.5555555555555556,
              "#d8576b"
             ],
             [
              0.6666666666666666,
              "#ed7953"
             ],
             [
              0.7777777777777778,
              "#fb9f3a"
             ],
             [
              0.8888888888888888,
              "#fdca26"
             ],
             [
              1,
              "#f0f921"
             ]
            ],
            "type": "heatmap"
           }
          ],
          "heatmapgl": [
           {
            "colorbar": {
             "outlinewidth": 0,
             "ticks": ""
            },
            "colorscale": [
             [
              0,
              "#0d0887"
             ],
             [
              0.1111111111111111,
              "#46039f"
             ],
             [
              0.2222222222222222,
              "#7201a8"
             ],
             [
              0.3333333333333333,
              "#9c179e"
             ],
             [
              0.4444444444444444,
              "#bd3786"
             ],
             [
              0.5555555555555556,
              "#d8576b"
             ],
             [
              0.6666666666666666,
              "#ed7953"
             ],
             [
              0.7777777777777778,
              "#fb9f3a"
             ],
             [
              0.8888888888888888,
              "#fdca26"
             ],
             [
              1,
              "#f0f921"
             ]
            ],
            "type": "heatmapgl"
           }
          ],
          "histogram": [
           {
            "marker": {
             "pattern": {
              "fillmode": "overlay",
              "size": 10,
              "solidity": 0.2
             }
            },
            "type": "histogram"
           }
          ],
          "histogram2d": [
           {
            "colorbar": {
             "outlinewidth": 0,
             "ticks": ""
            },
            "colorscale": [
             [
              0,
              "#0d0887"
             ],
             [
              0.1111111111111111,
              "#46039f"
             ],
             [
              0.2222222222222222,
              "#7201a8"
             ],
             [
              0.3333333333333333,
              "#9c179e"
             ],
             [
              0.4444444444444444,
              "#bd3786"
             ],
             [
              0.5555555555555556,
              "#d8576b"
             ],
             [
              0.6666666666666666,
              "#ed7953"
             ],
             [
              0.7777777777777778,
              "#fb9f3a"
             ],
             [
              0.8888888888888888,
              "#fdca26"
             ],
             [
              1,
              "#f0f921"
             ]
            ],
            "type": "histogram2d"
           }
          ],
          "histogram2dcontour": [
           {
            "colorbar": {
             "outlinewidth": 0,
             "ticks": ""
            },
            "colorscale": [
             [
              0,
              "#0d0887"
             ],
             [
              0.1111111111111111,
              "#46039f"
             ],
             [
              0.2222222222222222,
              "#7201a8"
             ],
             [
              0.3333333333333333,
              "#9c179e"
             ],
             [
              0.4444444444444444,
              "#bd3786"
             ],
             [
              0.5555555555555556,
              "#d8576b"
             ],
             [
              0.6666666666666666,
              "#ed7953"
             ],
             [
              0.7777777777777778,
              "#fb9f3a"
             ],
             [
              0.8888888888888888,
              "#fdca26"
             ],
             [
              1,
              "#f0f921"
             ]
            ],
            "type": "histogram2dcontour"
           }
          ],
          "mesh3d": [
           {
            "colorbar": {
             "outlinewidth": 0,
             "ticks": ""
            },
            "type": "mesh3d"
           }
          ],
          "parcoords": [
           {
            "line": {
             "colorbar": {
              "outlinewidth": 0,
              "ticks": ""
             }
            },
            "type": "parcoords"
           }
          ],
          "pie": [
           {
            "automargin": true,
            "type": "pie"
           }
          ],
          "scatter": [
           {
            "fillpattern": {
             "fillmode": "overlay",
             "size": 10,
             "solidity": 0.2
            },
            "type": "scatter"
           }
          ],
          "scatter3d": [
           {
            "line": {
             "colorbar": {
              "outlinewidth": 0,
              "ticks": ""
             }
            },
            "marker": {
             "colorbar": {
              "outlinewidth": 0,
              "ticks": ""
             }
            },
            "type": "scatter3d"
           }
          ],
          "scattercarpet": [
           {
            "marker": {
             "colorbar": {
              "outlinewidth": 0,
              "ticks": ""
             }
            },
            "type": "scattercarpet"
           }
          ],
          "scattergeo": [
           {
            "marker": {
             "colorbar": {
              "outlinewidth": 0,
              "ticks": ""
             }
            },
            "type": "scattergeo"
           }
          ],
          "scattergl": [
           {
            "marker": {
             "colorbar": {
              "outlinewidth": 0,
              "ticks": ""
             }
            },
            "type": "scattergl"
           }
          ],
          "scattermapbox": [
           {
            "marker": {
             "colorbar": {
              "outlinewidth": 0,
              "ticks": ""
             }
            },
            "type": "scattermapbox"
           }
          ],
          "scatterpolar": [
           {
            "marker": {
             "colorbar": {
              "outlinewidth": 0,
              "ticks": ""
             }
            },
            "type": "scatterpolar"
           }
          ],
          "scatterpolargl": [
           {
            "marker": {
             "colorbar": {
              "outlinewidth": 0,
              "ticks": ""
             }
            },
            "type": "scatterpolargl"
           }
          ],
          "scatterternary": [
           {
            "marker": {
             "colorbar": {
              "outlinewidth": 0,
              "ticks": ""
             }
            },
            "type": "scatterternary"
           }
          ],
          "surface": [
           {
            "colorbar": {
             "outlinewidth": 0,
             "ticks": ""
            },
            "colorscale": [
             [
              0,
              "#0d0887"
             ],
             [
              0.1111111111111111,
              "#46039f"
             ],
             [
              0.2222222222222222,
              "#7201a8"
             ],
             [
              0.3333333333333333,
              "#9c179e"
             ],
             [
              0.4444444444444444,
              "#bd3786"
             ],
             [
              0.5555555555555556,
              "#d8576b"
             ],
             [
              0.6666666666666666,
              "#ed7953"
             ],
             [
              0.7777777777777778,
              "#fb9f3a"
             ],
             [
              0.8888888888888888,
              "#fdca26"
             ],
             [
              1,
              "#f0f921"
             ]
            ],
            "type": "surface"
           }
          ],
          "table": [
           {
            "cells": {
             "fill": {
              "color": "#EBF0F8"
             },
             "line": {
              "color": "white"
             }
            },
            "header": {
             "fill": {
              "color": "#C8D4E3"
             },
             "line": {
              "color": "white"
             }
            },
            "type": "table"
           }
          ]
         },
         "layout": {
          "annotationdefaults": {
           "arrowcolor": "#2a3f5f",
           "arrowhead": 0,
           "arrowwidth": 1
          },
          "autotypenumbers": "strict",
          "coloraxis": {
           "colorbar": {
            "outlinewidth": 0,
            "ticks": ""
           }
          },
          "colorscale": {
           "diverging": [
            [
             0,
             "#8e0152"
            ],
            [
             0.1,
             "#c51b7d"
            ],
            [
             0.2,
             "#de77ae"
            ],
            [
             0.3,
             "#f1b6da"
            ],
            [
             0.4,
             "#fde0ef"
            ],
            [
             0.5,
             "#f7f7f7"
            ],
            [
             0.6,
             "#e6f5d0"
            ],
            [
             0.7,
             "#b8e186"
            ],
            [
             0.8,
             "#7fbc41"
            ],
            [
             0.9,
             "#4d9221"
            ],
            [
             1,
             "#276419"
            ]
           ],
           "sequential": [
            [
             0,
             "#0d0887"
            ],
            [
             0.1111111111111111,
             "#46039f"
            ],
            [
             0.2222222222222222,
             "#7201a8"
            ],
            [
             0.3333333333333333,
             "#9c179e"
            ],
            [
             0.4444444444444444,
             "#bd3786"
            ],
            [
             0.5555555555555556,
             "#d8576b"
            ],
            [
             0.6666666666666666,
             "#ed7953"
            ],
            [
             0.7777777777777778,
             "#fb9f3a"
            ],
            [
             0.8888888888888888,
             "#fdca26"
            ],
            [
             1,
             "#f0f921"
            ]
           ],
           "sequentialminus": [
            [
             0,
             "#0d0887"
            ],
            [
             0.1111111111111111,
             "#46039f"
            ],
            [
             0.2222222222222222,
             "#7201a8"
            ],
            [
             0.3333333333333333,
             "#9c179e"
            ],
            [
             0.4444444444444444,
             "#bd3786"
            ],
            [
             0.5555555555555556,
             "#d8576b"
            ],
            [
             0.6666666666666666,
             "#ed7953"
            ],
            [
             0.7777777777777778,
             "#fb9f3a"
            ],
            [
             0.8888888888888888,
             "#fdca26"
            ],
            [
             1,
             "#f0f921"
            ]
           ]
          },
          "colorway": [
           "#636efa",
           "#EF553B",
           "#00cc96",
           "#ab63fa",
           "#FFA15A",
           "#19d3f3",
           "#FF6692",
           "#B6E880",
           "#FF97FF",
           "#FECB52"
          ],
          "font": {
           "color": "#2a3f5f"
          },
          "geo": {
           "bgcolor": "white",
           "lakecolor": "white",
           "landcolor": "#E5ECF6",
           "showlakes": true,
           "showland": true,
           "subunitcolor": "white"
          },
          "hoverlabel": {
           "align": "left"
          },
          "hovermode": "closest",
          "mapbox": {
           "style": "light"
          },
          "paper_bgcolor": "white",
          "plot_bgcolor": "#E5ECF6",
          "polar": {
           "angularaxis": {
            "gridcolor": "white",
            "linecolor": "white",
            "ticks": ""
           },
           "bgcolor": "#E5ECF6",
           "radialaxis": {
            "gridcolor": "white",
            "linecolor": "white",
            "ticks": ""
           }
          },
          "scene": {
           "xaxis": {
            "backgroundcolor": "#E5ECF6",
            "gridcolor": "white",
            "gridwidth": 2,
            "linecolor": "white",
            "showbackground": true,
            "ticks": "",
            "zerolinecolor": "white"
           },
           "yaxis": {
            "backgroundcolor": "#E5ECF6",
            "gridcolor": "white",
            "gridwidth": 2,
            "linecolor": "white",
            "showbackground": true,
            "ticks": "",
            "zerolinecolor": "white"
           },
           "zaxis": {
            "backgroundcolor": "#E5ECF6",
            "gridcolor": "white",
            "gridwidth": 2,
            "linecolor": "white",
            "showbackground": true,
            "ticks": "",
            "zerolinecolor": "white"
           }
          },
          "shapedefaults": {
           "line": {
            "color": "#2a3f5f"
           }
          },
          "ternary": {
           "aaxis": {
            "gridcolor": "white",
            "linecolor": "white",
            "ticks": ""
           },
           "baxis": {
            "gridcolor": "white",
            "linecolor": "white",
            "ticks": ""
           },
           "bgcolor": "#E5ECF6",
           "caxis": {
            "gridcolor": "white",
            "linecolor": "white",
            "ticks": ""
           }
          },
          "title": {
           "x": 0.05
          },
          "xaxis": {
           "automargin": true,
           "gridcolor": "white",
           "linecolor": "white",
           "ticks": "",
           "title": {
            "standoff": 15
           },
           "zerolinecolor": "white",
           "zerolinewidth": 2
          },
          "yaxis": {
           "automargin": true,
           "gridcolor": "white",
           "linecolor": "white",
           "ticks": "",
           "title": {
            "standoff": 15
           },
           "zerolinecolor": "white",
           "zerolinewidth": 2
          }
         }
        },
        "xaxis": {
         "anchor": "y",
         "domain": [
          0,
          1
         ],
         "title": {
          "text": "x"
         }
        },
        "yaxis": {
         "anchor": "x",
         "domain": [
          0,
          1
         ],
         "title": {
          "text": "y"
         }
        }
       }
      }
     },
     "metadata": {},
     "output_type": "display_data"
    }
   ],
   "source": [
    "#visualizing with non-affected_financial year to cross-verify\n",
    "px.bar(x=data_fc['country_name'],y=data_fc['2005'])"
   ]
  },
  {
   "attachments": {},
   "cell_type": "markdown",
   "metadata": {},
   "source": [
    "By above visualizations, it is not clear and understandable whether the crisis happened increases the unemployment rate or not."
   ]
  },
  {
   "cell_type": "code",
   "execution_count": 142,
   "metadata": {},
   "outputs": [
    {
     "data": {
      "text/html": [
       "<div>\n",
       "<style scoped>\n",
       "    .dataframe tbody tr th:only-of-type {\n",
       "        vertical-align: middle;\n",
       "    }\n",
       "\n",
       "    .dataframe tbody tr th {\n",
       "        vertical-align: top;\n",
       "    }\n",
       "\n",
       "    .dataframe thead th {\n",
       "        text-align: right;\n",
       "    }\n",
       "</style>\n",
       "<table border=\"1\" class=\"dataframe\">\n",
       "  <thead>\n",
       "    <tr style=\"text-align: right;\">\n",
       "      <th></th>\n",
       "      <th>country_name</th>\n",
       "      <th>country_code</th>\n",
       "      <th>2005</th>\n",
       "      <th>2007</th>\n",
       "      <th>2008</th>\n",
       "      <th>2010</th>\n",
       "      <th>2012</th>\n",
       "      <th>2014</th>\n",
       "      <th>continent</th>\n",
       "      <th>sub_region</th>\n",
       "      <th>median_avg</th>\n",
       "    </tr>\n",
       "  </thead>\n",
       "  <tbody>\n",
       "    <tr>\n",
       "      <th>0</th>\n",
       "      <td>Afghanistan</td>\n",
       "      <td>AFG</td>\n",
       "      <td>11.22</td>\n",
       "      <td>11.30</td>\n",
       "      <td>11.09</td>\n",
       "      <td>11.35</td>\n",
       "      <td>11.34</td>\n",
       "      <td>11.14</td>\n",
       "      <td>Asia</td>\n",
       "      <td>Southern Asia</td>\n",
       "      <td>11.20</td>\n",
       "    </tr>\n",
       "    <tr>\n",
       "      <th>1</th>\n",
       "      <td>Albania</td>\n",
       "      <td>ALB</td>\n",
       "      <td>15.97</td>\n",
       "      <td>15.97</td>\n",
       "      <td>13.06</td>\n",
       "      <td>14.09</td>\n",
       "      <td>13.38</td>\n",
       "      <td>18.05</td>\n",
       "      <td>Europe</td>\n",
       "      <td>Southern Europe</td>\n",
       "      <td>14.52</td>\n",
       "    </tr>\n",
       "    <tr>\n",
       "      <th>2</th>\n",
       "      <td>Algeria</td>\n",
       "      <td>DZA</td>\n",
       "      <td>15.27</td>\n",
       "      <td>13.79</td>\n",
       "      <td>11.33</td>\n",
       "      <td>9.96</td>\n",
       "      <td>10.97</td>\n",
       "      <td>10.21</td>\n",
       "      <td>Africa</td>\n",
       "      <td>Northern Africa</td>\n",
       "      <td>12.56</td>\n",
       "    </tr>\n",
       "    <tr>\n",
       "      <th>3</th>\n",
       "      <td>Angola</td>\n",
       "      <td>AGO</td>\n",
       "      <td>3.88</td>\n",
       "      <td>3.82</td>\n",
       "      <td>3.79</td>\n",
       "      <td>9.43</td>\n",
       "      <td>7.35</td>\n",
       "      <td>7.37</td>\n",
       "      <td>Africa</td>\n",
       "      <td>Middle Africa</td>\n",
       "      <td>3.80</td>\n",
       "    </tr>\n",
       "    <tr>\n",
       "      <th>4</th>\n",
       "      <td>Argentina</td>\n",
       "      <td>ARG</td>\n",
       "      <td>11.51</td>\n",
       "      <td>8.47</td>\n",
       "      <td>7.84</td>\n",
       "      <td>7.71</td>\n",
       "      <td>7.22</td>\n",
       "      <td>7.27</td>\n",
       "      <td>Americas</td>\n",
       "      <td>South America</td>\n",
       "      <td>8.16</td>\n",
       "    </tr>\n",
       "  </tbody>\n",
       "</table>\n",
       "</div>"
      ],
      "text/plain": [
       "  country_name country_code   2005   2007   2008   2010   2012   2014  \\\n",
       "0  Afghanistan          AFG  11.22  11.30  11.09  11.35  11.34  11.14   \n",
       "1      Albania          ALB  15.97  15.97  13.06  14.09  13.38  18.05   \n",
       "2      Algeria          DZA  15.27  13.79  11.33   9.96  10.97  10.21   \n",
       "3       Angola          AGO   3.88   3.82   3.79   9.43   7.35   7.37   \n",
       "4    Argentina          ARG  11.51   8.47   7.84   7.71   7.22   7.27   \n",
       "\n",
       "  continent       sub_region  median_avg  \n",
       "0      Asia    Southern Asia       11.20  \n",
       "1    Europe  Southern Europe       14.52  \n",
       "2    Africa  Northern Africa       12.56  \n",
       "3    Africa    Middle Africa        3.80  \n",
       "4  Americas    South America        8.16  "
      ]
     },
     "execution_count": 142,
     "metadata": {},
     "output_type": "execute_result"
    }
   ],
   "source": [
    "data_fc.head()"
   ]
  },
  {
   "cell_type": "code",
   "execution_count": 143,
   "metadata": {},
   "outputs": [],
   "source": [
    "#calculating difference between median(2007,8) and 2005, 2010 and 2012, 2014\n",
    "#post financial crisis, pre-financial crisis, recovered_yr, recovered_yr_2014\n",
    "\n",
    "data_fc['pre_financial']=data_fc['2008']-data_fc['2005']\n",
    "data_fc['post_financial']=data_fc['2008']-data_fc['2010']\n",
    "data_fc['recovered_yr']=data_fc['2008']-data_fc['2012']\n",
    "data_fc['recovered_yr_2014']=data_fc['2008']-data_fc['2014']\n",
    "data_fc.head(186)\n",
    "data_fc.to_csv('data_fc.csv')"
   ]
  },
  {
   "cell_type": "code",
   "execution_count": 144,
   "metadata": {},
   "outputs": [
    {
     "data": {
      "text/html": [
       "<div>\n",
       "<style scoped>\n",
       "    .dataframe tbody tr th:only-of-type {\n",
       "        vertical-align: middle;\n",
       "    }\n",
       "\n",
       "    .dataframe tbody tr th {\n",
       "        vertical-align: top;\n",
       "    }\n",
       "\n",
       "    .dataframe thead th {\n",
       "        text-align: right;\n",
       "    }\n",
       "</style>\n",
       "<table border=\"1\" class=\"dataframe\">\n",
       "  <thead>\n",
       "    <tr style=\"text-align: right;\">\n",
       "      <th></th>\n",
       "      <th>country_name</th>\n",
       "      <th>country_code</th>\n",
       "      <th>2005</th>\n",
       "      <th>2007</th>\n",
       "      <th>2008</th>\n",
       "      <th>2010</th>\n",
       "      <th>2012</th>\n",
       "      <th>2014</th>\n",
       "      <th>continent</th>\n",
       "      <th>sub_region</th>\n",
       "      <th>median_avg</th>\n",
       "      <th>pre_financial</th>\n",
       "      <th>post_financial</th>\n",
       "      <th>recovered_yr</th>\n",
       "      <th>recovered_yr_2014</th>\n",
       "    </tr>\n",
       "  </thead>\n",
       "  <tbody>\n",
       "    <tr>\n",
       "      <th>2</th>\n",
       "      <td>Algeria</td>\n",
       "      <td>DZA</td>\n",
       "      <td>15.27</td>\n",
       "      <td>13.79</td>\n",
       "      <td>11.33</td>\n",
       "      <td>9.96</td>\n",
       "      <td>10.97</td>\n",
       "      <td>10.21</td>\n",
       "      <td>Africa</td>\n",
       "      <td>Northern Africa</td>\n",
       "      <td>12.56</td>\n",
       "      <td>-3.94</td>\n",
       "      <td>1.37</td>\n",
       "      <td>0.36</td>\n",
       "      <td>1.12</td>\n",
       "    </tr>\n",
       "    <tr>\n",
       "      <th>4</th>\n",
       "      <td>Argentina</td>\n",
       "      <td>ARG</td>\n",
       "      <td>11.51</td>\n",
       "      <td>8.47</td>\n",
       "      <td>7.84</td>\n",
       "      <td>7.71</td>\n",
       "      <td>7.22</td>\n",
       "      <td>7.27</td>\n",
       "      <td>Americas</td>\n",
       "      <td>South America</td>\n",
       "      <td>8.16</td>\n",
       "      <td>-3.67</td>\n",
       "      <td>0.13</td>\n",
       "      <td>0.62</td>\n",
       "      <td>0.57</td>\n",
       "    </tr>\n",
       "    <tr>\n",
       "      <th>8</th>\n",
       "      <td>Azerbaijan</td>\n",
       "      <td>AZE</td>\n",
       "      <td>7.26</td>\n",
       "      <td>6.33</td>\n",
       "      <td>5.86</td>\n",
       "      <td>5.63</td>\n",
       "      <td>5.19</td>\n",
       "      <td>4.91</td>\n",
       "      <td>Asia</td>\n",
       "      <td>Western Asia</td>\n",
       "      <td>6.10</td>\n",
       "      <td>-1.40</td>\n",
       "      <td>0.23</td>\n",
       "      <td>0.67</td>\n",
       "      <td>0.95</td>\n",
       "    </tr>\n",
       "    <tr>\n",
       "      <th>11</th>\n",
       "      <td>Bangladesh</td>\n",
       "      <td>BGD</td>\n",
       "      <td>4.25</td>\n",
       "      <td>4.13</td>\n",
       "      <td>4.57</td>\n",
       "      <td>3.38</td>\n",
       "      <td>4.12</td>\n",
       "      <td>4.38</td>\n",
       "      <td>Asia</td>\n",
       "      <td>Southern Asia</td>\n",
       "      <td>4.35</td>\n",
       "      <td>0.32</td>\n",
       "      <td>1.19</td>\n",
       "      <td>0.45</td>\n",
       "      <td>0.19</td>\n",
       "    </tr>\n",
       "    <tr>\n",
       "      <th>13</th>\n",
       "      <td>Belarus</td>\n",
       "      <td>BLR</td>\n",
       "      <td>9.06</td>\n",
       "      <td>7.67</td>\n",
       "      <td>7.03</td>\n",
       "      <td>6.25</td>\n",
       "      <td>6.05</td>\n",
       "      <td>5.99</td>\n",
       "      <td>Europe</td>\n",
       "      <td>Eastern Europe</td>\n",
       "      <td>7.35</td>\n",
       "      <td>-2.03</td>\n",
       "      <td>0.78</td>\n",
       "      <td>0.98</td>\n",
       "      <td>1.04</td>\n",
       "    </tr>\n",
       "    <tr>\n",
       "      <th>17</th>\n",
       "      <td>Bhutan</td>\n",
       "      <td>BTN</td>\n",
       "      <td>3.10</td>\n",
       "      <td>3.70</td>\n",
       "      <td>3.65</td>\n",
       "      <td>3.32</td>\n",
       "      <td>2.05</td>\n",
       "      <td>2.63</td>\n",
       "      <td>Asia</td>\n",
       "      <td>Southern Asia</td>\n",
       "      <td>3.68</td>\n",
       "      <td>0.55</td>\n",
       "      <td>0.33</td>\n",
       "      <td>1.60</td>\n",
       "      <td>1.02</td>\n",
       "    </tr>\n",
       "    <tr>\n",
       "      <th>21</th>\n",
       "      <td>Brazil</td>\n",
       "      <td>BRA</td>\n",
       "      <td>9.57</td>\n",
       "      <td>8.33</td>\n",
       "      <td>7.34</td>\n",
       "      <td>7.27</td>\n",
       "      <td>7.19</td>\n",
       "      <td>6.66</td>\n",
       "      <td>Americas</td>\n",
       "      <td>South America</td>\n",
       "      <td>7.84</td>\n",
       "      <td>-2.23</td>\n",
       "      <td>0.07</td>\n",
       "      <td>0.15</td>\n",
       "      <td>0.68</td>\n",
       "    </tr>\n",
       "    <tr>\n",
       "      <th>25</th>\n",
       "      <td>Burundi</td>\n",
       "      <td>BDI</td>\n",
       "      <td>1.62</td>\n",
       "      <td>1.63</td>\n",
       "      <td>1.63</td>\n",
       "      <td>1.61</td>\n",
       "      <td>1.59</td>\n",
       "      <td>1.57</td>\n",
       "      <td>Africa</td>\n",
       "      <td>Eastern Africa</td>\n",
       "      <td>1.63</td>\n",
       "      <td>0.01</td>\n",
       "      <td>0.02</td>\n",
       "      <td>0.04</td>\n",
       "      <td>0.06</td>\n",
       "    </tr>\n",
       "    <tr>\n",
       "      <th>26</th>\n",
       "      <td>Cabo Verde</td>\n",
       "      <td>CPV</td>\n",
       "      <td>10.85</td>\n",
       "      <td>10.73</td>\n",
       "      <td>10.73</td>\n",
       "      <td>10.67</td>\n",
       "      <td>11.12</td>\n",
       "      <td>11.57</td>\n",
       "      <td>Africa</td>\n",
       "      <td>Western Africa</td>\n",
       "      <td>10.73</td>\n",
       "      <td>-0.12</td>\n",
       "      <td>0.06</td>\n",
       "      <td>-0.39</td>\n",
       "      <td>-0.84</td>\n",
       "    </tr>\n",
       "    <tr>\n",
       "      <th>27</th>\n",
       "      <td>Cambodia</td>\n",
       "      <td>KHM</td>\n",
       "      <td>1.13</td>\n",
       "      <td>1.26</td>\n",
       "      <td>0.82</td>\n",
       "      <td>0.77</td>\n",
       "      <td>0.51</td>\n",
       "      <td>0.69</td>\n",
       "      <td>Asia</td>\n",
       "      <td>South-Eastern Asia</td>\n",
       "      <td>1.04</td>\n",
       "      <td>-0.31</td>\n",
       "      <td>0.05</td>\n",
       "      <td>0.31</td>\n",
       "      <td>0.13</td>\n",
       "    </tr>\n",
       "    <tr>\n",
       "      <th>32</th>\n",
       "      <td>Chile</td>\n",
       "      <td>CHL</td>\n",
       "      <td>9.34</td>\n",
       "      <td>8.43</td>\n",
       "      <td>9.29</td>\n",
       "      <td>8.42</td>\n",
       "      <td>6.66</td>\n",
       "      <td>6.66</td>\n",
       "      <td>Americas</td>\n",
       "      <td>South America</td>\n",
       "      <td>8.86</td>\n",
       "      <td>-0.05</td>\n",
       "      <td>0.87</td>\n",
       "      <td>2.63</td>\n",
       "      <td>2.63</td>\n",
       "    </tr>\n",
       "    <tr>\n",
       "      <th>33</th>\n",
       "      <td>China</td>\n",
       "      <td>CHN</td>\n",
       "      <td>4.52</td>\n",
       "      <td>4.35</td>\n",
       "      <td>4.59</td>\n",
       "      <td>4.53</td>\n",
       "      <td>4.57</td>\n",
       "      <td>4.61</td>\n",
       "      <td>Asia</td>\n",
       "      <td>Eastern Asia</td>\n",
       "      <td>4.47</td>\n",
       "      <td>0.07</td>\n",
       "      <td>0.06</td>\n",
       "      <td>0.02</td>\n",
       "      <td>-0.02</td>\n",
       "    </tr>\n",
       "    <tr>\n",
       "      <th>45</th>\n",
       "      <td>Djibouti</td>\n",
       "      <td>DJI</td>\n",
       "      <td>27.72</td>\n",
       "      <td>27.44</td>\n",
       "      <td>27.31</td>\n",
       "      <td>27.06</td>\n",
       "      <td>26.78</td>\n",
       "      <td>26.48</td>\n",
       "      <td>Africa</td>\n",
       "      <td>Eastern Africa</td>\n",
       "      <td>27.38</td>\n",
       "      <td>-0.41</td>\n",
       "      <td>0.25</td>\n",
       "      <td>0.53</td>\n",
       "      <td>0.83</td>\n",
       "    </tr>\n",
       "    <tr>\n",
       "      <th>49</th>\n",
       "      <td>El Salvador</td>\n",
       "      <td>SLV</td>\n",
       "      <td>7.22</td>\n",
       "      <td>6.41</td>\n",
       "      <td>5.88</td>\n",
       "      <td>4.89</td>\n",
       "      <td>3.84</td>\n",
       "      <td>4.15</td>\n",
       "      <td>Americas</td>\n",
       "      <td>Central America</td>\n",
       "      <td>6.14</td>\n",
       "      <td>-1.34</td>\n",
       "      <td>0.99</td>\n",
       "      <td>2.04</td>\n",
       "      <td>1.73</td>\n",
       "    </tr>\n",
       "    <tr>\n",
       "      <th>53</th>\n",
       "      <td>Eswatini</td>\n",
       "      <td>SWZ</td>\n",
       "      <td>27.07</td>\n",
       "      <td>28.24</td>\n",
       "      <td>27.68</td>\n",
       "      <td>26.41</td>\n",
       "      <td>25.15</td>\n",
       "      <td>23.97</td>\n",
       "      <td>Africa</td>\n",
       "      <td>Southern Africa</td>\n",
       "      <td>27.96</td>\n",
       "      <td>0.61</td>\n",
       "      <td>1.27</td>\n",
       "      <td>2.53</td>\n",
       "      <td>3.71</td>\n",
       "    </tr>\n",
       "    <tr>\n",
       "      <th>54</th>\n",
       "      <td>Ethiopia</td>\n",
       "      <td>ETH</td>\n",
       "      <td>2.50</td>\n",
       "      <td>2.43</td>\n",
       "      <td>2.41</td>\n",
       "      <td>2.34</td>\n",
       "      <td>2.29</td>\n",
       "      <td>2.26</td>\n",
       "      <td>Africa</td>\n",
       "      <td>Eastern Africa</td>\n",
       "      <td>2.42</td>\n",
       "      <td>-0.09</td>\n",
       "      <td>0.07</td>\n",
       "      <td>0.12</td>\n",
       "      <td>0.15</td>\n",
       "    </tr>\n",
       "    <tr>\n",
       "      <th>62</th>\n",
       "      <td>Germany</td>\n",
       "      <td>DEU</td>\n",
       "      <td>11.17</td>\n",
       "      <td>8.66</td>\n",
       "      <td>7.52</td>\n",
       "      <td>6.97</td>\n",
       "      <td>5.38</td>\n",
       "      <td>4.98</td>\n",
       "      <td>Europe</td>\n",
       "      <td>Western Europe</td>\n",
       "      <td>8.09</td>\n",
       "      <td>-3.65</td>\n",
       "      <td>0.55</td>\n",
       "      <td>2.14</td>\n",
       "      <td>2.54</td>\n",
       "    </tr>\n",
       "    <tr>\n",
       "      <th>65</th>\n",
       "      <td>Guam</td>\n",
       "      <td>GUM</td>\n",
       "      <td>7.00</td>\n",
       "      <td>8.30</td>\n",
       "      <td>8.72</td>\n",
       "      <td>8.20</td>\n",
       "      <td>12.20</td>\n",
       "      <td>7.60</td>\n",
       "      <td>Oceania</td>\n",
       "      <td>Micronesia</td>\n",
       "      <td>8.51</td>\n",
       "      <td>1.72</td>\n",
       "      <td>0.52</td>\n",
       "      <td>-3.48</td>\n",
       "      <td>1.12</td>\n",
       "    </tr>\n",
       "    <tr>\n",
       "      <th>70</th>\n",
       "      <td>Haiti</td>\n",
       "      <td>HTI</td>\n",
       "      <td>14.42</td>\n",
       "      <td>16.80</td>\n",
       "      <td>16.34</td>\n",
       "      <td>15.38</td>\n",
       "      <td>14.10</td>\n",
       "      <td>13.95</td>\n",
       "      <td>Americas</td>\n",
       "      <td>Caribbean</td>\n",
       "      <td>16.57</td>\n",
       "      <td>1.92</td>\n",
       "      <td>0.96</td>\n",
       "      <td>2.24</td>\n",
       "      <td>2.39</td>\n",
       "    </tr>\n",
       "    <tr>\n",
       "      <th>76</th>\n",
       "      <td>Indonesia</td>\n",
       "      <td>IDN</td>\n",
       "      <td>7.94</td>\n",
       "      <td>8.06</td>\n",
       "      <td>7.21</td>\n",
       "      <td>5.61</td>\n",
       "      <td>4.47</td>\n",
       "      <td>4.05</td>\n",
       "      <td>Asia</td>\n",
       "      <td>South-Eastern Asia</td>\n",
       "      <td>7.64</td>\n",
       "      <td>-0.73</td>\n",
       "      <td>1.60</td>\n",
       "      <td>2.74</td>\n",
       "      <td>3.16</td>\n",
       "    </tr>\n",
       "    <tr>\n",
       "      <th>78</th>\n",
       "      <td>Iraq</td>\n",
       "      <td>IRQ</td>\n",
       "      <td>8.71</td>\n",
       "      <td>8.65</td>\n",
       "      <td>8.48</td>\n",
       "      <td>8.25</td>\n",
       "      <td>7.96</td>\n",
       "      <td>10.59</td>\n",
       "      <td>Asia</td>\n",
       "      <td>Western Asia</td>\n",
       "      <td>8.57</td>\n",
       "      <td>-0.23</td>\n",
       "      <td>0.23</td>\n",
       "      <td>0.52</td>\n",
       "      <td>-2.11</td>\n",
       "    </tr>\n",
       "    <tr>\n",
       "      <th>84</th>\n",
       "      <td>Jordan</td>\n",
       "      <td>JOR</td>\n",
       "      <td>14.80</td>\n",
       "      <td>13.10</td>\n",
       "      <td>12.70</td>\n",
       "      <td>12.50</td>\n",
       "      <td>12.20</td>\n",
       "      <td>11.90</td>\n",
       "      <td>Asia</td>\n",
       "      <td>Western Asia</td>\n",
       "      <td>12.90</td>\n",
       "      <td>-2.10</td>\n",
       "      <td>0.20</td>\n",
       "      <td>0.50</td>\n",
       "      <td>0.80</td>\n",
       "    </tr>\n",
       "    <tr>\n",
       "      <th>85</th>\n",
       "      <td>Kazakhstan</td>\n",
       "      <td>KAZ</td>\n",
       "      <td>8.13</td>\n",
       "      <td>7.26</td>\n",
       "      <td>6.63</td>\n",
       "      <td>5.77</td>\n",
       "      <td>5.29</td>\n",
       "      <td>5.06</td>\n",
       "      <td>Asia</td>\n",
       "      <td>Central Asia</td>\n",
       "      <td>6.94</td>\n",
       "      <td>-1.50</td>\n",
       "      <td>0.86</td>\n",
       "      <td>1.34</td>\n",
       "      <td>1.57</td>\n",
       "    </tr>\n",
       "    <tr>\n",
       "      <th>86</th>\n",
       "      <td>Kenya</td>\n",
       "      <td>KEN</td>\n",
       "      <td>2.92</td>\n",
       "      <td>2.89</td>\n",
       "      <td>2.92</td>\n",
       "      <td>2.84</td>\n",
       "      <td>2.83</td>\n",
       "      <td>2.80</td>\n",
       "      <td>Africa</td>\n",
       "      <td>Eastern Africa</td>\n",
       "      <td>2.90</td>\n",
       "      <td>0.00</td>\n",
       "      <td>0.08</td>\n",
       "      <td>0.09</td>\n",
       "      <td>0.12</td>\n",
       "    </tr>\n",
       "    <tr>\n",
       "      <th>87</th>\n",
       "      <td>Korea, Dem. People's Rep.</td>\n",
       "      <td>PRK</td>\n",
       "      <td>2.84</td>\n",
       "      <td>2.82</td>\n",
       "      <td>2.77</td>\n",
       "      <td>2.71</td>\n",
       "      <td>2.81</td>\n",
       "      <td>2.74</td>\n",
       "      <td>Asia</td>\n",
       "      <td>Eastern Asia</td>\n",
       "      <td>2.80</td>\n",
       "      <td>-0.07</td>\n",
       "      <td>0.06</td>\n",
       "      <td>-0.04</td>\n",
       "      <td>0.03</td>\n",
       "    </tr>\n",
       "    <tr>\n",
       "      <th>91</th>\n",
       "      <td>Lao PDR</td>\n",
       "      <td>LAO</td>\n",
       "      <td>1.35</td>\n",
       "      <td>1.10</td>\n",
       "      <td>0.97</td>\n",
       "      <td>0.71</td>\n",
       "      <td>0.74</td>\n",
       "      <td>0.76</td>\n",
       "      <td>Asia</td>\n",
       "      <td>South-Eastern Asia</td>\n",
       "      <td>1.04</td>\n",
       "      <td>-0.38</td>\n",
       "      <td>0.26</td>\n",
       "      <td>0.23</td>\n",
       "      <td>0.21</td>\n",
       "    </tr>\n",
       "    <tr>\n",
       "      <th>93</th>\n",
       "      <td>Lebanon</td>\n",
       "      <td>LBN</td>\n",
       "      <td>8.28</td>\n",
       "      <td>8.98</td>\n",
       "      <td>7.67</td>\n",
       "      <td>6.84</td>\n",
       "      <td>7.85</td>\n",
       "      <td>8.81</td>\n",
       "      <td>Asia</td>\n",
       "      <td>Western Asia</td>\n",
       "      <td>8.32</td>\n",
       "      <td>-0.61</td>\n",
       "      <td>0.83</td>\n",
       "      <td>-0.18</td>\n",
       "      <td>-1.14</td>\n",
       "    </tr>\n",
       "    <tr>\n",
       "      <th>94</th>\n",
       "      <td>Lesotho</td>\n",
       "      <td>LSO</td>\n",
       "      <td>31.31</td>\n",
       "      <td>29.62</td>\n",
       "      <td>28.76</td>\n",
       "      <td>27.08</td>\n",
       "      <td>25.37</td>\n",
       "      <td>24.22</td>\n",
       "      <td>Africa</td>\n",
       "      <td>Southern Africa</td>\n",
       "      <td>29.19</td>\n",
       "      <td>-2.55</td>\n",
       "      <td>1.68</td>\n",
       "      <td>3.39</td>\n",
       "      <td>4.54</td>\n",
       "    </tr>\n",
       "    <tr>\n",
       "      <th>96</th>\n",
       "      <td>Libya</td>\n",
       "      <td>LBY</td>\n",
       "      <td>19.39</td>\n",
       "      <td>19.38</td>\n",
       "      <td>19.38</td>\n",
       "      <td>19.27</td>\n",
       "      <td>19.03</td>\n",
       "      <td>19.46</td>\n",
       "      <td>Africa</td>\n",
       "      <td>Northern Africa</td>\n",
       "      <td>19.38</td>\n",
       "      <td>-0.01</td>\n",
       "      <td>0.11</td>\n",
       "      <td>0.35</td>\n",
       "      <td>-0.08</td>\n",
       "    </tr>\n",
       "    <tr>\n",
       "      <th>98</th>\n",
       "      <td>Luxembourg</td>\n",
       "      <td>LUX</td>\n",
       "      <td>4.49</td>\n",
       "      <td>4.07</td>\n",
       "      <td>5.06</td>\n",
       "      <td>4.36</td>\n",
       "      <td>5.14</td>\n",
       "      <td>5.85</td>\n",
       "      <td>Europe</td>\n",
       "      <td>Western Europe</td>\n",
       "      <td>4.56</td>\n",
       "      <td>0.57</td>\n",
       "      <td>0.70</td>\n",
       "      <td>-0.08</td>\n",
       "      <td>-0.79</td>\n",
       "    </tr>\n",
       "    <tr>\n",
       "      <th>99</th>\n",
       "      <td>Macao SAR, China</td>\n",
       "      <td>MAC</td>\n",
       "      <td>4.16</td>\n",
       "      <td>3.27</td>\n",
       "      <td>3.00</td>\n",
       "      <td>2.84</td>\n",
       "      <td>1.97</td>\n",
       "      <td>1.70</td>\n",
       "      <td>Asia</td>\n",
       "      <td>Eastern Asia</td>\n",
       "      <td>3.14</td>\n",
       "      <td>-1.16</td>\n",
       "      <td>0.16</td>\n",
       "      <td>1.03</td>\n",
       "      <td>1.30</td>\n",
       "    </tr>\n",
       "    <tr>\n",
       "      <th>104</th>\n",
       "      <td>Mali</td>\n",
       "      <td>MLI</td>\n",
       "      <td>9.69</td>\n",
       "      <td>11.71</td>\n",
       "      <td>10.49</td>\n",
       "      <td>8.07</td>\n",
       "      <td>6.65</td>\n",
       "      <td>6.38</td>\n",
       "      <td>Africa</td>\n",
       "      <td>Western Africa</td>\n",
       "      <td>11.10</td>\n",
       "      <td>0.80</td>\n",
       "      <td>2.42</td>\n",
       "      <td>3.84</td>\n",
       "      <td>4.11</td>\n",
       "    </tr>\n",
       "    <tr>\n",
       "      <th>106</th>\n",
       "      <td>Mauritania</td>\n",
       "      <td>MRT</td>\n",
       "      <td>9.79</td>\n",
       "      <td>9.88</td>\n",
       "      <td>9.87</td>\n",
       "      <td>9.86</td>\n",
       "      <td>9.86</td>\n",
       "      <td>10.05</td>\n",
       "      <td>Africa</td>\n",
       "      <td>Western Africa</td>\n",
       "      <td>9.88</td>\n",
       "      <td>0.08</td>\n",
       "      <td>0.01</td>\n",
       "      <td>0.01</td>\n",
       "      <td>-0.18</td>\n",
       "    </tr>\n",
       "    <tr>\n",
       "      <th>112</th>\n",
       "      <td>Morocco</td>\n",
       "      <td>MAR</td>\n",
       "      <td>11.01</td>\n",
       "      <td>9.56</td>\n",
       "      <td>9.57</td>\n",
       "      <td>9.09</td>\n",
       "      <td>8.99</td>\n",
       "      <td>9.70</td>\n",
       "      <td>Africa</td>\n",
       "      <td>Northern Africa</td>\n",
       "      <td>9.57</td>\n",
       "      <td>-1.44</td>\n",
       "      <td>0.48</td>\n",
       "      <td>0.58</td>\n",
       "      <td>-0.13</td>\n",
       "    </tr>\n",
       "    <tr>\n",
       "      <th>115</th>\n",
       "      <td>Namibia</td>\n",
       "      <td>NAM</td>\n",
       "      <td>22.22</td>\n",
       "      <td>22.16</td>\n",
       "      <td>22.19</td>\n",
       "      <td>22.12</td>\n",
       "      <td>16.77</td>\n",
       "      <td>18.52</td>\n",
       "      <td>Africa</td>\n",
       "      <td>Southern Africa</td>\n",
       "      <td>22.18</td>\n",
       "      <td>-0.03</td>\n",
       "      <td>0.07</td>\n",
       "      <td>5.42</td>\n",
       "      <td>3.67</td>\n",
       "    </tr>\n",
       "    <tr>\n",
       "      <th>118</th>\n",
       "      <td>New Caledonia</td>\n",
       "      <td>NCL</td>\n",
       "      <td>15.85</td>\n",
       "      <td>14.83</td>\n",
       "      <td>14.58</td>\n",
       "      <td>13.81</td>\n",
       "      <td>14.35</td>\n",
       "      <td>14.59</td>\n",
       "      <td>Oceania</td>\n",
       "      <td>Melanesia</td>\n",
       "      <td>14.70</td>\n",
       "      <td>-1.27</td>\n",
       "      <td>0.77</td>\n",
       "      <td>0.23</td>\n",
       "      <td>-0.01</td>\n",
       "    </tr>\n",
       "    <tr>\n",
       "      <th>121</th>\n",
       "      <td>Niger</td>\n",
       "      <td>NER</td>\n",
       "      <td>3.10</td>\n",
       "      <td>2.20</td>\n",
       "      <td>1.71</td>\n",
       "      <td>0.78</td>\n",
       "      <td>2.18</td>\n",
       "      <td>0.52</td>\n",
       "      <td>Africa</td>\n",
       "      <td>Western Africa</td>\n",
       "      <td>1.96</td>\n",
       "      <td>-1.39</td>\n",
       "      <td>0.93</td>\n",
       "      <td>-0.47</td>\n",
       "      <td>1.19</td>\n",
       "    </tr>\n",
       "    <tr>\n",
       "      <th>122</th>\n",
       "      <td>Nigeria</td>\n",
       "      <td>NGA</td>\n",
       "      <td>3.87</td>\n",
       "      <td>3.84</td>\n",
       "      <td>3.82</td>\n",
       "      <td>3.78</td>\n",
       "      <td>3.74</td>\n",
       "      <td>4.56</td>\n",
       "      <td>Africa</td>\n",
       "      <td>Western Africa</td>\n",
       "      <td>3.83</td>\n",
       "      <td>-0.05</td>\n",
       "      <td>0.04</td>\n",
       "      <td>0.08</td>\n",
       "      <td>-0.74</td>\n",
       "    </tr>\n",
       "    <tr>\n",
       "      <th>123</th>\n",
       "      <td>North Macedonia</td>\n",
       "      <td>MKD</td>\n",
       "      <td>37.25</td>\n",
       "      <td>34.93</td>\n",
       "      <td>33.76</td>\n",
       "      <td>32.02</td>\n",
       "      <td>31.02</td>\n",
       "      <td>28.03</td>\n",
       "      <td>Europe</td>\n",
       "      <td>Southern Europe</td>\n",
       "      <td>34.34</td>\n",
       "      <td>-3.49</td>\n",
       "      <td>1.74</td>\n",
       "      <td>2.74</td>\n",
       "      <td>5.73</td>\n",
       "    </tr>\n",
       "    <tr>\n",
       "      <th>125</th>\n",
       "      <td>Oman</td>\n",
       "      <td>OMN</td>\n",
       "      <td>4.18</td>\n",
       "      <td>4.18</td>\n",
       "      <td>4.14</td>\n",
       "      <td>3.99</td>\n",
       "      <td>3.68</td>\n",
       "      <td>3.54</td>\n",
       "      <td>Asia</td>\n",
       "      <td>Western Asia</td>\n",
       "      <td>4.16</td>\n",
       "      <td>-0.04</td>\n",
       "      <td>0.15</td>\n",
       "      <td>0.46</td>\n",
       "      <td>0.60</td>\n",
       "    </tr>\n",
       "    <tr>\n",
       "      <th>127</th>\n",
       "      <td>Panama</td>\n",
       "      <td>PAN</td>\n",
       "      <td>3.75</td>\n",
       "      <td>3.68</td>\n",
       "      <td>3.74</td>\n",
       "      <td>3.72</td>\n",
       "      <td>2.39</td>\n",
       "      <td>2.71</td>\n",
       "      <td>Americas</td>\n",
       "      <td>Central America</td>\n",
       "      <td>3.71</td>\n",
       "      <td>-0.01</td>\n",
       "      <td>0.02</td>\n",
       "      <td>1.35</td>\n",
       "      <td>1.03</td>\n",
       "    </tr>\n",
       "    <tr>\n",
       "      <th>128</th>\n",
       "      <td>Papua New Guinea</td>\n",
       "      <td>PNG</td>\n",
       "      <td>2.41</td>\n",
       "      <td>2.24</td>\n",
       "      <td>2.31</td>\n",
       "      <td>2.00</td>\n",
       "      <td>2.54</td>\n",
       "      <td>2.38</td>\n",
       "      <td>Oceania</td>\n",
       "      <td>Melanesia</td>\n",
       "      <td>2.28</td>\n",
       "      <td>-0.10</td>\n",
       "      <td>0.31</td>\n",
       "      <td>-0.23</td>\n",
       "      <td>-0.07</td>\n",
       "    </tr>\n",
       "    <tr>\n",
       "      <th>130</th>\n",
       "      <td>Peru</td>\n",
       "      <td>PER</td>\n",
       "      <td>4.88</td>\n",
       "      <td>4.04</td>\n",
       "      <td>4.04</td>\n",
       "      <td>3.58</td>\n",
       "      <td>3.24</td>\n",
       "      <td>3.21</td>\n",
       "      <td>Americas</td>\n",
       "      <td>South America</td>\n",
       "      <td>4.04</td>\n",
       "      <td>-0.84</td>\n",
       "      <td>0.46</td>\n",
       "      <td>0.80</td>\n",
       "      <td>0.83</td>\n",
       "    </tr>\n",
       "    <tr>\n",
       "      <th>131</th>\n",
       "      <td>Philippines</td>\n",
       "      <td>PHL</td>\n",
       "      <td>3.80</td>\n",
       "      <td>3.43</td>\n",
       "      <td>3.72</td>\n",
       "      <td>3.61</td>\n",
       "      <td>3.50</td>\n",
       "      <td>3.60</td>\n",
       "      <td>Asia</td>\n",
       "      <td>South-Eastern Asia</td>\n",
       "      <td>3.58</td>\n",
       "      <td>-0.08</td>\n",
       "      <td>0.11</td>\n",
       "      <td>0.22</td>\n",
       "      <td>0.12</td>\n",
       "    </tr>\n",
       "    <tr>\n",
       "      <th>140</th>\n",
       "      <td>Sao Tome and Principe</td>\n",
       "      <td>STP</td>\n",
       "      <td>16.47</td>\n",
       "      <td>16.23</td>\n",
       "      <td>15.63</td>\n",
       "      <td>14.60</td>\n",
       "      <td>13.59</td>\n",
       "      <td>13.70</td>\n",
       "      <td>Africa</td>\n",
       "      <td>Middle Africa</td>\n",
       "      <td>15.93</td>\n",
       "      <td>-0.84</td>\n",
       "      <td>1.03</td>\n",
       "      <td>2.04</td>\n",
       "      <td>1.93</td>\n",
       "    </tr>\n",
       "    <tr>\n",
       "      <th>148</th>\n",
       "      <td>Solomon Islands</td>\n",
       "      <td>SLB</td>\n",
       "      <td>1.76</td>\n",
       "      <td>1.88</td>\n",
       "      <td>1.89</td>\n",
       "      <td>1.58</td>\n",
       "      <td>1.05</td>\n",
       "      <td>0.73</td>\n",
       "      <td>Oceania</td>\n",
       "      <td>Melanesia</td>\n",
       "      <td>1.88</td>\n",
       "      <td>0.13</td>\n",
       "      <td>0.31</td>\n",
       "      <td>0.84</td>\n",
       "      <td>1.16</td>\n",
       "    </tr>\n",
       "    <tr>\n",
       "      <th>153</th>\n",
       "      <td>Sri Lanka</td>\n",
       "      <td>LKA</td>\n",
       "      <td>7.67</td>\n",
       "      <td>5.97</td>\n",
       "      <td>5.22</td>\n",
       "      <td>4.78</td>\n",
       "      <td>3.88</td>\n",
       "      <td>4.19</td>\n",
       "      <td>Asia</td>\n",
       "      <td>Southern Asia</td>\n",
       "      <td>5.60</td>\n",
       "      <td>-2.45</td>\n",
       "      <td>0.44</td>\n",
       "      <td>1.34</td>\n",
       "      <td>1.03</td>\n",
       "    </tr>\n",
       "    <tr>\n",
       "      <th>157</th>\n",
       "      <td>Suriname</td>\n",
       "      <td>SUR</td>\n",
       "      <td>9.38</td>\n",
       "      <td>9.03</td>\n",
       "      <td>8.88</td>\n",
       "      <td>7.15</td>\n",
       "      <td>8.10</td>\n",
       "      <td>6.94</td>\n",
       "      <td>Americas</td>\n",
       "      <td>South America</td>\n",
       "      <td>8.96</td>\n",
       "      <td>-0.50</td>\n",
       "      <td>1.73</td>\n",
       "      <td>0.78</td>\n",
       "      <td>1.94</td>\n",
       "    </tr>\n",
       "    <tr>\n",
       "      <th>160</th>\n",
       "      <td>Syrian Arab Republic</td>\n",
       "      <td>SYR</td>\n",
       "      <td>8.85</td>\n",
       "      <td>8.42</td>\n",
       "      <td>10.94</td>\n",
       "      <td>8.61</td>\n",
       "      <td>8.81</td>\n",
       "      <td>8.72</td>\n",
       "      <td>Asia</td>\n",
       "      <td>Western Asia</td>\n",
       "      <td>9.68</td>\n",
       "      <td>2.09</td>\n",
       "      <td>2.33</td>\n",
       "      <td>2.13</td>\n",
       "      <td>2.22</td>\n",
       "    </tr>\n",
       "    <tr>\n",
       "      <th>161</th>\n",
       "      <td>Tajikistan</td>\n",
       "      <td>TJK</td>\n",
       "      <td>13.13</td>\n",
       "      <td>12.37</td>\n",
       "      <td>11.98</td>\n",
       "      <td>10.89</td>\n",
       "      <td>9.58</td>\n",
       "      <td>8.23</td>\n",
       "      <td>Asia</td>\n",
       "      <td>Central Asia</td>\n",
       "      <td>12.18</td>\n",
       "      <td>-1.15</td>\n",
       "      <td>1.09</td>\n",
       "      <td>2.40</td>\n",
       "      <td>3.75</td>\n",
       "    </tr>\n",
       "    <tr>\n",
       "      <th>163</th>\n",
       "      <td>Thailand</td>\n",
       "      <td>THA</td>\n",
       "      <td>1.35</td>\n",
       "      <td>1.18</td>\n",
       "      <td>1.18</td>\n",
       "      <td>0.62</td>\n",
       "      <td>0.58</td>\n",
       "      <td>0.58</td>\n",
       "      <td>Asia</td>\n",
       "      <td>South-Eastern Asia</td>\n",
       "      <td>1.18</td>\n",
       "      <td>-0.17</td>\n",
       "      <td>0.56</td>\n",
       "      <td>0.60</td>\n",
       "      <td>0.60</td>\n",
       "    </tr>\n",
       "    <tr>\n",
       "      <th>164</th>\n",
       "      <td>Timor-Leste</td>\n",
       "      <td>TLS</td>\n",
       "      <td>3.44</td>\n",
       "      <td>3.34</td>\n",
       "      <td>3.32</td>\n",
       "      <td>3.30</td>\n",
       "      <td>3.76</td>\n",
       "      <td>4.21</td>\n",
       "      <td>Asia</td>\n",
       "      <td>South-Eastern Asia</td>\n",
       "      <td>3.33</td>\n",
       "      <td>-0.12</td>\n",
       "      <td>0.02</td>\n",
       "      <td>-0.44</td>\n",
       "      <td>-0.89</td>\n",
       "    </tr>\n",
       "    <tr>\n",
       "      <th>165</th>\n",
       "      <td>Togo</td>\n",
       "      <td>TGO</td>\n",
       "      <td>4.22</td>\n",
       "      <td>3.80</td>\n",
       "      <td>3.34</td>\n",
       "      <td>2.43</td>\n",
       "      <td>2.03</td>\n",
       "      <td>2.14</td>\n",
       "      <td>Africa</td>\n",
       "      <td>Western Africa</td>\n",
       "      <td>3.57</td>\n",
       "      <td>-0.88</td>\n",
       "      <td>0.91</td>\n",
       "      <td>1.31</td>\n",
       "      <td>1.20</td>\n",
       "    </tr>\n",
       "    <tr>\n",
       "      <th>167</th>\n",
       "      <td>Trinidad and Tobago</td>\n",
       "      <td>TTO</td>\n",
       "      <td>7.95</td>\n",
       "      <td>5.54</td>\n",
       "      <td>4.63</td>\n",
       "      <td>4.03</td>\n",
       "      <td>3.72</td>\n",
       "      <td>2.48</td>\n",
       "      <td>Americas</td>\n",
       "      <td>Caribbean</td>\n",
       "      <td>5.08</td>\n",
       "      <td>-3.32</td>\n",
       "      <td>0.60</td>\n",
       "      <td>0.91</td>\n",
       "      <td>2.15</td>\n",
       "    </tr>\n",
       "    <tr>\n",
       "      <th>170</th>\n",
       "      <td>Turkmenistan</td>\n",
       "      <td>TKM</td>\n",
       "      <td>7.50</td>\n",
       "      <td>5.76</td>\n",
       "      <td>4.95</td>\n",
       "      <td>4.00</td>\n",
       "      <td>4.09</td>\n",
       "      <td>4.14</td>\n",
       "      <td>Asia</td>\n",
       "      <td>Central Asia</td>\n",
       "      <td>5.36</td>\n",
       "      <td>-2.55</td>\n",
       "      <td>0.95</td>\n",
       "      <td>0.86</td>\n",
       "      <td>0.81</td>\n",
       "    </tr>\n",
       "    <tr>\n",
       "      <th>173</th>\n",
       "      <td>United Arab Emirates</td>\n",
       "      <td>ARE</td>\n",
       "      <td>3.12</td>\n",
       "      <td>2.87</td>\n",
       "      <td>2.74</td>\n",
       "      <td>2.48</td>\n",
       "      <td>2.18</td>\n",
       "      <td>1.91</td>\n",
       "      <td>Asia</td>\n",
       "      <td>Western Asia</td>\n",
       "      <td>2.80</td>\n",
       "      <td>-0.38</td>\n",
       "      <td>0.26</td>\n",
       "      <td>0.56</td>\n",
       "      <td>0.83</td>\n",
       "    </tr>\n",
       "    <tr>\n",
       "      <th>176</th>\n",
       "      <td>Uruguay</td>\n",
       "      <td>URY</td>\n",
       "      <td>12.01</td>\n",
       "      <td>9.40</td>\n",
       "      <td>8.03</td>\n",
       "      <td>7.16</td>\n",
       "      <td>6.45</td>\n",
       "      <td>6.55</td>\n",
       "      <td>Americas</td>\n",
       "      <td>South America</td>\n",
       "      <td>8.72</td>\n",
       "      <td>-3.98</td>\n",
       "      <td>0.87</td>\n",
       "      <td>1.58</td>\n",
       "      <td>1.48</td>\n",
       "    </tr>\n",
       "    <tr>\n",
       "      <th>180</th>\n",
       "      <td>Vietnam</td>\n",
       "      <td>VNM</td>\n",
       "      <td>2.10</td>\n",
       "      <td>2.03</td>\n",
       "      <td>1.93</td>\n",
       "      <td>1.11</td>\n",
       "      <td>1.03</td>\n",
       "      <td>1.26</td>\n",
       "      <td>Asia</td>\n",
       "      <td>South-Eastern Asia</td>\n",
       "      <td>1.98</td>\n",
       "      <td>-0.17</td>\n",
       "      <td>0.82</td>\n",
       "      <td>0.90</td>\n",
       "      <td>0.67</td>\n",
       "    </tr>\n",
       "    <tr>\n",
       "      <th>182</th>\n",
       "      <td>West Bank and Gaza</td>\n",
       "      <td>PSE</td>\n",
       "      <td>20.02</td>\n",
       "      <td>18.28</td>\n",
       "      <td>22.91</td>\n",
       "      <td>21.42</td>\n",
       "      <td>19.20</td>\n",
       "      <td>20.53</td>\n",
       "      <td>Asia</td>\n",
       "      <td>Western Asia</td>\n",
       "      <td>20.60</td>\n",
       "      <td>2.89</td>\n",
       "      <td>1.49</td>\n",
       "      <td>3.71</td>\n",
       "      <td>2.38</td>\n",
       "    </tr>\n",
       "  </tbody>\n",
       "</table>\n",
       "</div>"
      ],
      "text/plain": [
       "                  country_name country_code   2005   2007   2008   2010  \\\n",
       "2                      Algeria          DZA  15.27  13.79  11.33   9.96   \n",
       "4                    Argentina          ARG  11.51   8.47   7.84   7.71   \n",
       "8                   Azerbaijan          AZE   7.26   6.33   5.86   5.63   \n",
       "11                  Bangladesh          BGD   4.25   4.13   4.57   3.38   \n",
       "13                     Belarus          BLR   9.06   7.67   7.03   6.25   \n",
       "17                      Bhutan          BTN   3.10   3.70   3.65   3.32   \n",
       "21                      Brazil          BRA   9.57   8.33   7.34   7.27   \n",
       "25                     Burundi          BDI   1.62   1.63   1.63   1.61   \n",
       "26                  Cabo Verde          CPV  10.85  10.73  10.73  10.67   \n",
       "27                    Cambodia          KHM   1.13   1.26   0.82   0.77   \n",
       "32                       Chile          CHL   9.34   8.43   9.29   8.42   \n",
       "33                       China          CHN   4.52   4.35   4.59   4.53   \n",
       "45                    Djibouti          DJI  27.72  27.44  27.31  27.06   \n",
       "49                 El Salvador          SLV   7.22   6.41   5.88   4.89   \n",
       "53                    Eswatini          SWZ  27.07  28.24  27.68  26.41   \n",
       "54                    Ethiopia          ETH   2.50   2.43   2.41   2.34   \n",
       "62                     Germany          DEU  11.17   8.66   7.52   6.97   \n",
       "65                        Guam          GUM   7.00   8.30   8.72   8.20   \n",
       "70                       Haiti          HTI  14.42  16.80  16.34  15.38   \n",
       "76                   Indonesia          IDN   7.94   8.06   7.21   5.61   \n",
       "78                        Iraq          IRQ   8.71   8.65   8.48   8.25   \n",
       "84                      Jordan          JOR  14.80  13.10  12.70  12.50   \n",
       "85                  Kazakhstan          KAZ   8.13   7.26   6.63   5.77   \n",
       "86                       Kenya          KEN   2.92   2.89   2.92   2.84   \n",
       "87   Korea, Dem. People's Rep.          PRK   2.84   2.82   2.77   2.71   \n",
       "91                     Lao PDR          LAO   1.35   1.10   0.97   0.71   \n",
       "93                     Lebanon          LBN   8.28   8.98   7.67   6.84   \n",
       "94                     Lesotho          LSO  31.31  29.62  28.76  27.08   \n",
       "96                       Libya          LBY  19.39  19.38  19.38  19.27   \n",
       "98                  Luxembourg          LUX   4.49   4.07   5.06   4.36   \n",
       "99            Macao SAR, China          MAC   4.16   3.27   3.00   2.84   \n",
       "104                       Mali          MLI   9.69  11.71  10.49   8.07   \n",
       "106                 Mauritania          MRT   9.79   9.88   9.87   9.86   \n",
       "112                    Morocco          MAR  11.01   9.56   9.57   9.09   \n",
       "115                    Namibia          NAM  22.22  22.16  22.19  22.12   \n",
       "118              New Caledonia          NCL  15.85  14.83  14.58  13.81   \n",
       "121                      Niger          NER   3.10   2.20   1.71   0.78   \n",
       "122                    Nigeria          NGA   3.87   3.84   3.82   3.78   \n",
       "123            North Macedonia          MKD  37.25  34.93  33.76  32.02   \n",
       "125                       Oman          OMN   4.18   4.18   4.14   3.99   \n",
       "127                     Panama          PAN   3.75   3.68   3.74   3.72   \n",
       "128           Papua New Guinea          PNG   2.41   2.24   2.31   2.00   \n",
       "130                       Peru          PER   4.88   4.04   4.04   3.58   \n",
       "131                Philippines          PHL   3.80   3.43   3.72   3.61   \n",
       "140      Sao Tome and Principe          STP  16.47  16.23  15.63  14.60   \n",
       "148            Solomon Islands          SLB   1.76   1.88   1.89   1.58   \n",
       "153                  Sri Lanka          LKA   7.67   5.97   5.22   4.78   \n",
       "157                   Suriname          SUR   9.38   9.03   8.88   7.15   \n",
       "160       Syrian Arab Republic          SYR   8.85   8.42  10.94   8.61   \n",
       "161                 Tajikistan          TJK  13.13  12.37  11.98  10.89   \n",
       "163                   Thailand          THA   1.35   1.18   1.18   0.62   \n",
       "164                Timor-Leste          TLS   3.44   3.34   3.32   3.30   \n",
       "165                       Togo          TGO   4.22   3.80   3.34   2.43   \n",
       "167        Trinidad and Tobago          TTO   7.95   5.54   4.63   4.03   \n",
       "170               Turkmenistan          TKM   7.50   5.76   4.95   4.00   \n",
       "173       United Arab Emirates          ARE   3.12   2.87   2.74   2.48   \n",
       "176                    Uruguay          URY  12.01   9.40   8.03   7.16   \n",
       "180                    Vietnam          VNM   2.10   2.03   1.93   1.11   \n",
       "182         West Bank and Gaza          PSE  20.02  18.28  22.91  21.42   \n",
       "\n",
       "      2012   2014 continent          sub_region  median_avg  pre_financial  \\\n",
       "2    10.97  10.21    Africa     Northern Africa       12.56          -3.94   \n",
       "4     7.22   7.27  Americas       South America        8.16          -3.67   \n",
       "8     5.19   4.91      Asia        Western Asia        6.10          -1.40   \n",
       "11    4.12   4.38      Asia       Southern Asia        4.35           0.32   \n",
       "13    6.05   5.99    Europe      Eastern Europe        7.35          -2.03   \n",
       "17    2.05   2.63      Asia       Southern Asia        3.68           0.55   \n",
       "21    7.19   6.66  Americas       South America        7.84          -2.23   \n",
       "25    1.59   1.57    Africa      Eastern Africa        1.63           0.01   \n",
       "26   11.12  11.57    Africa      Western Africa       10.73          -0.12   \n",
       "27    0.51   0.69      Asia  South-Eastern Asia        1.04          -0.31   \n",
       "32    6.66   6.66  Americas       South America        8.86          -0.05   \n",
       "33    4.57   4.61      Asia        Eastern Asia        4.47           0.07   \n",
       "45   26.78  26.48    Africa      Eastern Africa       27.38          -0.41   \n",
       "49    3.84   4.15  Americas     Central America        6.14          -1.34   \n",
       "53   25.15  23.97    Africa     Southern Africa       27.96           0.61   \n",
       "54    2.29   2.26    Africa      Eastern Africa        2.42          -0.09   \n",
       "62    5.38   4.98    Europe      Western Europe        8.09          -3.65   \n",
       "65   12.20   7.60   Oceania          Micronesia        8.51           1.72   \n",
       "70   14.10  13.95  Americas           Caribbean       16.57           1.92   \n",
       "76    4.47   4.05      Asia  South-Eastern Asia        7.64          -0.73   \n",
       "78    7.96  10.59      Asia        Western Asia        8.57          -0.23   \n",
       "84   12.20  11.90      Asia        Western Asia       12.90          -2.10   \n",
       "85    5.29   5.06      Asia        Central Asia        6.94          -1.50   \n",
       "86    2.83   2.80    Africa      Eastern Africa        2.90           0.00   \n",
       "87    2.81   2.74      Asia        Eastern Asia        2.80          -0.07   \n",
       "91    0.74   0.76      Asia  South-Eastern Asia        1.04          -0.38   \n",
       "93    7.85   8.81      Asia        Western Asia        8.32          -0.61   \n",
       "94   25.37  24.22    Africa     Southern Africa       29.19          -2.55   \n",
       "96   19.03  19.46    Africa     Northern Africa       19.38          -0.01   \n",
       "98    5.14   5.85    Europe      Western Europe        4.56           0.57   \n",
       "99    1.97   1.70      Asia        Eastern Asia        3.14          -1.16   \n",
       "104   6.65   6.38    Africa      Western Africa       11.10           0.80   \n",
       "106   9.86  10.05    Africa      Western Africa        9.88           0.08   \n",
       "112   8.99   9.70    Africa     Northern Africa        9.57          -1.44   \n",
       "115  16.77  18.52    Africa     Southern Africa       22.18          -0.03   \n",
       "118  14.35  14.59   Oceania           Melanesia       14.70          -1.27   \n",
       "121   2.18   0.52    Africa      Western Africa        1.96          -1.39   \n",
       "122   3.74   4.56    Africa      Western Africa        3.83          -0.05   \n",
       "123  31.02  28.03    Europe     Southern Europe       34.34          -3.49   \n",
       "125   3.68   3.54      Asia        Western Asia        4.16          -0.04   \n",
       "127   2.39   2.71  Americas     Central America        3.71          -0.01   \n",
       "128   2.54   2.38   Oceania           Melanesia        2.28          -0.10   \n",
       "130   3.24   3.21  Americas       South America        4.04          -0.84   \n",
       "131   3.50   3.60      Asia  South-Eastern Asia        3.58          -0.08   \n",
       "140  13.59  13.70    Africa       Middle Africa       15.93          -0.84   \n",
       "148   1.05   0.73   Oceania           Melanesia        1.88           0.13   \n",
       "153   3.88   4.19      Asia       Southern Asia        5.60          -2.45   \n",
       "157   8.10   6.94  Americas       South America        8.96          -0.50   \n",
       "160   8.81   8.72      Asia        Western Asia        9.68           2.09   \n",
       "161   9.58   8.23      Asia        Central Asia       12.18          -1.15   \n",
       "163   0.58   0.58      Asia  South-Eastern Asia        1.18          -0.17   \n",
       "164   3.76   4.21      Asia  South-Eastern Asia        3.33          -0.12   \n",
       "165   2.03   2.14    Africa      Western Africa        3.57          -0.88   \n",
       "167   3.72   2.48  Americas           Caribbean        5.08          -3.32   \n",
       "170   4.09   4.14      Asia        Central Asia        5.36          -2.55   \n",
       "173   2.18   1.91      Asia        Western Asia        2.80          -0.38   \n",
       "176   6.45   6.55  Americas       South America        8.72          -3.98   \n",
       "180   1.03   1.26      Asia  South-Eastern Asia        1.98          -0.17   \n",
       "182  19.20  20.53      Asia        Western Asia       20.60           2.89   \n",
       "\n",
       "     post_financial  recovered_yr  recovered_yr_2014  \n",
       "2              1.37          0.36               1.12  \n",
       "4              0.13          0.62               0.57  \n",
       "8              0.23          0.67               0.95  \n",
       "11             1.19          0.45               0.19  \n",
       "13             0.78          0.98               1.04  \n",
       "17             0.33          1.60               1.02  \n",
       "21             0.07          0.15               0.68  \n",
       "25             0.02          0.04               0.06  \n",
       "26             0.06         -0.39              -0.84  \n",
       "27             0.05          0.31               0.13  \n",
       "32             0.87          2.63               2.63  \n",
       "33             0.06          0.02              -0.02  \n",
       "45             0.25          0.53               0.83  \n",
       "49             0.99          2.04               1.73  \n",
       "53             1.27          2.53               3.71  \n",
       "54             0.07          0.12               0.15  \n",
       "62             0.55          2.14               2.54  \n",
       "65             0.52         -3.48               1.12  \n",
       "70             0.96          2.24               2.39  \n",
       "76             1.60          2.74               3.16  \n",
       "78             0.23          0.52              -2.11  \n",
       "84             0.20          0.50               0.80  \n",
       "85             0.86          1.34               1.57  \n",
       "86             0.08          0.09               0.12  \n",
       "87             0.06         -0.04               0.03  \n",
       "91             0.26          0.23               0.21  \n",
       "93             0.83         -0.18              -1.14  \n",
       "94             1.68          3.39               4.54  \n",
       "96             0.11          0.35              -0.08  \n",
       "98             0.70         -0.08              -0.79  \n",
       "99             0.16          1.03               1.30  \n",
       "104            2.42          3.84               4.11  \n",
       "106            0.01          0.01              -0.18  \n",
       "112            0.48          0.58              -0.13  \n",
       "115            0.07          5.42               3.67  \n",
       "118            0.77          0.23              -0.01  \n",
       "121            0.93         -0.47               1.19  \n",
       "122            0.04          0.08              -0.74  \n",
       "123            1.74          2.74               5.73  \n",
       "125            0.15          0.46               0.60  \n",
       "127            0.02          1.35               1.03  \n",
       "128            0.31         -0.23              -0.07  \n",
       "130            0.46          0.80               0.83  \n",
       "131            0.11          0.22               0.12  \n",
       "140            1.03          2.04               1.93  \n",
       "148            0.31          0.84               1.16  \n",
       "153            0.44          1.34               1.03  \n",
       "157            1.73          0.78               1.94  \n",
       "160            2.33          2.13               2.22  \n",
       "161            1.09          2.40               3.75  \n",
       "163            0.56          0.60               0.60  \n",
       "164            0.02         -0.44              -0.89  \n",
       "165            0.91          1.31               1.20  \n",
       "167            0.60          0.91               2.15  \n",
       "170            0.95          0.86               0.81  \n",
       "173            0.26          0.56               0.83  \n",
       "176            0.87          1.58               1.48  \n",
       "180            0.82          0.90               0.67  \n",
       "182            1.49          3.71               2.38  "
      ]
     },
     "execution_count": 144,
     "metadata": {},
     "output_type": "execute_result"
    }
   ],
   "source": [
    "data_recovered_2010 = data_fc[(data_fc['post_financial']>0) ] #fetching all countries that are recovered in 2010\n",
    "data_recovered_2010"
   ]
  },
  {
   "cell_type": "code",
   "execution_count": 145,
   "metadata": {},
   "outputs": [
    {
     "data": {
      "text/html": [
       "<div>\n",
       "<style scoped>\n",
       "    .dataframe tbody tr th:only-of-type {\n",
       "        vertical-align: middle;\n",
       "    }\n",
       "\n",
       "    .dataframe tbody tr th {\n",
       "        vertical-align: top;\n",
       "    }\n",
       "\n",
       "    .dataframe thead th {\n",
       "        text-align: right;\n",
       "    }\n",
       "</style>\n",
       "<table border=\"1\" class=\"dataframe\">\n",
       "  <thead>\n",
       "    <tr style=\"text-align: right;\">\n",
       "      <th></th>\n",
       "      <th>country_name</th>\n",
       "      <th>country_code</th>\n",
       "      <th>2005</th>\n",
       "      <th>2007</th>\n",
       "      <th>2008</th>\n",
       "      <th>2010</th>\n",
       "      <th>2012</th>\n",
       "      <th>2014</th>\n",
       "      <th>continent</th>\n",
       "      <th>sub_region</th>\n",
       "      <th>median_avg</th>\n",
       "      <th>pre_financial</th>\n",
       "      <th>post_financial</th>\n",
       "      <th>recovered_yr</th>\n",
       "      <th>recovered_yr_2014</th>\n",
       "    </tr>\n",
       "  </thead>\n",
       "  <tbody>\n",
       "    <tr>\n",
       "      <th>18</th>\n",
       "      <td>Bolivia</td>\n",
       "      <td>BOL</td>\n",
       "      <td>2.54</td>\n",
       "      <td>2.65</td>\n",
       "      <td>2.60</td>\n",
       "      <td>2.61</td>\n",
       "      <td>2.07</td>\n",
       "      <td>2.02</td>\n",
       "      <td>Americas</td>\n",
       "      <td>South America</td>\n",
       "      <td>2.62</td>\n",
       "      <td>0.06</td>\n",
       "      <td>-0.01</td>\n",
       "      <td>0.53</td>\n",
       "      <td>0.58</td>\n",
       "    </tr>\n",
       "    <tr>\n",
       "      <th>34</th>\n",
       "      <td>Colombia</td>\n",
       "      <td>COL</td>\n",
       "      <td>11.06</td>\n",
       "      <td>10.25</td>\n",
       "      <td>10.49</td>\n",
       "      <td>10.98</td>\n",
       "      <td>9.74</td>\n",
       "      <td>8.57</td>\n",
       "      <td>Americas</td>\n",
       "      <td>South America</td>\n",
       "      <td>10.37</td>\n",
       "      <td>-0.57</td>\n",
       "      <td>-0.49</td>\n",
       "      <td>0.75</td>\n",
       "      <td>1.92</td>\n",
       "    </tr>\n",
       "    <tr>\n",
       "      <th>47</th>\n",
       "      <td>Ecuador</td>\n",
       "      <td>ECU</td>\n",
       "      <td>3.78</td>\n",
       "      <td>3.14</td>\n",
       "      <td>3.92</td>\n",
       "      <td>4.09</td>\n",
       "      <td>3.23</td>\n",
       "      <td>3.48</td>\n",
       "      <td>Americas</td>\n",
       "      <td>South America</td>\n",
       "      <td>3.53</td>\n",
       "      <td>0.14</td>\n",
       "      <td>-0.17</td>\n",
       "      <td>0.69</td>\n",
       "      <td>0.44</td>\n",
       "    </tr>\n",
       "    <tr>\n",
       "      <th>66</th>\n",
       "      <td>Guatemala</td>\n",
       "      <td>GTM</td>\n",
       "      <td>3.05</td>\n",
       "      <td>3.11</td>\n",
       "      <td>3.31</td>\n",
       "      <td>3.50</td>\n",
       "      <td>2.76</td>\n",
       "      <td>2.72</td>\n",
       "      <td>Americas</td>\n",
       "      <td>Central America</td>\n",
       "      <td>3.21</td>\n",
       "      <td>0.26</td>\n",
       "      <td>-0.19</td>\n",
       "      <td>0.55</td>\n",
       "      <td>0.59</td>\n",
       "    </tr>\n",
       "    <tr>\n",
       "      <th>68</th>\n",
       "      <td>Guinea-Bissau</td>\n",
       "      <td>GNB</td>\n",
       "      <td>6.21</td>\n",
       "      <td>6.06</td>\n",
       "      <td>5.89</td>\n",
       "      <td>6.08</td>\n",
       "      <td>5.87</td>\n",
       "      <td>5.80</td>\n",
       "      <td>Africa</td>\n",
       "      <td>Western Africa</td>\n",
       "      <td>5.98</td>\n",
       "      <td>-0.32</td>\n",
       "      <td>-0.19</td>\n",
       "      <td>0.02</td>\n",
       "      <td>0.09</td>\n",
       "    </tr>\n",
       "    <tr>\n",
       "      <th>72</th>\n",
       "      <td>Hong Kong SAR, China</td>\n",
       "      <td>HKG</td>\n",
       "      <td>5.58</td>\n",
       "      <td>4.01</td>\n",
       "      <td>3.56</td>\n",
       "      <td>4.33</td>\n",
       "      <td>3.29</td>\n",
       "      <td>3.30</td>\n",
       "      <td>Asia</td>\n",
       "      <td>Eastern Asia</td>\n",
       "      <td>3.78</td>\n",
       "      <td>-2.02</td>\n",
       "      <td>-0.77</td>\n",
       "      <td>0.27</td>\n",
       "      <td>0.26</td>\n",
       "    </tr>\n",
       "    <tr>\n",
       "      <th>80</th>\n",
       "      <td>Israel</td>\n",
       "      <td>ISR</td>\n",
       "      <td>11.34</td>\n",
       "      <td>9.38</td>\n",
       "      <td>7.70</td>\n",
       "      <td>8.48</td>\n",
       "      <td>6.86</td>\n",
       "      <td>5.89</td>\n",
       "      <td>Asia</td>\n",
       "      <td>Western Asia</td>\n",
       "      <td>8.54</td>\n",
       "      <td>-3.64</td>\n",
       "      <td>-0.78</td>\n",
       "      <td>0.84</td>\n",
       "      <td>1.81</td>\n",
       "    </tr>\n",
       "    <tr>\n",
       "      <th>88</th>\n",
       "      <td>Korea, Rep.</td>\n",
       "      <td>KOR</td>\n",
       "      <td>3.48</td>\n",
       "      <td>3.01</td>\n",
       "      <td>2.96</td>\n",
       "      <td>3.32</td>\n",
       "      <td>2.81</td>\n",
       "      <td>3.08</td>\n",
       "      <td>Asia</td>\n",
       "      <td>Eastern Asia</td>\n",
       "      <td>2.98</td>\n",
       "      <td>-0.52</td>\n",
       "      <td>-0.36</td>\n",
       "      <td>0.15</td>\n",
       "      <td>-0.12</td>\n",
       "    </tr>\n",
       "    <tr>\n",
       "      <th>95</th>\n",
       "      <td>Liberia</td>\n",
       "      <td>LBR</td>\n",
       "      <td>2.19</td>\n",
       "      <td>2.21</td>\n",
       "      <td>2.23</td>\n",
       "      <td>2.27</td>\n",
       "      <td>2.17</td>\n",
       "      <td>2.08</td>\n",
       "      <td>Africa</td>\n",
       "      <td>Western Africa</td>\n",
       "      <td>2.22</td>\n",
       "      <td>0.04</td>\n",
       "      <td>-0.04</td>\n",
       "      <td>0.06</td>\n",
       "      <td>0.15</td>\n",
       "    </tr>\n",
       "    <tr>\n",
       "      <th>100</th>\n",
       "      <td>Madagascar</td>\n",
       "      <td>MDG</td>\n",
       "      <td>2.62</td>\n",
       "      <td>3.26</td>\n",
       "      <td>3.58</td>\n",
       "      <td>4.28</td>\n",
       "      <td>0.60</td>\n",
       "      <td>1.39</td>\n",
       "      <td>Africa</td>\n",
       "      <td>Eastern Africa</td>\n",
       "      <td>3.42</td>\n",
       "      <td>0.96</td>\n",
       "      <td>-0.70</td>\n",
       "      <td>2.98</td>\n",
       "      <td>2.19</td>\n",
       "    </tr>\n",
       "    <tr>\n",
       "      <th>102</th>\n",
       "      <td>Malaysia</td>\n",
       "      <td>MYS</td>\n",
       "      <td>3.53</td>\n",
       "      <td>3.23</td>\n",
       "      <td>3.32</td>\n",
       "      <td>3.39</td>\n",
       "      <td>3.10</td>\n",
       "      <td>2.88</td>\n",
       "      <td>Asia</td>\n",
       "      <td>South-Eastern Asia</td>\n",
       "      <td>3.28</td>\n",
       "      <td>-0.21</td>\n",
       "      <td>-0.07</td>\n",
       "      <td>0.22</td>\n",
       "      <td>0.44</td>\n",
       "    </tr>\n",
       "    <tr>\n",
       "      <th>103</th>\n",
       "      <td>Maldives</td>\n",
       "      <td>MDV</td>\n",
       "      <td>7.20</td>\n",
       "      <td>9.87</td>\n",
       "      <td>11.06</td>\n",
       "      <td>11.29</td>\n",
       "      <td>9.47</td>\n",
       "      <td>7.87</td>\n",
       "      <td>Asia</td>\n",
       "      <td>Southern Asia</td>\n",
       "      <td>10.46</td>\n",
       "      <td>3.86</td>\n",
       "      <td>-0.23</td>\n",
       "      <td>1.59</td>\n",
       "      <td>3.19</td>\n",
       "    </tr>\n",
       "    <tr>\n",
       "      <th>110</th>\n",
       "      <td>Mongolia</td>\n",
       "      <td>MNG</td>\n",
       "      <td>7.04</td>\n",
       "      <td>7.20</td>\n",
       "      <td>5.56</td>\n",
       "      <td>6.55</td>\n",
       "      <td>3.90</td>\n",
       "      <td>4.80</td>\n",
       "      <td>Asia</td>\n",
       "      <td>Eastern Asia</td>\n",
       "      <td>6.38</td>\n",
       "      <td>-1.48</td>\n",
       "      <td>-0.99</td>\n",
       "      <td>1.66</td>\n",
       "      <td>0.76</td>\n",
       "    </tr>\n",
       "    <tr>\n",
       "      <th>120</th>\n",
       "      <td>Nicaragua</td>\n",
       "      <td>NIC</td>\n",
       "      <td>5.37</td>\n",
       "      <td>4.89</td>\n",
       "      <td>6.20</td>\n",
       "      <td>7.83</td>\n",
       "      <td>5.21</td>\n",
       "      <td>4.52</td>\n",
       "      <td>Americas</td>\n",
       "      <td>Central America</td>\n",
       "      <td>5.54</td>\n",
       "      <td>0.83</td>\n",
       "      <td>-1.63</td>\n",
       "      <td>0.99</td>\n",
       "      <td>1.68</td>\n",
       "    </tr>\n",
       "    <tr>\n",
       "      <th>129</th>\n",
       "      <td>Paraguay</td>\n",
       "      <td>PRY</td>\n",
       "      <td>4.82</td>\n",
       "      <td>4.71</td>\n",
       "      <td>4.42</td>\n",
       "      <td>4.57</td>\n",
       "      <td>4.09</td>\n",
       "      <td>5.03</td>\n",
       "      <td>Americas</td>\n",
       "      <td>South America</td>\n",
       "      <td>4.56</td>\n",
       "      <td>-0.40</td>\n",
       "      <td>-0.15</td>\n",
       "      <td>0.33</td>\n",
       "      <td>-0.61</td>\n",
       "    </tr>\n",
       "    <tr>\n",
       "      <th>137</th>\n",
       "      <td>Russian Federation</td>\n",
       "      <td>RUS</td>\n",
       "      <td>7.12</td>\n",
       "      <td>6.00</td>\n",
       "      <td>6.21</td>\n",
       "      <td>7.37</td>\n",
       "      <td>5.44</td>\n",
       "      <td>5.16</td>\n",
       "      <td>Europe</td>\n",
       "      <td>Eastern Europe</td>\n",
       "      <td>6.10</td>\n",
       "      <td>-0.91</td>\n",
       "      <td>-1.16</td>\n",
       "      <td>0.77</td>\n",
       "      <td>1.05</td>\n",
       "    </tr>\n",
       "    <tr>\n",
       "      <th>142</th>\n",
       "      <td>Senegal</td>\n",
       "      <td>SEN</td>\n",
       "      <td>8.90</td>\n",
       "      <td>10.08</td>\n",
       "      <td>10.13</td>\n",
       "      <td>10.26</td>\n",
       "      <td>9.44</td>\n",
       "      <td>7.65</td>\n",
       "      <td>Africa</td>\n",
       "      <td>Western Africa</td>\n",
       "      <td>10.10</td>\n",
       "      <td>1.23</td>\n",
       "      <td>-0.13</td>\n",
       "      <td>0.69</td>\n",
       "      <td>2.48</td>\n",
       "    </tr>\n",
       "    <tr>\n",
       "      <th>145</th>\n",
       "      <td>Singapore</td>\n",
       "      <td>SGP</td>\n",
       "      <td>5.59</td>\n",
       "      <td>3.90</td>\n",
       "      <td>3.96</td>\n",
       "      <td>4.12</td>\n",
       "      <td>3.72</td>\n",
       "      <td>3.74</td>\n",
       "      <td>Asia</td>\n",
       "      <td>South-Eastern Asia</td>\n",
       "      <td>3.93</td>\n",
       "      <td>-1.63</td>\n",
       "      <td>-0.16</td>\n",
       "      <td>0.24</td>\n",
       "      <td>0.22</td>\n",
       "    </tr>\n",
       "    <tr>\n",
       "      <th>169</th>\n",
       "      <td>Turkiye</td>\n",
       "      <td>TUR</td>\n",
       "      <td>10.64</td>\n",
       "      <td>8.87</td>\n",
       "      <td>9.71</td>\n",
       "      <td>10.66</td>\n",
       "      <td>8.15</td>\n",
       "      <td>9.88</td>\n",
       "      <td>Asia</td>\n",
       "      <td>Western Asia</td>\n",
       "      <td>9.29</td>\n",
       "      <td>-0.93</td>\n",
       "      <td>-0.95</td>\n",
       "      <td>1.56</td>\n",
       "      <td>-0.17</td>\n",
       "    </tr>\n",
       "    <tr>\n",
       "      <th>184</th>\n",
       "      <td>Zambia</td>\n",
       "      <td>ZMB</td>\n",
       "      <td>15.90</td>\n",
       "      <td>10.59</td>\n",
       "      <td>7.93</td>\n",
       "      <td>13.19</td>\n",
       "      <td>7.85</td>\n",
       "      <td>9.36</td>\n",
       "      <td>Africa</td>\n",
       "      <td>Eastern Africa</td>\n",
       "      <td>9.26</td>\n",
       "      <td>-7.97</td>\n",
       "      <td>-5.26</td>\n",
       "      <td>0.08</td>\n",
       "      <td>-1.43</td>\n",
       "    </tr>\n",
       "  </tbody>\n",
       "</table>\n",
       "</div>"
      ],
      "text/plain": [
       "             country_name country_code   2005   2007   2008   2010  2012  \\\n",
       "18                Bolivia          BOL   2.54   2.65   2.60   2.61  2.07   \n",
       "34               Colombia          COL  11.06  10.25  10.49  10.98  9.74   \n",
       "47                Ecuador          ECU   3.78   3.14   3.92   4.09  3.23   \n",
       "66              Guatemala          GTM   3.05   3.11   3.31   3.50  2.76   \n",
       "68          Guinea-Bissau          GNB   6.21   6.06   5.89   6.08  5.87   \n",
       "72   Hong Kong SAR, China          HKG   5.58   4.01   3.56   4.33  3.29   \n",
       "80                 Israel          ISR  11.34   9.38   7.70   8.48  6.86   \n",
       "88            Korea, Rep.          KOR   3.48   3.01   2.96   3.32  2.81   \n",
       "95                Liberia          LBR   2.19   2.21   2.23   2.27  2.17   \n",
       "100            Madagascar          MDG   2.62   3.26   3.58   4.28  0.60   \n",
       "102              Malaysia          MYS   3.53   3.23   3.32   3.39  3.10   \n",
       "103              Maldives          MDV   7.20   9.87  11.06  11.29  9.47   \n",
       "110              Mongolia          MNG   7.04   7.20   5.56   6.55  3.90   \n",
       "120             Nicaragua          NIC   5.37   4.89   6.20   7.83  5.21   \n",
       "129              Paraguay          PRY   4.82   4.71   4.42   4.57  4.09   \n",
       "137    Russian Federation          RUS   7.12   6.00   6.21   7.37  5.44   \n",
       "142               Senegal          SEN   8.90  10.08  10.13  10.26  9.44   \n",
       "145             Singapore          SGP   5.59   3.90   3.96   4.12  3.72   \n",
       "169               Turkiye          TUR  10.64   8.87   9.71  10.66  8.15   \n",
       "184                Zambia          ZMB  15.90  10.59   7.93  13.19  7.85   \n",
       "\n",
       "     2014 continent          sub_region  median_avg  pre_financial  \\\n",
       "18   2.02  Americas       South America        2.62           0.06   \n",
       "34   8.57  Americas       South America       10.37          -0.57   \n",
       "47   3.48  Americas       South America        3.53           0.14   \n",
       "66   2.72  Americas     Central America        3.21           0.26   \n",
       "68   5.80    Africa      Western Africa        5.98          -0.32   \n",
       "72   3.30      Asia        Eastern Asia        3.78          -2.02   \n",
       "80   5.89      Asia        Western Asia        8.54          -3.64   \n",
       "88   3.08      Asia        Eastern Asia        2.98          -0.52   \n",
       "95   2.08    Africa      Western Africa        2.22           0.04   \n",
       "100  1.39    Africa      Eastern Africa        3.42           0.96   \n",
       "102  2.88      Asia  South-Eastern Asia        3.28          -0.21   \n",
       "103  7.87      Asia       Southern Asia       10.46           3.86   \n",
       "110  4.80      Asia        Eastern Asia        6.38          -1.48   \n",
       "120  4.52  Americas     Central America        5.54           0.83   \n",
       "129  5.03  Americas       South America        4.56          -0.40   \n",
       "137  5.16    Europe      Eastern Europe        6.10          -0.91   \n",
       "142  7.65    Africa      Western Africa       10.10           1.23   \n",
       "145  3.74      Asia  South-Eastern Asia        3.93          -1.63   \n",
       "169  9.88      Asia        Western Asia        9.29          -0.93   \n",
       "184  9.36    Africa      Eastern Africa        9.26          -7.97   \n",
       "\n",
       "     post_financial  recovered_yr  recovered_yr_2014  \n",
       "18            -0.01          0.53               0.58  \n",
       "34            -0.49          0.75               1.92  \n",
       "47            -0.17          0.69               0.44  \n",
       "66            -0.19          0.55               0.59  \n",
       "68            -0.19          0.02               0.09  \n",
       "72            -0.77          0.27               0.26  \n",
       "80            -0.78          0.84               1.81  \n",
       "88            -0.36          0.15              -0.12  \n",
       "95            -0.04          0.06               0.15  \n",
       "100           -0.70          2.98               2.19  \n",
       "102           -0.07          0.22               0.44  \n",
       "103           -0.23          1.59               3.19  \n",
       "110           -0.99          1.66               0.76  \n",
       "120           -1.63          0.99               1.68  \n",
       "129           -0.15          0.33              -0.61  \n",
       "137           -1.16          0.77               1.05  \n",
       "142           -0.13          0.69               2.48  \n",
       "145           -0.16          0.24               0.22  \n",
       "169           -0.95          1.56              -0.17  \n",
       "184           -5.26          0.08              -1.43  "
      ]
     },
     "execution_count": 145,
     "metadata": {},
     "output_type": "execute_result"
    }
   ],
   "source": [
    "data_recovered_2012 = data_fc[(data_fc['post_financial']<0) & (data_fc['recovered_yr']>0)] #fetching all countries that are recovered in 2012\n",
    "data_recovered_2012"
   ]
  },
  {
   "cell_type": "code",
   "execution_count": 146,
   "metadata": {},
   "outputs": [
    {
     "data": {
      "text/html": [
       "<div>\n",
       "<style scoped>\n",
       "    .dataframe tbody tr th:only-of-type {\n",
       "        vertical-align: middle;\n",
       "    }\n",
       "\n",
       "    .dataframe tbody tr th {\n",
       "        vertical-align: top;\n",
       "    }\n",
       "\n",
       "    .dataframe thead th {\n",
       "        text-align: right;\n",
       "    }\n",
       "</style>\n",
       "<table border=\"1\" class=\"dataframe\">\n",
       "  <thead>\n",
       "    <tr style=\"text-align: right;\">\n",
       "      <th></th>\n",
       "      <th>country_name</th>\n",
       "      <th>country_code</th>\n",
       "      <th>2005</th>\n",
       "      <th>2007</th>\n",
       "      <th>2008</th>\n",
       "      <th>2010</th>\n",
       "      <th>2012</th>\n",
       "      <th>2014</th>\n",
       "      <th>continent</th>\n",
       "      <th>sub_region</th>\n",
       "      <th>median_avg</th>\n",
       "      <th>pre_financial</th>\n",
       "      <th>post_financial</th>\n",
       "      <th>recovered_yr</th>\n",
       "      <th>recovered_yr_2014</th>\n",
       "    </tr>\n",
       "  </thead>\n",
       "  <tbody>\n",
       "    <tr>\n",
       "      <th>39</th>\n",
       "      <td>Cote d'Ivoire</td>\n",
       "      <td>CIV</td>\n",
       "      <td>5.69</td>\n",
       "      <td>6.14</td>\n",
       "      <td>6.37</td>\n",
       "      <td>6.84</td>\n",
       "      <td>7.22</td>\n",
       "      <td>3.70</td>\n",
       "      <td>Africa</td>\n",
       "      <td>Western Africa</td>\n",
       "      <td>6.26</td>\n",
       "      <td>0.68</td>\n",
       "      <td>-0.47</td>\n",
       "      <td>-0.85</td>\n",
       "      <td>2.67</td>\n",
       "    </tr>\n",
       "    <tr>\n",
       "      <th>50</th>\n",
       "      <td>Equatorial Guinea</td>\n",
       "      <td>GNQ</td>\n",
       "      <td>8.75</td>\n",
       "      <td>8.65</td>\n",
       "      <td>8.50</td>\n",
       "      <td>8.82</td>\n",
       "      <td>8.61</td>\n",
       "      <td>8.48</td>\n",
       "      <td>Africa</td>\n",
       "      <td>Middle Africa</td>\n",
       "      <td>8.57</td>\n",
       "      <td>-0.25</td>\n",
       "      <td>-0.32</td>\n",
       "      <td>-0.11</td>\n",
       "      <td>0.02</td>\n",
       "    </tr>\n",
       "    <tr>\n",
       "      <th>61</th>\n",
       "      <td>Georgia</td>\n",
       "      <td>GEO</td>\n",
       "      <td>13.81</td>\n",
       "      <td>13.28</td>\n",
       "      <td>17.87</td>\n",
       "      <td>20.20</td>\n",
       "      <td>19.65</td>\n",
       "      <td>17.44</td>\n",
       "      <td>Asia</td>\n",
       "      <td>Western Asia</td>\n",
       "      <td>15.58</td>\n",
       "      <td>4.06</td>\n",
       "      <td>-2.33</td>\n",
       "      <td>-1.78</td>\n",
       "      <td>0.43</td>\n",
       "    </tr>\n",
       "    <tr>\n",
       "      <th>73</th>\n",
       "      <td>Hungary</td>\n",
       "      <td>HUN</td>\n",
       "      <td>7.19</td>\n",
       "      <td>7.41</td>\n",
       "      <td>7.82</td>\n",
       "      <td>11.17</td>\n",
       "      <td>11.00</td>\n",
       "      <td>7.73</td>\n",
       "      <td>Europe</td>\n",
       "      <td>Eastern Europe</td>\n",
       "      <td>7.62</td>\n",
       "      <td>0.63</td>\n",
       "      <td>-3.35</td>\n",
       "      <td>-3.18</td>\n",
       "      <td>0.09</td>\n",
       "    </tr>\n",
       "    <tr>\n",
       "      <th>83</th>\n",
       "      <td>Japan</td>\n",
       "      <td>JPN</td>\n",
       "      <td>4.45</td>\n",
       "      <td>3.89</td>\n",
       "      <td>4.00</td>\n",
       "      <td>5.10</td>\n",
       "      <td>4.36</td>\n",
       "      <td>3.60</td>\n",
       "      <td>Asia</td>\n",
       "      <td>Eastern Asia</td>\n",
       "      <td>3.94</td>\n",
       "      <td>-0.45</td>\n",
       "      <td>-1.10</td>\n",
       "      <td>-0.36</td>\n",
       "      <td>0.40</td>\n",
       "    </tr>\n",
       "    <tr>\n",
       "      <th>90</th>\n",
       "      <td>Kyrgyz Republic</td>\n",
       "      <td>KGZ</td>\n",
       "      <td>8.11</td>\n",
       "      <td>8.10</td>\n",
       "      <td>8.22</td>\n",
       "      <td>8.64</td>\n",
       "      <td>8.43</td>\n",
       "      <td>8.05</td>\n",
       "      <td>Asia</td>\n",
       "      <td>Central Asia</td>\n",
       "      <td>8.16</td>\n",
       "      <td>0.11</td>\n",
       "      <td>-0.42</td>\n",
       "      <td>-0.21</td>\n",
       "      <td>0.17</td>\n",
       "    </tr>\n",
       "    <tr>\n",
       "      <th>105</th>\n",
       "      <td>Malta</td>\n",
       "      <td>MLT</td>\n",
       "      <td>6.92</td>\n",
       "      <td>6.47</td>\n",
       "      <td>5.98</td>\n",
       "      <td>6.85</td>\n",
       "      <td>6.20</td>\n",
       "      <td>5.72</td>\n",
       "      <td>Europe</td>\n",
       "      <td>Southern Europe</td>\n",
       "      <td>6.22</td>\n",
       "      <td>-0.94</td>\n",
       "      <td>-0.87</td>\n",
       "      <td>-0.22</td>\n",
       "      <td>0.26</td>\n",
       "    </tr>\n",
       "    <tr>\n",
       "      <th>109</th>\n",
       "      <td>Moldova</td>\n",
       "      <td>MDA</td>\n",
       "      <td>7.29</td>\n",
       "      <td>5.07</td>\n",
       "      <td>3.98</td>\n",
       "      <td>7.45</td>\n",
       "      <td>5.58</td>\n",
       "      <td>3.73</td>\n",
       "      <td>Europe</td>\n",
       "      <td>Eastern Europe</td>\n",
       "      <td>4.53</td>\n",
       "      <td>-3.31</td>\n",
       "      <td>-3.47</td>\n",
       "      <td>-1.60</td>\n",
       "      <td>0.25</td>\n",
       "    </tr>\n",
       "    <tr>\n",
       "      <th>135</th>\n",
       "      <td>Qatar</td>\n",
       "      <td>QAT</td>\n",
       "      <td>0.87</td>\n",
       "      <td>0.52</td>\n",
       "      <td>0.31</td>\n",
       "      <td>0.45</td>\n",
       "      <td>0.48</td>\n",
       "      <td>0.20</td>\n",
       "      <td>Asia</td>\n",
       "      <td>Western Asia</td>\n",
       "      <td>0.42</td>\n",
       "      <td>-0.56</td>\n",
       "      <td>-0.14</td>\n",
       "      <td>-0.17</td>\n",
       "      <td>0.11</td>\n",
       "    </tr>\n",
       "    <tr>\n",
       "      <th>162</th>\n",
       "      <td>Tanzania</td>\n",
       "      <td>TZA</td>\n",
       "      <td>3.23</td>\n",
       "      <td>3.03</td>\n",
       "      <td>2.77</td>\n",
       "      <td>2.99</td>\n",
       "      <td>3.23</td>\n",
       "      <td>2.12</td>\n",
       "      <td>Africa</td>\n",
       "      <td>Eastern Africa</td>\n",
       "      <td>2.90</td>\n",
       "      <td>-0.46</td>\n",
       "      <td>-0.22</td>\n",
       "      <td>-0.46</td>\n",
       "      <td>0.65</td>\n",
       "    </tr>\n",
       "    <tr>\n",
       "      <th>171</th>\n",
       "      <td>Uganda</td>\n",
       "      <td>UGA</td>\n",
       "      <td>1.90</td>\n",
       "      <td>2.73</td>\n",
       "      <td>3.15</td>\n",
       "      <td>3.59</td>\n",
       "      <td>3.55</td>\n",
       "      <td>1.91</td>\n",
       "      <td>Africa</td>\n",
       "      <td>Eastern Africa</td>\n",
       "      <td>2.94</td>\n",
       "      <td>1.25</td>\n",
       "      <td>-0.44</td>\n",
       "      <td>-0.40</td>\n",
       "      <td>1.24</td>\n",
       "    </tr>\n",
       "    <tr>\n",
       "      <th>185</th>\n",
       "      <td>Zimbabwe</td>\n",
       "      <td>ZWE</td>\n",
       "      <td>4.54</td>\n",
       "      <td>4.83</td>\n",
       "      <td>5.01</td>\n",
       "      <td>5.21</td>\n",
       "      <td>5.15</td>\n",
       "      <td>4.77</td>\n",
       "      <td>Africa</td>\n",
       "      <td>Eastern Africa</td>\n",
       "      <td>4.92</td>\n",
       "      <td>0.47</td>\n",
       "      <td>-0.20</td>\n",
       "      <td>-0.14</td>\n",
       "      <td>0.24</td>\n",
       "    </tr>\n",
       "  </tbody>\n",
       "</table>\n",
       "</div>"
      ],
      "text/plain": [
       "          country_name country_code   2005   2007   2008   2010   2012   2014  \\\n",
       "39       Cote d'Ivoire          CIV   5.69   6.14   6.37   6.84   7.22   3.70   \n",
       "50   Equatorial Guinea          GNQ   8.75   8.65   8.50   8.82   8.61   8.48   \n",
       "61             Georgia          GEO  13.81  13.28  17.87  20.20  19.65  17.44   \n",
       "73             Hungary          HUN   7.19   7.41   7.82  11.17  11.00   7.73   \n",
       "83               Japan          JPN   4.45   3.89   4.00   5.10   4.36   3.60   \n",
       "90     Kyrgyz Republic          KGZ   8.11   8.10   8.22   8.64   8.43   8.05   \n",
       "105              Malta          MLT   6.92   6.47   5.98   6.85   6.20   5.72   \n",
       "109            Moldova          MDA   7.29   5.07   3.98   7.45   5.58   3.73   \n",
       "135              Qatar          QAT   0.87   0.52   0.31   0.45   0.48   0.20   \n",
       "162           Tanzania          TZA   3.23   3.03   2.77   2.99   3.23   2.12   \n",
       "171             Uganda          UGA   1.90   2.73   3.15   3.59   3.55   1.91   \n",
       "185           Zimbabwe          ZWE   4.54   4.83   5.01   5.21   5.15   4.77   \n",
       "\n",
       "    continent       sub_region  median_avg  pre_financial  post_financial  \\\n",
       "39     Africa   Western Africa        6.26           0.68           -0.47   \n",
       "50     Africa    Middle Africa        8.57          -0.25           -0.32   \n",
       "61       Asia     Western Asia       15.58           4.06           -2.33   \n",
       "73     Europe   Eastern Europe        7.62           0.63           -3.35   \n",
       "83       Asia     Eastern Asia        3.94          -0.45           -1.10   \n",
       "90       Asia     Central Asia        8.16           0.11           -0.42   \n",
       "105    Europe  Southern Europe        6.22          -0.94           -0.87   \n",
       "109    Europe   Eastern Europe        4.53          -3.31           -3.47   \n",
       "135      Asia     Western Asia        0.42          -0.56           -0.14   \n",
       "162    Africa   Eastern Africa        2.90          -0.46           -0.22   \n",
       "171    Africa   Eastern Africa        2.94           1.25           -0.44   \n",
       "185    Africa   Eastern Africa        4.92           0.47           -0.20   \n",
       "\n",
       "     recovered_yr  recovered_yr_2014  \n",
       "39          -0.85               2.67  \n",
       "50          -0.11               0.02  \n",
       "61          -1.78               0.43  \n",
       "73          -3.18               0.09  \n",
       "83          -0.36               0.40  \n",
       "90          -0.21               0.17  \n",
       "105         -0.22               0.26  \n",
       "109         -1.60               0.25  \n",
       "135         -0.17               0.11  \n",
       "162         -0.46               0.65  \n",
       "171         -0.40               1.24  \n",
       "185         -0.14               0.24  "
      ]
     },
     "execution_count": 146,
     "metadata": {},
     "output_type": "execute_result"
    }
   ],
   "source": [
    "data_recovered_2014 = data_fc[((data_fc['post_financial']<0)) & (data_fc['recovered_yr']<0) & (data_fc['recovered_yr_2014']>0)]\n",
    "data_recovered_2014 #fetching all countries that are recovered in 2014"
   ]
  }
 ],
 "metadata": {
  "kernelspec": {
   "display_name": "venv",
   "language": "python",
   "name": "python3"
  },
  "language_info": {
   "codemirror_mode": {
    "name": "ipython",
    "version": 3
   },
   "file_extension": ".py",
   "mimetype": "text/x-python",
   "name": "python",
   "nbconvert_exporter": "python",
   "pygments_lexer": "ipython3",
   "version": "3.11.2"
  },
  "orig_nbformat": 4
 },
 "nbformat": 4,
 "nbformat_minor": 2
}
